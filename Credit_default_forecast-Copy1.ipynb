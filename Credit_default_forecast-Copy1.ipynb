{
 "cells": [
  {
   "cell_type": "code",
   "execution_count": 1,
   "metadata": {},
   "outputs": [],
   "source": [
    "import numpy as np\n",
    "import pandas as pd\n",
    "\n",
    "import scipy.stats as ss\n",
    "\n",
    "from sklearn.preprocessing import StandardScaler\n",
    "from sklearn.decomposition import PCA\n",
    "\n",
    "from sklearn.model_selection import train_test_split\n",
    "from sklearn.model_selection import StratifiedKFold\n",
    "\n",
    "from imblearn.over_sampling import RandomOverSampler\n",
    "from sklearn.metrics import classification_report, f1_score, precision_score, recall_score, roc_auc_score\n",
    "\n",
    "import catboost as catb\n",
    "from sklearn.ensemble import ExtraTreesClassifier, RandomForestClassifier, AdaBoostClassifier, VotingClassifier\n",
    "\n",
    "from collections import Counter\n",
    "\n",
    "import matplotlib.pyplot as plt\n",
    "import seaborn as sns\n",
    "%matplotlib inline\n",
    "\n",
    "from pprint import pprint"
   ]
  },
  {
   "cell_type": "code",
   "execution_count": 2,
   "metadata": {},
   "outputs": [],
   "source": [
    "import warnings\n",
    "warnings.filterwarnings('ignore')"
   ]
  },
  {
   "cell_type": "markdown",
   "metadata": {},
   "source": [
    "## Построение модели классификации"
   ]
  },
  {
   "cell_type": "markdown",
   "metadata": {},
   "source": [
    "### 1. Обзор обучающего датасета\n"
   ]
  },
  {
   "cell_type": "markdown",
   "metadata": {},
   "source": [
    "#### Описание датасета\n",
    "\n",
    "* Home Ownership - домовладение\n",
    "* Annual Income - годовой доход\n",
    "* Years in current job - количество лет на текущем месте работы\n",
    "* Tax Liens - налоговые обременения\n",
    "* Number of Open Accounts - количество открытых счетов\n",
    "* Years of Credit History - количество лет кредитной истории\n",
    "* Maximum Open Credit - наибольший открытый кредит\n",
    "* Number of Credit Problems - количество проблем с кредитом\n",
    "* Months since last delinquent - количество месяцев с последней просрочки платежа\n",
    "* Bankruptcies - банкротства\n",
    "* Purpose - цель кредита\n",
    "* Term - срок кредита\n",
    "* Current Loan Amount - текущая сумма кредита\n",
    "* Current Credit Balance - текущий кредитный баланс\n",
    "* Monthly Debt - ежемесячный долг\n",
    "* Credit Default - факт невыполнения кредитных обязательств (0 - погашен вовремя, 1 - просрочка)"
   ]
  },
  {
   "cell_type": "markdown",
   "metadata": {},
   "source": [
    "#### Пути к директориям и файлам"
   ]
  },
  {
   "cell_type": "code",
   "execution_count": 3,
   "metadata": {},
   "outputs": [],
   "source": [
    "PATH = 'C:/Users/ASER/Desktop/GeekBrains/ML_project/'\n",
    "TRAIN_DATASET_PATH = PATH + 'course_project_train.csv'\n",
    "TEST_DATASET_PATH = PATH + 'course_project_test.csv'\n",
    "PREP_DATASET_PATH = PATH + 'course_project_prep_train.csv'"
   ]
  },
  {
   "cell_type": "markdown",
   "metadata": {},
   "source": [
    "### 2. Загрузка данных"
   ]
  },
  {
   "cell_type": "code",
   "execution_count": 4,
   "metadata": {},
   "outputs": [
    {
     "data": {
      "text/html": [
       "<div>\n",
       "<style scoped>\n",
       "    .dataframe tbody tr th:only-of-type {\n",
       "        vertical-align: middle;\n",
       "    }\n",
       "\n",
       "    .dataframe tbody tr th {\n",
       "        vertical-align: top;\n",
       "    }\n",
       "\n",
       "    .dataframe thead th {\n",
       "        text-align: right;\n",
       "    }\n",
       "</style>\n",
       "<table border=\"1\" class=\"dataframe\">\n",
       "  <thead>\n",
       "    <tr style=\"text-align: right;\">\n",
       "      <th></th>\n",
       "      <th>Home Ownership</th>\n",
       "      <th>Annual Income</th>\n",
       "      <th>Years in current job</th>\n",
       "      <th>Tax Liens</th>\n",
       "      <th>Number of Open Accounts</th>\n",
       "      <th>Years of Credit History</th>\n",
       "      <th>Maximum Open Credit</th>\n",
       "      <th>Number of Credit Problems</th>\n",
       "      <th>Months since last delinquent</th>\n",
       "      <th>Bankruptcies</th>\n",
       "      <th>Purpose</th>\n",
       "      <th>Term</th>\n",
       "      <th>Current Loan Amount</th>\n",
       "      <th>Current Credit Balance</th>\n",
       "      <th>Monthly Debt</th>\n",
       "      <th>Credit Score</th>\n",
       "      <th>Credit Default</th>\n",
       "    </tr>\n",
       "  </thead>\n",
       "  <tbody>\n",
       "    <tr>\n",
       "      <th>0</th>\n",
       "      <td>Own Home</td>\n",
       "      <td>482087.0</td>\n",
       "      <td>NaN</td>\n",
       "      <td>0.0</td>\n",
       "      <td>11.0</td>\n",
       "      <td>26.3</td>\n",
       "      <td>685960.0</td>\n",
       "      <td>1.0</td>\n",
       "      <td>NaN</td>\n",
       "      <td>1.0</td>\n",
       "      <td>debt consolidation</td>\n",
       "      <td>Short Term</td>\n",
       "      <td>99999999.0</td>\n",
       "      <td>47386.0</td>\n",
       "      <td>7914.0</td>\n",
       "      <td>749.0</td>\n",
       "      <td>0</td>\n",
       "    </tr>\n",
       "    <tr>\n",
       "      <th>1</th>\n",
       "      <td>Own Home</td>\n",
       "      <td>1025487.0</td>\n",
       "      <td>10+ years</td>\n",
       "      <td>0.0</td>\n",
       "      <td>15.0</td>\n",
       "      <td>15.3</td>\n",
       "      <td>1181730.0</td>\n",
       "      <td>0.0</td>\n",
       "      <td>NaN</td>\n",
       "      <td>0.0</td>\n",
       "      <td>debt consolidation</td>\n",
       "      <td>Long Term</td>\n",
       "      <td>264968.0</td>\n",
       "      <td>394972.0</td>\n",
       "      <td>18373.0</td>\n",
       "      <td>737.0</td>\n",
       "      <td>1</td>\n",
       "    </tr>\n",
       "  </tbody>\n",
       "</table>\n",
       "</div>"
      ],
      "text/plain": [
       "  Home Ownership  Annual Income Years in current job  Tax Liens  \\\n",
       "0       Own Home       482087.0                  NaN        0.0   \n",
       "1       Own Home      1025487.0            10+ years        0.0   \n",
       "\n",
       "   Number of Open Accounts  Years of Credit History  Maximum Open Credit  \\\n",
       "0                     11.0                     26.3             685960.0   \n",
       "1                     15.0                     15.3            1181730.0   \n",
       "\n",
       "   Number of Credit Problems  Months since last delinquent  Bankruptcies  \\\n",
       "0                        1.0                           NaN           1.0   \n",
       "1                        0.0                           NaN           0.0   \n",
       "\n",
       "              Purpose        Term  Current Loan Amount  \\\n",
       "0  debt consolidation  Short Term           99999999.0   \n",
       "1  debt consolidation   Long Term             264968.0   \n",
       "\n",
       "   Current Credit Balance  Monthly Debt  Credit Score  Credit Default  \n",
       "0                 47386.0        7914.0         749.0               0  \n",
       "1                394972.0       18373.0         737.0               1  "
      ]
     },
     "execution_count": 4,
     "metadata": {},
     "output_type": "execute_result"
    }
   ],
   "source": [
    "df = pd.read_csv(TRAIN_DATASET_PATH)\n",
    "df.head(2)"
   ]
  },
  {
   "cell_type": "code",
   "execution_count": 5,
   "metadata": {},
   "outputs": [
    {
     "name": "stdout",
     "output_type": "stream",
     "text": [
      "X.shape =  (7500, 16)\n",
      "y.shape =  (7500,)\n"
     ]
    }
   ],
   "source": [
    "TARGET_NAME = 'Credit Default'\n",
    "X = df.drop(TARGET_NAME, axis=1)\n",
    "y = df[TARGET_NAME]\n",
    "print('X.shape = ', X.shape)\n",
    "print('y.shape = ', y.shape)"
   ]
  },
  {
   "cell_type": "code",
   "execution_count": 6,
   "metadata": {},
   "outputs": [
    {
     "data": {
      "text/plain": [
       "0    5387\n",
       "1    2113\n",
       "Name: Credit Default, dtype: int64"
      ]
     },
     "execution_count": 6,
     "metadata": {},
     "output_type": "execute_result"
    }
   ],
   "source": [
    "y.value_counts()"
   ]
  },
  {
   "cell_type": "code",
   "execution_count": 7,
   "metadata": {},
   "outputs": [
    {
     "name": "stdout",
     "output_type": "stream",
     "text": [
      "X_final.shape (2500, 16)\n"
     ]
    },
    {
     "data": {
      "text/html": [
       "<div>\n",
       "<style scoped>\n",
       "    .dataframe tbody tr th:only-of-type {\n",
       "        vertical-align: middle;\n",
       "    }\n",
       "\n",
       "    .dataframe tbody tr th {\n",
       "        vertical-align: top;\n",
       "    }\n",
       "\n",
       "    .dataframe thead th {\n",
       "        text-align: right;\n",
       "    }\n",
       "</style>\n",
       "<table border=\"1\" class=\"dataframe\">\n",
       "  <thead>\n",
       "    <tr style=\"text-align: right;\">\n",
       "      <th></th>\n",
       "      <th>Home Ownership</th>\n",
       "      <th>Annual Income</th>\n",
       "      <th>Years in current job</th>\n",
       "      <th>Tax Liens</th>\n",
       "      <th>Number of Open Accounts</th>\n",
       "      <th>Years of Credit History</th>\n",
       "      <th>Maximum Open Credit</th>\n",
       "      <th>Number of Credit Problems</th>\n",
       "      <th>Months since last delinquent</th>\n",
       "      <th>Bankruptcies</th>\n",
       "      <th>Purpose</th>\n",
       "      <th>Term</th>\n",
       "      <th>Current Loan Amount</th>\n",
       "      <th>Current Credit Balance</th>\n",
       "      <th>Monthly Debt</th>\n",
       "      <th>Credit Score</th>\n",
       "    </tr>\n",
       "  </thead>\n",
       "  <tbody>\n",
       "    <tr>\n",
       "      <th>0</th>\n",
       "      <td>Rent</td>\n",
       "      <td>NaN</td>\n",
       "      <td>4 years</td>\n",
       "      <td>0.0</td>\n",
       "      <td>9.0</td>\n",
       "      <td>12.5</td>\n",
       "      <td>220968.0</td>\n",
       "      <td>0.0</td>\n",
       "      <td>70.0</td>\n",
       "      <td>0.0</td>\n",
       "      <td>debt consolidation</td>\n",
       "      <td>Short Term</td>\n",
       "      <td>162470.0</td>\n",
       "      <td>105906.0</td>\n",
       "      <td>6813.0</td>\n",
       "      <td>NaN</td>\n",
       "    </tr>\n",
       "    <tr>\n",
       "      <th>1</th>\n",
       "      <td>Rent</td>\n",
       "      <td>231838.0</td>\n",
       "      <td>1 year</td>\n",
       "      <td>0.0</td>\n",
       "      <td>6.0</td>\n",
       "      <td>32.7</td>\n",
       "      <td>55946.0</td>\n",
       "      <td>0.0</td>\n",
       "      <td>8.0</td>\n",
       "      <td>0.0</td>\n",
       "      <td>educational expenses</td>\n",
       "      <td>Short Term</td>\n",
       "      <td>78298.0</td>\n",
       "      <td>46037.0</td>\n",
       "      <td>2318.0</td>\n",
       "      <td>699.0</td>\n",
       "    </tr>\n",
       "  </tbody>\n",
       "</table>\n",
       "</div>"
      ],
      "text/plain": [
       "  Home Ownership  Annual Income Years in current job  Tax Liens  \\\n",
       "0           Rent            NaN              4 years        0.0   \n",
       "1           Rent       231838.0               1 year        0.0   \n",
       "\n",
       "   Number of Open Accounts  Years of Credit History  Maximum Open Credit  \\\n",
       "0                      9.0                     12.5             220968.0   \n",
       "1                      6.0                     32.7              55946.0   \n",
       "\n",
       "   Number of Credit Problems  Months since last delinquent  Bankruptcies  \\\n",
       "0                        0.0                          70.0           0.0   \n",
       "1                        0.0                           8.0           0.0   \n",
       "\n",
       "                Purpose        Term  Current Loan Amount  \\\n",
       "0    debt consolidation  Short Term             162470.0   \n",
       "1  educational expenses  Short Term              78298.0   \n",
       "\n",
       "   Current Credit Balance  Monthly Debt  Credit Score  \n",
       "0                105906.0        6813.0           NaN  \n",
       "1                 46037.0        2318.0         699.0  "
      ]
     },
     "execution_count": 7,
     "metadata": {},
     "output_type": "execute_result"
    }
   ],
   "source": [
    "X_final = pd.read_csv(TEST_DATASET_PATH)\n",
    "print('X_final.shape', X_final.shape)\n",
    "X_final.head(2)"
   ]
  },
  {
   "cell_type": "markdown",
   "metadata": {},
   "source": [
    "#### Пропуски данных"
   ]
  },
  {
   "cell_type": "code",
   "execution_count": 8,
   "metadata": {},
   "outputs": [
    {
     "data": {
      "text/plain": [
       "Home Ownership                     0\n",
       "Annual Income                   1557\n",
       "Years in current job             371\n",
       "Tax Liens                          0\n",
       "Number of Open Accounts            0\n",
       "Years of Credit History            0\n",
       "Maximum Open Credit                0\n",
       "Number of Credit Problems          0\n",
       "Months since last delinquent    4081\n",
       "Bankruptcies                      14\n",
       "Purpose                            0\n",
       "Term                               0\n",
       "Current Loan Amount                0\n",
       "Current Credit Balance             0\n",
       "Monthly Debt                       0\n",
       "Credit Score                    1557\n",
       "Credit Default                     0\n",
       "dtype: int64"
      ]
     },
     "execution_count": 8,
     "metadata": {},
     "output_type": "execute_result"
    }
   ],
   "source": [
    "len(df) - df.count()"
   ]
  },
  {
   "cell_type": "code",
   "execution_count": 9,
   "metadata": {},
   "outputs": [],
   "source": [
    "NUMERIC_FEATURE_NAMES = ['Annual Income', 'Number of Open Accounts', 'Years of Credit History',\n",
    "                         'Maximum Open Credit', 'Number of Credit Problems', \n",
    "                         'Months since last delinquent', 'Bankruptcies', 'Current Loan Amount',\n",
    "                         'Current Credit Balance', 'Monthly Debt', 'Credit Score']\n",
    "\n",
    "CATEGORICAL_FEATURE_NAMES = ['Home Ownership', 'Years in current job', 'Tax Liens', 'Purpose', 'Term']"
   ]
  },
  {
   "cell_type": "markdown",
   "metadata": {},
   "source": [
    "### 3. Создание групп для Weight of Evidence (WOE) "
   ]
  },
  {
   "cell_type": "markdown",
   "metadata": {},
   "source": [
    "Ввиду того, что выборка несбалансированна, будем использовать Weight of Evidence (WOE) признаков"
   ]
  },
  {
   "cell_type": "code",
   "execution_count": 10,
   "metadata": {},
   "outputs": [],
   "source": [
    "bin_split_numeric = {}\n",
    "WOE = {}"
   ]
  },
  {
   "cell_type": "markdown",
   "metadata": {},
   "source": [
    "### A. Numeric variables"
   ]
  },
  {
   "cell_type": "code",
   "execution_count": 11,
   "metadata": {},
   "outputs": [],
   "source": [
    "def WOE_calc_numeric(feature, bin_split):\n",
    "    feature_dict = {}\n",
    "    if df[feature].isnull().sum() > 0:\n",
    "        a = df.loc[df[feature].isnull(), 'Credit Default']\n",
    "        print(f'n_items bin nan = {len(a)}')\n",
    "        a = a.mean()\n",
    "        if a == 1.0:\n",
    "            WOE_ = 10\n",
    "        elif a == 0:\n",
    "            WOE_ = -10\n",
    "        else:\n",
    "            WOE_ = np.log(a / (1 - a)) \n",
    "        feature_dict['nan'] = WOE_\n",
    "\n",
    "    for i in range(1, len(bin_split)):\n",
    "        cond_1 = df[feature] >= bin_split[i - 1]\n",
    "        cond_2 = df[feature] < bin_split[i]\n",
    "        a = df.loc[(cond_1 & cond_2), 'Credit Default']\n",
    "        print(f'n_items bin {int(bin_split[i])} = {len(a)}')\n",
    "        a = a.mean()\n",
    "        if a == 1.0:\n",
    "            WOE_ = 10\n",
    "        elif a == 0:\n",
    "            WOE_ = -10\n",
    "        else:\n",
    "            WOE_ = np.log(a / (1 - a)) \n",
    "        feature_dict[bin_split[i]] = WOE_\n",
    "        \n",
    "    bin_split_numeric[feature] = bin_split\n",
    "    WOE[feature] = feature_dict   "
   ]
  },
  {
   "cell_type": "markdown",
   "metadata": {},
   "source": [
    "#### 1. Annual Income"
   ]
  },
  {
   "cell_type": "code",
   "execution_count": 12,
   "metadata": {},
   "outputs": [
    {
     "name": "stdout",
     "output_type": "stream",
     "text": [
      "n_items bin nan = 1557\n",
      "n_items bin 750000 = 1054\n",
      "n_items bin 1000000 = 1178\n",
      "n_items bin 1300000 = 1167\n",
      "n_items bin 1800000 = 1379\n",
      "n_items bin 31000000 = 1165\n",
      "\n",
      "WOE per bin:\n"
     ]
    },
    {
     "data": {
      "text/plain": [
       "{'nan': -0.664382014156811,\n",
       " 750000.0: -0.6775329527583945,\n",
       " 1000000.0: -0.8489153294013843,\n",
       " 1300000.0: -0.9434417209401059,\n",
       " 1800000.0: -1.1845911410435503,\n",
       " 31000000.0: -1.4242804799359772}"
      ]
     },
     "execution_count": 12,
     "metadata": {},
     "output_type": "execute_result"
    }
   ],
   "source": [
    "feature = 'Annual Income'\n",
    "bin_split = [0, 7.5e+05, 1e+06, 1.3e+06, 1.8e+06, 3.1e+07]\n",
    "WOE_calc_numeric(feature, bin_split)\n",
    "print('\\nWOE per bin:')\n",
    "WOE[feature]"
   ]
  },
  {
   "cell_type": "markdown",
   "metadata": {},
   "source": [
    "#### 2. Number of Open Accounts"
   ]
  },
  {
   "cell_type": "code",
   "execution_count": 13,
   "metadata": {},
   "outputs": [
    {
     "name": "stdout",
     "output_type": "stream",
     "text": [
      "n_items bin 9 = 2415\n",
      "n_items bin 13 = 2659\n",
      "n_items bin 18 = 1695\n",
      "n_items bin 9999 = 731\n",
      "\n",
      "WOE per bin:\n"
     ]
    },
    {
     "data": {
      "text/plain": [
       "{9: -1.0436025047360038,\n",
       " 13: -0.9286968564142538,\n",
       " 18: -0.8543312274033161,\n",
       " 9999: -0.8104362670830454}"
      ]
     },
     "execution_count": 13,
     "metadata": {},
     "output_type": "execute_result"
    }
   ],
   "source": [
    "feature = 'Number of Open Accounts'\n",
    "bin_split = [0, 9, 13, 18, 9999]\n",
    "WOE_calc_numeric(feature, bin_split)\n",
    "print('\\nWOE per bin:')\n",
    "WOE[feature]"
   ]
  },
  {
   "cell_type": "markdown",
   "metadata": {},
   "source": [
    "#### 3. Years of Credit History"
   ]
  },
  {
   "cell_type": "code",
   "execution_count": 14,
   "metadata": {},
   "outputs": [
    {
     "name": "stdout",
     "output_type": "stream",
     "text": [
      "n_items bin 10 = 590\n",
      "n_items bin 13 = 1037\n",
      "n_items bin 16 = 1508\n",
      "n_items bin 99 = 4365\n",
      "\n",
      "WOE per bin:\n"
     ]
    },
    {
     "data": {
      "text/plain": [
       "{10: -0.6829948090959274,\n",
       " 13: -0.8801180004804297,\n",
       " 16: -0.9321271131370563,\n",
       " 99: -0.9871384222049912}"
      ]
     },
     "execution_count": 14,
     "metadata": {},
     "output_type": "execute_result"
    }
   ],
   "source": [
    "feature = 'Years of Credit History'\n",
    "bin_split = [0, 10, 13, 16, 99]\n",
    "WOE_calc_numeric(feature, bin_split)\n",
    "print('\\nWOE per bin:')\n",
    "WOE[feature]"
   ]
  },
  {
   "cell_type": "markdown",
   "metadata": {},
   "source": [
    "#### 4. Maximum Open Credit"
   ]
  },
  {
   "cell_type": "code",
   "execution_count": 15,
   "metadata": {},
   "outputs": [
    {
     "name": "stdout",
     "output_type": "stream",
     "text": [
      "n_items bin 150000 = 624\n",
      "n_items bin 250000 = 956\n",
      "n_items bin 350000 = 1019\n",
      "n_items bin 500000 = 1313\n",
      "n_items bin 700000 = 1278\n",
      "n_items bin 1100000 = 1329\n",
      "n_items bin 9000000000 = 981\n",
      "\n",
      "WOE per bin:\n"
     ]
    },
    {
     "data": {
      "text/plain": [
       "{150000.0: -0.7003674285334326,\n",
       " 250000.0: -0.7823783142878881,\n",
       " 350000.0: -0.9460198483458652,\n",
       " 500000.0: -0.8433116257193687,\n",
       " 700000.0: -0.9555114450274363,\n",
       " 1100000.0: -1.0363699797908887,\n",
       " 9000000000.0: -1.2235116141822528}"
      ]
     },
     "execution_count": 15,
     "metadata": {},
     "output_type": "execute_result"
    }
   ],
   "source": [
    "feature = 'Maximum Open Credit'\n",
    "bin_split = [0, 0.15e+06, 0.25e+06, 0.35e+06, 0.5e+06, 0.7e+06, 1.1e+06, 9e+09]\n",
    "WOE_calc_numeric(feature, bin_split)\n",
    "print('\\nWOE per bin:')\n",
    "WOE[feature]"
   ]
  },
  {
   "cell_type": "markdown",
   "metadata": {},
   "source": [
    "#### 5. Number of Credit Problems"
   ]
  },
  {
   "cell_type": "code",
   "execution_count": 16,
   "metadata": {},
   "outputs": [
    {
     "name": "stdout",
     "output_type": "stream",
     "text": [
      "n_items bin 1 = 6469\n",
      "n_items bin 99 = 1031\n",
      "\n",
      "WOE per bin:\n"
     ]
    },
    {
     "data": {
      "text/plain": [
       "{1: -0.9416415971632859, 99: -0.9000522153812469}"
      ]
     },
     "execution_count": 16,
     "metadata": {},
     "output_type": "execute_result"
    }
   ],
   "source": [
    "feature = 'Number of Credit Problems'\n",
    "bin_split = [0, 1, 99]\n",
    "WOE_calc_numeric(feature, bin_split)\n",
    "print('\\nWOE per bin:')\n",
    "WOE[feature]"
   ]
  },
  {
   "cell_type": "markdown",
   "metadata": {},
   "source": [
    "#### 6. Months since last delinquent"
   ]
  },
  {
   "cell_type": "code",
   "execution_count": 17,
   "metadata": {},
   "outputs": [
    {
     "name": "stdout",
     "output_type": "stream",
     "text": [
      "n_items bin nan = 4081\n",
      "n_items bin 13 = 617\n",
      "n_items bin 999 = 2802\n",
      "\n",
      "WOE per bin:\n"
     ]
    },
    {
     "data": {
      "text/plain": [
       "{'nan': -0.9599264632365533, 13: -0.7645181744518642, 999: -0.9401462259633803}"
      ]
     },
     "execution_count": 17,
     "metadata": {},
     "output_type": "execute_result"
    }
   ],
   "source": [
    "feature = 'Months since last delinquent'\n",
    "bin_split = [0, 13, 999]\n",
    "WOE_calc_numeric(feature, bin_split)\n",
    "print('\\nWOE per bin:')\n",
    "WOE[feature]"
   ]
  },
  {
   "cell_type": "markdown",
   "metadata": {},
   "source": [
    "#### 7. Bankruptcies"
   ]
  },
  {
   "cell_type": "markdown",
   "metadata": {},
   "source": [
    "Ввиду малочисленности, пропуски игнорируем"
   ]
  },
  {
   "cell_type": "code",
   "execution_count": 18,
   "metadata": {},
   "outputs": [
    {
     "name": "stdout",
     "output_type": "stream",
     "text": [
      "n_items bin nan = 14\n",
      "n_items bin 1 = 6660\n",
      "n_items bin 99 = 826\n",
      "\n",
      "WOE per bin:\n"
     ]
    },
    {
     "data": {
      "text/plain": [
       "{1: -0.9346514882500618, 99: -0.9461436950238364}"
      ]
     },
     "execution_count": 18,
     "metadata": {},
     "output_type": "execute_result"
    }
   ],
   "source": [
    "feature = 'Bankruptcies'\n",
    "bin_split = [0, 1, 99]\n",
    "WOE_calc_numeric(feature, bin_split)\n",
    "print('\\nWOE per bin:')\n",
    "WOE[feature].pop('nan')\n",
    "WOE[feature]"
   ]
  },
  {
   "cell_type": "markdown",
   "metadata": {},
   "source": [
    "#### 8. Current Loan Amount"
   ]
  },
  {
   "cell_type": "code",
   "execution_count": 19,
   "metadata": {},
   "outputs": [
    {
     "name": "stdout",
     "output_type": "stream",
     "text": [
      "n_items bin 150000 = 1341\n",
      "n_items bin 250000 = 1654\n",
      "n_items bin 350000 = 1400\n",
      "n_items bin 500000 = 1157\n",
      "n_items bin 1000000 = 1078\n",
      "n_items bin 100000000 = 870\n",
      "\n",
      "WOE per bin:\n"
     ]
    },
    {
     "data": {
      "text/plain": [
       "{150000.0: -0.9351592161785379,\n",
       " 250000.0: -0.8536397669124878,\n",
       " 350000.0: -0.747214401830221,\n",
       " 500000.0: -0.664758177297259,\n",
       " 1000000.0: -0.5356407928857146,\n",
       " 100000000.0: -10}"
      ]
     },
     "execution_count": 19,
     "metadata": {},
     "output_type": "execute_result"
    }
   ],
   "source": [
    "feature = 'Current Loan Amount'\n",
    "bin_split = [0, 0.15e+06, 0.25e+06, 0.35e+06, 0.5e+06, 1e+06, 1e+08]\n",
    "WOE_calc_numeric(feature, bin_split)\n",
    "print('\\nWOE per bin:')\n",
    "WOE[feature]"
   ]
  },
  {
   "cell_type": "markdown",
   "metadata": {},
   "source": [
    "#### 9. Current Credit Balance"
   ]
  },
  {
   "cell_type": "code",
   "execution_count": 20,
   "metadata": {},
   "outputs": [
    {
     "name": "stdout",
     "output_type": "stream",
     "text": [
      "n_items bin 200000 = 3606\n",
      "n_items bin 500000 = 2828\n",
      "n_items bin 10000000 = 1066\n",
      "\n",
      "WOE per bin:\n"
     ]
    },
    {
     "data": {
      "text/plain": [
       "{200000.0: -0.9522883588207761,\n",
       " 500000.0: -0.9024701762555227,\n",
       " 10000000.0: -0.9701064395703548}"
      ]
     },
     "execution_count": 20,
     "metadata": {},
     "output_type": "execute_result"
    }
   ],
   "source": [
    "feature = 'Current Credit Balance'\n",
    "bin_split = [0, 0.2e+06, 0.5e+06, 1e+07]\n",
    "WOE_calc_numeric(feature, bin_split)\n",
    "print('\\nWOE per bin:')\n",
    "WOE[feature]"
   ]
  },
  {
   "cell_type": "markdown",
   "metadata": {},
   "source": [
    "#### 10. Monthly Debt"
   ]
  },
  {
   "cell_type": "code",
   "execution_count": 21,
   "metadata": {},
   "outputs": [
    {
     "name": "stdout",
     "output_type": "stream",
     "text": [
      "n_items bin 6000 = 794\n",
      "n_items bin 10000 = 1052\n",
      "n_items bin 30000 = 4636\n",
      "n_items bin 1000000 = 1018\n",
      "\n",
      "WOE per bin:\n"
     ]
    },
    {
     "data": {
      "text/plain": [
       "{6000.0: -1.1154760947201146,\n",
       " 10000.0: -0.9996440718624063,\n",
       " 30000.0: -0.9042423933579806,\n",
       " 1000000.0: -0.8821577255046966}"
      ]
     },
     "execution_count": 21,
     "metadata": {},
     "output_type": "execute_result"
    }
   ],
   "source": [
    "feature = 'Monthly Debt'\n",
    "bin_split = [0, 0.06e+05, 0.1e+05, 0.3e+05, 1e+06]\n",
    "WOE_calc_numeric(feature, bin_split)\n",
    "print('\\nWOE per bin:')\n",
    "WOE[feature]"
   ]
  },
  {
   "cell_type": "markdown",
   "metadata": {},
   "source": [
    "#### 11. Credit Score"
   ]
  },
  {
   "cell_type": "code",
   "execution_count": 22,
   "metadata": {},
   "outputs": [
    {
     "name": "stdout",
     "output_type": "stream",
     "text": [
      "n_items bin nan = 1557\n",
      "n_items bin 710 = 1410\n",
      "n_items bin 730 = 1377\n",
      "n_items bin 742 = 1473\n",
      "n_items bin 755 = 1283\n",
      "n_items bin 9999 = 400\n",
      "\n",
      "WOE per bin:\n"
     ]
    },
    {
     "data": {
      "text/plain": [
       "{'nan': -0.664382014156811,\n",
       " 710: -0.7773392717802932,\n",
       " 730: -1.1665852722543157,\n",
       " 742: -1.485107755783986,\n",
       " 755: -2.091776499837787,\n",
       " 9999: 10}"
      ]
     },
     "execution_count": 22,
     "metadata": {},
     "output_type": "execute_result"
    }
   ],
   "source": [
    "feature = 'Credit Score'\n",
    "bin_split = [0, 710, 730, 742, 755, 9999]\n",
    "WOE_calc_numeric(feature, bin_split)\n",
    "print('\\nWOE per bin:')\n",
    "WOE[feature]"
   ]
  },
  {
   "cell_type": "markdown",
   "metadata": {},
   "source": [
    "### B. Categorical variables"
   ]
  },
  {
   "cell_type": "code",
   "execution_count": 23,
   "metadata": {},
   "outputs": [],
   "source": [
    "def calc_a(sub_category):    \n",
    "    cond = df[feature] == sub_category[0]\n",
    "    for j in range(1, len(sub_category)):\n",
    "        cond |= (df[feature] == sub_category[j])        \n",
    "    a = df.loc[cond, 'Credit Default']    \n",
    "    return a\n",
    "\n",
    "def WOE_calc(feature, category_list):\n",
    "    feature_dict = {}\n",
    "    if df[feature].isnull().sum() > 0:\n",
    "        a = df.loc[df[feature].isnull(), 'Credit Default']\n",
    "        print(f'n_items category nan = {len(a)}')\n",
    "        a = a.mean()\n",
    "        if a == 1.0:\n",
    "            WOE_ = 10\n",
    "        elif a == 0:\n",
    "            WOE_ = -10\n",
    "        else:\n",
    "            WOE_ = np.log(a / (1 - a)) \n",
    "        feature_dict['nan'] = WOE_\n",
    "    \n",
    "    for i in range(len(category_list)):\n",
    "        if isinstance(category_list[i], list):\n",
    "            a = calc_a(category_list[i])\n",
    "        else:\n",
    "            a = df.loc[df[feature] == category_list[i], 'Credit Default']\n",
    "        print(f'{len(a)}\\t{category_list[i]}')\n",
    "        a = a.mean()\n",
    "        if a == 1.0:\n",
    "            WOE_ = 10\n",
    "        elif a == 0:\n",
    "            WOE_ = -10\n",
    "        else:\n",
    "            WOE_ = np.log(a / (1 - a))        \n",
    "        \n",
    "        if isinstance(category_list[i], list):\n",
    "            for category in category_list[i]:\n",
    "                feature_dict[category] = WOE_\n",
    "        else:\n",
    "            feature_dict[category_list[i]] = WOE_\n",
    "            \n",
    "    bin_split_categorical[feature] = category_list\n",
    "    WOE[feature] = feature_dict    "
   ]
  },
  {
   "cell_type": "code",
   "execution_count": 24,
   "metadata": {},
   "outputs": [],
   "source": [
    "bin_split_categorical = {}"
   ]
  },
  {
   "cell_type": "markdown",
   "metadata": {},
   "source": [
    "#### 1. Home Ownership"
   ]
  },
  {
   "cell_type": "code",
   "execution_count": 25,
   "metadata": {},
   "outputs": [
    {
     "data": {
      "text/plain": [
       "Home Mortgage    3637\n",
       "Rent             3204\n",
       "Own Home          647\n",
       "Have Mortgage      12\n",
       "Name: Home Ownership, dtype: int64"
      ]
     },
     "execution_count": 25,
     "metadata": {},
     "output_type": "execute_result"
    }
   ],
   "source": [
    "feature = 'Home Ownership'\n",
    "df[feature].value_counts()"
   ]
  },
  {
   "cell_type": "markdown",
   "metadata": {},
   "source": [
    "Из-за того, что группа 'Have Mortgage' слишком малочисленна, объединим ее с группой 'Home Mortgage'"
   ]
  },
  {
   "cell_type": "code",
   "execution_count": 26,
   "metadata": {},
   "outputs": [
    {
     "name": "stdout",
     "output_type": "stream",
     "text": [
      "3649\t['Home Mortgage', 'Have Mortgage']\n",
      "3204\tRent\n",
      "647\tOwn Home\n",
      "\n",
      "WOE per category:\n"
     ]
    },
    {
     "data": {
      "text/plain": [
       "{'Home Mortgage': -1.0902257308532148,\n",
       " 'Have Mortgage': -1.0902257308532148,\n",
       " 'Rent': -0.7859162935645262,\n",
       " 'Own Home': -0.862802046923169}"
      ]
     },
     "execution_count": 26,
     "metadata": {},
     "output_type": "execute_result"
    }
   ],
   "source": [
    "category_list = [['Home Mortgage', 'Have Mortgage'], 'Rent', 'Own Home']\n",
    "WOE_calc(feature, category_list)\n",
    "print('\\nWOE per category:')\n",
    "WOE[feature]"
   ]
  },
  {
   "cell_type": "markdown",
   "metadata": {},
   "source": [
    "#### 2. Years in current job"
   ]
  },
  {
   "cell_type": "code",
   "execution_count": 27,
   "metadata": {},
   "outputs": [
    {
     "data": {
      "text/plain": [
       "10+ years    2332\n",
       "2 years       705\n",
       "3 years       620\n",
       "< 1 year      563\n",
       "5 years       516\n",
       "1 year        504\n",
       "4 years       469\n",
       "6 years       426\n",
       "7 years       396\n",
       "8 years       339\n",
       "9 years       259\n",
       "Name: Years in current job, dtype: int64"
      ]
     },
     "execution_count": 27,
     "metadata": {},
     "output_type": "execute_result"
    }
   ],
   "source": [
    "feature = 'Years in current job'\n",
    "df[feature].value_counts()"
   ]
  },
  {
   "cell_type": "markdown",
   "metadata": {},
   "source": [
    "Объединим группы:\n",
    "* < 1 year, 1 year \n",
    "* 2 years, 3 years\n",
    "* 4 years, 5 years, 6 years, 7 years\n",
    "* 8 years, 9 years, 10+ years"
   ]
  },
  {
   "cell_type": "markdown",
   "metadata": {},
   "source": [
    "Ввиду малочисленности, пропуски игнорируем"
   ]
  },
  {
   "cell_type": "code",
   "execution_count": 28,
   "metadata": {},
   "outputs": [
    {
     "name": "stdout",
     "output_type": "stream",
     "text": [
      "n_items category nan = 371\n",
      "1067\t['< 1 year', '1 year']\n",
      "1325\t['2 years', '3 years']\n",
      "1807\t['4 years', '5 years', '6 years', '7 years']\n",
      "2930\t['8 years', '9 years', '10+ years']\n",
      "\n",
      "WOE per category:\n"
     ]
    },
    {
     "data": {
      "text/plain": [
       "{'< 1 year': -0.9340719049917153,\n",
       " '1 year': -0.9340719049917153,\n",
       " '2 years': -0.9746116164008557,\n",
       " '3 years': -0.9746116164008557,\n",
       " '4 years': -0.9306682867085156,\n",
       " '5 years': -0.9306682867085156,\n",
       " '6 years': -0.9306682867085156,\n",
       " '7 years': -0.9306682867085156,\n",
       " '8 years': -0.9775467178251201,\n",
       " '9 years': -0.9775467178251201,\n",
       " '10+ years': -0.9775467178251201}"
      ]
     },
     "execution_count": 28,
     "metadata": {},
     "output_type": "execute_result"
    }
   ],
   "source": [
    "category_list = [['< 1 year', '1 year'],\n",
    "                 ['2 years', '3 years'],\n",
    "                 ['4 years', '5 years', '6 years', '7 years'],\n",
    "                 ['8 years', '9 years', '10+ years']]\n",
    "WOE_calc(feature, category_list)\n",
    "print('\\nWOE per category:')\n",
    "WOE[feature].pop('nan')\n",
    "WOE[feature]"
   ]
  },
  {
   "cell_type": "markdown",
   "metadata": {},
   "source": [
    "#### 3. Tax Liens"
   ]
  },
  {
   "cell_type": "code",
   "execution_count": 29,
   "metadata": {},
   "outputs": [
    {
     "data": {
      "text/plain": [
       "0.0    7366\n",
       "1.0      83\n",
       "2.0      30\n",
       "3.0      10\n",
       "4.0       6\n",
       "5.0       2\n",
       "6.0       2\n",
       "7.0       1\n",
       "Name: Tax Liens, dtype: int64"
      ]
     },
     "execution_count": 29,
     "metadata": {},
     "output_type": "execute_result"
    }
   ],
   "source": [
    "df['Tax Liens'].value_counts()"
   ]
  },
  {
   "cell_type": "markdown",
   "metadata": {},
   "source": [
    "Признак не информативный. Использовать не будем"
   ]
  },
  {
   "cell_type": "code",
   "execution_count": 30,
   "metadata": {},
   "outputs": [],
   "source": [
    "CATEGORICAL_FEATURE_NAMES = ['Home Ownership', 'Years in current job', 'Purpose', 'Term']"
   ]
  },
  {
   "cell_type": "markdown",
   "metadata": {},
   "source": [
    "#### 4. Purpose"
   ]
  },
  {
   "cell_type": "code",
   "execution_count": 31,
   "metadata": {},
   "outputs": [
    {
     "data": {
      "text/plain": [
       "debt consolidation      5944\n",
       "other                    665\n",
       "home improvements        412\n",
       "business loan            129\n",
       "buy a car                 96\n",
       "medical bills             71\n",
       "major purchase            40\n",
       "take a trip               37\n",
       "buy house                 34\n",
       "small business            26\n",
       "wedding                   15\n",
       "moving                    11\n",
       "educational expenses      10\n",
       "vacation                   8\n",
       "renewable energy           2\n",
       "Name: Purpose, dtype: int64"
      ]
     },
     "execution_count": 31,
     "metadata": {},
     "output_type": "execute_result"
    }
   ],
   "source": [
    "feature = 'Purpose'\n",
    "df[feature].value_counts()"
   ]
  },
  {
   "cell_type": "markdown",
   "metadata": {},
   "source": [
    "Выделим категории debt consolidation и home improvements, а остальные объединим в одну группу"
   ]
  },
  {
   "cell_type": "code",
   "execution_count": 32,
   "metadata": {},
   "outputs": [
    {
     "name": "stdout",
     "output_type": "stream",
     "text": [
      "5944\tdebt consolidation\n",
      "412\thome improvements\n",
      "1144\t['other', 'business loan', 'buy a car', 'medical bills', 'major purchase', 'take a trip', 'buy house', 'small business', 'wedding', 'moving', 'educational expenses', 'vacation', 'renewable energy']\n",
      "\n",
      "WOE per category:\n"
     ]
    },
    {
     "data": {
      "text/plain": [
       "{'debt consolidation': -0.9530901363384262,\n",
       " 'home improvements': -1.034896474282002,\n",
       " 'other': -0.8150369981689821,\n",
       " 'business loan': -0.8150369981689821,\n",
       " 'buy a car': -0.8150369981689821,\n",
       " 'medical bills': -0.8150369981689821,\n",
       " 'major purchase': -0.8150369981689821,\n",
       " 'take a trip': -0.8150369981689821,\n",
       " 'buy house': -0.8150369981689821,\n",
       " 'small business': -0.8150369981689821,\n",
       " 'wedding': -0.8150369981689821,\n",
       " 'moving': -0.8150369981689821,\n",
       " 'educational expenses': -0.8150369981689821,\n",
       " 'vacation': -0.8150369981689821,\n",
       " 'renewable energy': -0.8150369981689821}"
      ]
     },
     "execution_count": 32,
     "metadata": {},
     "output_type": "execute_result"
    }
   ],
   "source": [
    "category_list = ['debt consolidation', 'home improvements', \n",
    "                 ['other', 'business loan', 'buy a car', 'medical bills', \n",
    "                  'major purchase', 'take a trip', 'buy house', \n",
    "                  'small business', 'wedding', 'moving', \n",
    "                  'educational expenses', 'vacation', 'renewable energy']]\n",
    "WOE_calc(feature, category_list)\n",
    "print('\\nWOE per category:')\n",
    "WOE[feature]"
   ]
  },
  {
   "cell_type": "markdown",
   "metadata": {},
   "source": [
    "#### 5. Term"
   ]
  },
  {
   "cell_type": "code",
   "execution_count": 33,
   "metadata": {},
   "outputs": [
    {
     "data": {
      "text/plain": [
       "Short Term    5556\n",
       "Long Term     1944\n",
       "Name: Term, dtype: int64"
      ]
     },
     "execution_count": 33,
     "metadata": {},
     "output_type": "execute_result"
    }
   ],
   "source": [
    "feature = 'Term'\n",
    "df[feature].value_counts()"
   ]
  },
  {
   "cell_type": "code",
   "execution_count": 34,
   "metadata": {},
   "outputs": [
    {
     "name": "stdout",
     "output_type": "stream",
     "text": [
      "5556\tShort Term\n",
      "1944\tLong Term\n",
      "\n",
      "WOE per category:\n"
     ]
    },
    {
     "data": {
      "text/plain": [
       "{'Short Term': -1.1889804856067696, 'Long Term': -0.3237870770938973}"
      ]
     },
     "execution_count": 34,
     "metadata": {},
     "output_type": "execute_result"
    }
   ],
   "source": [
    "category_list = ['Short Term', 'Long Term']\n",
    "WOE_calc(feature, category_list)\n",
    "print('\\nWOE per category:')\n",
    "WOE[feature]"
   ]
  },
  {
   "cell_type": "markdown",
   "metadata": {},
   "source": [
    "### 4. Feature Engineering"
   ]
  },
  {
   "cell_type": "code",
   "execution_count": 35,
   "metadata": {},
   "outputs": [],
   "source": [
    "class FeatureGenerator:\n",
    "    def __init__(self, bin_split_numeric, bin_split_categorical):\n",
    "        self.bin_split_numeric = bin_split_numeric\n",
    "        self.bin_split_categorical = bin_split_categorical\n",
    "        \n",
    "        \n",
    "    def WOE_formula(self, a):\n",
    "        a = a.mean()\n",
    "        if a == 1.0:\n",
    "            WOE_ = 10\n",
    "        elif a == 0:\n",
    "            WOE_ = -10\n",
    "        else:\n",
    "            WOE_ = np.log(a / (1 - a))\n",
    "        return WOE_\n",
    "    \n",
    "        \n",
    "    def WOE_calc_numeric(self, feature):\n",
    "        feature_dict = {}\n",
    "        if df[feature].isnull().sum() > 0:\n",
    "            a = df.loc[df[feature].isnull(), 'Credit Default']\n",
    "            feature_dict['nan'] = self.WOE_formula(a)\n",
    "\n",
    "        for i in range(1, len(self.bin_split_numeric[feature])):\n",
    "            cond_1 = df[feature] >= self.bin_split_numeric[feature][i - 1]\n",
    "            cond_2 = df[feature] < self.bin_split_numeric[feature][i]\n",
    "            a = df.loc[(cond_1 & cond_2), 'Credit Default']            \n",
    "\n",
    "            feature_dict[self.bin_split_numeric[feature][i]] = self.WOE_formula(a) \n",
    "\n",
    "        return feature_dict\n",
    "    \n",
    "    \n",
    "    def calc_a(self, feature, sub_category):    \n",
    "        cond = df[feature] == sub_category[0]\n",
    "        for j in range(1, len(sub_category)):\n",
    "            cond |= (df[feature] == sub_category[j]) \n",
    "            \n",
    "        a = df.loc[cond, 'Credit Default']\n",
    "        \n",
    "        return a\n",
    "    \n",
    "    \n",
    "    def WOE_calc_categorical(self, feature):\n",
    "        feature_dict = {}\n",
    "        if df[feature].isnull().sum() > 0:\n",
    "            a = df.loc[df[feature].isnull(), 'Credit Default'] \n",
    "            feature_dict['nan'] = self.WOE_formula(a)\n",
    "\n",
    "        for i in range(len(self.bin_split_categorical[feature])):\n",
    "            sub_category = self.bin_split_categorical[feature][i]\n",
    "            if isinstance(sub_category, list):                \n",
    "                a = self.calc_a(feature, sub_category)                \n",
    "            else:\n",
    "                a = df.loc[df[feature] == sub_category, 'Credit Default']  \n",
    "            WOE_ = self.WOE_formula(a)            \n",
    "\n",
    "            if isinstance(sub_category, list):                \n",
    "                for item in sub_category:                    \n",
    "                    feature_dict[item] = WOE_\n",
    "            else:\n",
    "                feature_dict[sub_category] = WOE_\n",
    "        \n",
    "        return feature_dict \n",
    "        \n",
    "    \n",
    "    def fit(self, X, y=None):\n",
    "        df = X.copy()\n",
    "        \n",
    "        if y is not None:\n",
    "            df['Credit Default'] = y.values \n",
    "            \n",
    "            self.WOE = {}\n",
    "            for feature in NUMERIC_FEATURE_NAMES:\n",
    "                self.WOE[feature] = self.WOE_calc_numeric(feature)\n",
    "                \n",
    "            for feature in CATEGORICAL_FEATURE_NAMES:\n",
    "                self.WOE[feature] = self.WOE_calc_categorical(feature)  \n",
    "\n",
    "    \n",
    "    def transform(self, X):\n",
    "        for feature in NUMERIC_FEATURE_NAMES:\n",
    "            new_feature = feature + '_'        \n",
    "            if X[feature].isnull().sum() > 0:\n",
    "                X.loc[X[feature].isnull(), new_feature] = self.WOE[feature]['nan']            \n",
    "            \n",
    "            feature_list = self.bin_split_numeric[feature]\n",
    "            for i in range(1, len(feature_list)):\n",
    "                cond_1 = X[feature] >= feature_list[i - 1]\n",
    "                cond_2 = X[feature] < feature_list[i]\n",
    "                X.loc[(cond_1 & cond_2), new_feature] = self.WOE[feature][feature_list[i]]\n",
    "        \n",
    "\n",
    "        for feature in CATEGORICAL_FEATURE_NAMES:\n",
    "            new_feature = feature + '_'\n",
    "            if X[feature].isnull().sum() > 0:\n",
    "                X.loc[X[feature].isnull(), new_feature] = self.WOE[feature]['nan']\n",
    "                \n",
    "            feature_list = self.WOE[feature]\n",
    "            for item in feature_list:        \n",
    "                X.loc[X[feature] == item, new_feature] = self.WOE[feature][item]\n",
    "        return X"
   ]
  },
  {
   "cell_type": "markdown",
   "metadata": {},
   "source": [
    "### 5. Tain_test_split"
   ]
  },
  {
   "cell_type": "code",
   "execution_count": 36,
   "metadata": {},
   "outputs": [],
   "source": [
    "X_train, X_test, y_train, y_test = train_test_split(X, y, \n",
    "                                                    shuffle=True,\n",
    "                                                    stratify = y,\n",
    "                                                    test_size=0.2, random_state=42)"
   ]
  },
  {
   "cell_type": "code",
   "execution_count": 37,
   "metadata": {},
   "outputs": [],
   "source": [
    "features = FeatureGenerator(bin_split_numeric, bin_split_categorical)\n",
    "features.fit(X_train, y_train)\n",
    "X_train = features.transform(X_train)\n",
    "X_test = features.transform(X_test)"
   ]
  },
  {
   "cell_type": "markdown",
   "metadata": {},
   "source": [
    "### 6. Балансировка классов\n"
   ]
  },
  {
   "cell_type": "code",
   "execution_count": 38,
   "metadata": {},
   "outputs": [
    {
     "name": "stdout",
     "output_type": "stream",
     "text": [
      "Original dataset shape Counter({0: 4310, 1: 1690})\n",
      "Resample dataset shape Counter({0: 4310, 1: 4310})\n"
     ]
    }
   ],
   "source": [
    "ros = RandomOverSampler(random_state=42)\n",
    "X_train_ros, y_train_ros = ros.fit_resample(X_train, y_train)\n",
    "\n",
    "print('Original dataset shape', Counter(y_train))\n",
    "print('Resample dataset shape', Counter(y_train_ros))"
   ]
  },
  {
   "cell_type": "markdown",
   "metadata": {},
   "source": [
    "### 7. Отбор признаков"
   ]
  },
  {
   "cell_type": "code",
   "execution_count": 39,
   "metadata": {},
   "outputs": [],
   "source": [
    "SELECTED_FEATURE_NAMES = ['Annual Income_', 'Number of Open Accounts_','Years of Credit History_', \n",
    "                          'Maximum Open Credit_', 'Number of Credit Problems_', 'Months since last delinquent_',\n",
    "                          'Bankruptcies_', 'Current Loan Amount_', 'Current Credit Balance_', \n",
    "                          'Monthly Debt_', #'Credit Score_',\n",
    "                          \n",
    "                          'Home Ownership_', 'Years in current job_', 'Purpose_', 'Term_']"
   ]
  },
  {
   "cell_type": "code",
   "execution_count": 40,
   "metadata": {},
   "outputs": [],
   "source": [
    "scaler = StandardScaler()\n",
    "\n",
    "df_norm = X_train_ros[SELECTED_FEATURE_NAMES].copy()\n",
    "df_norm[SELECTED_FEATURE_NAMES] = scaler.fit_transform(df_norm[SELECTED_FEATURE_NAMES])\n",
    "\n",
    "X_train_ros = df_norm.copy()"
   ]
  },
  {
   "cell_type": "markdown",
   "metadata": {},
   "source": [
    "### 8. Модель"
   ]
  },
  {
   "cell_type": "code",
   "execution_count": 41,
   "metadata": {},
   "outputs": [],
   "source": [
    "kfold =  StratifiedKFold(n_splits=5, shuffle=True, random_state=1)\n",
    "def cv_f1_score(model):\n",
    "    f1_score_list = []\n",
    "    for train_index, test_index in kfold.split(X, y):\n",
    "        X_train_cv, X_test_cv = X.loc[train_index, :], X.loc[test_index, :]\n",
    "        y_train_cv, y_test_cv = y[train_index], y[test_index]\n",
    "        \n",
    "        features = FeatureGenerator(bin_split_numeric, bin_split_categorical)\n",
    "        features.fit(X_train_cv, y_train_cv)\n",
    "        X_train_cv = features.transform(X_train_cv)\n",
    "        X_test_cv = features.transform(X_test_cv)\n",
    "        \n",
    "        X_train_ros_cv, y_train_ros_cv = ros.fit_resample(X_train_cv, y_train_cv)\n",
    "\n",
    "        model.fit(X_train_ros_cv[SELECTED_FEATURE_NAMES], y_train_ros_cv)\n",
    "\n",
    "        y_train_pred_cv = model.predict(X_train_ros_cv[SELECTED_FEATURE_NAMES])\n",
    "        y_test_pred_cv = model.predict(X_test_cv[SELECTED_FEATURE_NAMES])\n",
    "\n",
    "        f1_score_list.append(f1_score(y_test_cv, y_test_pred_cv, average=None)[1])\n",
    "    print(f'cross_validation_f1_score_test = {np.array(f1_score_list).mean()}\\n')"
   ]
  },
  {
   "cell_type": "code",
   "execution_count": 42,
   "metadata": {},
   "outputs": [],
   "source": [
    "def get_classification_report(y_train_true, y_train_pred, y_test_true, y_test_pred):\n",
    "    print('TRAIN\\n\\n' + classification_report(y_train_true, y_train_pred))\n",
    "    print('roc_auc_score =', roc_auc_score(y_train_true, y_train_pred), '\\n')\n",
    "    print('TEST\\n\\n' + classification_report(y_test_true, y_test_pred))\n",
    "    print('roc_auc_score =', roc_auc_score(y_test_true, y_test_pred), '\\n')\n",
    "    print('CONFUSION MATRIX\\n')\n",
    "    print(pd.crosstab(y_test_true, y_test_pred)) "
   ]
  },
  {
   "cell_type": "markdown",
   "metadata": {},
   "source": [
    "#### CatBoostClassifier"
   ]
  },
  {
   "cell_type": "code",
   "execution_count": 43,
   "metadata": {},
   "outputs": [
    {
     "name": "stdout",
     "output_type": "stream",
     "text": [
      "cross_validation_f1_score_test = 0.4413622183505549\n",
      "\n",
      "TRAIN\n",
      "\n",
      "              precision    recall  f1-score   support\n",
      "\n",
      "           0       0.86      0.80      0.83      4310\n",
      "           1       0.81      0.87      0.84      4310\n",
      "\n",
      "    accuracy                           0.84      8620\n",
      "   macro avg       0.84      0.84      0.84      8620\n",
      "weighted avg       0.84      0.84      0.84      8620\n",
      "\n",
      "roc_auc_score = 0.8354988399071926 \n",
      "\n",
      "TEST\n",
      "\n",
      "              precision    recall  f1-score   support\n",
      "\n",
      "           0       0.72      1.00      0.84      1077\n",
      "           1       0.00      0.00      0.00       423\n",
      "\n",
      "    accuracy                           0.72      1500\n",
      "   macro avg       0.36      0.50      0.42      1500\n",
      "weighted avg       0.52      0.72      0.60      1500\n",
      "\n",
      "roc_auc_score = 0.5 \n",
      "\n",
      "CONFUSION MATRIX\n",
      "\n",
      "col_0              0\n",
      "Credit Default      \n",
      "0               1077\n",
      "1                423\n"
     ]
    }
   ],
   "source": [
    "model_cb = catb.CatBoostClassifier(n_estimators=100,                  \n",
    "                                   learning_rate=0.5,\n",
    "                                   silent=True, random_state=21)\n",
    "model_cb.fit(X_train_ros[SELECTED_FEATURE_NAMES], y_train_ros)\n",
    "\n",
    "y_train_pred = model_cb.predict(X_train_ros[SELECTED_FEATURE_NAMES])\n",
    "y_test_pred = model_cb.predict(X_test[SELECTED_FEATURE_NAMES])\n",
    "\n",
    "cv_f1_score(model_cb)\n",
    "get_classification_report(y_train_ros, y_train_pred, y_test, y_test_pred)\n",
    "\n",
    "#F1 > 0.5\n",
    "# 0.5082457922026244"
   ]
  },
  {
   "cell_type": "markdown",
   "metadata": {},
   "source": [
    "#### RandomForestClassifier"
   ]
  },
  {
   "cell_type": "code",
   "execution_count": 44,
   "metadata": {},
   "outputs": [
    {
     "name": "stdout",
     "output_type": "stream",
     "text": [
      "cross_validation_f1_score_test = 0.5039557188291318\n",
      "\n",
      "TRAIN\n",
      "\n",
      "              precision    recall  f1-score   support\n",
      "\n",
      "           0       0.71      0.59      0.65      4310\n",
      "           1       0.65      0.76      0.70      4310\n",
      "\n",
      "    accuracy                           0.68      8620\n",
      "   macro avg       0.68      0.68      0.67      8620\n",
      "weighted avg       0.68      0.68      0.67      8620\n",
      "\n",
      "roc_auc_score = 0.6764501160092808 \n",
      "\n",
      "TEST\n",
      "\n",
      "              precision    recall  f1-score   support\n",
      "\n",
      "           0       0.72      1.00      0.84      1077\n",
      "           1       0.00      0.00      0.00       423\n",
      "\n",
      "    accuracy                           0.72      1500\n",
      "   macro avg       0.36      0.50      0.42      1500\n",
      "weighted avg       0.52      0.72      0.60      1500\n",
      "\n",
      "roc_auc_score = 0.5 \n",
      "\n",
      "CONFUSION MATRIX\n",
      "\n",
      "col_0              0\n",
      "Credit Default      \n",
      "0               1077\n",
      "1                423\n"
     ]
    }
   ],
   "source": [
    "model_rf = RandomForestClassifier(n_estimators=200,  \n",
    "                                  max_depth=6,                                  \n",
    "                                  min_samples_leaf=3,\n",
    "                                  random_state=42)\n",
    "\n",
    "model_rf.fit(X_train_ros[SELECTED_FEATURE_NAMES].fillna(0), y_train_ros)\n",
    "\n",
    "y_train_pred = model_rf.predict(X_train_ros[SELECTED_FEATURE_NAMES].fillna(0))\n",
    "y_test_pred = model_rf.predict(X_test[SELECTED_FEATURE_NAMES].fillna(0))\n",
    "\n",
    "cv_f1_score(model_rf)\n",
    "get_classification_report(y_train_ros, y_train_pred, y_test, y_test_pred)\n",
    "\n",
    "# 0.5446845116168115"
   ]
  },
  {
   "cell_type": "markdown",
   "metadata": {},
   "source": [
    "#### AdaBoostClassifier"
   ]
  },
  {
   "cell_type": "code",
   "execution_count": 45,
   "metadata": {},
   "outputs": [
    {
     "name": "stdout",
     "output_type": "stream",
     "text": [
      "cross_validation_f1_score_test = 0.5072691327035382\n",
      "\n",
      "TRAIN\n",
      "\n",
      "              precision    recall  f1-score   support\n",
      "\n",
      "           0       0.68      0.57      0.62      4310\n",
      "           1       0.63      0.73      0.68      4310\n",
      "\n",
      "    accuracy                           0.65      8620\n",
      "   macro avg       0.65      0.65      0.65      8620\n",
      "weighted avg       0.65      0.65      0.65      8620\n",
      "\n",
      "roc_auc_score = 0.6498839907192575 \n",
      "\n",
      "TEST\n",
      "\n",
      "              precision    recall  f1-score   support\n",
      "\n",
      "           0       0.72      1.00      0.84      1077\n",
      "           1       0.00      0.00      0.00       423\n",
      "\n",
      "    accuracy                           0.72      1500\n",
      "   macro avg       0.36      0.50      0.42      1500\n",
      "weighted avg       0.52      0.72      0.60      1500\n",
      "\n",
      "roc_auc_score = 0.5 \n",
      "\n",
      "CONFUSION MATRIX\n",
      "\n",
      "col_0              0\n",
      "Credit Default      \n",
      "0               1077\n",
      "1                423\n"
     ]
    }
   ],
   "source": [
    "model_ab = AdaBoostClassifier(n_estimators=80, \n",
    "                              learning_rate = 0.65,\n",
    "                           random_state=42)\n",
    "model_ab.fit(X_train_ros[SELECTED_FEATURE_NAMES], y_train_ros)\n",
    "\n",
    "y_train_pred = model_ab.predict(X_train_ros[SELECTED_FEATURE_NAMES])\n",
    "y_test_pred = model_ab.predict(X_test[SELECTED_FEATURE_NAMES])\n",
    "\n",
    "cv_f1_score(model_ab)\n",
    "get_classification_report(y_train_ros, y_train_pred, y_test, y_test_pred)\n",
    "\n",
    "# 0.5447539559328145"
   ]
  },
  {
   "cell_type": "markdown",
   "metadata": {},
   "source": [
    "#### VotingClassifier"
   ]
  },
  {
   "cell_type": "code",
   "execution_count": 46,
   "metadata": {},
   "outputs": [
    {
     "name": "stdout",
     "output_type": "stream",
     "text": [
      "cross_validation_f1_score_test = 0.46406406157073565\n",
      "\n",
      "TRAIN\n",
      "\n",
      "              precision    recall  f1-score   support\n",
      "\n",
      "           0       0.85      0.76      0.80      4310\n",
      "           1       0.78      0.86      0.82      4310\n",
      "\n",
      "    accuracy                           0.81      8620\n",
      "   macro avg       0.82      0.81      0.81      8620\n",
      "weighted avg       0.82      0.81      0.81      8620\n",
      "\n",
      "roc_auc_score = 0.8129930394431555 \n",
      "\n",
      "TEST\n",
      "\n",
      "              precision    recall  f1-score   support\n",
      "\n",
      "           0       0.72      1.00      0.84      1077\n",
      "           1       0.00      0.00      0.00       423\n",
      "\n",
      "    accuracy                           0.72      1500\n",
      "   macro avg       0.36      0.50      0.42      1500\n",
      "weighted avg       0.52      0.72      0.60      1500\n",
      "\n",
      "roc_auc_score = 0.5 \n",
      "\n",
      "CONFUSION MATRIX\n",
      "\n",
      "col_0              0\n",
      "Credit Default      \n",
      "0               1077\n",
      "1                423\n"
     ]
    }
   ],
   "source": [
    "model = VotingClassifier(estimators=[('cb', model_cb), ('rf', model_rf), ('ab', model_ab)],\n",
    "                          voting='soft') \n",
    "model = model.fit(X_train_ros[SELECTED_FEATURE_NAMES], y_train_ros)\n",
    "\n",
    "y_train_pred = model.predict(X_train_ros[SELECTED_FEATURE_NAMES])\n",
    "y_test_pred = model.predict(X_test[SELECTED_FEATURE_NAMES])\n",
    "\n",
    "cv_f1_score(model)\n",
    "get_classification_report(y_train_ros, y_train_pred, y_test, y_test_pred)\n",
    "\n",
    "# 0.5209547326633885"
   ]
  },
  {
   "cell_type": "markdown",
   "metadata": {},
   "source": [
    "### 9. Интерпретация результатов"
   ]
  },
  {
   "cell_type": "markdown",
   "metadata": {},
   "source": [
    "* Наиболее значимыми признаками являются 'Credit Score_', 'Current Loan Amount_', Maximum Open Credit_'.\n",
    "* Менее значимые признаки модели оценивают более-менее одинаково: 'Bankruptcies_', 'Number of Credit Problems_', \n",
    "* VotingClassifier объединяет результаты трех моделей (CatBoostClassifier, RandomForestClassifier, AdaBoostClassifier) но не всегда генерирует лучший результат."
   ]
  },
  {
   "cell_type": "markdown",
   "metadata": {},
   "source": [
    "#### ExtraTreesClassifier"
   ]
  },
  {
   "cell_type": "code",
   "execution_count": 47,
   "metadata": {},
   "outputs": [
    {
     "name": "stdout",
     "output_type": "stream",
     "text": [
      "Feature ranking:\n",
      "1. feature 7 (0.181423)\n",
      "2. feature 3 (0.112145)\n",
      "3. feature 11 (0.111134)\n",
      "4. feature 0 (0.102176)\n",
      "5. feature 2 (0.082328)\n",
      "6. feature 1 (0.080747)\n",
      "7. feature 5 (0.068672)\n",
      "8. feature 9 (0.067536)\n",
      "9. feature 8 (0.046822)\n",
      "10. feature 12 (0.041399)\n",
      "11. feature 13 (0.038062)\n",
      "12. feature 10 (0.037881)\n",
      "13. feature 4 (0.016820)\n",
      "14. feature 6 (0.012853)\n"
     ]
    },
    {
     "data": {
      "image/png": "[encoded data removed]",
      "text/plain": [
       "<Figure size 432x288 with 1 Axes>"
      ]
     },
     "metadata": {
      "needs_background": "light"
     },
     "output_type": "display_data"
    }
   ],
   "source": [
    "X = X.fillna(0)\n",
    "forest = ExtraTreesClassifier(n_estimators=250,\n",
    "                              random_state=0)\n",
    "\n",
    "forest.fit(X_train_ros[SELECTED_FEATURE_NAMES], y_train_ros)\n",
    "importances = forest.feature_importances_\n",
    "std = np.std([tree.feature_importances_ for tree in forest.estimators_],\n",
    "             axis=0)\n",
    "indices = np.argsort(importances)[::-1]\n",
    "\n",
    "# Print the feature ranking\n",
    "print(\"Feature ranking:\")\n",
    "\n",
    "f_list = []\n",
    "for f in range(X_train_ros[SELECTED_FEATURE_NAMES].shape[1]):\n",
    "    f_list.append(indices[f])\n",
    "    print(\"%d. feature %d (%f)\" % (f + 1, indices[f], importances[indices[f]]))\n",
    "\n",
    "# Plot the impurity-based feature importances of the forest\n",
    "plt.figure()\n",
    "plt.title(\"Feature importances\")\n",
    "plt.bar(range(X_train_ros[SELECTED_FEATURE_NAMES].shape[1]), importances[indices],\n",
    "        color=\"r\", yerr=std[indices], align=\"center\")\n",
    "plt.xticks(range(X.shape[1]), indices)\n",
    "plt.xlim([-1, X_train_ros[SELECTED_FEATURE_NAMES].shape[1]])\n",
    "plt.show()"
   ]
  },
  {
   "cell_type": "code",
   "execution_count": 48,
   "metadata": {},
   "outputs": [
    {
     "data": {
      "text/plain": [
       "['Current Loan Amount_',\n",
       " 'Maximum Open Credit_',\n",
       " 'Years in current job_',\n",
       " 'Annual Income_',\n",
       " 'Years of Credit History_',\n",
       " 'Number of Open Accounts_',\n",
       " 'Months since last delinquent_',\n",
       " 'Monthly Debt_',\n",
       " 'Current Credit Balance_',\n",
       " 'Purpose_',\n",
       " 'Term_',\n",
       " 'Home Ownership_',\n",
       " 'Number of Credit Problems_',\n",
       " 'Bankruptcies_']"
      ]
     },
     "execution_count": 48,
     "metadata": {},
     "output_type": "execute_result"
    }
   ],
   "source": [
    "list(X_train_ros[SELECTED_FEATURE_NAMES].columns[f_list])"
   ]
  },
  {
   "cell_type": "markdown",
   "metadata": {},
   "source": [
    "#### CatBoostClassifier"
   ]
  },
  {
   "cell_type": "code",
   "execution_count": 49,
   "metadata": {},
   "outputs": [
    {
     "data": {
      "text/html": [
       "<div>\n",
       "<style scoped>\n",
       "    .dataframe tbody tr th:only-of-type {\n",
       "        vertical-align: middle;\n",
       "    }\n",
       "\n",
       "    .dataframe tbody tr th {\n",
       "        vertical-align: top;\n",
       "    }\n",
       "\n",
       "    .dataframe thead th {\n",
       "        text-align: right;\n",
       "    }\n",
       "</style>\n",
       "<table border=\"1\" class=\"dataframe\">\n",
       "  <thead>\n",
       "    <tr style=\"text-align: right;\">\n",
       "      <th></th>\n",
       "      <th>feature_name</th>\n",
       "      <th>importance</th>\n",
       "    </tr>\n",
       "  </thead>\n",
       "  <tbody>\n",
       "    <tr>\n",
       "      <th>7</th>\n",
       "      <td>Current Loan Amount_</td>\n",
       "      <td>0.183774</td>\n",
       "    </tr>\n",
       "    <tr>\n",
       "      <th>3</th>\n",
       "      <td>Maximum Open Credit_</td>\n",
       "      <td>0.115567</td>\n",
       "    </tr>\n",
       "    <tr>\n",
       "      <th>0</th>\n",
       "      <td>Annual Income_</td>\n",
       "      <td>0.111494</td>\n",
       "    </tr>\n",
       "    <tr>\n",
       "      <th>11</th>\n",
       "      <td>Years in current job_</td>\n",
       "      <td>0.085898</td>\n",
       "    </tr>\n",
       "    <tr>\n",
       "      <th>1</th>\n",
       "      <td>Number of Open Accounts_</td>\n",
       "      <td>0.078045</td>\n",
       "    </tr>\n",
       "    <tr>\n",
       "      <th>10</th>\n",
       "      <td>Home Ownership_</td>\n",
       "      <td>0.066302</td>\n",
       "    </tr>\n",
       "    <tr>\n",
       "      <th>2</th>\n",
       "      <td>Years of Credit History_</td>\n",
       "      <td>0.065946</td>\n",
       "    </tr>\n",
       "    <tr>\n",
       "      <th>9</th>\n",
       "      <td>Monthly Debt_</td>\n",
       "      <td>0.060449</td>\n",
       "    </tr>\n",
       "    <tr>\n",
       "      <th>13</th>\n",
       "      <td>Term_</td>\n",
       "      <td>0.058251</td>\n",
       "    </tr>\n",
       "    <tr>\n",
       "      <th>5</th>\n",
       "      <td>Months since last delinquent_</td>\n",
       "      <td>0.054097</td>\n",
       "    </tr>\n",
       "    <tr>\n",
       "      <th>8</th>\n",
       "      <td>Current Credit Balance_</td>\n",
       "      <td>0.045629</td>\n",
       "    </tr>\n",
       "    <tr>\n",
       "      <th>12</th>\n",
       "      <td>Purpose_</td>\n",
       "      <td>0.042808</td>\n",
       "    </tr>\n",
       "    <tr>\n",
       "      <th>4</th>\n",
       "      <td>Number of Credit Problems_</td>\n",
       "      <td>0.017055</td>\n",
       "    </tr>\n",
       "    <tr>\n",
       "      <th>6</th>\n",
       "      <td>Bankruptcies_</td>\n",
       "      <td>0.014684</td>\n",
       "    </tr>\n",
       "  </tbody>\n",
       "</table>\n",
       "</div>"
      ],
      "text/plain": [
       "                     feature_name  importance\n",
       "7            Current Loan Amount_    0.183774\n",
       "3            Maximum Open Credit_    0.115567\n",
       "0                  Annual Income_    0.111494\n",
       "11          Years in current job_    0.085898\n",
       "1        Number of Open Accounts_    0.078045\n",
       "10                Home Ownership_    0.066302\n",
       "2        Years of Credit History_    0.065946\n",
       "9                   Monthly Debt_    0.060449\n",
       "13                          Term_    0.058251\n",
       "5   Months since last delinquent_    0.054097\n",
       "8         Current Credit Balance_    0.045629\n",
       "12                       Purpose_    0.042808\n",
       "4      Number of Credit Problems_    0.017055\n",
       "6                   Bankruptcies_    0.014684"
      ]
     },
     "execution_count": 49,
     "metadata": {},
     "output_type": "execute_result"
    }
   ],
   "source": [
    "feature_importances = pd.DataFrame(zip(X_train_ros[SELECTED_FEATURE_NAMES].columns,\n",
    "                                       model_cb.feature_importances_ / model_cb.feature_importances_.sum()), \n",
    "                                   columns=['feature_name', 'importance'])\n",
    "\n",
    "feature_importances.sort_values(by='importance', ascending=False, inplace=True)\n",
    "feature_importances"
   ]
  },
  {
   "cell_type": "code",
   "execution_count": 50,
   "metadata": {},
   "outputs": [
    {
     "data": {
      "image/png": "[encoded data removed]",
      "text/plain": [
       "<Figure size 1440x432 with 1 Axes>"
      ]
     },
     "metadata": {
      "needs_background": "light"
     },
     "output_type": "display_data"
    }
   ],
   "source": [
    "def plot_feature_importances(importances, X):\n",
    "    \n",
    "    indices = np.argsort(importances)[::-1]\n",
    "\n",
    "    plt.figure(figsize = (20, 6))\n",
    "    plt.title(\"Feature importances\", fontsize=16)\n",
    "    plt.bar(range(X.shape[1]), importances[indices] / importances.sum(),\n",
    "           color=\"darkblue\", align=\"center\")\n",
    "    plt.xticks(range(X.shape[1]), X.columns[indices], rotation = 90, fontsize=14)\n",
    "    plt.xlim([-1, X.shape[1]])\n",
    "\n",
    "    plt.tight_layout()\n",
    "    # plt.savefig('fe.jpg')\n",
    "    plt.show()\n",
    "    \n",
    "plot_feature_importances(importances = model_cb.feature_importances_, X=X_train_ros[SELECTED_FEATURE_NAMES])"
   ]
  },
  {
   "cell_type": "markdown",
   "metadata": {},
   "source": [
    "## Прогнозирование на тестовом датасете"
   ]
  },
  {
   "cell_type": "markdown",
   "metadata": {},
   "source": [
    "#### Балансировка классов"
   ]
  },
  {
   "cell_type": "code",
   "execution_count": 51,
   "metadata": {},
   "outputs": [
    {
     "name": "stdout",
     "output_type": "stream",
     "text": [
      "Original dataset shape Counter({0: 5387, 1: 2113})\n",
      "Resample dataset shape Counter({0: 5387, 1: 5387})\n"
     ]
    }
   ],
   "source": [
    "ros = RandomOverSampler(random_state=42)\n",
    "X_ros, y_ros = ros.fit_resample(X, y)\n",
    "\n",
    "print('Original dataset shape', Counter(y))\n",
    "print('Resample dataset shape', Counter(y_ros))"
   ]
  },
  {
   "cell_type": "code",
   "execution_count": 52,
   "metadata": {},
   "outputs": [],
   "source": [
    "features = FeatureGenerator(bin_split_numeric, bin_split_categorical)\n",
    "features.fit(X_ros, y_ros)\n",
    "X_ros = features.transform(X_ros)\n",
    "X_final = features.transform(X_final)"
   ]
  },
  {
   "cell_type": "markdown",
   "metadata": {},
   "source": [
    "#### Обучение модели на полном наборе данных"
   ]
  },
  {
   "cell_type": "code",
   "execution_count": 53,
   "metadata": {},
   "outputs": [],
   "source": [
    "model = model.fit(X_ros[SELECTED_FEATURE_NAMES].fillna(0), y_ros)"
   ]
  },
  {
   "cell_type": "markdown",
   "metadata": {},
   "source": [
    "#### Прогнозирование целевой переменной"
   ]
  },
  {
   "cell_type": "code",
   "execution_count": 54,
   "metadata": {},
   "outputs": [
    {
     "data": {
      "text/html": [
       "<div>\n",
       "<style scoped>\n",
       "    .dataframe tbody tr th:only-of-type {\n",
       "        vertical-align: middle;\n",
       "    }\n",
       "\n",
       "    .dataframe tbody tr th {\n",
       "        vertical-align: top;\n",
       "    }\n",
       "\n",
       "    .dataframe thead th {\n",
       "        text-align: right;\n",
       "    }\n",
       "</style>\n",
       "<table border=\"1\" class=\"dataframe\">\n",
       "  <thead>\n",
       "    <tr style=\"text-align: right;\">\n",
       "      <th></th>\n",
       "      <th>Credit Default</th>\n",
       "    </tr>\n",
       "  </thead>\n",
       "  <tbody>\n",
       "    <tr>\n",
       "      <th>0</th>\n",
       "      <td>1</td>\n",
       "    </tr>\n",
       "    <tr>\n",
       "      <th>1</th>\n",
       "      <td>1</td>\n",
       "    </tr>\n",
       "    <tr>\n",
       "      <th>2</th>\n",
       "      <td>1</td>\n",
       "    </tr>\n",
       "    <tr>\n",
       "      <th>3</th>\n",
       "      <td>0</td>\n",
       "    </tr>\n",
       "    <tr>\n",
       "      <th>4</th>\n",
       "      <td>0</td>\n",
       "    </tr>\n",
       "  </tbody>\n",
       "</table>\n",
       "</div>"
      ],
      "text/plain": [
       "   Credit Default\n",
       "0               1\n",
       "1               1\n",
       "2               1\n",
       "3               0\n",
       "4               0"
      ]
     },
     "execution_count": 54,
     "metadata": {},
     "output_type": "execute_result"
    }
   ],
   "source": [
    "y_pred = model.predict(X_final[SELECTED_FEATURE_NAMES].fillna(0))\n",
    "y_final=pd.DataFrame(y_pred, columns=[TARGET_NAME])\n",
    "y_final.to_csv(PATH + 'YKutovaya_predictions.csv')\n",
    "y_final.head()"
   ]
  }
 ],
 "metadata": {
  "kernelspec": {
   "display_name": "Python 3",
   "language": "python",
   "name": "python3"
  },
  "language_info": {
   "codemirror_mode": {
    "name": "ipython",
    "version": 3
   },
   "file_extension": ".py",
   "mimetype": "text/x-python",
   "name": "python",
   "nbconvert_exporter": "python",
   "pygments_lexer": "ipython3",
   "version": "3.8.2"
  }
 },
 "nbformat": 4,
 "nbformat_minor": 4
}
