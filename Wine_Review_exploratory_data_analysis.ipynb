{
 "cells": [
  {
   "cell_type": "code",
   "execution_count": 1,
   "metadata": {},
   "outputs": [],
   "source": [
    "import numpy as np\n",
    "import pandas as pd\n",
    "import zipfile\n",
    "\n",
    "import matplotlib.pyplot as plt\n",
    "import seaborn as sns\n",
    "import pylab\n",
    "from scipy import stats\n",
    "from scipy.stats import probplot, f_oneway\n",
    "\n",
    "from sklearn.preprocessing import StandardScaler\n",
    "from sklearn.decomposition import PCA\n",
    "from sklearn.cluster import KMeans\n",
    "from sklearn.ensemble import RandomForestRegressor\n",
    "from sklearn.ensemble import VotingRegressor\n",
    "from sklearn.linear_model import LinearRegression\n",
    "\n",
    "from sklearn.metrics import r2_score\n",
    "from sklearn.model_selection import train_test_split, KFold, GridSearchCV, cross_val_score\n",
    "\n",
    "from lightgbm import LGBMRegressor\n",
    "from statsmodels.regression.linear_model import OLS\n",
    "from statsmodels.tools import add_constant\n",
    "\n",
    "import datetime\n",
    "\n",
    "import warnings\n",
    "warnings.filterwarnings('ignore')\n",
    "from pprint import pprint"
   ]
  },
  {
   "cell_type": "markdown",
   "metadata": {},
   "source": [
    "### 1. Data loading\n",
    "data source: https://www.kaggle.com/zynicide/wine-reviews?select=winemag-data_first150k.csv\n",
    "\n",
    "#### Data fields\n",
    "* id - No\n",
    "* country - The country that the wine is from\n",
    "* description - A few sentences from a sommelier describing the wine's taste, smell, look, feel, etc.\n",
    "* designation - The vineyard within the winery where the grapes that made the wine are from\n",
    "* points - The number of points WineEnthusiast rated the wine on a scale of 1-100 (though they say they only post reviews for\n",
    "* price - The cost for a bottle of the wine\n",
    "* province - The province or state that the wine is from\n",
    "* region_1 - The wine growing area in a province or state (ie Napa)\n",
    "* region_2 - Sometimes there are more specific regions specified within a wine growing area (ie Rutherford inside the Napa Valley), but this\n",
    "* variety - The type of grapes used to make the wine (ie Pinot Noir)\n",
    "* winery - The winery name"
   ]
  },
  {
   "cell_type": "code",
   "execution_count": 2,
   "metadata": {},
   "outputs": [
    {
     "data": {
      "text/html": [
       "<div>\n",
       "<style scoped>\n",
       "    .dataframe tbody tr th:only-of-type {\n",
       "        vertical-align: middle;\n",
       "    }\n",
       "\n",
       "    .dataframe tbody tr th {\n",
       "        vertical-align: top;\n",
       "    }\n",
       "\n",
       "    .dataframe thead th {\n",
       "        text-align: right;\n",
       "    }\n",
       "</style>\n",
       "<table border=\"1\" class=\"dataframe\">\n",
       "  <thead>\n",
       "    <tr style=\"text-align: right;\">\n",
       "      <th></th>\n",
       "      <th>id</th>\n",
       "      <th>country</th>\n",
       "      <th>description</th>\n",
       "      <th>designation</th>\n",
       "      <th>points</th>\n",
       "      <th>price</th>\n",
       "      <th>province</th>\n",
       "      <th>region_1</th>\n",
       "      <th>region_2</th>\n",
       "      <th>variety</th>\n",
       "      <th>winery</th>\n",
       "    </tr>\n",
       "  </thead>\n",
       "  <tbody>\n",
       "    <tr>\n",
       "      <th>0</th>\n",
       "      <td>0</td>\n",
       "      <td>US</td>\n",
       "      <td>This tremendous 100% varietal wine hails from ...</td>\n",
       "      <td>Martha's Vineyard</td>\n",
       "      <td>96</td>\n",
       "      <td>235.0</td>\n",
       "      <td>California</td>\n",
       "      <td>Napa Valley</td>\n",
       "      <td>Napa</td>\n",
       "      <td>Cabernet Sauvignon</td>\n",
       "      <td>Heitz</td>\n",
       "    </tr>\n",
       "    <tr>\n",
       "      <th>1</th>\n",
       "      <td>1</td>\n",
       "      <td>Spain</td>\n",
       "      <td>Ripe aromas of fig, blackberry and cassis are ...</td>\n",
       "      <td>Carodorum Selección Especial Reserva</td>\n",
       "      <td>96</td>\n",
       "      <td>110.0</td>\n",
       "      <td>Northern Spain</td>\n",
       "      <td>Toro</td>\n",
       "      <td>NaN</td>\n",
       "      <td>Tinta de Toro</td>\n",
       "      <td>Bodega Carmen Rodríguez</td>\n",
       "    </tr>\n",
       "  </tbody>\n",
       "</table>\n",
       "</div>"
      ],
      "text/plain": [
       "   id country                                        description  \\\n",
       "0   0      US  This tremendous 100% varietal wine hails from ...   \n",
       "1   1   Spain  Ripe aromas of fig, blackberry and cassis are ...   \n",
       "\n",
       "                            designation  points  price        province  \\\n",
       "0                     Martha's Vineyard      96  235.0      California   \n",
       "1  Carodorum Selección Especial Reserva      96  110.0  Northern Spain   \n",
       "\n",
       "      region_1 region_2             variety                   winery  \n",
       "0  Napa Valley     Napa  Cabernet Sauvignon                    Heitz  \n",
       "1         Toro      NaN       Tinta de Toro  Bodega Carmen Rodríguez  "
      ]
     },
     "execution_count": 2,
     "metadata": {},
     "output_type": "execute_result"
    }
   ],
   "source": [
    "zip_file = 'C:/Users/ASER/1442_8172_bundle_archive.zip'\n",
    "archive = zipfile.ZipFile(zip_file, 'r')\n",
    "data_file = archive.open('winemag-data_first150k.csv')\n",
    "data = pd.read_csv(data_file)\n",
    "data.columns = ['id'] + list(data.columns[1:])\n",
    "data.head(2)"
   ]
  },
  {
   "cell_type": "markdown",
   "metadata": {},
   "source": [
    "#### Data with no information on prices is removed from the dataset"
   ]
  },
  {
   "cell_type": "code",
   "execution_count": 3,
   "metadata": {},
   "outputs": [
    {
     "name": "stdout",
     "output_type": "stream",
     "text": [
      "data.shape = (137235, 11)\n"
     ]
    }
   ],
   "source": [
    "ind = data[data.price.isnull()].index\n",
    "data = data.drop(ind, axis=0)\n",
    "print(f'data.shape = {data.shape}')"
   ]
  },
  {
   "cell_type": "code",
   "execution_count": 4,
   "metadata": {},
   "outputs": [
    {
     "name": "stdout",
     "output_type": "stream",
     "text": [
      "X_train.shape = (102926, 10), y_train.shape = (102926, 1)\n",
      "X_test.shape = (34309, 10), y_test.shape = (34309, 1)\n"
     ]
    }
   ],
   "source": [
    "X = data.drop('price', axis=1)\n",
    "y = data[['price']]\n",
    "\n",
    "X_train, X_test, y_train, y_test = train_test_split(X, y, test_size=0.25, random_state=42)\n",
    "\n",
    "print(f'X_train.shape = {X_train.shape}, y_train.shape = {y_train.shape}')\n",
    "print(f'X_test.shape = {X_test.shape}, y_test.shape = {y_test.shape}')"
   ]
  },
  {
   "cell_type": "markdown",
   "metadata": {},
   "source": [
    "### 2. Exploratory Data Analysis\n",
    "\n",
    "### 2.1 Target variable distribution"
   ]
  },
  {
   "cell_type": "code",
   "execution_count": 5,
   "metadata": {},
   "outputs": [
    {
     "data": {
      "text/plain": [
       "count    102926.000000\n",
       "mean         33.220003\n",
       "std          36.966944\n",
       "min           4.000000\n",
       "25%          16.000000\n",
       "50%          24.000000\n",
       "75%          40.000000\n",
       "max        2300.000000\n",
       "Name: price, dtype: float64"
      ]
     },
     "execution_count": 5,
     "metadata": {},
     "output_type": "execute_result"
    }
   ],
   "source": [
    "y_train.price.describe()"
   ]
  },
  {
   "cell_type": "code",
   "execution_count": 6,
   "metadata": {},
   "outputs": [
    {
     "name": "stdout",
     "output_type": "stream",
     "text": [
      "Mimimum price of the dataset is 4.0, maximum price - 2300.0\n",
      "Price range = 2296.0\n",
      "Median price = 24.0, mean = 33.2\n",
      "Prices of 75% of the dataset are below 40.0\n",
      "Interquartile range = 24.0\n",
      "Ourlier prices starts from 76.0, fraction of outliers in the dataset = 0.056\n"
     ]
    }
   ],
   "source": [
    "n_zero_price = len(y_train[y_train.price.isnull()])\n",
    "range_= y_train.price.describe()[-1] - y_train.price.describe()[3]\n",
    "qtr_1 = y_train.price.describe()[4]\n",
    "qtr_3 = y_train.price.describe()[-2]\n",
    "IQR = qtr_3 - qtr_1\n",
    "outliers = qtr_3 + 1.5 * IQR\n",
    "outliers_set = y_train[y_train.price > outliers]\n",
    "outliers_frac = round(len(outliers_set) / len(y_train), 3)\n",
    "\n",
    "\n",
    "print(f'Mimimum price of the dataset is {y_train.price.describe()[3]}, maximum price - {y_train.price.describe()[-1]}')\n",
    "print('Price range =', range_)\n",
    "print(f'Median price = {y_train.price.describe()[5]}, mean = {round(y_train.price.describe()[1], 1)}')\n",
    "print(f'Prices of 75% of the dataset are below {y_train.price.describe()[-2]}')\n",
    "print(f'Interquartile range = {IQR}')\n",
    "print(f'Ourlier prices starts from {outliers}, fraction of outliers in the dataset = {outliers_frac}')"
   ]
  },
  {
   "cell_type": "code",
   "execution_count": 7,
   "metadata": {},
   "outputs": [
    {
     "data": {
      "image/png": "[encoded data removed]",
      "text/plain": [
       "<Figure size 1152x576 with 2 Axes>"
      ]
     },
     "metadata": {
      "needs_background": "light"
     },
     "output_type": "display_data"
    }
   ],
   "source": [
    "plt.figure(figsize = (16, 8))\n",
    "\n",
    "plt.subplot(121)\n",
    "y_train.price.hist(density=True)  # density=True  # shift + Tab = спарвка по функции\n",
    "plt.ylabel('count')\n",
    "plt.xlabel('Price')\n",
    "\n",
    "plt.subplot(122)\n",
    "sns.kdeplot(y_train.price, shade=True, legend=False)\n",
    "plt.xlabel('Price')\n",
    "\n",
    "plt.suptitle('Distribution of price')\n",
    "plt.show()"
   ]
  },
  {
   "cell_type": "code",
   "execution_count": 8,
   "metadata": {},
   "outputs": [
    {
     "data": {
      "image/png": "[encoded data removed]",
      "text/plain": [
       "<Figure size 1152x576 with 2 Axes>"
      ]
     },
     "metadata": {
      "needs_background": "light"
     },
     "output_type": "display_data"
    }
   ],
   "source": [
    "plt.figure(figsize = (16, 8))\n",
    "\n",
    "plt.subplot(121)\n",
    "np.log(y_train.price).hist(density=True)  # density=True  # shift + Tab = спарвка по функции\n",
    "plt.ylabel('count')\n",
    "plt.xlabel('Price')\n",
    "\n",
    "plt.subplot(122)\n",
    "sns.kdeplot(np.log(y_train.price), shade=True, legend=False)\n",
    "plt.xlabel('Price')\n",
    "\n",
    "plt.suptitle('Distribution of log(price)')\n",
    "plt.show()"
   ]
  },
  {
   "cell_type": "markdown",
   "metadata": {},
   "source": [
    "#### Q-Q plot for log(price)"
   ]
  },
  {
   "cell_type": "code",
   "execution_count": 9,
   "metadata": {},
   "outputs": [
    {
     "data": {
      "image/png": "[encoded data removed]",
      "text/plain": [
       "<Figure size 432x288 with 1 Axes>"
      ]
     },
     "metadata": {
      "needs_background": "light"
     },
     "output_type": "display_data"
    }
   ],
   "source": [
    "probplot(np.log(y_train.price), dist=\"norm\", plot=pylab)\n",
    "pylab.show()"
   ]
  },
  {
   "cell_type": "markdown",
   "metadata": {},
   "source": [
    "#### Normal distribution test for np.log(y_train.price)"
   ]
  },
  {
   "cell_type": "code",
   "execution_count": 10,
   "metadata": {},
   "outputs": [
    {
     "name": "stdout",
     "output_type": "stream",
     "text": [
      "1 sigma(s)\n",
      "\ttheoretical:\t0.6826894921370859\n",
      "\tlog(price):\t0.6651963546625731\n",
      "2 sigma(s)\n",
      "\ttheoretical:\t0.9544997361036416\n",
      "\tlog(price):\t0.9654703379126751\n",
      "3 sigma(s)\n",
      "\ttheoretical:\t0.9973002039367398\n",
      "\tlog(price):\t0.9930824087208285\n"
     ]
    }
   ],
   "source": [
    "loc = np.log(y_train.price).mean()\n",
    "scale = np.log(y_train.price).std()\n",
    "\n",
    "for i in range(1, 4):\n",
    "    true_value = stats.norm.cdf(i) - stats.norm.cdf(-i)\n",
    "    sample_value = ((np.log(y_train.price) >= loc - i * scale) \\\n",
    "                    & (np.log(y_train.price) <= loc + i * scale)).sum() / y_train.shape[0]\n",
    "        \n",
    "    print(f'{i} sigma(s)')\n",
    "    print(f'\\ttheoretical:\\t{true_value}')\n",
    "    print(f'\\tlog(price):\\t{sample_value}')"
   ]
  },
  {
   "cell_type": "markdown",
   "metadata": {},
   "source": [
    "### 2.2 Feature analysis"
   ]
  },
  {
   "cell_type": "code",
   "execution_count": 11,
   "metadata": {},
   "outputs": [
    {
     "data": {
      "text/plain": [
       "id              int64\n",
       "country        object\n",
       "description    object\n",
       "designation    object\n",
       "points          int64\n",
       "province       object\n",
       "region_1       object\n",
       "region_2       object\n",
       "variety        object\n",
       "winery         object\n",
       "dtype: object"
      ]
     },
     "execution_count": 11,
     "metadata": {},
     "output_type": "execute_result"
    }
   ],
   "source": [
    "X_train.dtypes"
   ]
  },
  {
   "cell_type": "markdown",
   "metadata": {},
   "source": [
    "### A. Numerical variables"
   ]
  },
  {
   "cell_type": "markdown",
   "metadata": {},
   "source": [
    "#### 2.2.1 Points"
   ]
  },
  {
   "cell_type": "code",
   "execution_count": 12,
   "metadata": {},
   "outputs": [
    {
     "data": {
      "text/plain": [
       "count    102926.000000\n",
       "mean         87.789567\n",
       "std           3.224489\n",
       "min          80.000000\n",
       "25%          86.000000\n",
       "50%          88.000000\n",
       "75%          90.000000\n",
       "max         100.000000\n",
       "Name: points, dtype: float64"
      ]
     },
     "execution_count": 12,
     "metadata": {},
     "output_type": "execute_result"
    }
   ],
   "source": [
    "X_train.points.describe()"
   ]
  },
  {
   "cell_type": "code",
   "execution_count": 13,
   "metadata": {},
   "outputs": [
    {
     "name": "stdout",
     "output_type": "stream",
     "text": [
      "No of cases with no points specified: 0\n"
     ]
    },
    {
     "data": {
      "image/png": "[encoded data removed]",
      "text/plain": [
       "<Figure size 288x288 with 1 Axes>"
      ]
     },
     "metadata": {
      "needs_background": "light"
     },
     "output_type": "display_data"
    }
   ],
   "source": [
    "print('No of cases with no points specified:', len(X_train[X_train.points.isnull()]))\n",
    "X_train.loc[:, 'points'].hist(figsize=(4,4), bins=20, grid=False);"
   ]
  },
  {
   "cell_type": "markdown",
   "metadata": {},
   "source": [
    "#### Q-Q plot for X_train.points"
   ]
  },
  {
   "cell_type": "code",
   "execution_count": 14,
   "metadata": {},
   "outputs": [
    {
     "data": {
      "image/png": "[encoded data removed]",
      "text/plain": [
       "<Figure size 432x288 with 1 Axes>"
      ]
     },
     "metadata": {
      "needs_background": "light"
     },
     "output_type": "display_data"
    }
   ],
   "source": [
    "probplot(X_train.points, dist=\"norm\", plot=pylab)\n",
    "pylab.show()"
   ]
  },
  {
   "cell_type": "markdown",
   "metadata": {},
   "source": [
    "#### Correlation of points with log(price)"
   ]
  },
  {
   "cell_type": "code",
   "execution_count": 15,
   "metadata": {},
   "outputs": [
    {
     "name": "stdout",
     "output_type": "stream",
     "text": [
      "Correlation between points and log(price) = 0.611\n"
     ]
    }
   ],
   "source": [
    "corr = np.corrcoef(X_train.points, np.log(y_train.price))[0][1]\n",
    "print('Correlation between points and log(price) =', round(corr, 3))"
   ]
  },
  {
   "cell_type": "markdown",
   "metadata": {},
   "source": [
    "#### Joint plot of points and log(price)"
   ]
  },
  {
   "cell_type": "code",
   "execution_count": 16,
   "metadata": {},
   "outputs": [
    {
     "data": {
      "image/png": "[encoded data removed]",
      "text/plain": [
       "<Figure size 576x576 with 3 Axes>"
      ]
     },
     "metadata": {
      "needs_background": "light"
     },
     "output_type": "display_data"
    }
   ],
   "source": [
    "grid = sns.jointplot(X_train.points, np.log(y_train.price), kind='reg')\n",
    "grid.fig.set_figwidth(8)\n",
    "grid.fig.set_figheight(8)\n",
    "plt.show()"
   ]
  },
  {
   "cell_type": "markdown",
   "metadata": {},
   "source": [
    "### B. Categorical variables"
   ]
  },
  {
   "cell_type": "code",
   "execution_count": 17,
   "metadata": {},
   "outputs": [],
   "source": [
    "def ANOVA(categorical_var):\n",
    "    group_list = X_train[categorical_var].value_counts()\n",
    "    n_min = 25\n",
    "    a = [i for i in dict(group_list[group_list > n_min]).keys()]\n",
    "    df = {}\n",
    "    df1 = {}\n",
    "    for i in a:\n",
    "        group_price_list = y_train[X_train[categorical_var] == i].price.values\n",
    "        group_mean_price = y_train[X_train[categorical_var] == i].price.mean()\n",
    "        group_observations_n = len(y_train[X_train[categorical_var] == i])\n",
    "\n",
    "        df[i] = group_mean_price, group_observations_n\n",
    "        df1[i] = group_price_list, group_mean_price\n",
    "\n",
    "    y_all_groups = []\n",
    "    for item in df1.values():\n",
    "        y_all_groups = np.concatenate([y_all_groups, item[0]])\n",
    "    y_mean = y_all_groups.mean()\n",
    "\n",
    "    SS_b = 0\n",
    "    n_all_groups = 0\n",
    "    for group_mean, n in df.values():\n",
    "        SS_b += n * (group_mean - y_mean) ** 2\n",
    "        n_all_groups += n\n",
    "\n",
    "    SS_w = 0\n",
    "    for group_values, group_mean in df1.values():\n",
    "        SS_w += ((group_values - group_mean) **2 ).sum()\n",
    "\n",
    "    k = len(df)\n",
    "    k1 = k - 1\n",
    "    k2 = n_all_groups - k\n",
    "\n",
    "    sigma2_b = SS_b / k1\n",
    "    sigma2_w = SS_w / k2\n",
    "\n",
    "    F = sigma2_b / sigma2_w\n",
    "\n",
    "    alpha = 0.05\n",
    "    t = stats.f.ppf(1 - alpha, k1, k2)\n",
    "    \n",
    "    text_adj = dict({'country': 'countries', 'designation': 'designations', \n",
    "                     'province': 'provinces', 'region_1': 'regions in region_1', \n",
    "                     'region_2': 'regions in region_2',\n",
    "                     'variety': 'varieties', 'winery': 'wineries'})\n",
    "    \n",
    "    print(f'nummber of {text_adj[categorical_var]} = {X_train[categorical_var].nunique()}')\n",
    "    print(f'number of cases with no {categorical_var} specified: {len(X_train[X_train[categorical_var].isnull()])}')\n",
    "    print(f'number of {text_adj[categorical_var]} with more than {n_min} observations = {len(df)}')\n",
    "    print(f\"F-test statistic = {round(F, 3)},  Student's t statistic = {round(t,3)}\")\n",
    "    \n",
    "    if F > t:\n",
    "        print(f'Variance of mean prices by {categorical_var} is statistically significant')\n",
    "    else:\n",
    "        print(f'Variance of mean prices by {categorical_var} is statistically insignificant')\n",
    "    \n",
    "    df = pd.DataFrame(df).T\n",
    "    df.columns = ['mean_price', 'n_observations']\n",
    "    df = df.sort_values(by=['mean_price'], ascending=False)\n",
    "    \n",
    "    return df"
   ]
  },
  {
   "cell_type": "markdown",
   "metadata": {},
   "source": [
    "#### 2.2.2 Countries"
   ]
  },
  {
   "cell_type": "code",
   "execution_count": 18,
   "metadata": {},
   "outputs": [
    {
     "name": "stdout",
     "output_type": "stream",
     "text": [
      "nummber of countries = 45\n",
      "number of cases with no country specified: 5\n",
      "number of countries with more than 25 observations = 27\n",
      "F-test statistic = 136.54,  Student's t statistic = 1.496\n",
      "Variance of mean prices by country is statistically significant\n"
     ]
    }
   ],
   "source": [
    "df = ANOVA('country')"
   ]
  },
  {
   "cell_type": "markdown",
   "metadata": {},
   "source": [
    "#### Mean prices and number of observations by country"
   ]
  },
  {
   "cell_type": "code",
   "execution_count": 19,
   "metadata": {},
   "outputs": [
    {
     "data": {
      "text/html": [
       "<div>\n",
       "<style scoped>\n",
       "    .dataframe tbody tr th:only-of-type {\n",
       "        vertical-align: middle;\n",
       "    }\n",
       "\n",
       "    .dataframe tbody tr th {\n",
       "        vertical-align: top;\n",
       "    }\n",
       "\n",
       "    .dataframe thead th {\n",
       "        text-align: right;\n",
       "    }\n",
       "</style>\n",
       "<table border=\"1\" class=\"dataframe\">\n",
       "  <thead>\n",
       "    <tr style=\"text-align: right;\">\n",
       "      <th></th>\n",
       "      <th>mean_price</th>\n",
       "      <th>n_observations</th>\n",
       "    </tr>\n",
       "  </thead>\n",
       "  <tbody>\n",
       "    <tr>\n",
       "      <th>France</th>\n",
       "      <td>46.083574</td>\n",
       "      <td>11080.0</td>\n",
       "    </tr>\n",
       "    <tr>\n",
       "      <th>Hungary</th>\n",
       "      <td>42.674033</td>\n",
       "      <td>181.0</td>\n",
       "    </tr>\n",
       "    <tr>\n",
       "      <th>Germany</th>\n",
       "      <td>39.102724</td>\n",
       "      <td>1762.0</td>\n",
       "    </tr>\n",
       "    <tr>\n",
       "      <th>Italy</th>\n",
       "      <td>37.677535</td>\n",
       "      <td>13986.0</td>\n",
       "    </tr>\n",
       "    <tr>\n",
       "      <th>Canada</th>\n",
       "      <td>34.221477</td>\n",
       "      <td>149.0</td>\n",
       "    </tr>\n",
       "    <tr>\n",
       "      <th>US</th>\n",
       "      <td>33.650682</td>\n",
       "      <td>46691.0</td>\n",
       "    </tr>\n",
       "    <tr>\n",
       "      <th>Israel</th>\n",
       "      <td>31.790948</td>\n",
       "      <td>464.0</td>\n",
       "    </tr>\n",
       "    <tr>\n",
       "      <th>Austria</th>\n",
       "      <td>31.622601</td>\n",
       "      <td>1876.0</td>\n",
       "    </tr>\n",
       "    <tr>\n",
       "      <th>Australia</th>\n",
       "      <td>31.421110</td>\n",
       "      <td>3676.0</td>\n",
       "    </tr>\n",
       "    <tr>\n",
       "      <th>Mexico</th>\n",
       "      <td>31.200000</td>\n",
       "      <td>45.0</td>\n",
       "    </tr>\n",
       "  </tbody>\n",
       "</table>\n",
       "</div>"
      ],
      "text/plain": [
       "           mean_price  n_observations\n",
       "France      46.083574         11080.0\n",
       "Hungary     42.674033           181.0\n",
       "Germany     39.102724          1762.0\n",
       "Italy       37.677535         13986.0\n",
       "Canada      34.221477           149.0\n",
       "US          33.650682         46691.0\n",
       "Israel      31.790948           464.0\n",
       "Austria     31.622601          1876.0\n",
       "Australia   31.421110          3676.0\n",
       "Mexico      31.200000            45.0"
      ]
     },
     "execution_count": 19,
     "metadata": {},
     "output_type": "execute_result"
    }
   ],
   "source": [
    "df.head(10)"
   ]
  },
  {
   "cell_type": "code",
   "execution_count": 20,
   "metadata": {},
   "outputs": [
    {
     "data": {
      "text/html": [
       "<div>\n",
       "<style scoped>\n",
       "    .dataframe tbody tr th:only-of-type {\n",
       "        vertical-align: middle;\n",
       "    }\n",
       "\n",
       "    .dataframe tbody tr th {\n",
       "        vertical-align: top;\n",
       "    }\n",
       "\n",
       "    .dataframe thead th {\n",
       "        text-align: right;\n",
       "    }\n",
       "</style>\n",
       "<table border=\"1\" class=\"dataframe\">\n",
       "  <thead>\n",
       "    <tr style=\"text-align: right;\">\n",
       "      <th></th>\n",
       "      <th>mean_price</th>\n",
       "      <th>n_observations</th>\n",
       "    </tr>\n",
       "  </thead>\n",
       "  <tbody>\n",
       "    <tr>\n",
       "      <th>US</th>\n",
       "      <td>33.650682</td>\n",
       "      <td>46691.0</td>\n",
       "    </tr>\n",
       "    <tr>\n",
       "      <th>Italy</th>\n",
       "      <td>37.677535</td>\n",
       "      <td>13986.0</td>\n",
       "    </tr>\n",
       "    <tr>\n",
       "      <th>France</th>\n",
       "      <td>46.083574</td>\n",
       "      <td>11080.0</td>\n",
       "    </tr>\n",
       "    <tr>\n",
       "      <th>Spain</th>\n",
       "      <td>27.240598</td>\n",
       "      <td>6089.0</td>\n",
       "    </tr>\n",
       "    <tr>\n",
       "      <th>Chile</th>\n",
       "      <td>19.164141</td>\n",
       "      <td>4356.0</td>\n",
       "    </tr>\n",
       "    <tr>\n",
       "      <th>Argentina</th>\n",
       "      <td>20.964115</td>\n",
       "      <td>4180.0</td>\n",
       "    </tr>\n",
       "    <tr>\n",
       "      <th>Australia</th>\n",
       "      <td>31.421110</td>\n",
       "      <td>3676.0</td>\n",
       "    </tr>\n",
       "    <tr>\n",
       "      <th>Portugal</th>\n",
       "      <td>26.371938</td>\n",
       "      <td>3143.0</td>\n",
       "    </tr>\n",
       "    <tr>\n",
       "      <th>New Zealand</th>\n",
       "      <td>24.316631</td>\n",
       "      <td>2315.0</td>\n",
       "    </tr>\n",
       "    <tr>\n",
       "      <th>Austria</th>\n",
       "      <td>31.622601</td>\n",
       "      <td>1876.0</td>\n",
       "    </tr>\n",
       "  </tbody>\n",
       "</table>\n",
       "</div>"
      ],
      "text/plain": [
       "             mean_price  n_observations\n",
       "US            33.650682         46691.0\n",
       "Italy         37.677535         13986.0\n",
       "France        46.083574         11080.0\n",
       "Spain         27.240598          6089.0\n",
       "Chile         19.164141          4356.0\n",
       "Argentina     20.964115          4180.0\n",
       "Australia     31.421110          3676.0\n",
       "Portugal      26.371938          3143.0\n",
       "New Zealand   24.316631          2315.0\n",
       "Austria       31.622601          1876.0"
      ]
     },
     "execution_count": 20,
     "metadata": {},
     "output_type": "execute_result"
    }
   ],
   "source": [
    "df.sort_values(by=['n_observations'], ascending=False).head(10)"
   ]
  },
  {
   "cell_type": "markdown",
   "metadata": {},
   "source": [
    "#### 2.2.3 Designations"
   ]
  },
  {
   "cell_type": "code",
   "execution_count": 21,
   "metadata": {},
   "outputs": [
    {
     "name": "stdout",
     "output_type": "stream",
     "text": [
      "nummber of designations = 24792\n",
      "number of cases with no designation specified: 31815\n",
      "number of designations with more than 25 observations = 139\n",
      "F-test statistic = 26.91,  Student's t statistic = 1.207\n",
      "Variance of mean prices by designation is statistically significant\n"
     ]
    }
   ],
   "source": [
    "df = ANOVA('designation')"
   ]
  },
  {
   "cell_type": "code",
   "execution_count": 22,
   "metadata": {},
   "outputs": [
    {
     "data": {
      "text/html": [
       "<div>\n",
       "<style scoped>\n",
       "    .dataframe tbody tr th:only-of-type {\n",
       "        vertical-align: middle;\n",
       "    }\n",
       "\n",
       "    .dataframe tbody tr th {\n",
       "        vertical-align: top;\n",
       "    }\n",
       "\n",
       "    .dataframe thead th {\n",
       "        text-align: right;\n",
       "    }\n",
       "</style>\n",
       "<table border=\"1\" class=\"dataframe\">\n",
       "  <thead>\n",
       "    <tr style=\"text-align: right;\">\n",
       "      <th></th>\n",
       "      <th>mean_price</th>\n",
       "      <th>n_observations</th>\n",
       "    </tr>\n",
       "  </thead>\n",
       "  <tbody>\n",
       "    <tr>\n",
       "      <th>Cannubi</th>\n",
       "      <td>93.212121</td>\n",
       "      <td>33.0</td>\n",
       "    </tr>\n",
       "    <tr>\n",
       "      <th>Les Clos Grand Cru</th>\n",
       "      <td>87.076923</td>\n",
       "      <td>26.0</td>\n",
       "    </tr>\n",
       "    <tr>\n",
       "      <th>Vintage</th>\n",
       "      <td>72.805195</td>\n",
       "      <td>77.0</td>\n",
       "    </tr>\n",
       "    <tr>\n",
       "      <th>Stagecoach Vineyard</th>\n",
       "      <td>63.758065</td>\n",
       "      <td>62.0</td>\n",
       "    </tr>\n",
       "    <tr>\n",
       "      <th>Pisoni Vineyard</th>\n",
       "      <td>63.000000</td>\n",
       "      <td>26.0</td>\n",
       "    </tr>\n",
       "    <tr>\n",
       "      <th>Lewis Vineyard</th>\n",
       "      <td>59.592593</td>\n",
       "      <td>27.0</td>\n",
       "    </tr>\n",
       "    <tr>\n",
       "      <th>Blanc de Blancs Brut</th>\n",
       "      <td>57.906977</td>\n",
       "      <td>43.0</td>\n",
       "    </tr>\n",
       "    <tr>\n",
       "      <th>Premier Cru</th>\n",
       "      <td>57.114286</td>\n",
       "      <td>35.0</td>\n",
       "    </tr>\n",
       "    <tr>\n",
       "      <th>Monte Rosso Vineyard</th>\n",
       "      <td>56.192308</td>\n",
       "      <td>26.0</td>\n",
       "    </tr>\n",
       "    <tr>\n",
       "      <th>Red Wine</th>\n",
       "      <td>55.205882</td>\n",
       "      <td>68.0</td>\n",
       "    </tr>\n",
       "  </tbody>\n",
       "</table>\n",
       "</div>"
      ],
      "text/plain": [
       "                      mean_price  n_observations\n",
       "Cannubi                93.212121            33.0\n",
       "Les Clos Grand Cru     87.076923            26.0\n",
       "Vintage                72.805195            77.0\n",
       "Stagecoach Vineyard    63.758065            62.0\n",
       "Pisoni Vineyard        63.000000            26.0\n",
       "Lewis Vineyard         59.592593            27.0\n",
       "Blanc de Blancs Brut   57.906977            43.0\n",
       "Premier Cru            57.114286            35.0\n",
       "Monte Rosso Vineyard   56.192308            26.0\n",
       "Red Wine               55.205882            68.0"
      ]
     },
     "execution_count": 22,
     "metadata": {},
     "output_type": "execute_result"
    }
   ],
   "source": [
    "df.head(10)"
   ]
  },
  {
   "cell_type": "code",
   "execution_count": 23,
   "metadata": {},
   "outputs": [
    {
     "data": {
      "text/html": [
       "<div>\n",
       "<style scoped>\n",
       "    .dataframe tbody tr th:only-of-type {\n",
       "        vertical-align: middle;\n",
       "    }\n",
       "\n",
       "    .dataframe tbody tr th {\n",
       "        vertical-align: top;\n",
       "    }\n",
       "\n",
       "    .dataframe thead th {\n",
       "        text-align: right;\n",
       "    }\n",
       "</style>\n",
       "<table border=\"1\" class=\"dataframe\">\n",
       "  <thead>\n",
       "    <tr style=\"text-align: right;\">\n",
       "      <th></th>\n",
       "      <th>mean_price</th>\n",
       "      <th>n_observations</th>\n",
       "    </tr>\n",
       "  </thead>\n",
       "  <tbody>\n",
       "    <tr>\n",
       "      <th>Reserve</th>\n",
       "      <td>33.307617</td>\n",
       "      <td>2035.0</td>\n",
       "    </tr>\n",
       "    <tr>\n",
       "      <th>Reserva</th>\n",
       "      <td>18.613414</td>\n",
       "      <td>1327.0</td>\n",
       "    </tr>\n",
       "    <tr>\n",
       "      <th>Estate</th>\n",
       "      <td>32.470093</td>\n",
       "      <td>1187.0</td>\n",
       "    </tr>\n",
       "    <tr>\n",
       "      <th>Riserva</th>\n",
       "      <td>54.594037</td>\n",
       "      <td>436.0</td>\n",
       "    </tr>\n",
       "    <tr>\n",
       "      <th>Brut</th>\n",
       "      <td>30.789100</td>\n",
       "      <td>422.0</td>\n",
       "    </tr>\n",
       "    <tr>\n",
       "      <th>Crianza</th>\n",
       "      <td>17.561644</td>\n",
       "      <td>365.0</td>\n",
       "    </tr>\n",
       "    <tr>\n",
       "      <th>Estate Grown</th>\n",
       "      <td>35.105740</td>\n",
       "      <td>331.0</td>\n",
       "    </tr>\n",
       "    <tr>\n",
       "      <th>Estate Bottled</th>\n",
       "      <td>28.076412</td>\n",
       "      <td>301.0</td>\n",
       "    </tr>\n",
       "    <tr>\n",
       "      <th>Dry</th>\n",
       "      <td>16.267176</td>\n",
       "      <td>262.0</td>\n",
       "    </tr>\n",
       "    <tr>\n",
       "      <th>Old Vine</th>\n",
       "      <td>21.960474</td>\n",
       "      <td>253.0</td>\n",
       "    </tr>\n",
       "  </tbody>\n",
       "</table>\n",
       "</div>"
      ],
      "text/plain": [
       "                mean_price  n_observations\n",
       "Reserve          33.307617          2035.0\n",
       "Reserva          18.613414          1327.0\n",
       "Estate           32.470093          1187.0\n",
       "Riserva          54.594037           436.0\n",
       "Brut             30.789100           422.0\n",
       "Crianza          17.561644           365.0\n",
       "Estate Grown     35.105740           331.0\n",
       "Estate Bottled   28.076412           301.0\n",
       "Dry              16.267176           262.0\n",
       "Old Vine         21.960474           253.0"
      ]
     },
     "execution_count": 23,
     "metadata": {},
     "output_type": "execute_result"
    }
   ],
   "source": [
    "df.sort_values(by=['n_observations'], ascending=False).head(10)"
   ]
  },
  {
   "cell_type": "markdown",
   "metadata": {},
   "source": [
    "#### 2.2.4 Provinces"
   ]
  },
  {
   "cell_type": "code",
   "execution_count": 24,
   "metadata": {},
   "outputs": [
    {
     "name": "stdout",
     "output_type": "stream",
     "text": [
      "nummber of provinces = 428\n",
      "number of cases with no province specified: 5\n",
      "number of provinces with more than 25 observations = 140\n",
      "F-test statistic = 79.771,  Student's t statistic = 1.205\n",
      "Variance of mean prices by province is statistically significant\n"
     ]
    }
   ],
   "source": [
    "df = ANOVA('province')"
   ]
  },
  {
   "cell_type": "code",
   "execution_count": 25,
   "metadata": {},
   "outputs": [
    {
     "data": {
      "text/html": [
       "<div>\n",
       "<style scoped>\n",
       "    .dataframe tbody tr th:only-of-type {\n",
       "        vertical-align: middle;\n",
       "    }\n",
       "\n",
       "    .dataframe tbody tr th {\n",
       "        vertical-align: top;\n",
       "    }\n",
       "\n",
       "    .dataframe thead th {\n",
       "        text-align: right;\n",
       "    }\n",
       "</style>\n",
       "<table border=\"1\" class=\"dataframe\">\n",
       "  <thead>\n",
       "    <tr style=\"text-align: right;\">\n",
       "      <th></th>\n",
       "      <th>mean_price</th>\n",
       "      <th>n_observations</th>\n",
       "    </tr>\n",
       "  </thead>\n",
       "  <tbody>\n",
       "    <tr>\n",
       "      <th>Champagne</th>\n",
       "      <td>92.967312</td>\n",
       "      <td>826.0</td>\n",
       "    </tr>\n",
       "    <tr>\n",
       "      <th>Burgundy</th>\n",
       "      <td>71.149536</td>\n",
       "      <td>2481.0</td>\n",
       "    </tr>\n",
       "    <tr>\n",
       "      <th>Rheingau</th>\n",
       "      <td>71.011364</td>\n",
       "      <td>264.0</td>\n",
       "    </tr>\n",
       "    <tr>\n",
       "      <th>Tokaji</th>\n",
       "      <td>65.228070</td>\n",
       "      <td>57.0</td>\n",
       "    </tr>\n",
       "    <tr>\n",
       "      <th>Port</th>\n",
       "      <td>53.733471</td>\n",
       "      <td>484.0</td>\n",
       "    </tr>\n",
       "    <tr>\n",
       "      <th>Rhône Valley</th>\n",
       "      <td>50.610278</td>\n",
       "      <td>934.0</td>\n",
       "    </tr>\n",
       "    <tr>\n",
       "      <th>Tokaj</th>\n",
       "      <td>49.307692</td>\n",
       "      <td>26.0</td>\n",
       "    </tr>\n",
       "    <tr>\n",
       "      <th>Tuscany</th>\n",
       "      <td>48.447529</td>\n",
       "      <td>4431.0</td>\n",
       "    </tr>\n",
       "    <tr>\n",
       "      <th>Wachau</th>\n",
       "      <td>47.875000</td>\n",
       "      <td>256.0</td>\n",
       "    </tr>\n",
       "    <tr>\n",
       "      <th>Villány</th>\n",
       "      <td>46.292683</td>\n",
       "      <td>41.0</td>\n",
       "    </tr>\n",
       "  </tbody>\n",
       "</table>\n",
       "</div>"
      ],
      "text/plain": [
       "              mean_price  n_observations\n",
       "Champagne      92.967312           826.0\n",
       "Burgundy       71.149536          2481.0\n",
       "Rheingau       71.011364           264.0\n",
       "Tokaji         65.228070            57.0\n",
       "Port           53.733471           484.0\n",
       "Rhône Valley   50.610278           934.0\n",
       "Tokaj          49.307692            26.0\n",
       "Tuscany        48.447529          4431.0\n",
       "Wachau         47.875000           256.0\n",
       "Villány        46.292683            41.0"
      ]
     },
     "execution_count": 25,
     "metadata": {},
     "output_type": "execute_result"
    }
   ],
   "source": [
    "df.head(10)"
   ]
  },
  {
   "cell_type": "code",
   "execution_count": 26,
   "metadata": {},
   "outputs": [
    {
     "data": {
      "text/html": [
       "<div>\n",
       "<style scoped>\n",
       "    .dataframe tbody tr th:only-of-type {\n",
       "        vertical-align: middle;\n",
       "    }\n",
       "\n",
       "    .dataframe tbody tr th {\n",
       "        vertical-align: top;\n",
       "    }\n",
       "\n",
       "    .dataframe thead th {\n",
       "        text-align: right;\n",
       "    }\n",
       "</style>\n",
       "<table border=\"1\" class=\"dataframe\">\n",
       "  <thead>\n",
       "    <tr style=\"text-align: right;\">\n",
       "      <th></th>\n",
       "      <th>mean_price</th>\n",
       "      <th>n_observations</th>\n",
       "    </tr>\n",
       "  </thead>\n",
       "  <tbody>\n",
       "    <tr>\n",
       "      <th>California</th>\n",
       "      <td>35.515805</td>\n",
       "      <td>33280.0</td>\n",
       "    </tr>\n",
       "    <tr>\n",
       "      <th>Washington</th>\n",
       "      <td>29.378375</td>\n",
       "      <td>7334.0</td>\n",
       "    </tr>\n",
       "    <tr>\n",
       "      <th>Tuscany</th>\n",
       "      <td>48.447529</td>\n",
       "      <td>4431.0</td>\n",
       "    </tr>\n",
       "    <tr>\n",
       "      <th>Northern Spain</th>\n",
       "      <td>30.688999</td>\n",
       "      <td>3627.0</td>\n",
       "    </tr>\n",
       "    <tr>\n",
       "      <th>Mendoza Province</th>\n",
       "      <td>20.992666</td>\n",
       "      <td>3545.0</td>\n",
       "    </tr>\n",
       "    <tr>\n",
       "      <th>Oregon</th>\n",
       "      <td>33.982430</td>\n",
       "      <td>3415.0</td>\n",
       "    </tr>\n",
       "    <tr>\n",
       "      <th>Burgundy</th>\n",
       "      <td>71.149536</td>\n",
       "      <td>2481.0</td>\n",
       "    </tr>\n",
       "    <tr>\n",
       "      <th>Veneto</th>\n",
       "      <td>32.825011</td>\n",
       "      <td>2303.0</td>\n",
       "    </tr>\n",
       "    <tr>\n",
       "      <th>South Australia</th>\n",
       "      <td>35.742348</td>\n",
       "      <td>2189.0</td>\n",
       "    </tr>\n",
       "    <tr>\n",
       "      <th>Piedmont</th>\n",
       "      <td>46.238139</td>\n",
       "      <td>2171.0</td>\n",
       "    </tr>\n",
       "  </tbody>\n",
       "</table>\n",
       "</div>"
      ],
      "text/plain": [
       "                  mean_price  n_observations\n",
       "California         35.515805         33280.0\n",
       "Washington         29.378375          7334.0\n",
       "Tuscany            48.447529          4431.0\n",
       "Northern Spain     30.688999          3627.0\n",
       "Mendoza Province   20.992666          3545.0\n",
       "Oregon             33.982430          3415.0\n",
       "Burgundy           71.149536          2481.0\n",
       "Veneto             32.825011          2303.0\n",
       "South Australia    35.742348          2189.0\n",
       "Piedmont           46.238139          2171.0"
      ]
     },
     "execution_count": 26,
     "metadata": {},
     "output_type": "execute_result"
    }
   ],
   "source": [
    "df.sort_values(by=['n_observations'], ascending=False).head(10)"
   ]
  },
  {
   "cell_type": "markdown",
   "metadata": {},
   "source": [
    "#### 2.2.5 Region 1 & region 2"
   ]
  },
  {
   "cell_type": "code",
   "execution_count": 27,
   "metadata": {},
   "outputs": [
    {
     "name": "stdout",
     "output_type": "stream",
     "text": [
      "nummber of regions in region_1 = 1155\n",
      "number of cases with no region_1 specified: 17191\n",
      "number of regions in region_1 with more than 25 observations = 373\n",
      "F-test statistic = 71.046,  Student's t statistic = 1.124\n",
      "Variance of mean prices by region_1 is statistically significant\n"
     ]
    }
   ],
   "source": [
    "df = ANOVA('region_1')"
   ]
  },
  {
   "cell_type": "code",
   "execution_count": 28,
   "metadata": {},
   "outputs": [
    {
     "data": {
      "text/html": [
       "<div>\n",
       "<style scoped>\n",
       "    .dataframe tbody tr th:only-of-type {\n",
       "        vertical-align: middle;\n",
       "    }\n",
       "\n",
       "    .dataframe tbody tr th {\n",
       "        vertical-align: top;\n",
       "    }\n",
       "\n",
       "    .dataframe thead th {\n",
       "        text-align: right;\n",
       "    }\n",
       "</style>\n",
       "<table border=\"1\" class=\"dataframe\">\n",
       "  <thead>\n",
       "    <tr style=\"text-align: right;\">\n",
       "      <th></th>\n",
       "      <th>mean_price</th>\n",
       "      <th>n_observations</th>\n",
       "    </tr>\n",
       "  </thead>\n",
       "  <tbody>\n",
       "    <tr>\n",
       "      <th>Pauillac</th>\n",
       "      <td>175.380282</td>\n",
       "      <td>71.0</td>\n",
       "    </tr>\n",
       "    <tr>\n",
       "      <th>Côte Rôtie</th>\n",
       "      <td>154.869565</td>\n",
       "      <td>46.0</td>\n",
       "    </tr>\n",
       "    <tr>\n",
       "      <th>Corton-Charlemagne</th>\n",
       "      <td>153.933333</td>\n",
       "      <td>30.0</td>\n",
       "    </tr>\n",
       "    <tr>\n",
       "      <th>Pessac-Léognan</th>\n",
       "      <td>144.506173</td>\n",
       "      <td>81.0</td>\n",
       "    </tr>\n",
       "    <tr>\n",
       "      <th>Hermitage</th>\n",
       "      <td>139.633028</td>\n",
       "      <td>109.0</td>\n",
       "    </tr>\n",
       "    <tr>\n",
       "      <th>Pomerol</th>\n",
       "      <td>109.242424</td>\n",
       "      <td>33.0</td>\n",
       "    </tr>\n",
       "    <tr>\n",
       "      <th>Vosne-Romanée</th>\n",
       "      <td>103.736842</td>\n",
       "      <td>38.0</td>\n",
       "    </tr>\n",
       "    <tr>\n",
       "      <th>Clarendon</th>\n",
       "      <td>101.217391</td>\n",
       "      <td>46.0</td>\n",
       "    </tr>\n",
       "    <tr>\n",
       "      <th>Puligny-Montrachet</th>\n",
       "      <td>100.478723</td>\n",
       "      <td>94.0</td>\n",
       "    </tr>\n",
       "    <tr>\n",
       "      <th>Rutherglen</th>\n",
       "      <td>99.357143</td>\n",
       "      <td>42.0</td>\n",
       "    </tr>\n",
       "  </tbody>\n",
       "</table>\n",
       "</div>"
      ],
      "text/plain": [
       "                    mean_price  n_observations\n",
       "Pauillac            175.380282            71.0\n",
       "Côte Rôtie          154.869565            46.0\n",
       "Corton-Charlemagne  153.933333            30.0\n",
       "Pessac-Léognan      144.506173            81.0\n",
       "Hermitage           139.633028           109.0\n",
       "Pomerol             109.242424            33.0\n",
       "Vosne-Romanée       103.736842            38.0\n",
       "Clarendon           101.217391            46.0\n",
       "Puligny-Montrachet  100.478723            94.0\n",
       "Rutherglen           99.357143            42.0"
      ]
     },
     "execution_count": 28,
     "metadata": {},
     "output_type": "execute_result"
    }
   ],
   "source": [
    "df.head(10)"
   ]
  },
  {
   "cell_type": "code",
   "execution_count": 29,
   "metadata": {},
   "outputs": [
    {
     "data": {
      "text/html": [
       "<div>\n",
       "<style scoped>\n",
       "    .dataframe tbody tr th:only-of-type {\n",
       "        vertical-align: middle;\n",
       "    }\n",
       "\n",
       "    .dataframe tbody tr th {\n",
       "        vertical-align: top;\n",
       "    }\n",
       "\n",
       "    .dataframe thead th {\n",
       "        text-align: right;\n",
       "    }\n",
       "</style>\n",
       "<table border=\"1\" class=\"dataframe\">\n",
       "  <thead>\n",
       "    <tr style=\"text-align: right;\">\n",
       "      <th></th>\n",
       "      <th>mean_price</th>\n",
       "      <th>n_observations</th>\n",
       "    </tr>\n",
       "  </thead>\n",
       "  <tbody>\n",
       "    <tr>\n",
       "      <th>Napa Valley</th>\n",
       "      <td>49.258562</td>\n",
       "      <td>4672.0</td>\n",
       "    </tr>\n",
       "    <tr>\n",
       "      <th>Columbia Valley (WA)</th>\n",
       "      <td>26.380467</td>\n",
       "      <td>3727.0</td>\n",
       "    </tr>\n",
       "    <tr>\n",
       "      <th>Mendoza</th>\n",
       "      <td>19.501117</td>\n",
       "      <td>2686.0</td>\n",
       "    </tr>\n",
       "    <tr>\n",
       "      <th>Russian River Valley</th>\n",
       "      <td>37.682074</td>\n",
       "      <td>2661.0</td>\n",
       "    </tr>\n",
       "    <tr>\n",
       "      <th>California</th>\n",
       "      <td>14.956174</td>\n",
       "      <td>2624.0</td>\n",
       "    </tr>\n",
       "    <tr>\n",
       "      <th>Paso Robles</th>\n",
       "      <td>29.967206</td>\n",
       "      <td>2287.0</td>\n",
       "    </tr>\n",
       "    <tr>\n",
       "      <th>Willamette Valley</th>\n",
       "      <td>32.491677</td>\n",
       "      <td>1562.0</td>\n",
       "    </tr>\n",
       "    <tr>\n",
       "      <th>Rioja</th>\n",
       "      <td>34.424735</td>\n",
       "      <td>1415.0</td>\n",
       "    </tr>\n",
       "    <tr>\n",
       "      <th>Sonoma County</th>\n",
       "      <td>28.245014</td>\n",
       "      <td>1404.0</td>\n",
       "    </tr>\n",
       "    <tr>\n",
       "      <th>Toscana</th>\n",
       "      <td>57.539200</td>\n",
       "      <td>1250.0</td>\n",
       "    </tr>\n",
       "  </tbody>\n",
       "</table>\n",
       "</div>"
      ],
      "text/plain": [
       "                      mean_price  n_observations\n",
       "Napa Valley            49.258562          4672.0\n",
       "Columbia Valley (WA)   26.380467          3727.0\n",
       "Mendoza                19.501117          2686.0\n",
       "Russian River Valley   37.682074          2661.0\n",
       "California             14.956174          2624.0\n",
       "Paso Robles            29.967206          2287.0\n",
       "Willamette Valley      32.491677          1562.0\n",
       "Rioja                  34.424735          1415.0\n",
       "Sonoma County          28.245014          1404.0\n",
       "Toscana                57.539200          1250.0"
      ]
     },
     "execution_count": 29,
     "metadata": {},
     "output_type": "execute_result"
    }
   ],
   "source": [
    "df.sort_values(by=['n_observations'], ascending=False).head(10)"
   ]
  },
  {
   "cell_type": "code",
   "execution_count": 30,
   "metadata": {},
   "outputs": [
    {
     "name": "stdout",
     "output_type": "stream",
     "text": [
      "nummber of regions in region_2 = 18\n",
      "number of cases with no region_2 specified: 57318\n",
      "number of regions in region_2 with more than 25 observations = 18\n",
      "F-test statistic = 503.575,  Student's t statistic = 1.623\n",
      "Variance of mean prices by region_2 is statistically significant\n"
     ]
    }
   ],
   "source": [
    "df = ANOVA('region_2')"
   ]
  },
  {
   "cell_type": "code",
   "execution_count": 31,
   "metadata": {},
   "outputs": [
    {
     "data": {
      "text/html": [
       "<div>\n",
       "<style scoped>\n",
       "    .dataframe tbody tr th:only-of-type {\n",
       "        vertical-align: middle;\n",
       "    }\n",
       "\n",
       "    .dataframe tbody tr th {\n",
       "        vertical-align: top;\n",
       "    }\n",
       "\n",
       "    .dataframe thead th {\n",
       "        text-align: right;\n",
       "    }\n",
       "</style>\n",
       "<table border=\"1\" class=\"dataframe\">\n",
       "  <thead>\n",
       "    <tr style=\"text-align: right;\">\n",
       "      <th></th>\n",
       "      <th>mean_price</th>\n",
       "      <th>n_observations</th>\n",
       "    </tr>\n",
       "  </thead>\n",
       "  <tbody>\n",
       "    <tr>\n",
       "      <th>Napa</th>\n",
       "      <td>53.939440</td>\n",
       "      <td>6605.0</td>\n",
       "    </tr>\n",
       "    <tr>\n",
       "      <th>South Coast</th>\n",
       "      <td>37.296774</td>\n",
       "      <td>155.0</td>\n",
       "    </tr>\n",
       "    <tr>\n",
       "      <th>Willamette Valley</th>\n",
       "      <td>36.499576</td>\n",
       "      <td>2356.0</td>\n",
       "    </tr>\n",
       "    <tr>\n",
       "      <th>Sonoma</th>\n",
       "      <td>36.371877</td>\n",
       "      <td>8406.0</td>\n",
       "    </tr>\n",
       "    <tr>\n",
       "      <th>Napa-Sonoma</th>\n",
       "      <td>35.668285</td>\n",
       "      <td>1236.0</td>\n",
       "    </tr>\n",
       "    <tr>\n",
       "      <th>Central Coast</th>\n",
       "      <td>31.720112</td>\n",
       "      <td>9686.0</td>\n",
       "    </tr>\n",
       "    <tr>\n",
       "      <th>Columbia Valley</th>\n",
       "      <td>29.649840</td>\n",
       "      <td>6894.0</td>\n",
       "    </tr>\n",
       "    <tr>\n",
       "      <th>Mendocino/Lake Counties</th>\n",
       "      <td>29.192371</td>\n",
       "      <td>1809.0</td>\n",
       "    </tr>\n",
       "    <tr>\n",
       "      <th>Oregon Other</th>\n",
       "      <td>27.683128</td>\n",
       "      <td>486.0</td>\n",
       "    </tr>\n",
       "    <tr>\n",
       "      <th>North Coast</th>\n",
       "      <td>26.649378</td>\n",
       "      <td>482.0</td>\n",
       "    </tr>\n",
       "  </tbody>\n",
       "</table>\n",
       "</div>"
      ],
      "text/plain": [
       "                         mean_price  n_observations\n",
       "Napa                      53.939440          6605.0\n",
       "South Coast               37.296774           155.0\n",
       "Willamette Valley         36.499576          2356.0\n",
       "Sonoma                    36.371877          8406.0\n",
       "Napa-Sonoma               35.668285          1236.0\n",
       "Central Coast             31.720112          9686.0\n",
       "Columbia Valley           29.649840          6894.0\n",
       "Mendocino/Lake Counties   29.192371          1809.0\n",
       "Oregon Other              27.683128           486.0\n",
       "North Coast               26.649378           482.0"
      ]
     },
     "execution_count": 31,
     "metadata": {},
     "output_type": "execute_result"
    }
   ],
   "source": [
    "df.head(10)"
   ]
  },
  {
   "cell_type": "code",
   "execution_count": 32,
   "metadata": {},
   "outputs": [
    {
     "data": {
      "text/html": [
       "<div>\n",
       "<style scoped>\n",
       "    .dataframe tbody tr th:only-of-type {\n",
       "        vertical-align: middle;\n",
       "    }\n",
       "\n",
       "    .dataframe tbody tr th {\n",
       "        vertical-align: top;\n",
       "    }\n",
       "\n",
       "    .dataframe thead th {\n",
       "        text-align: right;\n",
       "    }\n",
       "</style>\n",
       "<table border=\"1\" class=\"dataframe\">\n",
       "  <thead>\n",
       "    <tr style=\"text-align: right;\">\n",
       "      <th></th>\n",
       "      <th>mean_price</th>\n",
       "      <th>n_observations</th>\n",
       "    </tr>\n",
       "  </thead>\n",
       "  <tbody>\n",
       "    <tr>\n",
       "      <th>Central Coast</th>\n",
       "      <td>31.720112</td>\n",
       "      <td>9686.0</td>\n",
       "    </tr>\n",
       "    <tr>\n",
       "      <th>Sonoma</th>\n",
       "      <td>36.371877</td>\n",
       "      <td>8406.0</td>\n",
       "    </tr>\n",
       "    <tr>\n",
       "      <th>Columbia Valley</th>\n",
       "      <td>29.649840</td>\n",
       "      <td>6894.0</td>\n",
       "    </tr>\n",
       "    <tr>\n",
       "      <th>Napa</th>\n",
       "      <td>53.939440</td>\n",
       "      <td>6605.0</td>\n",
       "    </tr>\n",
       "    <tr>\n",
       "      <th>California Other</th>\n",
       "      <td>15.025872</td>\n",
       "      <td>2667.0</td>\n",
       "    </tr>\n",
       "    <tr>\n",
       "      <th>Willamette Valley</th>\n",
       "      <td>36.499576</td>\n",
       "      <td>2356.0</td>\n",
       "    </tr>\n",
       "    <tr>\n",
       "      <th>Mendocino/Lake Counties</th>\n",
       "      <td>29.192371</td>\n",
       "      <td>1809.0</td>\n",
       "    </tr>\n",
       "    <tr>\n",
       "      <th>Napa-Sonoma</th>\n",
       "      <td>35.668285</td>\n",
       "      <td>1236.0</td>\n",
       "    </tr>\n",
       "    <tr>\n",
       "      <th>Sierra Foothills</th>\n",
       "      <td>24.916396</td>\n",
       "      <td>1232.0</td>\n",
       "    </tr>\n",
       "    <tr>\n",
       "      <th>Finger Lakes</th>\n",
       "      <td>19.395944</td>\n",
       "      <td>1134.0</td>\n",
       "    </tr>\n",
       "  </tbody>\n",
       "</table>\n",
       "</div>"
      ],
      "text/plain": [
       "                         mean_price  n_observations\n",
       "Central Coast             31.720112          9686.0\n",
       "Sonoma                    36.371877          8406.0\n",
       "Columbia Valley           29.649840          6894.0\n",
       "Napa                      53.939440          6605.0\n",
       "California Other          15.025872          2667.0\n",
       "Willamette Valley         36.499576          2356.0\n",
       "Mendocino/Lake Counties   29.192371          1809.0\n",
       "Napa-Sonoma               35.668285          1236.0\n",
       "Sierra Foothills          24.916396          1232.0\n",
       "Finger Lakes              19.395944          1134.0"
      ]
     },
     "execution_count": 32,
     "metadata": {},
     "output_type": "execute_result"
    }
   ],
   "source": [
    "df.sort_values(by=['n_observations'], ascending=False).head(10)"
   ]
  },
  {
   "cell_type": "markdown",
   "metadata": {},
   "source": [
    "#### 2.2.6 Varieties"
   ]
  },
  {
   "cell_type": "code",
   "execution_count": 33,
   "metadata": {},
   "outputs": [
    {
     "name": "stdout",
     "output_type": "stream",
     "text": [
      "nummber of varieties = 592\n",
      "number of cases with no variety specified: 0\n",
      "number of varieties with more than 25 observations = 154\n",
      "F-test statistic = 62.24,  Student's t statistic = 1.195\n",
      "Variance of mean prices by variety is statistically significant\n"
     ]
    }
   ],
   "source": [
    "df = ANOVA('variety')"
   ]
  },
  {
   "cell_type": "code",
   "execution_count": 34,
   "metadata": {},
   "outputs": [
    {
     "data": {
      "text/html": [
       "<div>\n",
       "<style scoped>\n",
       "    .dataframe tbody tr th:only-of-type {\n",
       "        vertical-align: middle;\n",
       "    }\n",
       "\n",
       "    .dataframe tbody tr th {\n",
       "        vertical-align: top;\n",
       "    }\n",
       "\n",
       "    .dataframe thead th {\n",
       "        text-align: right;\n",
       "    }\n",
       "</style>\n",
       "<table border=\"1\" class=\"dataframe\">\n",
       "  <thead>\n",
       "    <tr style=\"text-align: right;\">\n",
       "      <th></th>\n",
       "      <th>mean_price</th>\n",
       "      <th>n_observations</th>\n",
       "    </tr>\n",
       "  </thead>\n",
       "  <tbody>\n",
       "    <tr>\n",
       "      <th>Tinto Fino</th>\n",
       "      <td>86.163934</td>\n",
       "      <td>61.0</td>\n",
       "    </tr>\n",
       "    <tr>\n",
       "      <th>Champagne Blend</th>\n",
       "      <td>78.325490</td>\n",
       "      <td>765.0</td>\n",
       "    </tr>\n",
       "    <tr>\n",
       "      <th>Tokaji</th>\n",
       "      <td>73.114754</td>\n",
       "      <td>61.0</td>\n",
       "    </tr>\n",
       "    <tr>\n",
       "      <th>Nebbiolo</th>\n",
       "      <td>67.369838</td>\n",
       "      <td>1114.0</td>\n",
       "    </tr>\n",
       "    <tr>\n",
       "      <th>Tinto del Pais</th>\n",
       "      <td>61.387097</td>\n",
       "      <td>62.0</td>\n",
       "    </tr>\n",
       "    <tr>\n",
       "      <th>Cabernet Blend</th>\n",
       "      <td>60.636771</td>\n",
       "      <td>223.0</td>\n",
       "    </tr>\n",
       "    <tr>\n",
       "      <th>Sangiovese Grosso</th>\n",
       "      <td>60.426883</td>\n",
       "      <td>677.0</td>\n",
       "    </tr>\n",
       "    <tr>\n",
       "      <th>Spätburgunder</th>\n",
       "      <td>59.225000</td>\n",
       "      <td>40.0</td>\n",
       "    </tr>\n",
       "    <tr>\n",
       "      <th>Marsanne</th>\n",
       "      <td>54.802083</td>\n",
       "      <td>96.0</td>\n",
       "    </tr>\n",
       "    <tr>\n",
       "      <th>Sagrantino</th>\n",
       "      <td>51.134328</td>\n",
       "      <td>67.0</td>\n",
       "    </tr>\n",
       "  </tbody>\n",
       "</table>\n",
       "</div>"
      ],
      "text/plain": [
       "                   mean_price  n_observations\n",
       "Tinto Fino          86.163934            61.0\n",
       "Champagne Blend     78.325490           765.0\n",
       "Tokaji              73.114754            61.0\n",
       "Nebbiolo            67.369838          1114.0\n",
       "Tinto del Pais      61.387097            62.0\n",
       "Cabernet Blend      60.636771           223.0\n",
       "Sangiovese Grosso   60.426883           677.0\n",
       "Spätburgunder       59.225000            40.0\n",
       "Marsanne            54.802083            96.0\n",
       "Sagrantino          51.134328            67.0"
      ]
     },
     "execution_count": 34,
     "metadata": {},
     "output_type": "execute_result"
    }
   ],
   "source": [
    "df.head(10)"
   ]
  },
  {
   "cell_type": "code",
   "execution_count": 35,
   "metadata": {},
   "outputs": [
    {
     "data": {
      "text/html": [
       "<div>\n",
       "<style scoped>\n",
       "    .dataframe tbody tr th:only-of-type {\n",
       "        vertical-align: middle;\n",
       "    }\n",
       "\n",
       "    .dataframe tbody tr th {\n",
       "        vertical-align: top;\n",
       "    }\n",
       "\n",
       "    .dataframe thead th {\n",
       "        text-align: right;\n",
       "    }\n",
       "</style>\n",
       "<table border=\"1\" class=\"dataframe\">\n",
       "  <thead>\n",
       "    <tr style=\"text-align: right;\">\n",
       "      <th></th>\n",
       "      <th>mean_price</th>\n",
       "      <th>n_observations</th>\n",
       "    </tr>\n",
       "  </thead>\n",
       "  <tbody>\n",
       "    <tr>\n",
       "      <th>Chardonnay</th>\n",
       "      <td>32.307857</td>\n",
       "      <td>10271.0</td>\n",
       "    </tr>\n",
       "    <tr>\n",
       "      <th>Pinot Noir</th>\n",
       "      <td>44.128055</td>\n",
       "      <td>10230.0</td>\n",
       "    </tr>\n",
       "    <tr>\n",
       "      <th>Cabernet Sauvignon</th>\n",
       "      <td>42.125482</td>\n",
       "      <td>9595.0</td>\n",
       "    </tr>\n",
       "    <tr>\n",
       "      <th>Red Blend</th>\n",
       "      <td>35.742906</td>\n",
       "      <td>6978.0</td>\n",
       "    </tr>\n",
       "    <tr>\n",
       "      <th>Sauvignon Blanc</th>\n",
       "      <td>18.617451</td>\n",
       "      <td>4504.0</td>\n",
       "    </tr>\n",
       "    <tr>\n",
       "      <th>Syrah</th>\n",
       "      <td>36.932301</td>\n",
       "      <td>4328.0</td>\n",
       "    </tr>\n",
       "    <tr>\n",
       "      <th>Riesling</th>\n",
       "      <td>29.824131</td>\n",
       "      <td>3912.0</td>\n",
       "    </tr>\n",
       "    <tr>\n",
       "      <th>Merlot</th>\n",
       "      <td>27.424833</td>\n",
       "      <td>3745.0</td>\n",
       "    </tr>\n",
       "    <tr>\n",
       "      <th>Bordeaux-style Red Blend</th>\n",
       "      <td>49.474934</td>\n",
       "      <td>3411.0</td>\n",
       "    </tr>\n",
       "    <tr>\n",
       "      <th>Zinfandel</th>\n",
       "      <td>26.637359</td>\n",
       "      <td>2832.0</td>\n",
       "    </tr>\n",
       "  </tbody>\n",
       "</table>\n",
       "</div>"
      ],
      "text/plain": [
       "                          mean_price  n_observations\n",
       "Chardonnay                 32.307857         10271.0\n",
       "Pinot Noir                 44.128055         10230.0\n",
       "Cabernet Sauvignon         42.125482          9595.0\n",
       "Red Blend                  35.742906          6978.0\n",
       "Sauvignon Blanc            18.617451          4504.0\n",
       "Syrah                      36.932301          4328.0\n",
       "Riesling                   29.824131          3912.0\n",
       "Merlot                     27.424833          3745.0\n",
       "Bordeaux-style Red Blend   49.474934          3411.0\n",
       "Zinfandel                  26.637359          2832.0"
      ]
     },
     "execution_count": 35,
     "metadata": {},
     "output_type": "execute_result"
    }
   ],
   "source": [
    "df.sort_values(by=['n_observations'], ascending=False).head(10)"
   ]
  },
  {
   "cell_type": "markdown",
   "metadata": {},
   "source": [
    "#### 2.2.7 Wineries"
   ]
  },
  {
   "cell_type": "code",
   "execution_count": 36,
   "metadata": {},
   "outputs": [
    {
     "name": "stdout",
     "output_type": "stream",
     "text": [
      "nummber of wineries = 12961\n",
      "number of cases with no winery specified: 0\n",
      "number of wineries with more than 25 observations = 871\n",
      "F-test statistic = 25.846,  Student's t statistic = 1.081\n",
      "Variance of mean prices by winery is statistically significant\n"
     ]
    }
   ],
   "source": [
    "df = ANOVA('winery')"
   ]
  },
  {
   "cell_type": "code",
   "execution_count": 37,
   "metadata": {},
   "outputs": [
    {
     "data": {
      "text/html": [
       "<div>\n",
       "<style scoped>\n",
       "    .dataframe tbody tr th:only-of-type {\n",
       "        vertical-align: middle;\n",
       "    }\n",
       "\n",
       "    .dataframe tbody tr th {\n",
       "        vertical-align: top;\n",
       "    }\n",
       "\n",
       "    .dataframe thead th {\n",
       "        text-align: right;\n",
       "    }\n",
       "</style>\n",
       "<table border=\"1\" class=\"dataframe\">\n",
       "  <thead>\n",
       "    <tr style=\"text-align: right;\">\n",
       "      <th></th>\n",
       "      <th>mean_price</th>\n",
       "      <th>n_observations</th>\n",
       "    </tr>\n",
       "  </thead>\n",
       "  <tbody>\n",
       "    <tr>\n",
       "      <th>Tenuta dell'Ornellaia</th>\n",
       "      <td>254.615385</td>\n",
       "      <td>26.0</td>\n",
       "    </tr>\n",
       "    <tr>\n",
       "      <th>Domaine Leflaive</th>\n",
       "      <td>225.870968</td>\n",
       "      <td>31.0</td>\n",
       "    </tr>\n",
       "    <tr>\n",
       "      <th>Perrier Jouët</th>\n",
       "      <td>184.892857</td>\n",
       "      <td>28.0</td>\n",
       "    </tr>\n",
       "    <tr>\n",
       "      <th>Robert Weil</th>\n",
       "      <td>176.875000</td>\n",
       "      <td>32.0</td>\n",
       "    </tr>\n",
       "    <tr>\n",
       "      <th>Le Macchiole</th>\n",
       "      <td>162.400000</td>\n",
       "      <td>35.0</td>\n",
       "    </tr>\n",
       "    <tr>\n",
       "      <th>M. Chapoutier</th>\n",
       "      <td>138.833333</td>\n",
       "      <td>54.0</td>\n",
       "    </tr>\n",
       "    <tr>\n",
       "      <th>Emilio Moro</th>\n",
       "      <td>131.363636</td>\n",
       "      <td>33.0</td>\n",
       "    </tr>\n",
       "    <tr>\n",
       "      <th>E. Guigal</th>\n",
       "      <td>126.771930</td>\n",
       "      <td>57.0</td>\n",
       "    </tr>\n",
       "    <tr>\n",
       "      <th>Bouchard Père &amp; Fils</th>\n",
       "      <td>125.523810</td>\n",
       "      <td>147.0</td>\n",
       "    </tr>\n",
       "    <tr>\n",
       "      <th>Tua Rita</th>\n",
       "      <td>120.620690</td>\n",
       "      <td>29.0</td>\n",
       "    </tr>\n",
       "  </tbody>\n",
       "</table>\n",
       "</div>"
      ],
      "text/plain": [
       "                       mean_price  n_observations\n",
       "Tenuta dell'Ornellaia  254.615385            26.0\n",
       "Domaine Leflaive       225.870968            31.0\n",
       "Perrier Jouët          184.892857            28.0\n",
       "Robert Weil            176.875000            32.0\n",
       "Le Macchiole           162.400000            35.0\n",
       "M. Chapoutier          138.833333            54.0\n",
       "Emilio Moro            131.363636            33.0\n",
       "E. Guigal              126.771930            57.0\n",
       "Bouchard Père & Fils   125.523810           147.0\n",
       "Tua Rita               120.620690            29.0"
      ]
     },
     "execution_count": 37,
     "metadata": {},
     "output_type": "execute_result"
    }
   ],
   "source": [
    "df.head(10)"
   ]
  },
  {
   "cell_type": "code",
   "execution_count": 38,
   "metadata": {},
   "outputs": [
    {
     "data": {
      "text/html": [
       "<div>\n",
       "<style scoped>\n",
       "    .dataframe tbody tr th:only-of-type {\n",
       "        vertical-align: middle;\n",
       "    }\n",
       "\n",
       "    .dataframe tbody tr th {\n",
       "        vertical-align: top;\n",
       "    }\n",
       "\n",
       "    .dataframe thead th {\n",
       "        text-align: right;\n",
       "    }\n",
       "</style>\n",
       "<table border=\"1\" class=\"dataframe\">\n",
       "  <thead>\n",
       "    <tr style=\"text-align: right;\">\n",
       "      <th></th>\n",
       "      <th>mean_price</th>\n",
       "      <th>n_observations</th>\n",
       "    </tr>\n",
       "  </thead>\n",
       "  <tbody>\n",
       "    <tr>\n",
       "      <th>Williams Selyem</th>\n",
       "      <td>57.417857</td>\n",
       "      <td>280.0</td>\n",
       "    </tr>\n",
       "    <tr>\n",
       "      <th>Testarossa</th>\n",
       "      <td>48.556604</td>\n",
       "      <td>212.0</td>\n",
       "    </tr>\n",
       "    <tr>\n",
       "      <th>DFJ Vinhos</th>\n",
       "      <td>9.972973</td>\n",
       "      <td>185.0</td>\n",
       "    </tr>\n",
       "    <tr>\n",
       "      <th>Chateau Ste. Michelle</th>\n",
       "      <td>22.244318</td>\n",
       "      <td>176.0</td>\n",
       "    </tr>\n",
       "    <tr>\n",
       "      <th>Kendall-Jackson</th>\n",
       "      <td>29.235294</td>\n",
       "      <td>170.0</td>\n",
       "    </tr>\n",
       "    <tr>\n",
       "      <th>Columbia Crest</th>\n",
       "      <td>16.939759</td>\n",
       "      <td>166.0</td>\n",
       "    </tr>\n",
       "    <tr>\n",
       "      <th>Concha y Toro</th>\n",
       "      <td>28.138554</td>\n",
       "      <td>166.0</td>\n",
       "    </tr>\n",
       "    <tr>\n",
       "      <th>De Loach</th>\n",
       "      <td>32.846667</td>\n",
       "      <td>150.0</td>\n",
       "    </tr>\n",
       "    <tr>\n",
       "      <th>Trapiche</th>\n",
       "      <td>25.315436</td>\n",
       "      <td>149.0</td>\n",
       "    </tr>\n",
       "    <tr>\n",
       "      <th>Joseph Drouhin</th>\n",
       "      <td>84.459459</td>\n",
       "      <td>148.0</td>\n",
       "    </tr>\n",
       "  </tbody>\n",
       "</table>\n",
       "</div>"
      ],
      "text/plain": [
       "                       mean_price  n_observations\n",
       "Williams Selyem         57.417857           280.0\n",
       "Testarossa              48.556604           212.0\n",
       "DFJ Vinhos               9.972973           185.0\n",
       "Chateau Ste. Michelle   22.244318           176.0\n",
       "Kendall-Jackson         29.235294           170.0\n",
       "Columbia Crest          16.939759           166.0\n",
       "Concha y Toro           28.138554           166.0\n",
       "De Loach                32.846667           150.0\n",
       "Trapiche                25.315436           149.0\n",
       "Joseph Drouhin          84.459459           148.0"
      ]
     },
     "execution_count": 38,
     "metadata": {},
     "output_type": "execute_result"
    }
   ],
   "source": [
    "df.sort_values(by=['n_observations'], ascending=False).head(10)"
   ]
  },
  {
   "cell_type": "markdown",
   "metadata": {},
   "source": [
    "### 3. Feature engineering"
   ]
  },
  {
   "cell_type": "code",
   "execution_count": 39,
   "metadata": {},
   "outputs": [],
   "source": [
    "class FeatureGenetator():\n",
    "    \"\"\"Generation of new features\"\"\"\n",
    "    \n",
    "    def __init__(self):\n",
    "        self.countries_counts = None\n",
    "        self.designations_counts = None\n",
    "        self.provinces_counts = None\n",
    "        self.region_1_counts = None\n",
    "        self.region_2_counts = None\n",
    "        self.varieties_counts = None\n",
    "        self.wineries_counts = None        \n",
    "        \n",
    "        self.med_price_by_country = None\n",
    "        self.med_price_by_designation = None\n",
    "        self.med_price_by_province = None\n",
    "        self.med_price_by_region = None        \n",
    "        self.med_price_by_variety = None\n",
    "        self.med_price_by_winery = None       \n",
    "               \n",
    "        \n",
    "    def fit(self, X, y=None):        \n",
    "        X = X.copy()\n",
    "        min_n = 25\n",
    "        \n",
    "        # Countries\n",
    "        countries = X.country.value_counts()\n",
    "        countries = countries[countries > min_n]                \n",
    "        self.countries_counts = dict(countries)\n",
    "        \n",
    "        # Designations\n",
    "        designations = X.designation.value_counts()\n",
    "        designations = designations[designations > min_n]                \n",
    "        self.designations_counts = dict(designations)        \n",
    "                \n",
    "        # Provinces\n",
    "        provinces = X.province.value_counts()\n",
    "        provinces = provinces[provinces > min_n]                \n",
    "        self.provinces_counts = dict(provinces)\n",
    "        \n",
    "        # Region_1\n",
    "        region_1 = X.region_1.value_counts()\n",
    "        region_1 = region_1[region_1 > min_n]                \n",
    "        self.region_1_counts = dict(region_1)\n",
    "        \n",
    "        # Region_2\n",
    "        region_2 = X.region_2.value_counts()\n",
    "        region_2 = region_2[region_2 > min_n]                \n",
    "        self.region_2_counts = dict(region_2)\n",
    "        \n",
    "        # Varieties\n",
    "        varieties = X.variety.value_counts()\n",
    "        varieties = varieties[varieties > min_n]                \n",
    "        self.varieties_counts = dict(varieties)\n",
    "        \n",
    "        # Wineries\n",
    "        wineries = X.winery.value_counts()\n",
    "        wineries = wineries[wineries > min_n]                \n",
    "        self.wineries_counts = dict(wineries)\n",
    "        \n",
    "        # Target encoding\n",
    "        ## 1. Countries\n",
    "        df = X.copy()\n",
    "        \n",
    "        if y is not None:\n",
    "            df['price'] = y.values            \n",
    "            df['countries_popular'] = df['country'].copy()\n",
    "            df.loc[~df['countries_popular'].isin(countries.keys().tolist())] = np.nan\n",
    "            \n",
    "            self.med_price_by_country = df.groupby(['countries_popular'], \n",
    "                                                    as_index=False).agg({'price':'median'}).\\\n",
    "                                            rename(columns={'price':'MedPriceByCountry',\n",
    "                                                           'countries_popular': 'country'})            \n",
    "        ## 2. Designations    \n",
    "        if y is not None:\n",
    "            df['price'] = y.values            \n",
    "            df['designations_frequent'] = df['designation'].copy()\n",
    "            df.loc[~df['designations_frequent'].isin(designations.keys().tolist())] = np.nan\n",
    "            \n",
    "            self.med_price_by_designation = df.groupby(['designations_frequent'], \n",
    "                                                     as_index=False).agg({'price':'median'}).\\\n",
    "                                            rename(columns={'price':'MedPriceByDesignation',\n",
    "                                                           'designations_frequent': 'designation'})            \n",
    "        ## 3. Provinces    \n",
    "        if y is not None:\n",
    "            df['price'] = y.values            \n",
    "            df['provinces_popular'] = df['province'].copy()\n",
    "            df.loc[~df['provinces_popular'].isin(provinces.keys().tolist())] = np.nan\n",
    "            \n",
    "            self.med_price_by_province = df.groupby(['provinces_popular'], \n",
    "                                                     as_index=False).agg({'price':'median'}).\\\n",
    "                                            rename(columns={'price':'MedPriceByProvince',\n",
    "                                                           'provinces_popular': 'province'})            \n",
    "        ## 4. Regions    \n",
    "        if y is not None:\n",
    "            df['price'] = y.values            \n",
    "            df['region_1_popular'] = df['region_1'].copy()\n",
    "            df['region_2_popular'] = df['region_2'].copy()\n",
    "            df.loc[~df['region_1_popular'].isin(region_1.keys().tolist())] = np.nan\n",
    "            df.loc[~df['region_2_popular'].isin(region_2.keys().tolist())] = np.nan\n",
    "            \n",
    "            self.med_price_by_region = df.groupby(['region_1_popular', 'region_2_popular'], \n",
    "                                                     as_index=False).agg({'price':'median'}).\\\n",
    "                                            rename(columns={'price':'MedPriceByRegion',\n",
    "                                                           'region_1_popular': 'region_1',\n",
    "                                                           'region_2_popular': 'region_2'})            \n",
    "        ## 5. Varieties    \n",
    "        if y is not None:\n",
    "            df['price'] = y.values            \n",
    "            df['varieties_popular'] = df['variety'].copy()\n",
    "            df.loc[~df['varieties_popular'].isin(varieties.keys().tolist())] = np.nan\n",
    "            \n",
    "            self.med_price_by_variety = df.groupby(['varieties_popular'], \n",
    "                                                     as_index=False).agg({'price':'median'}).\\\n",
    "                                            rename(columns={'price':'MedPriceByVariety',\n",
    "                                                           'varieties_popular': 'variety'})            \n",
    "        ## 6. Wineries   \n",
    "        if y is not None:\n",
    "            df['price'] = y.values            \n",
    "            df['wineries_popular'] = df['winery'].copy()\n",
    "            df.loc[~df['wineries_popular'].isin(wineries.keys().tolist())] = np.nan\n",
    "            \n",
    "            self.med_price_by_winery = df.groupby(['wineries_popular'], \n",
    "                                                     as_index=False).agg({'price':'median'}).\\\n",
    "                                            rename(columns={'price':'MedPriceByWinery',\n",
    "                                                           'wineries_popular': 'winery'})            \n",
    "    \n",
    "    def transform(self, X):       \n",
    "        \n",
    "        # Target encoding\n",
    "        if self.med_price_by_country is not None:\n",
    "            X = X.merge(self.med_price_by_country, on=['country'], how='left')\n",
    "            \n",
    "        if self.med_price_by_designation is not None:\n",
    "            X = X.merge(self.med_price_by_designation, on=['designation'], how='left')\n",
    "        \n",
    "        if self.med_price_by_province is not None:\n",
    "            X = X.merge(self.med_price_by_province, on=['province'], how='left')\n",
    "            \n",
    "        if self.med_price_by_region is not None:\n",
    "            X = X.merge(self.med_price_by_region, on=['region_1', 'region_2'], how='left')\n",
    "            \n",
    "        if self.med_price_by_variety is not None:\n",
    "            X = X.merge(self.med_price_by_variety, on=['variety'], how='left')\n",
    "        \n",
    "        if self.med_price_by_winery is not None:\n",
    "            X = X.merge(self.med_price_by_winery, on=['winery'], how='left')\n",
    "            \n",
    "        \n",
    "        # More categorical features\n",
    "        X = self.points_group(X)        \n",
    "        \n",
    "        # Dummy variables\n",
    "        X = self.get_dummies(X)        \n",
    "        \n",
    "        # PCA variables\n",
    "        X = self.pca_features(X)        \n",
    "        \n",
    "        return X\n",
    "            \n",
    "    @staticmethod\n",
    "    def points_group(X):        \n",
    "        X['points_group'] = np.nan        \n",
    "        X.loc[X['points'] <= 86, 'points_group'] = 1  \n",
    "        X.loc[(X['points'] >= 87) & (X['points'] <= 88), 'points_group'] = 2\n",
    "        X.loc[(X['points'] >= 89) & (X['points'] <= 90), 'points_group'] = 3\n",
    "        X.loc[(X['points'] >= 91) & (X['points'] <= 95), 'points_group'] = 4\n",
    "        X.loc[X['points'] >= 96, 'points_group'] = 5\n",
    "        \n",
    "        return X\n",
    "    \n",
    "    @staticmethod    \n",
    "    def get_dummies(X):\n",
    "        ## Points            \n",
    "        a = pd.get_dummies(X.points_group).rename(columns={1: 'PG_1', 2: 'PG_2', 3: 'PG_3', 4: 'PG_4', 5: 'PG_5'})\n",
    "        X = pd.concat([X, a], axis=1)       \n",
    "    \n",
    "  \n",
    "        ## clustered 'MedPriceByCountry', 'MedPriceByDesignation', 'MedPriceByProvince', \n",
    "        ##           'MedPriceByRegion', 'MedPriceByVariety', 'MedPriceByWinery'\n",
    "        scaler = StandardScaler()\n",
    "        a = X[['MedPriceByRegion', 'MedPriceByVariety', 'MedPriceByWinery']].fillna(0)\n",
    "        a = scaler.fit_transform(a)\n",
    "        kmeans = KMeans(n_clusters=2, random_state=0).fit(a)\n",
    "        X.loc[:, 'Cluster_composit'] = kmeans.labels_\n",
    "        \n",
    "        a = pd.get_dummies(X.Cluster_composit).rename(columns={0: 'Cluster_1', 1: 'Cluster_2'})\n",
    "        X = pd.concat([X, a], axis=1).drop('Cluster_composit', axis=1)\n",
    "        \n",
    "        return X\n",
    "    \n",
    "    @staticmethod   \n",
    "    def pca_features(X):\n",
    "        scaler = StandardScaler()\n",
    "        a = X[['MedPriceByCountry', 'MedPriceByProvince', 'MedPriceByRegion', \n",
    "               'MedPriceByVariety', 'MedPriceByWinery']].fillna(0)\n",
    "        \n",
    "        a = scaler.fit_transform(a)        \n",
    "        pca = PCA(n_components=3)\n",
    "        pca.fit(a)        \n",
    "        X.loc[:, 'pca_composit_1'] = np.dot(a, pca.components_.T)[:, 0]\n",
    "        X.loc[:, 'pca_composit_2'] = np.dot(a, pca.components_.T)[:, 1]\n",
    "        X.loc[:, 'pca_composit_3'] = np.dot(a, pca.components_.T)[:, 2]        \n",
    "    \n",
    "        return X"
   ]
  },
  {
   "cell_type": "code",
   "execution_count": 40,
   "metadata": {},
   "outputs": [],
   "source": [
    "features = FeatureGenetator()\n",
    "features.fit(X_train, y_train)\n",
    "\n",
    "X_train = features.transform(X_train)\n",
    "X_test = features.transform(X_test)"
   ]
  },
  {
   "cell_type": "code",
   "execution_count": 41,
   "metadata": {},
   "outputs": [
    {
     "data": {
      "text/plain": [
       "Index(['id', 'country', 'description', 'designation', 'points', 'province',\n",
       "       'region_1', 'region_2', 'variety', 'winery', 'MedPriceByCountry',\n",
       "       'MedPriceByDesignation', 'MedPriceByProvince', 'MedPriceByRegion',\n",
       "       'MedPriceByVariety', 'MedPriceByWinery', 'points_group', 'PG_1', 'PG_2',\n",
       "       'PG_3', 'PG_4', 'PG_5', 'Cluster_1', 'Cluster_2', 'pca_composit_1',\n",
       "       'pca_composit_2', 'pca_composit_3'],\n",
       "      dtype='object')"
      ]
     },
     "execution_count": 41,
     "metadata": {},
     "output_type": "execute_result"
    }
   ],
   "source": [
    "X_train.columns"
   ]
  },
  {
   "cell_type": "markdown",
   "metadata": {},
   "source": [
    "### 4. Target encoded variables analysis - numeric variables"
   ]
  },
  {
   "cell_type": "markdown",
   "metadata": {},
   "source": [
    "### 4.A Analysis of dependence of target on target encoded variables\n",
    "#### Correlations between the target and each of the target encoded variables"
   ]
  },
  {
   "cell_type": "code",
   "execution_count": 42,
   "metadata": {},
   "outputs": [
    {
     "name": "stdout",
     "output_type": "stream",
     "text": [
      "Correlation between log(price) and target encoded variable:\n",
      "MedPriceByVariety:\t 0.307\n",
      "MedPriceByProvince:\t 0.304\n",
      "MedPriceByCountry:\t 0.272\n",
      "MedPriceByRegion:\t 0.254\n",
      "MedPriceByWinery:\t 0.147\n",
      "MedPriceByDesignation:\t 0.038\n",
      "pca_composit_1:\t\t 0.371\n",
      "pca_composit_2:\t\t -0.165\n",
      "pca_composit_3:\t\t 0.064\n"
     ]
    }
   ],
   "source": [
    "var_list = ['MedPriceByVariety','MedPriceByProvince', 'MedPriceByCountry', \n",
    "            'MedPriceByRegion', 'MedPriceByWinery', 'MedPriceByDesignation',\n",
    "            'pca_composit_1', 'pca_composit_2', 'pca_composit_3']\n",
    "\n",
    "print('Correlation between log(price) and target encoded variable:')\n",
    "for var in var_list:\n",
    "    corr = np.corrcoef(X_train[var].fillna(0), np.log(y_train.price))[0][1]\n",
    "    if var[:3] == 'pca':\n",
    "        print(f'{var}:\\t\\t {round(corr, 3)}')\n",
    "    else:\n",
    "        print(f'{var}:\\t {round(corr, 3)}')"
   ]
  },
  {
   "cell_type": "code",
   "execution_count": 43,
   "metadata": {},
   "outputs": [],
   "source": [
    "def norm_test1(keys):\n",
    "    fig, axes = plt.subplots(ncols=len(keys))\n",
    "    fig.set_size_inches(4 * len(keys), 4)\n",
    "    axes = axes.flatten()\n",
    "\n",
    "    for key, ax in zip(keys, axes):\n",
    "        ax.hist(X_train[key], density=True)\n",
    "\n",
    "        loc = X_train[key].mean()\n",
    "        scale = X_train[key].std()\n",
    "\n",
    "        x_left, x_right = ax.get_xlim()\n",
    "        x = np.linspace(x_left, x_right, 10000)\n",
    "        y = stats.norm.pdf(x, loc=loc, scale=scale)\n",
    "\n",
    "        ax.plot(x, y, linestyle='dashed')\n",
    "        ax.set_title(key)\n",
    "        \n",
    "def norm_test2(keys):\n",
    "    fig, axes = plt.subplots(ncols=len(keys))\n",
    "    fig.set_size_inches(4 * len(keys), 4)\n",
    "    axes = axes.flatten()\n",
    "\n",
    "    for key, ax in zip(keys, axes):\n",
    "        samples = X_train[key]\n",
    "\n",
    "        loc = samples.mean()\n",
    "        scale = samples.std()\n",
    "\n",
    "        interval = np.linspace(0, 1, samples.shape[0])[1:-1]\n",
    "        x = stats.norm.ppf(interval, loc=loc, scale=scale)\n",
    "        y = np.quantile(samples, interval)\n",
    "\n",
    "        ax.scatter(x, y, s=5)\n",
    "        ax.plot(x, x, color='C1', linestyle='dashed')\n",
    "\n",
    "        ax.set_title(key)\n",
    "        ax.set_xlabel('theoretical quantiles')\n",
    "        ax.set_ylabel('sample quantiles')\n",
    "        \n",
    "def norm_test3(keys):\n",
    "    for key in keys:\n",
    "        print(key)\n",
    "\n",
    "        samples = X_train[key]\n",
    "\n",
    "        loc = samples.mean()\n",
    "        scale = samples.std()\n",
    "\n",
    "        for i in range(1, 4):\n",
    "            true_value = stats.norm.cdf(i) - stats.norm.cdf(-i)\n",
    "            sample_value = ((samples >= loc - i * scale) & (samples <= loc + i * scale)).sum() / samples.shape[0]\n",
    "\n",
    "            print(f'{i} sigma(s)')\n",
    "            print(f'\\ttheoretical:\\t{true_value}')\n",
    "            print(f'\\tsample:\\t\\t{sample_value}')\n",
    "\n",
    "        print()    "
   ]
  },
  {
   "cell_type": "markdown",
   "metadata": {},
   "source": [
    "#### Normality tests of pca_composit variables"
   ]
  },
  {
   "cell_type": "code",
   "execution_count": 44,
   "metadata": {},
   "outputs": [
    {
     "data": {
      "image/png": "[encoded data removed]",
      "text/plain": [
       "<Figure size 864x288 with 3 Axes>"
      ]
     },
     "metadata": {
      "needs_background": "light"
     },
     "output_type": "display_data"
    }
   ],
   "source": [
    "keys = ['pca_composit_1', 'pca_composit_2', 'pca_composit_3']\n",
    "norm_test1(keys)"
   ]
  },
  {
   "cell_type": "code",
   "execution_count": 45,
   "metadata": {},
   "outputs": [
    {
     "data": {
      "image/png": "[encoded data removed]",
      "text/plain": [
       "<Figure size 864x288 with 3 Axes>"
      ]
     },
     "metadata": {
      "needs_background": "light"
     },
     "output_type": "display_data"
    }
   ],
   "source": [
    "norm_test2(keys)"
   ]
  },
  {
   "cell_type": "code",
   "execution_count": 46,
   "metadata": {},
   "outputs": [
    {
     "name": "stdout",
     "output_type": "stream",
     "text": [
      "pca_composit_1\n",
      "1 sigma(s)\n",
      "\ttheoretical:\t0.6826894921370859\n",
      "\tsample:\t\t0.6048714610496861\n",
      "2 sigma(s)\n",
      "\ttheoretical:\t0.9544997361036416\n",
      "\tsample:\t\t0.9842508209781785\n",
      "3 sigma(s)\n",
      "\ttheoretical:\t0.9973002039367398\n",
      "\tsample:\t\t0.9983386122068282\n",
      "\n",
      "pca_composit_2\n",
      "1 sigma(s)\n",
      "\ttheoretical:\t0.6826894921370859\n",
      "\tsample:\t\t0.7817752560091716\n",
      "2 sigma(s)\n",
      "\ttheoretical:\t0.9544997361036416\n",
      "\tsample:\t\t0.9549967938130307\n",
      "3 sigma(s)\n",
      "\ttheoretical:\t0.9973002039367398\n",
      "\tsample:\t\t0.9768182966403047\n",
      "\n",
      "pca_composit_3\n",
      "1 sigma(s)\n",
      "\ttheoretical:\t0.6826894921370859\n",
      "\tsample:\t\t0.6967238598604822\n",
      "2 sigma(s)\n",
      "\ttheoretical:\t0.9544997361036416\n",
      "\tsample:\t\t0.9492548044225949\n",
      "3 sigma(s)\n",
      "\ttheoretical:\t0.9973002039367398\n",
      "\tsample:\t\t0.9953364553174125\n",
      "\n"
     ]
    }
   ],
   "source": [
    "norm_test3(keys)"
   ]
  },
  {
   "cell_type": "markdown",
   "metadata": {},
   "source": [
    "#### Normality tests of other numeric target encoded variables "
   ]
  },
  {
   "cell_type": "code",
   "execution_count": 47,
   "metadata": {},
   "outputs": [
    {
     "data": {
      "image/png": "[encoded data removed]",
      "text/plain": [
       "<Figure size 864x288 with 3 Axes>"
      ]
     },
     "metadata": {
      "needs_background": "light"
     },
     "output_type": "display_data"
    }
   ],
   "source": [
    "keys = ['MedPriceByVariety','MedPriceByProvince', 'MedPriceByCountry']\n",
    "norm_test1(keys)"
   ]
  },
  {
   "cell_type": "code",
   "execution_count": 48,
   "metadata": {},
   "outputs": [
    {
     "data": {
      "image/png": "[encoded data removed]",
      "text/plain": [
       "<Figure size 864x288 with 3 Axes>"
      ]
     },
     "metadata": {
      "needs_background": "light"
     },
     "output_type": "display_data"
    }
   ],
   "source": [
    "keys = ['MedPriceByRegion', 'MedPriceByWinery', 'MedPriceByDesignation']\n",
    "norm_test1(keys)"
   ]
  },
  {
   "cell_type": "markdown",
   "metadata": {},
   "source": [
    "### 4.C Correlation matrix of numeric target encoded variables"
   ]
  },
  {
   "cell_type": "code",
   "execution_count": 49,
   "metadata": {},
   "outputs": [
    {
     "data": {
      "image/png": "[encoded data removed]",
      "text/plain": [
       "<Figure size 1080x720 with 2 Axes>"
      ]
     },
     "metadata": {
      "needs_background": "light"
     },
     "output_type": "display_data"
    }
   ],
   "source": [
    "df = X_train[var_list]\n",
    "plt.figure(figsize = (15,10))\n",
    "\n",
    "sns.set(font_scale=1.4)\n",
    "\n",
    "corr_matrix = df.corr()\n",
    "corr_matrix = np.round(corr_matrix, 2)\n",
    "corr_matrix[np.abs(corr_matrix) < 0.3] = 0  # Проверьте, что будет если убрать маленькие корреляции\n",
    "\n",
    "sns.heatmap(corr_matrix, annot=True, linewidths=.5, cmap='coolwarm')\n",
    "\n",
    "plt.title('Correlation matrix')\n",
    "plt.show()"
   ]
  },
  {
   "cell_type": "markdown",
   "metadata": {},
   "source": [
    "### 5. Target encoded variables analysis - categorical / binary variables"
   ]
  },
  {
   "cell_type": "markdown",
   "metadata": {},
   "source": [
    "#### 5.1 Categorical variable points_group"
   ]
  },
  {
   "cell_type": "code",
   "execution_count": 50,
   "metadata": {},
   "outputs": [
    {
     "name": "stdout",
     "output_type": "stream",
     "text": [
      "Correlation between points and points_group:\n",
      "\n",
      "                 points  points_group\n",
      "points        1.000000      0.937017\n",
      "points_group  0.937017      1.000000\n",
      "\n"
     ]
    },
    {
     "data": {
      "image/png": "[encoded data removed]",
      "text/plain": [
       "<Figure size 864x432 with 1 Axes>"
      ]
     },
     "metadata": {},
     "output_type": "display_data"
    }
   ],
   "source": [
    "print(f\"Correlation between points and points_group:\\n\\n {X_train[['points', 'points_group']].corr()}\\n\")\n",
    "plt.figure(figsize=(12, 6))\n",
    "plt.scatter(np.log(y_train['price']), X_train['points_group'])\n",
    "\n",
    "plt.xlabel('log(price)')\n",
    "plt.ylabel('points_group')\n",
    "plt.title('Distribution of log(price) by points_group')\n",
    "plt.show()"
   ]
  },
  {
   "cell_type": "code",
   "execution_count": 51,
   "metadata": {},
   "outputs": [],
   "source": [
    "def binary_var(var_name):\n",
    "    counts = X_train[var_name].value_counts()\n",
    "\n",
    "    plt.figure(figsize=(6,4))    \n",
    "    plt.title(var_name)\n",
    "    sns.barplot(counts.index, counts.values)\n",
    "\n",
    "    plt.show()"
   ]
  },
  {
   "cell_type": "markdown",
   "metadata": {},
   "source": [
    "#### 5.2 Binary variables PG_1, PG_2, PG_3, PG_4, PG_5"
   ]
  },
  {
   "cell_type": "code",
   "execution_count": 52,
   "metadata": {},
   "outputs": [
    {
     "data": {
      "image/png": "[encoded data removed]",
      "text/plain": [
       "<Figure size 432x288 with 1 Axes>"
      ]
     },
     "metadata": {},
     "output_type": "display_data"
    }
   ],
   "source": [
    "binary_var('PG_1')"
   ]
  },
  {
   "cell_type": "code",
   "execution_count": 53,
   "metadata": {},
   "outputs": [
    {
     "data": {
      "image/png": "[encoded data removed]",
      "text/plain": [
       "<Figure size 432x288 with 1 Axes>"
      ]
     },
     "metadata": {},
     "output_type": "display_data"
    }
   ],
   "source": [
    "binary_var('PG_2')"
   ]
  },
  {
   "cell_type": "code",
   "execution_count": 54,
   "metadata": {},
   "outputs": [
    {
     "data": {
      "image/png": "[encoded data removed]",
      "text/plain": [
       "<Figure size 432x288 with 1 Axes>"
      ]
     },
     "metadata": {},
     "output_type": "display_data"
    }
   ],
   "source": [
    "binary_var('PG_3')"
   ]
  },
  {
   "cell_type": "code",
   "execution_count": 55,
   "metadata": {},
   "outputs": [
    {
     "data": {
      "image/png": "[encoded data removed]",
      "text/plain": [
       "<Figure size 432x288 with 1 Axes>"
      ]
     },
     "metadata": {},
     "output_type": "display_data"
    }
   ],
   "source": [
    "binary_var('PG_4')"
   ]
  },
  {
   "cell_type": "code",
   "execution_count": 56,
   "metadata": {},
   "outputs": [
    {
     "data": {
      "image/png": "[encoded data removed]",
      "text/plain": [
       "<Figure size 432x288 with 1 Axes>"
      ]
     },
     "metadata": {},
     "output_type": "display_data"
    }
   ],
   "source": [
    "binary_var('PG_5')"
   ]
  },
  {
   "cell_type": "markdown",
   "metadata": {},
   "source": [
    "#### 5.3 Binary variables Cluster_1, Cluster_2"
   ]
  },
  {
   "cell_type": "code",
   "execution_count": 57,
   "metadata": {},
   "outputs": [
    {
     "data": {
      "image/png": "[encoded data removed]",
      "text/plain": [
       "<Figure size 432x288 with 1 Axes>"
      ]
     },
     "metadata": {},
     "output_type": "display_data"
    }
   ],
   "source": [
    "binary_var('Cluster_1')"
   ]
  },
  {
   "cell_type": "markdown",
   "metadata": {},
   "source": [
    "### 6. Selection of variables for linear regression"
   ]
  },
  {
   "cell_type": "markdown",
   "metadata": {},
   "source": [
    "Although linear regression is not the best fit for our dataset, to compare the results generated by linear regression vs the ones of non-linear models (LGBMRegressor, RandomForestRegressor, VotingRegressor), here we select variables for linear regression.\n",
    "\n",
    "Distribution of points and pca_composit variables is more or less close to normal. All 4 variables have low correlation between each other and acceptable correlation with the target (0.611, 0.371, -0.165 and 0.064 correspondingly).\n",
    "\n",
    "Distributions of two other numerical target encoded variables - MedPriceByProvince and MedPriceByCountry significantly departs from normal. Another pair - MedPriceByWinery and MedPriceByDesignation has low correlation with the target (0.147 and 0.038 correspondingly). We should also notice that MedPriceByWinery is strongly correlated with pca_composit_1 and pca_composit_2 (0.78 and 0.88) - another argument for rejection. To address multicollinearity problem, we should also reject MedPriceByVariety and  MedPriceByRegion. They are highly correlated with pca_composit variables (0.67 and 0.69 correspondingly).\n",
    "\n",
    "Categorical variable points_group looks promising but it is highly correlated with points (corr = 0.937). So, between two of them points has been chosen as the more informative.Among 5 binary variables PG1, PG_2, PG_3, PG_4 and PG_5, PG_1 is too large to influence the target while PG_5 does not contain enough observations. Binary variable Cluster_1 is added to the list.\n",
    "\n",
    "So, the final selection:\n",
    "['points', 'pca_composit_1', 'pca_composit_2', 'pca_composit_3', 'PG_2', 'PG_3', 'PG_4', 'Cluster_1']"
   ]
  },
  {
   "cell_type": "code",
   "execution_count": 58,
   "metadata": {},
   "outputs": [
    {
     "name": "stdout",
     "output_type": "stream",
     "text": [
      "The coefficient of determination = 0.46923451169935093\n",
      "Adjusted coefficient of determination = 0.46918809627905955\n"
     ]
    }
   ],
   "source": [
    "var_list = ['points', 'pca_composit_1', 'pca_composit_2','pca_composit_3',            \n",
    "           'PG_2', 'PG_3', 'PG_4', 'Cluster_1']\n",
    "\n",
    "X_train_linear = np.array(X_train[var_list].fillna(0))\n",
    "model = LinearRegression(fit_intercept = True, normalize=True).fit(X_train_linear, np.log(y_train))\n",
    "\n",
    "r2 = model.score(X_train_linear, np.log(y_train.price))\n",
    "print(f'The coefficient of determination = {r2}')\n",
    "\n",
    "n = X_train.shape[0]\n",
    "p = len(var_list) + 1\n",
    "r2_adj = 1 - (1 - r2) * (n - 1) / (n - p - 1)\n",
    "print(f'Adjusted coefficient of determination = {r2_adj}')"
   ]
  },
  {
   "cell_type": "markdown",
   "metadata": {},
   "source": [
    "#### Statistical analysis of the regression equation"
   ]
  },
  {
   "cell_type": "code",
   "execution_count": 59,
   "metadata": {},
   "outputs": [
    {
     "name": "stdout",
     "output_type": "stream",
     "text": [
      "F-test statistic = 11373.245, Student's t statistic = 1.939.\n",
      "The regression equation is statistically significant\n"
     ]
    }
   ],
   "source": [
    "k1 = len(var_list)\n",
    "k2 = n - k1 - 1\n",
    "F = (r2 / k1) / ((1 - r2) / k2)\n",
    "\n",
    "alpha = 0.05\n",
    "t = stats.f.ppf(1 - alpha, k1, k2)\n",
    "print(f\"F-test statistic = {round(F, 3)}, Student's t statistic = {round(t, 3)}.\")\n",
    "print('The regression equation is statistically significant')"
   ]
  },
  {
   "cell_type": "code",
   "execution_count": 60,
   "metadata": {},
   "outputs": [
    {
     "name": "stdout",
     "output_type": "stream",
     "text": [
      "Mean of residuals = 3.957738087667503e-16\n"
     ]
    },
    {
     "data": {
      "image/png": "[encoded data removed]",
      "text/plain": [
       "<Figure size 432x288 with 1 Axes>"
      ]
     },
     "metadata": {},
     "output_type": "display_data"
    }
   ],
   "source": [
    "b = model.coef_[0]\n",
    "y_pred = X_train_linear.dot(b) + model.intercept_\n",
    "\n",
    "e = np.log(y_train.price) - y_pred\n",
    "print(f'Mean of residuals = {e.mean()}')\n",
    "plt.scatter(e[1:],e[:-1])\n",
    "plt.title('Residuals')\n",
    "plt.show()"
   ]
  },
  {
   "cell_type": "markdown",
   "metadata": {},
   "source": [
    "#### Q-Q plot for residuals"
   ]
  },
  {
   "cell_type": "code",
   "execution_count": 61,
   "metadata": {},
   "outputs": [
    {
     "data": {
      "image/png": "[encoded data removed]",
      "text/plain": [
       "<Figure size 432x288 with 1 Axes>"
      ]
     },
     "metadata": {},
     "output_type": "display_data"
    }
   ],
   "source": [
    "probplot(e, dist=\"norm\", plot=pylab)\n",
    "pylab.show()"
   ]
  }
 ],
 "metadata": {
  "kernelspec": {
   "display_name": "Python 3",
   "language": "python",
   "name": "python3"
  },
  "language_info": {
   "codemirror_mode": {
    "name": "ipython",
    "version": 3
   },
   "file_extension": ".py",
   "mimetype": "text/x-python",
   "name": "python",
   "nbconvert_exporter": "python",
   "pygments_lexer": "ipython3",
   "version": "3.8.2"
  }
 },
 "nbformat": 4,
 "nbformat_minor": 4
}
