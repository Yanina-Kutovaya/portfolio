{
 "cells": [
  {
   "cell_type": "code",
   "execution_count": 1,
   "metadata": {},
   "outputs": [],
   "source": [
    "import numpy as np\n",
    "import pandas as pd\n",
    "\n",
    "import scipy.stats as ss\n",
    "\n",
    "\n",
    "from sklearn.decomposition import PCA\n",
    "from sklearn.cluster import KMeans\n",
    "\n",
    "from sklearn.model_selection import train_test_split\n",
    "from sklearn.model_selection import StratifiedKFold\n",
    "\n",
    "from imblearn.over_sampling import RandomOverSampler\n",
    "from sklearn.metrics import classification_report, f1_score, precision_score, recall_score, roc_auc_score\n",
    "\n",
    "from sklearn.linear_model import LogisticRegression\n",
    "import catboost as catb\n",
    "from sklearn.ensemble import ExtraTreesClassifier, RandomForestClassifier, AdaBoostClassifier, VotingClassifier\n",
    "\n",
    "from collections import Counter\n",
    "\n",
    "import matplotlib.pyplot as plt\n",
    "import seaborn as sns\n",
    "%matplotlib inline\n",
    "\n",
    "from pprint import pprint"
   ]
  },
  {
   "cell_type": "code",
   "execution_count": 2,
   "metadata": {},
   "outputs": [],
   "source": [
    "import warnings\n",
    "warnings.filterwarnings('ignore')"
   ]
  },
  {
   "cell_type": "markdown",
   "metadata": {},
   "source": [
    "## Построение модели классификации"
   ]
  },
  {
   "cell_type": "markdown",
   "metadata": {},
   "source": [
    "### 1. Обзор обучающего датасета\n"
   ]
  },
  {
   "cell_type": "markdown",
   "metadata": {},
   "source": [
    "#### Описание датасета\n",
    "\n",
    "* Home Ownership - домовладение\n",
    "* Annual Income - годовой доход\n",
    "* Years in current job - количество лет на текущем месте работы\n",
    "* Tax Liens - налоговые обременения\n",
    "* Number of Open Accounts - количество открытых счетов\n",
    "* Years of Credit History - количество лет кредитной истории\n",
    "* Maximum Open Credit - наибольший открытый кредит\n",
    "* Number of Credit Problems - количество проблем с кредитом\n",
    "* Months since last delinquent - количество месяцев с последней просрочки платежа\n",
    "* Bankruptcies - банкротства\n",
    "* Purpose - цель кредита\n",
    "* Term - срок кредита\n",
    "* Current Loan Amount - текущая сумма кредита\n",
    "* Current Credit Balance - текущий кредитный баланс\n",
    "* Monthly Debt - ежемесячный долг\n",
    "* Credit Default - факт невыполнения кредитных обязательств (0 - погашен вовремя, 1 - просрочка)"
   ]
  },
  {
   "cell_type": "markdown",
   "metadata": {},
   "source": [
    "#### Пути к директориям и файлам"
   ]
  },
  {
   "cell_type": "code",
   "execution_count": 3,
   "metadata": {},
   "outputs": [],
   "source": [
    "PATH = 'C:/Users/ASER/Desktop/GeekBrains/ML_project/'\n",
    "TRAIN_DATASET_PATH = PATH + 'course_project_train.csv'\n",
    "TEST_DATASET_PATH = PATH + 'course_project_test.csv'\n",
    "PREP_DATASET_PATH = PATH + 'course_project_prep_train.csv'"
   ]
  },
  {
   "cell_type": "markdown",
   "metadata": {},
   "source": [
    "### 2. Загрузка данных"
   ]
  },
  {
   "cell_type": "code",
   "execution_count": 4,
   "metadata": {},
   "outputs": [
    {
     "data": {
      "text/html": [
       "<div>\n",
       "<style scoped>\n",
       "    .dataframe tbody tr th:only-of-type {\n",
       "        vertical-align: middle;\n",
       "    }\n",
       "\n",
       "    .dataframe tbody tr th {\n",
       "        vertical-align: top;\n",
       "    }\n",
       "\n",
       "    .dataframe thead th {\n",
       "        text-align: right;\n",
       "    }\n",
       "</style>\n",
       "<table border=\"1\" class=\"dataframe\">\n",
       "  <thead>\n",
       "    <tr style=\"text-align: right;\">\n",
       "      <th></th>\n",
       "      <th>Home Ownership</th>\n",
       "      <th>Annual Income</th>\n",
       "      <th>Years in current job</th>\n",
       "      <th>Tax Liens</th>\n",
       "      <th>Number of Open Accounts</th>\n",
       "      <th>Years of Credit History</th>\n",
       "      <th>Maximum Open Credit</th>\n",
       "      <th>Number of Credit Problems</th>\n",
       "      <th>Months since last delinquent</th>\n",
       "      <th>Bankruptcies</th>\n",
       "      <th>Purpose</th>\n",
       "      <th>Term</th>\n",
       "      <th>Current Loan Amount</th>\n",
       "      <th>Current Credit Balance</th>\n",
       "      <th>Monthly Debt</th>\n",
       "      <th>Credit Score</th>\n",
       "      <th>Credit Default</th>\n",
       "    </tr>\n",
       "  </thead>\n",
       "  <tbody>\n",
       "    <tr>\n",
       "      <th>0</th>\n",
       "      <td>Own Home</td>\n",
       "      <td>482087.0</td>\n",
       "      <td>NaN</td>\n",
       "      <td>0.0</td>\n",
       "      <td>11.0</td>\n",
       "      <td>26.3</td>\n",
       "      <td>685960.0</td>\n",
       "      <td>1.0</td>\n",
       "      <td>NaN</td>\n",
       "      <td>1.0</td>\n",
       "      <td>debt consolidation</td>\n",
       "      <td>Short Term</td>\n",
       "      <td>99999999.0</td>\n",
       "      <td>47386.0</td>\n",
       "      <td>7914.0</td>\n",
       "      <td>749.0</td>\n",
       "      <td>0</td>\n",
       "    </tr>\n",
       "    <tr>\n",
       "      <th>1</th>\n",
       "      <td>Own Home</td>\n",
       "      <td>1025487.0</td>\n",
       "      <td>10+ years</td>\n",
       "      <td>0.0</td>\n",
       "      <td>15.0</td>\n",
       "      <td>15.3</td>\n",
       "      <td>1181730.0</td>\n",
       "      <td>0.0</td>\n",
       "      <td>NaN</td>\n",
       "      <td>0.0</td>\n",
       "      <td>debt consolidation</td>\n",
       "      <td>Long Term</td>\n",
       "      <td>264968.0</td>\n",
       "      <td>394972.0</td>\n",
       "      <td>18373.0</td>\n",
       "      <td>737.0</td>\n",
       "      <td>1</td>\n",
       "    </tr>\n",
       "  </tbody>\n",
       "</table>\n",
       "</div>"
      ],
      "text/plain": [
       "  Home Ownership  Annual Income Years in current job  Tax Liens  \\\n",
       "0       Own Home       482087.0                  NaN        0.0   \n",
       "1       Own Home      1025487.0            10+ years        0.0   \n",
       "\n",
       "   Number of Open Accounts  Years of Credit History  Maximum Open Credit  \\\n",
       "0                     11.0                     26.3             685960.0   \n",
       "1                     15.0                     15.3            1181730.0   \n",
       "\n",
       "   Number of Credit Problems  Months since last delinquent  Bankruptcies  \\\n",
       "0                        1.0                           NaN           1.0   \n",
       "1                        0.0                           NaN           0.0   \n",
       "\n",
       "              Purpose        Term  Current Loan Amount  \\\n",
       "0  debt consolidation  Short Term           99999999.0   \n",
       "1  debt consolidation   Long Term             264968.0   \n",
       "\n",
       "   Current Credit Balance  Monthly Debt  Credit Score  Credit Default  \n",
       "0                 47386.0        7914.0         749.0               0  \n",
       "1                394972.0       18373.0         737.0               1  "
      ]
     },
     "execution_count": 4,
     "metadata": {},
     "output_type": "execute_result"
    }
   ],
   "source": [
    "df = pd.read_csv(TRAIN_DATASET_PATH)\n",
    "df.head(2)"
   ]
  },
  {
   "cell_type": "code",
   "execution_count": 5,
   "metadata": {},
   "outputs": [
    {
     "name": "stdout",
     "output_type": "stream",
     "text": [
      "X_final.shape (2500, 16)\n"
     ]
    },
    {
     "data": {
      "text/html": [
       "<div>\n",
       "<style scoped>\n",
       "    .dataframe tbody tr th:only-of-type {\n",
       "        vertical-align: middle;\n",
       "    }\n",
       "\n",
       "    .dataframe tbody tr th {\n",
       "        vertical-align: top;\n",
       "    }\n",
       "\n",
       "    .dataframe thead th {\n",
       "        text-align: right;\n",
       "    }\n",
       "</style>\n",
       "<table border=\"1\" class=\"dataframe\">\n",
       "  <thead>\n",
       "    <tr style=\"text-align: right;\">\n",
       "      <th></th>\n",
       "      <th>Home Ownership</th>\n",
       "      <th>Annual Income</th>\n",
       "      <th>Years in current job</th>\n",
       "      <th>Tax Liens</th>\n",
       "      <th>Number of Open Accounts</th>\n",
       "      <th>Years of Credit History</th>\n",
       "      <th>Maximum Open Credit</th>\n",
       "      <th>Number of Credit Problems</th>\n",
       "      <th>Months since last delinquent</th>\n",
       "      <th>Bankruptcies</th>\n",
       "      <th>Purpose</th>\n",
       "      <th>Term</th>\n",
       "      <th>Current Loan Amount</th>\n",
       "      <th>Current Credit Balance</th>\n",
       "      <th>Monthly Debt</th>\n",
       "      <th>Credit Score</th>\n",
       "    </tr>\n",
       "  </thead>\n",
       "  <tbody>\n",
       "    <tr>\n",
       "      <th>0</th>\n",
       "      <td>Rent</td>\n",
       "      <td>NaN</td>\n",
       "      <td>4 years</td>\n",
       "      <td>0.0</td>\n",
       "      <td>9.0</td>\n",
       "      <td>12.5</td>\n",
       "      <td>220968.0</td>\n",
       "      <td>0.0</td>\n",
       "      <td>70.0</td>\n",
       "      <td>0.0</td>\n",
       "      <td>debt consolidation</td>\n",
       "      <td>Short Term</td>\n",
       "      <td>162470.0</td>\n",
       "      <td>105906.0</td>\n",
       "      <td>6813.0</td>\n",
       "      <td>NaN</td>\n",
       "    </tr>\n",
       "    <tr>\n",
       "      <th>1</th>\n",
       "      <td>Rent</td>\n",
       "      <td>231838.0</td>\n",
       "      <td>1 year</td>\n",
       "      <td>0.0</td>\n",
       "      <td>6.0</td>\n",
       "      <td>32.7</td>\n",
       "      <td>55946.0</td>\n",
       "      <td>0.0</td>\n",
       "      <td>8.0</td>\n",
       "      <td>0.0</td>\n",
       "      <td>educational expenses</td>\n",
       "      <td>Short Term</td>\n",
       "      <td>78298.0</td>\n",
       "      <td>46037.0</td>\n",
       "      <td>2318.0</td>\n",
       "      <td>699.0</td>\n",
       "    </tr>\n",
       "  </tbody>\n",
       "</table>\n",
       "</div>"
      ],
      "text/plain": [
       "  Home Ownership  Annual Income Years in current job  Tax Liens  \\\n",
       "0           Rent            NaN              4 years        0.0   \n",
       "1           Rent       231838.0               1 year        0.0   \n",
       "\n",
       "   Number of Open Accounts  Years of Credit History  Maximum Open Credit  \\\n",
       "0                      9.0                     12.5             220968.0   \n",
       "1                      6.0                     32.7              55946.0   \n",
       "\n",
       "   Number of Credit Problems  Months since last delinquent  Bankruptcies  \\\n",
       "0                        0.0                          70.0           0.0   \n",
       "1                        0.0                           8.0           0.0   \n",
       "\n",
       "                Purpose        Term  Current Loan Amount  \\\n",
       "0    debt consolidation  Short Term             162470.0   \n",
       "1  educational expenses  Short Term              78298.0   \n",
       "\n",
       "   Current Credit Balance  Monthly Debt  Credit Score  \n",
       "0                105906.0        6813.0           NaN  \n",
       "1                 46037.0        2318.0         699.0  "
      ]
     },
     "execution_count": 5,
     "metadata": {},
     "output_type": "execute_result"
    }
   ],
   "source": [
    "X_final = pd.read_csv(TEST_DATASET_PATH)\n",
    "print('X_final.shape', X_final.shape)\n",
    "X_final.head(2)"
   ]
  },
  {
   "cell_type": "code",
   "execution_count": 6,
   "metadata": {},
   "outputs": [
    {
     "name": "stdout",
     "output_type": "stream",
     "text": [
      "X.shape =  (7500, 16)\n",
      "y.shape =  (7500,)\n"
     ]
    }
   ],
   "source": [
    "TARGET_NAME = 'Credit Default'\n",
    "X = df.drop(TARGET_NAME, axis=1)\n",
    "y = df[TARGET_NAME]\n",
    "print('X.shape = ', X.shape)\n",
    "print('y.shape = ', y.shape)"
   ]
  },
  {
   "cell_type": "code",
   "execution_count": 7,
   "metadata": {},
   "outputs": [],
   "source": [
    "NUMERIC_FEATURE_NAMES = ['Annual Income', 'Number of Open Accounts', 'Years of Credit History',\n",
    "                         'Maximum Open Credit', 'Number of Credit Problems', \n",
    "                         'Months since last delinquent', 'Bankruptcies', 'Current Loan Amount',\n",
    "                         'Current Credit Balance', 'Monthly Debt', 'Credit Score']\n",
    "\n",
    "CATEGORICAL_FEATURE_NAMES = ['Home Ownership', 'Years in current job', 'Tax Liens', 'Purpose', 'Term']"
   ]
  },
  {
   "cell_type": "markdown",
   "metadata": {},
   "source": [
    "### 3. Анализ целевой переменной"
   ]
  },
  {
   "cell_type": "markdown",
   "metadata": {},
   "source": [
    "### 3.1 Обзор распределения"
   ]
  },
  {
   "cell_type": "code",
   "execution_count": 8,
   "metadata": {},
   "outputs": [
    {
     "data": {
      "text/plain": [
       "0    5387\n",
       "1    2113\n",
       "Name: Credit Default, dtype: int64"
      ]
     },
     "execution_count": 8,
     "metadata": {},
     "output_type": "execute_result"
    }
   ],
   "source": [
    "y.value_counts()"
   ]
  },
  {
   "cell_type": "code",
   "execution_count": 9,
   "metadata": {},
   "outputs": [
    {
     "data": {
      "image/png": "[encoded data removed]",
      "text/plain": [
       "<Figure size 360x288 with 1 Axes>"
      ]
     },
     "metadata": {
      "needs_background": "light"
     },
     "output_type": "display_data"
    }
   ],
   "source": [
    "plt.figure(figsize=(5, 4))\n",
    "\n",
    "sns.countplot(x=TARGET_NAME, data=df)\n",
    "\n",
    "plt.title('Target variable distribution')\n",
    "plt.show()"
   ]
  },
  {
   "cell_type": "markdown",
   "metadata": {},
   "source": [
    "### 3.2 Оценка признаков в в разрезе целевой переменной"
   ]
  },
  {
   "cell_type": "markdown",
   "metadata": {},
   "source": [
    "### A. Количественные признаки"
   ]
  },
  {
   "cell_type": "markdown",
   "metadata": {},
   "source": [
    "**Корреляция с базовыми признаками**"
   ]
  },
  {
   "cell_type": "code",
   "execution_count": 10,
   "metadata": {},
   "outputs": [
    {
     "data": {
      "image/png": "[encoded data removed]",
      "text/plain": [
       "<Figure size 720x576 with 1 Axes>"
      ]
     },
     "metadata": {
      "needs_background": "light"
     },
     "output_type": "display_data"
    }
   ],
   "source": [
    "corr_with_target = df[NUMERIC_FEATURE_NAMES + [TARGET_NAME]].corr().iloc[:-1, -1].sort_values(ascending=False)\n",
    "\n",
    "plt.figure(figsize=(10, 8))\n",
    "\n",
    "sns.barplot(x=corr_with_target.values, y=corr_with_target.index)\n",
    "\n",
    "plt.title('Correlation with target variable')\n",
    "plt.show()"
   ]
  },
  {
   "cell_type": "code",
   "execution_count": 11,
   "metadata": {},
   "outputs": [],
   "source": [
    "def var_target_plot(var_name, t1=None, t2=None):\n",
    "    var_target_0 = df.loc[df[TARGET_NAME] == 0, var_name]\n",
    "    var_target_1 = df.loc[df[TARGET_NAME] == 1, var_name]\n",
    "    \n",
    "    if not (t1 and t2):    \n",
    "        t1 = min(df[var_name])\n",
    "        t2 = max(df[var_name])\n",
    "    else:\n",
    "        t1 = min(df.loc[(df[var_name] >= t1) & (df[var_name] <= t2), var_name])\n",
    "        t2 = max(df.loc[(df[var_name] >= t1) & (df[var_name] <= t2), var_name])\n",
    "    print(f'min: {t1}, max: {t2}')\n",
    "    if t1 == t2:\n",
    "        t1 -= 1\n",
    "\n",
    "    bins = np.linspace(t1, t2, 50)\n",
    "    plt.figure(figsize=(8,4))\n",
    "    plt.hist(var_target_0, bins, density=True, alpha=0.5, label='No default')\n",
    "    plt.hist(var_target_1, bins, density=True, alpha=0.5, label='Default')\n",
    "    plt.legend(bbox_to_anchor=(1.2,1), loc='upper right')\n",
    "    plt.show()\n",
    "    \n",
    "    \n",
    "def distribution_diff(var_name):\n",
    "    var_target_0 = df.loc[df[TARGET_NAME] == 0, var_name].value_counts(normalize=True)\n",
    "    var_target_1 = df.loc[df[TARGET_NAME] == 1, var_name].value_counts(normalize=True)\n",
    "    return var_target_0 - var_target_1"
   ]
  },
  {
   "cell_type": "code",
   "execution_count": 12,
   "metadata": {},
   "outputs": [],
   "source": [
    "def chi2_test(var_name, a):\n",
    "    f = df[[var_name, TARGET_NAME]].copy()\n",
    "    for i in range(1, len(a)):     \n",
    "        f.loc[(f[var_name] >= a[i - 1]) & (f[var_name] < a[i]), 'group'] = i    \n",
    "\n",
    "    for i in range(1, len(a)-1):       \n",
    "        p_list = []\n",
    "        for _ in range(20):\n",
    "            var_and_target = f.loc[f['group'].isin([i, i + 1]), ['group', var_name, TARGET_NAME]]\n",
    "            if var_and_target.shape[0] < 1000:\n",
    "                var_and_target_s = var_and_target\n",
    "            else:\n",
    "                var_and_target_s = var_and_target.sample(1000)\n",
    "            \n",
    "            table = var_and_target_s.pivot_table(values=var_name, index='group', columns=TARGET_NAME, aggfunc='count')\n",
    "            chi2, p, dof, expected = ss.chi2_contingency(table, correction=False)\n",
    "            \n",
    "            p_list.append(p)\n",
    "        print(f'p = {round(np.array(p_list).mean(),2)} \\t{a[i]} - {a[i+1]}')"
   ]
  },
  {
   "cell_type": "markdown",
   "metadata": {},
   "source": [
    "#### 1. Credit Score"
   ]
  },
  {
   "cell_type": "code",
   "execution_count": 13,
   "metadata": {},
   "outputs": [
    {
     "name": "stdout",
     "output_type": "stream",
     "text": [
      "min: 585.0, max: 7510.0\n"
     ]
    },
    {
     "data": {
      "image/png": "[encoded data removed]",
      "text/plain": [
       "<Figure size 576x288 with 1 Axes>"
      ]
     },
     "metadata": {
      "needs_background": "light"
     },
     "output_type": "display_data"
    }
   ],
   "source": [
    "var_name = 'Credit Score'\n",
    "var_target_plot(var_name)"
   ]
  },
  {
   "cell_type": "markdown",
   "metadata": {},
   "source": [
    "Признак Credit Score анализируем в двух диапазонах 580-1000 и 1000-7510"
   ]
  },
  {
   "cell_type": "code",
   "execution_count": 14,
   "metadata": {},
   "outputs": [
    {
     "name": "stdout",
     "output_type": "stream",
     "text": [
      "min: 585.0, max: 751.0\n"
     ]
    },
    {
     "data": {
      "image/png": "[encoded data removed]",
      "text/plain": [
       "<Figure size 576x288 with 1 Axes>"
      ]
     },
     "metadata": {
      "needs_background": "light"
     },
     "output_type": "display_data"
    }
   ],
   "source": [
    "var_target_plot(var_name, 585, 1000)"
   ]
  },
  {
   "cell_type": "markdown",
   "metadata": {},
   "source": [
    "* При Credit Score до 710 наблюдается высокая плотность дефолтов\n",
    "* При Credit Score 710 - 730 уровень дефолтов снижается\n",
    "* В диапазоне Credit Score 730-742 ситуация преломляется в пользу бездефолтных кредитов \n",
    "* В диапазоне Credit Score 742-754 уровень дефолтов самый низкий "
   ]
  },
  {
   "cell_type": "code",
   "execution_count": 15,
   "metadata": {},
   "outputs": [
    {
     "name": "stdout",
     "output_type": "stream",
     "text": [
      "min: 6060.0, max: 7510.0\n"
     ]
    },
    {
     "data": {
      "image/png": "[encoded data removed]",
      "text/plain": [
       "<Figure size 576x288 with 1 Axes>"
      ]
     },
     "metadata": {
      "needs_background": "light"
     },
     "output_type": "display_data"
    }
   ],
   "source": [
    "var_target_plot(var_name, 1000, 7510)"
   ]
  },
  {
   "cell_type": "markdown",
   "metadata": {},
   "source": [
    "При значениях Credit Score выше 6000 целевая переменная равна 1 (100% дефолт)"
   ]
  },
  {
   "cell_type": "markdown",
   "metadata": {},
   "source": [
    "#### 2. Current Loan Amount"
   ]
  },
  {
   "cell_type": "code",
   "execution_count": 16,
   "metadata": {},
   "outputs": [
    {
     "name": "stdout",
     "output_type": "stream",
     "text": [
      "min: 11242.0, max: 99999999.0\n"
     ]
    },
    {
     "data": {
      "image/png": "[encoded data removed]",
      "text/plain": [
       "<Figure size 576x288 with 1 Axes>"
      ]
     },
     "metadata": {
      "needs_background": "light"
     },
     "output_type": "display_data"
    }
   ],
   "source": [
    "var_name = 'Current Loan Amount'\n",
    "var_target_plot(var_name)"
   ]
  },
  {
   "cell_type": "markdown",
   "metadata": {},
   "source": [
    "Признак Current Loan Amount нужно анализировать в двух диапазонах до 1 млн. и выше 1 млн."
   ]
  },
  {
   "cell_type": "code",
   "execution_count": 17,
   "metadata": {},
   "outputs": [
    {
     "name": "stdout",
     "output_type": "stream",
     "text": [
      "min: 11242.0, max: 789030.0\n"
     ]
    },
    {
     "data": {
      "image/png": "[encoded data removed]",
      "text/plain": [
       "<Figure size 576x288 with 1 Axes>"
      ]
     },
     "metadata": {
      "needs_background": "light"
     },
     "output_type": "display_data"
    }
   ],
   "source": [
    "var_target_plot(var_name,  11242.0, 1e+06)"
   ]
  },
  {
   "cell_type": "markdown",
   "metadata": {},
   "source": [
    "В диапазоне до 790 тыс неблюдается следующая картина:\n",
    "* Самый низкий уровень дефолтов при значении Current Loan Amount до 250 тыс.\n",
    "* Средний уровень при значении признака 250-500 тыс.\n",
    "* Самый высокий уровень дефолтов в диапазоне 500-800тыс."
   ]
  },
  {
   "cell_type": "code",
   "execution_count": 18,
   "metadata": {},
   "outputs": [
    {
     "name": "stdout",
     "output_type": "stream",
     "text": [
      "min: 99999999.0, max: 99999999.0\n"
     ]
    },
    {
     "data": {
      "image/png": "[encoded data removed]",
      "text/plain": [
       "<Figure size 576x288 with 1 Axes>"
      ]
     },
     "metadata": {
      "needs_background": "light"
     },
     "output_type": "display_data"
    }
   ],
   "source": [
    "var_target_plot('Current Loan Amount', 1e+06, 99999999)"
   ]
  },
  {
   "cell_type": "markdown",
   "metadata": {},
   "source": [
    "В диапазоне выше 1 млн. есть единственное значение Current Loan Amount: 99999999. Оно соответствует полному отсутствию дефолтов."
   ]
  },
  {
   "cell_type": "markdown",
   "metadata": {},
   "source": [
    "#### 3. Annual Income"
   ]
  },
  {
   "cell_type": "code",
   "execution_count": 19,
   "metadata": {},
   "outputs": [
    {
     "name": "stdout",
     "output_type": "stream",
     "text": [
      "min: 164597.0, max: 10149344.0\n"
     ]
    },
    {
     "data": {
      "image/png": "[encoded data removed]",
      "text/plain": [
       "<Figure size 576x288 with 1 Axes>"
      ]
     },
     "metadata": {
      "needs_background": "light"
     },
     "output_type": "display_data"
    }
   ],
   "source": [
    "var_name = 'Annual Income'\n",
    "var_target_plot(var_name)"
   ]
  },
  {
   "cell_type": "markdown",
   "metadata": {},
   "source": [
    "Рассмотрим 2 диапазона Annual Income: до 3 млн. и выше 3 млн."
   ]
  },
  {
   "cell_type": "code",
   "execution_count": 20,
   "metadata": {},
   "outputs": [
    {
     "name": "stdout",
     "output_type": "stream",
     "text": [
      "min: 164597.0, max: 2997497.0\n"
     ]
    },
    {
     "data": {
      "image/png": "[encoded data removed]",
      "text/plain": [
       "<Figure size 576x288 with 1 Axes>"
      ]
     },
     "metadata": {
      "needs_background": "light"
     },
     "output_type": "display_data"
    }
   ],
   "source": [
    "var_target_plot(var_name,  164597, 3e+06)"
   ]
  },
  {
   "cell_type": "markdown",
   "metadata": {},
   "source": [
    "* При Annual Income до 1.1 млн наблюдается самая высокая вероятность дефолта\n",
    "* В диапазоне 1.1-3 млн. вероятность дефолта заметно снижается."
   ]
  },
  {
   "cell_type": "code",
   "execution_count": 21,
   "metadata": {},
   "outputs": [
    {
     "name": "stdout",
     "output_type": "stream",
     "text": [
      "min: 3009201.0, max: 10149344.0\n"
     ]
    },
    {
     "data": {
      "image/png": "[encoded data removed]",
      "text/plain": [
       "<Figure size 576x288 with 1 Axes>"
      ]
     },
     "metadata": {
      "needs_background": "light"
     },
     "output_type": "display_data"
    }
   ],
   "source": [
    "var_target_plot(var_name,  3e+06, 10149344)"
   ]
  },
  {
   "cell_type": "markdown",
   "metadata": {},
   "source": [
    "Далее выделяются диапазоны 3-5 млн. и выше 5 млн"
   ]
  },
  {
   "cell_type": "markdown",
   "metadata": {},
   "source": [
    "#### 4. Number of Open Accounts"
   ]
  },
  {
   "cell_type": "code",
   "execution_count": 22,
   "metadata": {},
   "outputs": [
    {
     "name": "stdout",
     "output_type": "stream",
     "text": [
      "min: 2.0, max: 43.0\n"
     ]
    },
    {
     "data": {
      "image/png": "[encoded data removed]",
      "text/plain": [
       "<Figure size 576x288 with 1 Axes>"
      ]
     },
     "metadata": {
      "needs_background": "light"
     },
     "output_type": "display_data"
    }
   ],
   "source": [
    "var_target_plot('Number of Open Accounts')"
   ]
  },
  {
   "cell_type": "markdown",
   "metadata": {},
   "source": [
    "* При Number of Open Accounts до 8 включительно, наблюдается самый низкий уровень дефолтов\n",
    "* В диапазоне 9-12 ситуация ухудшается\n",
    "* При Number of Open Accounts выше 12 уровеньь дефолтов самый высокий "
   ]
  },
  {
   "cell_type": "markdown",
   "metadata": {},
   "source": [
    "#### 5. Monthly Debt"
   ]
  },
  {
   "cell_type": "code",
   "execution_count": 23,
   "metadata": {},
   "outputs": [
    {
     "name": "stdout",
     "output_type": "stream",
     "text": [
      "min: 0.0, max: 136679.0\n"
     ]
    },
    {
     "data": {
      "image/png": "[encoded data removed]",
      "text/plain": [
       "<Figure size 576x288 with 1 Axes>"
      ]
     },
     "metadata": {
      "needs_background": "light"
     },
     "output_type": "display_data"
    }
   ],
   "source": [
    "var_target_plot('Monthly Debt')"
   ]
  },
  {
   "cell_type": "markdown",
   "metadata": {},
   "source": [
    "* При Monthly Debt ниже 6 тыс. уровень дефолтов самый низкий\n",
    "* Далее ситуация постепенно ухудшается в диапазонах 6-10, выше 10 тыс."
   ]
  },
  {
   "cell_type": "markdown",
   "metadata": {},
   "source": [
    "#### 6. Years of Credit History"
   ]
  },
  {
   "cell_type": "code",
   "execution_count": 24,
   "metadata": {},
   "outputs": [
    {
     "name": "stdout",
     "output_type": "stream",
     "text": [
      "min: 4.0, max: 57.7\n"
     ]
    },
    {
     "data": {
      "image/png": "[encoded data removed]",
      "text/plain": [
       "<Figure size 576x288 with 1 Axes>"
      ]
     },
     "metadata": {
      "needs_background": "light"
     },
     "output_type": "display_data"
    }
   ],
   "source": [
    "var_target_plot('Years of Credit History')"
   ]
  },
  {
   "cell_type": "markdown",
   "metadata": {},
   "source": [
    "* Самый высокий уровень дефолтов наблюдается при Years of Credit History до 10\n",
    "* Далее он постепенно снижается в диапазонах 10-13, выше 13-28, а после 28 снова возрастает"
   ]
  },
  {
   "cell_type": "markdown",
   "metadata": {},
   "source": [
    "#### 7. Current Credit Balance"
   ]
  },
  {
   "cell_type": "code",
   "execution_count": 25,
   "metadata": {},
   "outputs": [
    {
     "name": "stdout",
     "output_type": "stream",
     "text": [
      "min: 0.0, max: 6506797.0\n"
     ]
    },
    {
     "data": {
      "image/png": "[encoded data removed]",
      "text/plain": [
       "<Figure size 576x288 with 1 Axes>"
      ]
     },
     "metadata": {
      "needs_background": "light"
     },
     "output_type": "display_data"
    }
   ],
   "source": [
    "var_name = 'Current Credit Balance'\n",
    "var_target_plot(var_name)"
   ]
  },
  {
   "cell_type": "markdown",
   "metadata": {},
   "source": [
    "Рассмотрим диапазоны Current Credit Balance до 500 тыс и выше"
   ]
  },
  {
   "cell_type": "code",
   "execution_count": 26,
   "metadata": {},
   "outputs": [
    {
     "name": "stdout",
     "output_type": "stream",
     "text": [
      "min: 19.0, max: 499852.0\n"
     ]
    },
    {
     "data": {
      "image/png": "[encoded data removed]",
      "text/plain": [
       "<Figure size 576x288 with 1 Axes>"
      ]
     },
     "metadata": {
      "needs_background": "light"
     },
     "output_type": "display_data"
    }
   ],
   "source": [
    "var_target_plot(var_name, 0.1, 5e+05)"
   ]
  },
  {
   "cell_type": "markdown",
   "metadata": {},
   "source": [
    "* В диапазоне  до 500 тыс Current Credit Balance ведет себя нестабильно, какие-то тенденции заметит сложно.\n",
    "* Нужно проанализировать, поможет ли укрупннение диапазонов до 110 тыс, 110-170, 170-320, 320-500 тыс, выявлению какой-то функциональной зависимости."
   ]
  },
  {
   "cell_type": "code",
   "execution_count": 27,
   "metadata": {},
   "outputs": [
    {
     "name": "stdout",
     "output_type": "stream",
     "text": [
      "min: 500232.0, max: 6506797.0\n"
     ]
    },
    {
     "data": {
      "image/png": "[encoded data removed]",
      "text/plain": [
       "<Figure size 576x288 with 1 Axes>"
      ]
     },
     "metadata": {
      "needs_background": "light"
     },
     "output_type": "display_data"
    }
   ],
   "source": [
    "var_target_plot(var_name, 5e+05, 6506797)"
   ]
  },
  {
   "cell_type": "markdown",
   "metadata": {},
   "source": [
    "* Диапазон выше 500 тыс. также нужно анализировать дополнительно\n",
    "* Сгруппируем все частоты в один список и проведем chi2_contingency тесты для каждого диапазона, наиная с 0"
   ]
  },
  {
   "cell_type": "code",
   "execution_count": 28,
   "metadata": {},
   "outputs": [
    {
     "name": "stdout",
     "output_type": "stream",
     "text": [
      "p = 0.4 \t110000.0 - 170000.0\n",
      "p = 0.33 \t170000.0 - 320000.0\n",
      "p = 0.43 \t320000.0 - 500000.0\n",
      "p = 0.52 \t500000.0 - 6600000.0\n"
     ]
    }
   ],
   "source": [
    "a = [0, 1.1e+05, 1.7e+05, 3.2e+05, 5e+05, 6.6e+06]\n",
    "chi2_test(var_name, a)"
   ]
  },
  {
   "cell_type": "markdown",
   "metadata": {},
   "source": [
    "У всех диапазонов p-value существенно выше 0.05, разбить признак на группы не получится, использовать его в модели не будем."
   ]
  },
  {
   "cell_type": "code",
   "execution_count": 29,
   "metadata": {},
   "outputs": [],
   "source": [
    "NUMERIC_FEATURE_NAMES.remove(var_name)"
   ]
  },
  {
   "cell_type": "markdown",
   "metadata": {},
   "source": [
    "#### 8. Maximum Open Credit"
   ]
  },
  {
   "cell_type": "code",
   "execution_count": 30,
   "metadata": {},
   "outputs": [
    {
     "name": "stdout",
     "output_type": "stream",
     "text": [
      "min: 0.0, max: 1304726170.0\n"
     ]
    },
    {
     "data": {
      "image/png": "[encoded data removed]",
      "text/plain": [
       "<Figure size 576x288 with 1 Axes>"
      ]
     },
     "metadata": {
      "needs_background": "light"
     },
     "output_type": "display_data"
    }
   ],
   "source": [
    "var_name = 'Maximum Open Credit'\n",
    "var_target_plot(var_name)"
   ]
  },
  {
   "cell_type": "markdown",
   "metadata": {},
   "source": [
    "Рассмотрим 2 диапазона Maximum Open Credit: до 7 млн и выше"
   ]
  },
  {
   "cell_type": "code",
   "execution_count": 31,
   "metadata": {},
   "outputs": [
    {
     "name": "stdout",
     "output_type": "stream",
     "text": [
      "min: 4334.0, max: 6890070.0\n"
     ]
    },
    {
     "data": {
      "image/png": "[encoded data removed]",
      "text/plain": [
       "<Figure size 576x288 with 1 Axes>"
      ]
     },
     "metadata": {
      "needs_background": "light"
     },
     "output_type": "display_data"
    }
   ],
   "source": [
    "var_target_plot(var_name, 0.1, 7e+06)"
   ]
  },
  {
   "cell_type": "markdown",
   "metadata": {},
   "source": [
    "Отдельно рассмотрим диапазон до 600 тыс."
   ]
  },
  {
   "cell_type": "code",
   "execution_count": 32,
   "metadata": {},
   "outputs": [
    {
     "name": "stdout",
     "output_type": "stream",
     "text": [
      "min: 4334.0, max: 599984.0\n"
     ]
    },
    {
     "data": {
      "image/png": "[encoded data removed]",
      "text/plain": [
       "<Figure size 576x288 with 1 Axes>"
      ]
     },
     "metadata": {
      "needs_background": "light"
     },
     "output_type": "display_data"
    }
   ],
   "source": [
    "var_target_plot(var_name, 0.1, 6e+05)"
   ]
  },
  {
   "cell_type": "markdown",
   "metadata": {},
   "source": [
    "* Самый высокий уровень дефолтов наблюдается при Maximum Open Credit до 170 тыс.\n",
    "* В диапазонах 170-600, 600-800 тыс., 800 тыс.-7 млн. уровень дефолтов постепенно снижается"
   ]
  },
  {
   "cell_type": "code",
   "execution_count": 33,
   "metadata": {},
   "outputs": [
    {
     "name": "stdout",
     "output_type": "stream",
     "text": [
      "min: 7204516.0, max: 1304726170.0\n"
     ]
    },
    {
     "data": {
      "image/png": "[encoded data removed]",
      "text/plain": [
       "<Figure size 576x288 with 1 Axes>"
      ]
     },
     "metadata": {
      "needs_background": "light"
     },
     "output_type": "display_data"
    }
   ],
   "source": [
    "var_target_plot(var_name, 7e+06, 1304726170)"
   ]
  },
  {
   "cell_type": "markdown",
   "metadata": {},
   "source": [
    "В диапазоне выше 7 млн. дефолтов не наблюдается"
   ]
  },
  {
   "cell_type": "markdown",
   "metadata": {},
   "source": [
    "#### 9. Months since last delinquent"
   ]
  },
  {
   "cell_type": "code",
   "execution_count": 34,
   "metadata": {},
   "outputs": [
    {
     "name": "stdout",
     "output_type": "stream",
     "text": [
      "min: 1.0, max: 92.0\n"
     ]
    },
    {
     "data": {
      "image/png": "[encoded data removed]",
      "text/plain": [
       "<Figure size 576x288 with 1 Axes>"
      ]
     },
     "metadata": {
      "needs_background": "light"
     },
     "output_type": "display_data"
    }
   ],
   "source": [
    "var_name = 'Months since last delinquent'\n",
    "var_target_plot(var_name, 0.1, 100)"
   ]
  },
  {
   "cell_type": "markdown",
   "metadata": {},
   "source": [
    "Разобъем Months since last delinquent на 2 диапазона: до 36 и после."
   ]
  },
  {
   "cell_type": "code",
   "execution_count": 35,
   "metadata": {},
   "outputs": [
    {
     "name": "stdout",
     "output_type": "stream",
     "text": [
      "min: 1.0, max: 36.0\n"
     ]
    },
    {
     "data": {
      "image/png": "[encoded data removed]",
      "text/plain": [
       "<Figure size 576x288 with 1 Axes>"
      ]
     },
     "metadata": {
      "needs_background": "light"
     },
     "output_type": "display_data"
    }
   ],
   "source": [
    "var_target_plot(var_name, 1, 36)"
   ]
  },
  {
   "cell_type": "markdown",
   "metadata": {},
   "source": [
    "* Уровень дефолтов Months since last delinquent до 13 месяцев выше чем в диапазоне 13-24.\n",
    "* В диапазоне 25-30 наблюдается рост дефолтов, а в 31-36 - снижение."
   ]
  },
  {
   "cell_type": "code",
   "execution_count": 36,
   "metadata": {},
   "outputs": [
    {
     "name": "stdout",
     "output_type": "stream",
     "text": [
      "min: 36.0, max: 92.0\n"
     ]
    },
    {
     "data": {
      "image/png": "[encoded data removed]",
      "text/plain": [
       "<Figure size 576x288 with 1 Axes>"
      ]
     },
     "metadata": {
      "needs_background": "light"
     },
     "output_type": "display_data"
    }
   ],
   "source": [
    "var_target_plot(var_name, 36, 92)"
   ]
  },
  {
   "cell_type": "markdown",
   "metadata": {},
   "source": [
    "* После 36 месяцев уровень дефолтов немного снижается."
   ]
  },
  {
   "cell_type": "code",
   "execution_count": 37,
   "metadata": {},
   "outputs": [
    {
     "name": "stdout",
     "output_type": "stream",
     "text": [
      "p = 0.05 \t13 - 25\n",
      "p = 0.23 \t25 - 31\n",
      "p = 0.03 \t31 - 36\n",
      "p = 0.05 \t36 - 100\n"
     ]
    }
   ],
   "source": [
    "a = [0, 13, 25, 31, 36, 100]\n",
    "chi2_test(var_name, a)"
   ]
  },
  {
   "cell_type": "markdown",
   "metadata": {},
   "source": [
    "В целом, p-value достаточно небольшие, с учетом большого числа пропусков у признака Months since last delinquent, можно остановиться на таком разделении."
   ]
  },
  {
   "cell_type": "markdown",
   "metadata": {},
   "source": [
    "#### 10. Number of Credit Problems"
   ]
  },
  {
   "cell_type": "code",
   "execution_count": 38,
   "metadata": {},
   "outputs": [
    {
     "name": "stdout",
     "output_type": "stream",
     "text": [
      "min: 0.0, max: 7.0\n"
     ]
    },
    {
     "data": {
      "image/png": "[encoded data removed]",
      "text/plain": [
       "<Figure size 576x288 with 1 Axes>"
      ]
     },
     "metadata": {
      "needs_background": "light"
     },
     "output_type": "display_data"
    }
   ],
   "source": [
    "var_name = 'Number of Credit Problems'\n",
    "var_target_plot(var_name)"
   ]
  },
  {
   "cell_type": "code",
   "execution_count": 39,
   "metadata": {},
   "outputs": [
    {
     "data": {
      "text/plain": [
       "0.0    0.004963\n",
       "1.0    0.004934\n",
       "2.0   -0.004480\n",
       "3.0   -0.002727\n",
       "4.0   -0.002283\n",
       "5.0   -0.001336\n",
       "6.0         NaN\n",
       "7.0         NaN\n",
       "Name: Number of Credit Problems, dtype: float64"
      ]
     },
     "execution_count": 39,
     "metadata": {},
     "output_type": "execute_result"
    }
   ],
   "source": [
    "distribution_diff(var_name)"
   ]
  },
  {
   "cell_type": "markdown",
   "metadata": {},
   "source": [
    "Зависимости дефолтов от изменения уровней Number of Credit Problems не наблюдается. Признак не будет задействован в модели"
   ]
  },
  {
   "cell_type": "code",
   "execution_count": 40,
   "metadata": {},
   "outputs": [],
   "source": [
    "NUMERIC_FEATURE_NAMES.remove(var_name)"
   ]
  },
  {
   "cell_type": "markdown",
   "metadata": {},
   "source": [
    "#### 11. Bankruptcies"
   ]
  },
  {
   "cell_type": "code",
   "execution_count": 41,
   "metadata": {},
   "outputs": [
    {
     "name": "stdout",
     "output_type": "stream",
     "text": [
      "min: 0.0, max: 4.0\n"
     ]
    },
    {
     "data": {
      "image/png": "[encoded data removed]",
      "text/plain": [
       "<Figure size 576x288 with 1 Axes>"
      ]
     },
     "metadata": {
      "needs_background": "light"
     },
     "output_type": "display_data"
    }
   ],
   "source": [
    "var_name = 'Bankruptcies'\n",
    "var_target_plot(var_name)"
   ]
  },
  {
   "cell_type": "code",
   "execution_count": 42,
   "metadata": {},
   "outputs": [
    {
     "data": {
      "text/plain": [
       "0.0   -0.001126\n",
       "1.0    0.002929\n",
       "2.0   -0.001496\n",
       "3.0   -0.000018\n",
       "4.0   -0.000288\n",
       "Name: Bankruptcies, dtype: float64"
      ]
     },
     "execution_count": 42,
     "metadata": {},
     "output_type": "execute_result"
    }
   ],
   "source": [
    "distribution_diff(var_name)"
   ]
  },
  {
   "cell_type": "markdown",
   "metadata": {},
   "source": [
    "Зависимости дефолтов от изменения уровней Bankruptcies не наблюдается. Признак не будет задействован в модели"
   ]
  },
  {
   "cell_type": "code",
   "execution_count": 43,
   "metadata": {},
   "outputs": [],
   "source": [
    "NUMERIC_FEATURE_NAMES.remove(var_name)"
   ]
  },
  {
   "cell_type": "markdown",
   "metadata": {},
   "source": [
    "#### Анализ признакового пространства"
   ]
  },
  {
   "cell_type": "markdown",
   "metadata": {},
   "source": [
    "**Матрица корреляций**"
   ]
  },
  {
   "cell_type": "code",
   "execution_count": 44,
   "metadata": {},
   "outputs": [
    {
     "data": {
      "image/png": "[encoded data removed]",
      "text/plain": [
       "<Figure size 720x576 with 2 Axes>"
      ]
     },
     "metadata": {
      "needs_background": "light"
     },
     "output_type": "display_data"
    }
   ],
   "source": [
    "plt.figure(figsize = (10, 8))\n",
    "\n",
    "sns.set(font_scale=1.4)\n",
    "sns.heatmap(df[NUMERIC_FEATURE_NAMES].corr().round(2), annot=True, linewidths=.5, cmap='GnBu')\n",
    "\n",
    "plt.title('Correlation matrix')\n",
    "plt.show()"
   ]
  },
  {
   "cell_type": "markdown",
   "metadata": {},
   "source": [
    "### B. Категориальные признаки"
   ]
  },
  {
   "cell_type": "code",
   "execution_count": 45,
   "metadata": {},
   "outputs": [],
   "source": [
    "def category_var_target_plot(var_name, t1, t2):\n",
    "    var_target_0 = df.loc[df[TARGET_NAME] == 0, var_name]\n",
    "    var_target_1 = df.loc[df[TARGET_NAME] == 1, var_name]\n",
    "\n",
    "    bins = np.linspace(0, t1, t2)\n",
    "    plt.figure(figsize=(8, 4))\n",
    "    plt.hist(var_target_0, bins, density=True, alpha=0.5, label='No default')\n",
    "    plt.hist(var_target_1, bins, density=True, alpha=0.5, label='Default')\n",
    "    plt.legend(bbox_to_anchor=(1.3,1), loc='upper right')\n",
    "    plt.show()"
   ]
  },
  {
   "cell_type": "markdown",
   "metadata": {},
   "source": [
    "#### 1. Term"
   ]
  },
  {
   "cell_type": "code",
   "execution_count": 46,
   "metadata": {},
   "outputs": [
    {
     "data": {
      "image/png": "[encoded data removed]",
      "text/plain": [
       "<Figure size 576x288 with 1 Axes>"
      ]
     },
     "metadata": {},
     "output_type": "display_data"
    }
   ],
   "source": [
    "var_name = 'Term'\n",
    "category_var_target_plot('Term', 2, 3)"
   ]
  },
  {
   "cell_type": "code",
   "execution_count": 47,
   "metadata": {},
   "outputs": [
    {
     "data": {
      "text/plain": [
       "Short Term    0.176788\n",
       "Long Term    -0.176788\n",
       "Name: Term, dtype: float64"
      ]
     },
     "execution_count": 47,
     "metadata": {},
     "output_type": "execute_result"
    }
   ],
   "source": [
    "distribution_diff(var_name)"
   ]
  },
  {
   "cell_type": "markdown",
   "metadata": {},
   "source": [
    "Уровень дефолтов у долгосрочных кредитв существанно выше, чем у краткосрочных."
   ]
  },
  {
   "cell_type": "markdown",
   "metadata": {},
   "source": [
    "#### 2. Home Ownership"
   ]
  },
  {
   "cell_type": "code",
   "execution_count": 48,
   "metadata": {},
   "outputs": [
    {
     "data": {
      "image/png": "[encoded data removed]",
      "text/plain": [
       "<Figure size 576x288 with 1 Axes>"
      ]
     },
     "metadata": {},
     "output_type": "display_data"
    }
   ],
   "source": [
    "var_name = 'Home Ownership'\n",
    "category_var_target_plot(var_name, 4, 5)"
   ]
  },
  {
   "cell_type": "code",
   "execution_count": 49,
   "metadata": {},
   "outputs": [
    {
     "data": {
      "text/plain": [
       "Have Mortgage    0.000910\n",
       "Home Mortgage    0.071598\n",
       "Own Home        -0.006403\n",
       "Rent            -0.066104\n",
       "Name: Home Ownership, dtype: float64"
      ]
     },
     "execution_count": 49,
     "metadata": {},
     "output_type": "execute_result"
    }
   ],
   "source": [
    "distribution_diff(var_name)"
   ]
  },
  {
   "cell_type": "markdown",
   "metadata": {},
   "source": [
    "У признака Home Ownership уровень дефолта различается только в 2 категриях: Home Morgage и Rent. В модели будем использовать только их.\n",
    "У Home Morgage уровень дефолта ниже, у Rent - выше"
   ]
  },
  {
   "cell_type": "markdown",
   "metadata": {},
   "source": [
    "#### 3. Purpose"
   ]
  },
  {
   "cell_type": "code",
   "execution_count": 50,
   "metadata": {},
   "outputs": [
    {
     "data": {
      "text/plain": [
       "business loan          -0.012293\n",
       "buy a car               0.002007\n",
       "buy house               0.000381\n",
       "debt consolidation      0.013588\n",
       "educational expenses    0.001197\n",
       "home improvements       0.005320\n",
       "major purchase          0.001495\n",
       "medical bills          -0.001316\n",
       "moving                  0.000724\n",
       "other                  -0.006357\n",
       "renewable energy             NaN\n",
       "small business         -0.004398\n",
       "take a trip             0.000279\n",
       "vacation                0.000167\n",
       "wedding                 0.000149\n",
       "Name: Purpose, dtype: float64"
      ]
     },
     "execution_count": 50,
     "metadata": {},
     "output_type": "execute_result"
    }
   ],
   "source": [
    "var_name = 'Purpose'\n",
    "distribution_diff(var_name)"
   ]
  },
  {
   "cell_type": "markdown",
   "metadata": {},
   "source": [
    "В признаке Purpose уровень дефолта немного различается только в 2 категриях: debt consolidation и business loan. В модели будем использовать только их.\n",
    "Уровень дефолтов у business loan выше, чем у debt consolidation"
   ]
  },
  {
   "cell_type": "markdown",
   "metadata": {},
   "source": [
    "#### 4. Years in current job"
   ]
  },
  {
   "cell_type": "code",
   "execution_count": 51,
   "metadata": {},
   "outputs": [
    {
     "data": {
      "text/plain": [
       "10+ years    0.001665\n",
       "2 years      0.001688\n",
       "3 years      0.001295\n",
       "< 1 year    -0.002065\n",
       "5 years     -0.001384\n",
       "1 year      -0.001612\n",
       "4 years     -0.000703\n",
       "6 years     -0.004146\n",
       "7 years     -0.000867\n",
       "8 years      0.001375\n",
       "9 years      0.004753\n",
       "Name: Years in current job, dtype: float64"
      ]
     },
     "execution_count": 51,
     "metadata": {},
     "output_type": "execute_result"
    }
   ],
   "source": [
    "var_name = 'Years in current job'\n",
    "distribution_diff(var_name)"
   ]
  },
  {
   "cell_type": "markdown",
   "metadata": {},
   "source": [
    "Категории признака Years in current job практически не различаются по уровню дефолтов. В модели использовать не будем."
   ]
  },
  {
   "cell_type": "code",
   "execution_count": 52,
   "metadata": {},
   "outputs": [],
   "source": [
    "CATEGORICAL_FEATURE_NAMES.remove(var_name)"
   ]
  },
  {
   "cell_type": "markdown",
   "metadata": {},
   "source": [
    "#### 5.Tax Liens"
   ]
  },
  {
   "cell_type": "code",
   "execution_count": 53,
   "metadata": {},
   "outputs": [
    {
     "data": {
      "text/plain": [
       "0.0    0.006752\n",
       "1.0   -0.000406\n",
       "2.0   -0.004314\n",
       "3.0   -0.001438\n",
       "4.0   -0.000863\n",
       "5.0   -0.000288\n",
       "6.0         NaN\n",
       "7.0         NaN\n",
       "Name: Tax Liens, dtype: float64"
      ]
     },
     "execution_count": 53,
     "metadata": {},
     "output_type": "execute_result"
    }
   ],
   "source": [
    "var_name = 'Tax Liens'\n",
    "distribution_diff(var_name)"
   ]
  },
  {
   "cell_type": "markdown",
   "metadata": {},
   "source": [
    "Категории признака Tax Liens практически не различаются по уровню дефолтов. В модели использовать не будем."
   ]
  },
  {
   "cell_type": "code",
   "execution_count": 54,
   "metadata": {},
   "outputs": [],
   "source": [
    "CATEGORICAL_FEATURE_NAMES.remove(var_name)"
   ]
  },
  {
   "cell_type": "markdown",
   "metadata": {},
   "source": [
    "### 3.3 Проверка идентичности распределения тренировочного и тестового набора данных"
   ]
  },
  {
   "cell_type": "code",
   "execution_count": 55,
   "metadata": {},
   "outputs": [],
   "source": [
    "def compare_distibutions(var_name):\n",
    "    a1 = df.loc[:, var_name]\n",
    "    a2 = X_final.loc[:, var_name]\n",
    "    print(ss.ks_2samp(a1.sample(1000), a2.sample(1000)))"
   ]
  },
  {
   "cell_type": "code",
   "execution_count": 56,
   "metadata": {},
   "outputs": [
    {
     "name": "stdout",
     "output_type": "stream",
     "text": [
      "Ks_2sampResult(statistic=0.051, pvalue=0.14836452078962484)\n"
     ]
    }
   ],
   "source": [
    "var_name = 'Current Loan Amount'\n",
    "compare_distibutions(var_name)"
   ]
  },
  {
   "cell_type": "code",
   "execution_count": 57,
   "metadata": {},
   "outputs": [
    {
     "name": "stdout",
     "output_type": "stream",
     "text": [
      "Ks_2sampResult(statistic=0.037, pvalue=0.5005673707894058)\n"
     ]
    }
   ],
   "source": [
    "var_name = 'Credit Score'\n",
    "compare_distibutions(var_name)"
   ]
  },
  {
   "cell_type": "code",
   "execution_count": 58,
   "metadata": {},
   "outputs": [
    {
     "name": "stdout",
     "output_type": "stream",
     "text": [
      "Ks_2sampResult(statistic=0.036, pvalue=0.5362766985932181)\n"
     ]
    }
   ],
   "source": [
    "var_name = 'Months since last delinquent'\n",
    "compare_distibutions(var_name)"
   ]
  },
  {
   "cell_type": "code",
   "execution_count": 59,
   "metadata": {},
   "outputs": [
    {
     "name": "stdout",
     "output_type": "stream",
     "text": [
      "Ks_2sampResult(statistic=0.025, pvalue=0.9136894237272155)\n"
     ]
    }
   ],
   "source": [
    "var_name = 'Maximum Open Credit'\n",
    "compare_distibutions(var_name)"
   ]
  },
  {
   "cell_type": "code",
   "execution_count": 60,
   "metadata": {},
   "outputs": [
    {
     "name": "stdout",
     "output_type": "stream",
     "text": [
      "Ks_2sampResult(statistic=0.022, pvalue=0.9690010280430694)\n"
     ]
    }
   ],
   "source": [
    "var_name = 'Years of Credit History'\n",
    "compare_distibutions(var_name)"
   ]
  },
  {
   "cell_type": "code",
   "execution_count": 61,
   "metadata": {},
   "outputs": [
    {
     "name": "stdout",
     "output_type": "stream",
     "text": [
      "Ks_2sampResult(statistic=0.038, pvalue=0.4659595288557257)\n"
     ]
    }
   ],
   "source": [
    "var_name = 'Number of Open Accounts'\n",
    "compare_distibutions(var_name)"
   ]
  },
  {
   "cell_type": "code",
   "execution_count": 62,
   "metadata": {},
   "outputs": [
    {
     "name": "stdout",
     "output_type": "stream",
     "text": [
      "Ks_2sampResult(statistic=0.027, pvalue=0.8595454206943325)\n"
     ]
    }
   ],
   "source": [
    "var_name = 'Home Ownership'\n",
    "compare_distibutions(var_name)"
   ]
  },
  {
   "cell_type": "code",
   "execution_count": 63,
   "metadata": {},
   "outputs": [
    {
     "name": "stdout",
     "output_type": "stream",
     "text": [
      "Ks_2sampResult(statistic=0.032, pvalue=0.6854967337920594)\n"
     ]
    }
   ],
   "source": [
    "var_name = 'Annual Income'\n",
    "compare_distibutions(var_name)"
   ]
  },
  {
   "cell_type": "code",
   "execution_count": 64,
   "metadata": {},
   "outputs": [
    {
     "name": "stdout",
     "output_type": "stream",
     "text": [
      "Ks_2sampResult(statistic=0.02, pvalue=0.9883339509983219)\n"
     ]
    }
   ],
   "source": [
    "var_name = 'Monthly Debt'\n",
    "compare_distibutions(var_name)"
   ]
  },
  {
   "cell_type": "code",
   "execution_count": 65,
   "metadata": {},
   "outputs": [
    {
     "name": "stdout",
     "output_type": "stream",
     "text": [
      "Ks_2sampResult(statistic=0.015, pvalue=0.9998734489003387)\n"
     ]
    }
   ],
   "source": [
    "var_name = 'Term'\n",
    "compare_distibutions(var_name)"
   ]
  },
  {
   "cell_type": "code",
   "execution_count": 66,
   "metadata": {},
   "outputs": [
    {
     "name": "stdout",
     "output_type": "stream",
     "text": [
      "Ks_2sampResult(statistic=0.025, pvalue=0.9136894237272155)\n"
     ]
    }
   ],
   "source": [
    "var_name = 'Purpose'\n",
    "compare_distibutions(var_name)"
   ]
  },
  {
   "cell_type": "markdown",
   "metadata": {},
   "source": [
    "У всех базовых признаков, задействованных в модели, распределение тренировоччного сета идентично тестовомy"
   ]
  },
  {
   "cell_type": "markdown",
   "metadata": {},
   "source": [
    "### 3.4 Пропуски данных"
   ]
  },
  {
   "cell_type": "code",
   "execution_count": 67,
   "metadata": {},
   "outputs": [
    {
     "data": {
      "text/plain": [
       "Home Ownership                     0\n",
       "Annual Income                   1557\n",
       "Years in current job             371\n",
       "Tax Liens                          0\n",
       "Number of Open Accounts            0\n",
       "Years of Credit History            0\n",
       "Maximum Open Credit                0\n",
       "Number of Credit Problems          0\n",
       "Months since last delinquent    4081\n",
       "Bankruptcies                      14\n",
       "Purpose                            0\n",
       "Term                               0\n",
       "Current Loan Amount                0\n",
       "Current Credit Balance             0\n",
       "Monthly Debt                       0\n",
       "Credit Score                    1557\n",
       "Credit Default                     0\n",
       "dtype: int64"
      ]
     },
     "execution_count": 67,
     "metadata": {},
     "output_type": "execute_result"
    }
   ],
   "source": [
    "len(df) - df.count()"
   ]
  },
  {
   "cell_type": "markdown",
   "metadata": {},
   "source": [
    "Пропуски данных рассматриваем как отдельную категорию и заполнять не будем."
   ]
  },
  {
   "cell_type": "markdown",
   "metadata": {},
   "source": [
    "### 4. Создание групп для Weight of Evidence (WOE) "
   ]
  },
  {
   "cell_type": "markdown",
   "metadata": {},
   "source": [
    "Ввиду того, что выборка несбалансированна, будем использовать Weight of Evidence (WOE) признаков"
   ]
  },
  {
   "cell_type": "code",
   "execution_count": 68,
   "metadata": {},
   "outputs": [],
   "source": [
    "def WOE_formula(a, epsilon=1e-04):\n",
    "    a = a.mean()\n",
    "    if a == 1.0:\n",
    "        a -= epsilon\n",
    "    elif a == 0:\n",
    "        a += epsilon\n",
    "\n",
    "    return np.log(a / (1 - a))"
   ]
  },
  {
   "cell_type": "code",
   "execution_count": 69,
   "metadata": {},
   "outputs": [],
   "source": [
    "bin_split_numeric = {}\n",
    "WOE = {}"
   ]
  },
  {
   "cell_type": "markdown",
   "metadata": {},
   "source": [
    "### A. Количественные признаки"
   ]
  },
  {
   "cell_type": "code",
   "execution_count": 70,
   "metadata": {},
   "outputs": [],
   "source": [
    "def WOE_calc_numeric(feature, bin_split):\n",
    "    feature_dict = {}\n",
    "    if df[feature].isnull().sum() > 0:\n",
    "        a = df.loc[df[feature].isnull(), 'Credit Default']\n",
    "        print(f'n_items bin nan = {len(a)}') \n",
    "        feature_dict['nan'] = WOE_formula(a)\n",
    "\n",
    "    for i in range(1, len(bin_split)):\n",
    "        cond_1 = df[feature] >= bin_split[i - 1]\n",
    "        cond_2 = df[feature] < bin_split[i]\n",
    "        a = df.loc[(cond_1 & cond_2), 'Credit Default']\n",
    "        print(f'n_items bin {int(bin_split[i])} = {len(a)}') \n",
    "        feature_dict[bin_split[i]] = WOE_formula(a)\n",
    "        \n",
    "    bin_split_numeric[feature] = bin_split\n",
    "    WOE[feature] = feature_dict   "
   ]
  },
  {
   "cell_type": "markdown",
   "metadata": {},
   "source": [
    "#### 1. Annual Income"
   ]
  },
  {
   "cell_type": "code",
   "execution_count": 71,
   "metadata": {},
   "outputs": [
    {
     "name": "stdout",
     "output_type": "stream",
     "text": [
      "n_items bin nan = 1557\n",
      "n_items bin 1100000 = 2645\n",
      "n_items bin 3000000 = 3073\n",
      "n_items bin 5000000 = 181\n",
      "n_items bin 100000000 = 44\n",
      "\n",
      "WOE per bin:\n"
     ]
    },
    {
     "data": {
      "text/plain": [
       "{'nan': -0.664382014156811,\n",
       " 1100000.0: -0.7841714040259439,\n",
       " 3000000.0: -1.1878264374022938,\n",
       " 5000000.0: -1.500704712297635,\n",
       " 100000000.0: -2.3025850929940455}"
      ]
     },
     "execution_count": 71,
     "metadata": {},
     "output_type": "execute_result"
    }
   ],
   "source": [
    "feature = 'Annual Income'\n",
    "bin_split = [0, 1.1e+06, 3e+06, 5e+06, 1e+08]\n",
    "WOE_calc_numeric(feature, bin_split)\n",
    "print('\\nWOE per bin:')\n",
    "WOE[feature]"
   ]
  },
  {
   "cell_type": "markdown",
   "metadata": {},
   "source": [
    "#### 2. Number of Open Accounts"
   ]
  },
  {
   "cell_type": "code",
   "execution_count": 72,
   "metadata": {},
   "outputs": [
    {
     "name": "stdout",
     "output_type": "stream",
     "text": [
      "n_items bin 9 = 2415\n",
      "n_items bin 13 = 2659\n",
      "n_items bin 9999 = 2426\n",
      "\n",
      "WOE per bin:\n"
     ]
    },
    {
     "data": {
      "text/plain": [
       "{9: -1.0436025047360038, 13: -0.9286968564142538, 9999: -0.841024560064772}"
      ]
     },
     "execution_count": 72,
     "metadata": {},
     "output_type": "execute_result"
    }
   ],
   "source": [
    "feature = 'Number of Open Accounts'\n",
    "bin_split = [0, 9, 13, 9999] #18,\n",
    "WOE_calc_numeric(feature, bin_split)\n",
    "print('\\nWOE per bin:')\n",
    "WOE[feature]"
   ]
  },
  {
   "cell_type": "markdown",
   "metadata": {},
   "source": [
    "#### 3. Years of Credit History"
   ]
  },
  {
   "cell_type": "code",
   "execution_count": 73,
   "metadata": {},
   "outputs": [
    {
     "name": "stdout",
     "output_type": "stream",
     "text": [
      "n_items bin 10 = 590\n",
      "n_items bin 13 = 1037\n",
      "n_items bin 28 = 5116\n",
      "n_items bin 99 = 757\n",
      "\n",
      "WOE per bin:\n"
     ]
    },
    {
     "data": {
      "text/plain": [
       "{10: -0.6829948090959274,\n",
       " 13: -0.8801180004804297,\n",
       " 28: -0.9979175364419043,\n",
       " 99: -0.8104532307553416}"
      ]
     },
     "execution_count": 73,
     "metadata": {},
     "output_type": "execute_result"
    }
   ],
   "source": [
    "feature = 'Years of Credit History'\n",
    "bin_split = [0, 10, 13, 28, 99]\n",
    "WOE_calc_numeric(feature, bin_split)\n",
    "print('\\nWOE per bin:')\n",
    "WOE[feature]"
   ]
  },
  {
   "cell_type": "markdown",
   "metadata": {},
   "source": [
    "#### 4. Maximum Open Credit"
   ]
  },
  {
   "cell_type": "code",
   "execution_count": 74,
   "metadata": {},
   "outputs": [
    {
     "name": "stdout",
     "output_type": "stream",
     "text": [
      "n_items bin 170000 = 780\n",
      "n_items bin 600000 = 3834\n",
      "n_items bin 800000 = 1043\n",
      "n_items bin 7000000 = 1813\n",
      "n_items bin 9000000000 = 30\n",
      "\n",
      "WOE per bin:\n"
     ]
    },
    {
     "data": {
      "text/plain": [
       "{170000.0: -0.6758888423306645,\n",
       " 600000.0: -0.8762817755745248,\n",
       " 800000.0: -0.944651849495853,\n",
       " 7000000.0: -1.1651789142238673,\n",
       " 9000000000.0: -9.21024036697585}"
      ]
     },
     "execution_count": 74,
     "metadata": {},
     "output_type": "execute_result"
    }
   ],
   "source": [
    "feature = 'Maximum Open Credit'\n",
    "bin_split = [0, 0.17e+06, 0.6e+06, 0.8e+06, 7e+06, 9e+09] \n",
    "WOE_calc_numeric(feature, bin_split)\n",
    "print('\\nWOE per bin:')\n",
    "WOE[feature]"
   ]
  },
  {
   "cell_type": "markdown",
   "metadata": {},
   "source": [
    "#### 5. Months since last delinquent"
   ]
  },
  {
   "cell_type": "code",
   "execution_count": 75,
   "metadata": {},
   "outputs": [
    {
     "name": "stdout",
     "output_type": "stream",
     "text": [
      "n_items bin nan = 4081\n",
      "n_items bin 13 = 617\n",
      "n_items bin 24 = 626\n",
      "n_items bin 31 = 384\n",
      "n_items bin 36 = 284\n",
      "n_items bin 999 = 1508\n",
      "\n",
      "WOE per bin:\n"
     ]
    },
    {
     "data": {
      "text/plain": [
       "{'nan': -0.9599264632365533,\n",
       " 13: -0.7645181744518642,\n",
       " 24: -1.1286574670994975,\n",
       " 31: -0.7884573603642702,\n",
       " 36: -1.2755429968271879,\n",
       " 999: -0.8485612844339757}"
      ]
     },
     "execution_count": 75,
     "metadata": {},
     "output_type": "execute_result"
    }
   ],
   "source": [
    "feature = 'Months since last delinquent'\n",
    "bin_split = [0, 13, 24, 31, 36, 999]\n",
    "WOE_calc_numeric(feature, bin_split)\n",
    "print('\\nWOE per bin:')\n",
    "WOE[feature]"
   ]
  },
  {
   "cell_type": "markdown",
   "metadata": {},
   "source": [
    "#### 6. Current Loan Amount"
   ]
  },
  {
   "cell_type": "code",
   "execution_count": 76,
   "metadata": {},
   "outputs": [
    {
     "name": "stdout",
     "output_type": "stream",
     "text": [
      "n_items bin 150000 = 1341\n",
      "n_items bin 250000 = 1654\n",
      "n_items bin 350000 = 1400\n",
      "n_items bin 500000 = 1157\n",
      "n_items bin 1000000 = 1078\n",
      "n_items bin 100000000 = 870\n",
      "\n",
      "WOE per bin:\n"
     ]
    },
    {
     "data": {
      "text/plain": [
       "{150000.0: -0.9351592161785379,\n",
       " 250000.0: -0.8536397669124878,\n",
       " 350000.0: -0.747214401830221,\n",
       " 500000.0: -0.664758177297259,\n",
       " 1000000.0: -0.5356407928857146,\n",
       " 100000000.0: -9.21024036697585}"
      ]
     },
     "execution_count": 76,
     "metadata": {},
     "output_type": "execute_result"
    }
   ],
   "source": [
    "feature = 'Current Loan Amount'\n",
    "bin_split = [0, 0.15e+06, 0.25e+06, 0.35e+06, 0.5e+06, 1e+06, 1e+08]\n",
    "WOE_calc_numeric(feature, bin_split)\n",
    "print('\\nWOE per bin:')\n",
    "WOE[feature]"
   ]
  },
  {
   "cell_type": "markdown",
   "metadata": {},
   "source": [
    "#### 7. Monthly Debt"
   ]
  },
  {
   "cell_type": "code",
   "execution_count": 77,
   "metadata": {},
   "outputs": [
    {
     "name": "stdout",
     "output_type": "stream",
     "text": [
      "n_items bin 6000 = 794\n",
      "n_items bin 10000 = 1052\n",
      "n_items bin 1000000 = 5654\n",
      "\n",
      "WOE per bin:\n"
     ]
    },
    {
     "data": {
      "text/plain": [
       "{6000.0: -1.1154760947201146,\n",
       " 10000.0: -0.9996440718624063,\n",
       " 1000000.0: -0.9002509061931185}"
      ]
     },
     "execution_count": 77,
     "metadata": {},
     "output_type": "execute_result"
    }
   ],
   "source": [
    "feature = 'Monthly Debt'\n",
    "bin_split = [0, 0.06e+05, 0.1e+05, 1e+06]\n",
    "WOE_calc_numeric(feature, bin_split)\n",
    "print('\\nWOE per bin:')\n",
    "WOE[feature]"
   ]
  },
  {
   "cell_type": "markdown",
   "metadata": {},
   "source": [
    "#### 8. Credit Score"
   ]
  },
  {
   "cell_type": "code",
   "execution_count": 78,
   "metadata": {},
   "outputs": [
    {
     "name": "stdout",
     "output_type": "stream",
     "text": [
      "n_items bin nan = 1557\n",
      "n_items bin 710 = 1410\n",
      "n_items bin 730 = 1377\n",
      "n_items bin 742 = 1473\n",
      "n_items bin 755 = 1283\n",
      "n_items bin 9999 = 400\n",
      "\n",
      "WOE per bin:\n"
     ]
    },
    {
     "data": {
      "text/plain": [
       "{'nan': -0.664382014156811,\n",
       " 710: -0.7773392717802932,\n",
       " 730: -1.1665852722543157,\n",
       " 742: -1.485107755783986,\n",
       " 755: -2.091776499837787,\n",
       " 9999: 9.21024036697596}"
      ]
     },
     "execution_count": 78,
     "metadata": {},
     "output_type": "execute_result"
    }
   ],
   "source": [
    "feature = 'Credit Score'\n",
    "bin_split = [0, 710, 730, 742, 755, 9999]\n",
    "WOE_calc_numeric(feature, bin_split)\n",
    "print('\\nWOE per bin:')\n",
    "WOE[feature]"
   ]
  },
  {
   "cell_type": "markdown",
   "metadata": {},
   "source": [
    "### B. Категориальные признаки"
   ]
  },
  {
   "cell_type": "code",
   "execution_count": 79,
   "metadata": {},
   "outputs": [],
   "source": [
    "def calc_a(sub_category):    \n",
    "    cond = df[feature] == sub_category[0]\n",
    "    for j in range(1, len(sub_category)):\n",
    "        cond |= (df[feature] == sub_category[j])        \n",
    "    a = df.loc[cond, 'Credit Default']    \n",
    "    return a\n",
    "\n",
    "def WOE_calc(feature, category_list):\n",
    "    feature_dict = {}\n",
    "    if df[feature].isnull().sum() > 0:\n",
    "        a = df.loc[df[feature].isnull(), 'Credit Default']\n",
    "        print(f'n_items category nan = {len(a)}')\n",
    "\n",
    "        feature_dict['nan'] = WOE_formula(a)\n",
    "    \n",
    "    for i in range(len(category_list)):\n",
    "        if isinstance(category_list[i], list):\n",
    "            a = calc_a(category_list[i])\n",
    "        else:\n",
    "            a = df.loc[df[feature] == category_list[i], 'Credit Default']\n",
    "        print(f'{len(a)}\\t{category_list[i]}')\n",
    "        WOE_ = WOE_formula(a)       \n",
    "        \n",
    "        if isinstance(category_list[i], list):\n",
    "            for category in category_list[i]:\n",
    "                feature_dict[category] = WOE_\n",
    "        else:\n",
    "            feature_dict[category_list[i]] = WOE_\n",
    "            \n",
    "    bin_split_categorical[feature] = category_list\n",
    "    WOE[feature] = feature_dict    "
   ]
  },
  {
   "cell_type": "code",
   "execution_count": 80,
   "metadata": {},
   "outputs": [],
   "source": [
    "bin_split_categorical = {}"
   ]
  },
  {
   "cell_type": "markdown",
   "metadata": {},
   "source": [
    "#### 1. Home Ownership"
   ]
  },
  {
   "cell_type": "code",
   "execution_count": 81,
   "metadata": {},
   "outputs": [
    {
     "data": {
      "text/plain": [
       "Home Mortgage    3637\n",
       "Rent             3204\n",
       "Own Home          647\n",
       "Have Mortgage      12\n",
       "Name: Home Ownership, dtype: int64"
      ]
     },
     "execution_count": 81,
     "metadata": {},
     "output_type": "execute_result"
    }
   ],
   "source": [
    "feature = 'Home Ownership'\n",
    "df[feature].value_counts()"
   ]
  },
  {
   "cell_type": "markdown",
   "metadata": {},
   "source": [
    "Категории 'Own Home' и 'Have Mortgage' не влияют на уровень дефолта по кредитам, поэтому использовать их не будем"
   ]
  },
  {
   "cell_type": "code",
   "execution_count": 82,
   "metadata": {},
   "outputs": [
    {
     "name": "stdout",
     "output_type": "stream",
     "text": [
      "3637\tHome Mortgage\n",
      "3204\tRent\n",
      "\n",
      "WOE per category:\n"
     ]
    },
    {
     "data": {
      "text/plain": [
       "{'Home Mortgage': -1.0887383741091161, 'Rent': -0.7859162935645262}"
      ]
     },
     "execution_count": 82,
     "metadata": {},
     "output_type": "execute_result"
    }
   ],
   "source": [
    "category_list = ['Home Mortgage', 'Rent']\n",
    "WOE_calc(feature, category_list)\n",
    "print('\\nWOE per category:')\n",
    "WOE[feature]"
   ]
  },
  {
   "cell_type": "markdown",
   "metadata": {},
   "source": [
    "#### 2. Purpose"
   ]
  },
  {
   "cell_type": "code",
   "execution_count": 83,
   "metadata": {},
   "outputs": [
    {
     "data": {
      "text/plain": [
       "debt consolidation      5944\n",
       "other                    665\n",
       "home improvements        412\n",
       "business loan            129\n",
       "buy a car                 96\n",
       "medical bills             71\n",
       "major purchase            40\n",
       "take a trip               37\n",
       "buy house                 34\n",
       "small business            26\n",
       "wedding                   15\n",
       "moving                    11\n",
       "educational expenses      10\n",
       "vacation                   8\n",
       "renewable energy           2\n",
       "Name: Purpose, dtype: int64"
      ]
     },
     "execution_count": 83,
     "metadata": {},
     "output_type": "execute_result"
    }
   ],
   "source": [
    "feature = 'Purpose'\n",
    "df[feature].value_counts()"
   ]
  },
  {
   "cell_type": "markdown",
   "metadata": {},
   "source": [
    "Будем использовать только категории, различающиеся по уровню дефолтов: debt consolidation и business loan"
   ]
  },
  {
   "cell_type": "code",
   "execution_count": 84,
   "metadata": {},
   "outputs": [
    {
     "name": "stdout",
     "output_type": "stream",
     "text": [
      "5944\tdebt consolidation\n",
      "129\tbusiness loan\n",
      "\n",
      "WOE per category:\n"
     ]
    },
    {
     "data": {
      "text/plain": [
       "{'debt consolidation': -0.9530901363384262,\n",
       " 'business loan': -0.2967319079716989}"
      ]
     },
     "execution_count": 84,
     "metadata": {},
     "output_type": "execute_result"
    }
   ],
   "source": [
    "category_list = ['debt consolidation', 'business loan']\n",
    "WOE_calc(feature, category_list)\n",
    "print('\\nWOE per category:')\n",
    "WOE[feature]"
   ]
  },
  {
   "cell_type": "markdown",
   "metadata": {},
   "source": [
    "#### 3. Term"
   ]
  },
  {
   "cell_type": "code",
   "execution_count": 85,
   "metadata": {},
   "outputs": [
    {
     "data": {
      "text/plain": [
       "Short Term    5556\n",
       "Long Term     1944\n",
       "Name: Term, dtype: int64"
      ]
     },
     "execution_count": 85,
     "metadata": {},
     "output_type": "execute_result"
    }
   ],
   "source": [
    "feature = 'Term'\n",
    "df[feature].value_counts()"
   ]
  },
  {
   "cell_type": "code",
   "execution_count": 86,
   "metadata": {},
   "outputs": [
    {
     "name": "stdout",
     "output_type": "stream",
     "text": [
      "5556\tShort Term\n",
      "1944\tLong Term\n",
      "\n",
      "WOE per category:\n"
     ]
    },
    {
     "data": {
      "text/plain": [
       "{'Short Term': -1.1889804856067696, 'Long Term': -0.3237870770938973}"
      ]
     },
     "execution_count": 86,
     "metadata": {},
     "output_type": "execute_result"
    }
   ],
   "source": [
    "category_list = ['Short Term', 'Long Term']\n",
    "WOE_calc(feature, category_list)\n",
    "print('\\nWOE per category:')\n",
    "WOE[feature]"
   ]
  },
  {
   "cell_type": "markdown",
   "metadata": {},
   "source": [
    "### 5. Feature Engineering"
   ]
  },
  {
   "cell_type": "code",
   "execution_count": 87,
   "metadata": {},
   "outputs": [],
   "source": [
    "class FeatureGenerator:\n",
    "    def __init__(self, bin_split_numeric, bin_split_categorical, \n",
    "                 NUMERIC_FEATURE_NAMES, CATEGORICAL_FEATURE_NAMES):\n",
    "        self.bin_split_numeric = bin_split_numeric\n",
    "        self.bin_split_categorical = bin_split_categorical\n",
    "        self.NUMERIC_FEATURE_NAMES = NUMERIC_FEATURE_NAMES\n",
    "        self.CATEGORICAL_FEATURE_NAMES = CATEGORICAL_FEATURE_NAMES\n",
    "        \n",
    "        \n",
    "    def WOE_formula(self, a, epsilon=1e-04):\n",
    "        a = a.mean()\n",
    "        if a == 1.0:\n",
    "            a -= epsilon\n",
    "        elif a == 0:\n",
    "            a += epsilon\n",
    "            \n",
    "        return np.log(a / (1 - a))\n",
    "    \n",
    "        \n",
    "    def WOE_calc_numeric(self, feature):\n",
    "        feature_dict = {}\n",
    "        if df[feature].isnull().sum() > 0:\n",
    "            a = df.loc[df[feature].isnull(), 'Credit Default']\n",
    "            feature_dict['nan'] = self.WOE_formula(a)\n",
    "\n",
    "        for i in range(1, len(self.bin_split_numeric[feature])):\n",
    "            cond_1 = df[feature] >= self.bin_split_numeric[feature][i - 1]\n",
    "            cond_2 = df[feature] < self.bin_split_numeric[feature][i]\n",
    "            a = df.loc[(cond_1 & cond_2), 'Credit Default']            \n",
    "\n",
    "            feature_dict[self.bin_split_numeric[feature][i]] = self.WOE_formula(a) \n",
    "\n",
    "        return feature_dict\n",
    "    \n",
    "    \n",
    "    def calc_a(self, feature, sub_category):    \n",
    "        cond = df[feature] == sub_category[0]\n",
    "        for j in range(1, len(sub_category)):\n",
    "            cond |= (df[feature] == sub_category[j]) \n",
    "            \n",
    "        a = df.loc[cond, 'Credit Default']\n",
    "        \n",
    "        return a\n",
    "    \n",
    "    \n",
    "    def WOE_calc_categorical(self, feature):\n",
    "        feature_dict = {}\n",
    "        if df[feature].isnull().sum() > 0:\n",
    "            a = df.loc[df[feature].isnull(), 'Credit Default'] \n",
    "            feature_dict['nan'] = self.WOE_formula(a)\n",
    "\n",
    "        for i in range(len(self.bin_split_categorical[feature])):\n",
    "            sub_category = self.bin_split_categorical[feature][i]\n",
    "            if isinstance(sub_category, list):                \n",
    "                a = self.calc_a(feature, sub_category)                \n",
    "            else:\n",
    "                a = df.loc[df[feature] == sub_category, 'Credit Default']  \n",
    "            WOE_ = self.WOE_formula(a)            \n",
    "\n",
    "            if isinstance(sub_category, list):                \n",
    "                for item in sub_category:                    \n",
    "                    feature_dict[item] = WOE_\n",
    "            else:\n",
    "                feature_dict[sub_category] = WOE_\n",
    "        \n",
    "        return feature_dict \n",
    "        \n",
    "    \n",
    "    def fit(self, X, y=None):\n",
    "        df = X.copy()\n",
    "        \n",
    "        if y is not None:\n",
    "            df['Credit Default'] = y.values \n",
    "            \n",
    "            self.WOE = {}\n",
    "            for feature in self.NUMERIC_FEATURE_NAMES:\n",
    "                self.WOE[feature] = self.WOE_calc_numeric(feature)\n",
    "                \n",
    "            for feature in self.CATEGORICAL_FEATURE_NAMES:\n",
    "                self.WOE[feature] = self.WOE_calc_categorical(feature)  \n",
    "\n",
    "    \n",
    "    def transform(self, X):\n",
    "        for feature in self.NUMERIC_FEATURE_NAMES:\n",
    "            new_feature = feature + '_'        \n",
    "            if X[feature].isnull().sum() > 0:\n",
    "                X.loc[X[feature].isnull(), new_feature] = self.WOE[feature]['nan']            \n",
    "            \n",
    "            feature_list = self.bin_split_numeric[feature]\n",
    "            for i in range(1, len(feature_list)):\n",
    "                cond_1 = X[feature] >= feature_list[i - 1]\n",
    "                cond_2 = X[feature] < feature_list[i]\n",
    "                X.loc[(cond_1 & cond_2), new_feature] = self.WOE[feature][feature_list[i]]\n",
    "        \n",
    "\n",
    "        for feature in self.CATEGORICAL_FEATURE_NAMES:\n",
    "            new_feature = feature + '_'\n",
    "            if X[feature].isnull().sum() > 0:\n",
    "                X.loc[X[feature].isnull(), new_feature] = self.WOE[feature]['nan']\n",
    "                \n",
    "            feature_list = self.WOE[feature]\n",
    "            for item in feature_list:        \n",
    "                X.loc[X[feature] == item, new_feature] = self.WOE[feature][item] \n",
    "       \n",
    "        return X.fillna(0)"
   ]
  },
  {
   "cell_type": "markdown",
   "metadata": {},
   "source": [
    "### 6. Tain_test_split "
   ]
  },
  {
   "cell_type": "code",
   "execution_count": 88,
   "metadata": {},
   "outputs": [],
   "source": [
    "X_train, X_test, y_train, y_test = train_test_split(X, y, \n",
    "                                                    shuffle=True,\n",
    "                                                    stratify = y,\n",
    "                                                    test_size=0.2)"
   ]
  },
  {
   "cell_type": "markdown",
   "metadata": {},
   "source": [
    "### 7. Генерация признаков"
   ]
  },
  {
   "cell_type": "markdown",
   "metadata": {},
   "source": [
    "#### 1. Обучающий датасет"
   ]
  },
  {
   "cell_type": "code",
   "execution_count": 89,
   "metadata": {},
   "outputs": [],
   "source": [
    "features = FeatureGenerator(bin_split_numeric, bin_split_categorical, \n",
    "                            NUMERIC_FEATURE_NAMES, CATEGORICAL_FEATURE_NAMES)\n",
    "features.fit(X_train, y_train)\n",
    "X_train = features.transform(X_train)\n",
    "X_test = features.transform(X_test)"
   ]
  },
  {
   "cell_type": "markdown",
   "metadata": {},
   "source": [
    "#### 2. Тестовый датасет"
   ]
  },
  {
   "cell_type": "code",
   "execution_count": 90,
   "metadata": {},
   "outputs": [],
   "source": [
    "features = FeatureGenerator(bin_split_numeric, bin_split_categorical,\n",
    "                           NUMERIC_FEATURE_NAMES, CATEGORICAL_FEATURE_NAMES)\n",
    "features.fit(X, y)\n",
    "X = features.transform(X)\n",
    "X_final = features.transform(X_final)"
   ]
  },
  {
   "cell_type": "markdown",
   "metadata": {},
   "source": [
    "### 8. Балансировка классов\n"
   ]
  },
  {
   "cell_type": "code",
   "execution_count": 91,
   "metadata": {},
   "outputs": [
    {
     "name": "stdout",
     "output_type": "stream",
     "text": [
      "Original dataset shape Counter({0: 4310, 1: 1690})\n",
      "Resample dataset shape Counter({1: 4310, 0: 4310})\n"
     ]
    }
   ],
   "source": [
    "ros = RandomOverSampler()\n",
    "X_train_ros, y_train_ros = ros.fit_resample(X_train, y_train)\n",
    "\n",
    "print('Original dataset shape', Counter(y_train))\n",
    "print('Resample dataset shape', Counter(y_train_ros))"
   ]
  },
  {
   "cell_type": "markdown",
   "metadata": {},
   "source": [
    "### 9. Отбор признаков"
   ]
  },
  {
   "cell_type": "code",
   "execution_count": 92,
   "metadata": {},
   "outputs": [],
   "source": [
    "SELECTED_FEATURE_NAMES = ['Annual Income_', 'Number of Open Accounts_','Years of Credit History_', \n",
    "                          'Maximum Open Credit_', 'Months since last delinquent_',                          \n",
    "                          'Current Loan Amount_', 'Monthly Debt_', 'Credit Score_',\n",
    "                          \n",
    "                          'Home Ownership_', 'Purpose_', 'Term_']"
   ]
  },
  {
   "cell_type": "markdown",
   "metadata": {},
   "source": [
    "### 10. Модель"
   ]
  },
  {
   "cell_type": "code",
   "execution_count": 93,
   "metadata": {},
   "outputs": [],
   "source": [
    "kfold =  StratifiedKFold(n_splits=5, shuffle=True)\n",
    "def cv_f1_score(model):\n",
    "    f1_score_list = []\n",
    "    for train_index, test_index in kfold.split(X, y):\n",
    "        X_train_cv, X_test_cv = X.loc[train_index, :], X.loc[test_index, :]\n",
    "        y_train_cv, y_test_cv = y[train_index], y[test_index]\n",
    "        \n",
    "        features = FeatureGenerator(bin_split_numeric, bin_split_categorical,\n",
    "                                   NUMERIC_FEATURE_NAMES, CATEGORICAL_FEATURE_NAMES)\n",
    "        features.fit(X_train_cv, y_train_cv)\n",
    "        X_train_cv = features.transform(X_train_cv)\n",
    "        X_test_cv = features.transform(X_test_cv)\n",
    "        \n",
    "        X_train_ros_cv, y_train_ros_cv = ros.fit_resample(X_train_cv, y_train_cv)\n",
    "\n",
    "        model.fit(X_train_ros_cv[SELECTED_FEATURE_NAMES], y_train_ros_cv)\n",
    "\n",
    "        y_train_pred_cv = model.predict(X_train_ros_cv[SELECTED_FEATURE_NAMES])\n",
    "        y_test_pred_cv = model.predict(X_test_cv[SELECTED_FEATURE_NAMES])\n",
    "\n",
    "        f1_score_list.append(f1_score(y_test_cv, y_test_pred_cv, average=None)[1])\n",
    "    print(f'cross_validation_f1_score_test = {np.array(f1_score_list).mean()}\\n')"
   ]
  },
  {
   "cell_type": "code",
   "execution_count": 94,
   "metadata": {},
   "outputs": [],
   "source": [
    "def get_classification_report(y_train_true, y_train_pred, y_test_true, y_test_pred):\n",
    "    print('TRAIN\\n\\n' + classification_report(y_train_true, y_train_pred))\n",
    "    print('roc_auc_score =', roc_auc_score(y_train_true, y_train_pred), '\\n')\n",
    "    print('TEST\\n\\n' + classification_report(y_test_true, y_test_pred))\n",
    "    print('roc_auc_score =', roc_auc_score(y_test_true, y_test_pred), '\\n')\n",
    "    print('CONFUSION MATRIX\\n')\n",
    "    print(pd.crosstab(y_test_true, y_test_pred)) "
   ]
  },
  {
   "cell_type": "markdown",
   "metadata": {},
   "source": [
    "#### 1. LogisticRegression"
   ]
  },
  {
   "cell_type": "code",
   "execution_count": 95,
   "metadata": {},
   "outputs": [
    {
     "name": "stdout",
     "output_type": "stream",
     "text": [
      "cross_validation_f1_score_test = 0.5459954591110883\n",
      "\n",
      "TRAIN\n",
      "\n",
      "              precision    recall  f1-score   support\n",
      "\n",
      "           0       0.68      0.68      0.68      4310\n",
      "           1       0.68      0.68      0.68      4310\n",
      "\n",
      "    accuracy                           0.68      8620\n",
      "   macro avg       0.68      0.68      0.68      8620\n",
      "weighted avg       0.68      0.68      0.68      8620\n",
      "\n",
      "roc_auc_score = 0.681554524361949 \n",
      "\n",
      "TEST\n",
      "\n",
      "              precision    recall  f1-score   support\n",
      "\n",
      "           0       0.84      0.70      0.77      1077\n",
      "           1       0.47      0.67      0.55       423\n",
      "\n",
      "    accuracy                           0.69      1500\n",
      "   macro avg       0.66      0.68      0.66      1500\n",
      "weighted avg       0.74      0.69      0.71      1500\n",
      "\n",
      "roc_auc_score = 0.6847725162488393 \n",
      "\n",
      "CONFUSION MATRIX\n",
      "\n",
      "col_0             0    1\n",
      "Credit Default          \n",
      "0               757  320\n",
      "1               141  282\n"
     ]
    }
   ],
   "source": [
    "model_lr = LogisticRegression(random_state=42)\n",
    "model_lr.fit(X_train_ros[SELECTED_FEATURE_NAMES], y_train_ros)\n",
    "\n",
    "y_train_pred = model_lr.predict(X_train_ros[SELECTED_FEATURE_NAMES])\n",
    "y_test_pred = model_lr.predict(X_test[SELECTED_FEATURE_NAMES])\n",
    "\n",
    "cv_f1_score(model_lr)\n",
    "get_classification_report(y_train_ros, y_train_pred, y_test, y_test_pred)\n",
    "\n",
    "#F1 > 0.5\n",
    "# 0.5459954591110883"
   ]
  },
  {
   "cell_type": "markdown",
   "metadata": {},
   "source": [
    "#### 2. CatBoostClassifier"
   ]
  },
  {
   "cell_type": "code",
   "execution_count": 96,
   "metadata": {
    "scrolled": true
   },
   "outputs": [
    {
     "name": "stdout",
     "output_type": "stream",
     "text": [
      "cross_validation_f1_score_test = 0.5360411478310143\n",
      "\n",
      "TRAIN\n",
      "\n",
      "              precision    recall  f1-score   support\n",
      "\n",
      "           0       0.72      0.74      0.73      4310\n",
      "           1       0.74      0.71      0.72      4310\n",
      "\n",
      "    accuracy                           0.73      8620\n",
      "   macro avg       0.73      0.73      0.73      8620\n",
      "weighted avg       0.73      0.73      0.73      8620\n",
      "\n",
      "roc_auc_score = 0.7291183294663572 \n",
      "\n",
      "TEST\n",
      "\n",
      "              precision    recall  f1-score   support\n",
      "\n",
      "           0       0.82      0.74      0.78      1077\n",
      "           1       0.47      0.59      0.53       423\n",
      "\n",
      "    accuracy                           0.70      1500\n",
      "   macro avg       0.65      0.67      0.65      1500\n",
      "weighted avg       0.72      0.70      0.71      1500\n",
      "\n",
      "roc_auc_score = 0.6662353398262839 \n",
      "\n",
      "CONFUSION MATRIX\n",
      "\n",
      "col_0             0    1\n",
      "Credit Default          \n",
      "0               796  281\n",
      "1               172  251\n"
     ]
    }
   ],
   "source": [
    "model_cb = catb.CatBoostClassifier(n_estimators=100,                  \n",
    "                                   learning_rate=0.1,\n",
    "                                   silent=True, random_state=21)\n",
    "model_cb.fit(X_train_ros[SELECTED_FEATURE_NAMES], y_train_ros)\n",
    "\n",
    "y_train_pred = model_cb.predict(X_train_ros[SELECTED_FEATURE_NAMES])\n",
    "y_test_pred = model_cb.predict(X_test[SELECTED_FEATURE_NAMES])\n",
    "\n",
    "cv_f1_score(model_cb)\n",
    "get_classification_report(y_train_ros, y_train_pred, y_test, y_test_pred)\n",
    "\n",
    "#F1 > 0.5\n",
    "# 0.53604114783101"
   ]
  },
  {
   "cell_type": "markdown",
   "metadata": {},
   "source": [
    "#### 3. RandomForestClassifier"
   ]
  },
  {
   "cell_type": "code",
   "execution_count": 97,
   "metadata": {},
   "outputs": [
    {
     "name": "stdout",
     "output_type": "stream",
     "text": [
      "cross_validation_f1_score_test = 0.5297351458725752\n",
      "\n",
      "TRAIN\n",
      "\n",
      "              precision    recall  f1-score   support\n",
      "\n",
      "           0       0.66      0.78      0.72      4310\n",
      "           1       0.74      0.60      0.66      4310\n",
      "\n",
      "    accuracy                           0.69      8620\n",
      "   macro avg       0.70      0.69      0.69      8620\n",
      "weighted avg       0.70      0.69      0.69      8620\n",
      "\n",
      "roc_auc_score = 0.6936194895591647 \n",
      "\n",
      "TEST\n",
      "\n",
      "              precision    recall  f1-score   support\n",
      "\n",
      "           0       0.82      0.77      0.79      1077\n",
      "           1       0.49      0.57      0.53       423\n",
      "\n",
      "    accuracy                           0.71      1500\n",
      "   macro avg       0.66      0.67      0.66      1500\n",
      "weighted avg       0.73      0.71      0.72      1500\n",
      "\n",
      "roc_auc_score = 0.6701995956722443 \n",
      "\n",
      "CONFUSION MATRIX\n",
      "\n",
      "col_0             0    1\n",
      "Credit Default          \n",
      "0               830  247\n",
      "1               182  241\n"
     ]
    }
   ],
   "source": [
    "model_rf = RandomForestClassifier(n_estimators=100,  \n",
    "                                  max_depth=6,                                  \n",
    "                                  min_samples_leaf=16,\n",
    "                                  random_state=42)\n",
    "\n",
    "model_rf.fit(X_train_ros[SELECTED_FEATURE_NAMES].fillna(0), y_train_ros)\n",
    "\n",
    "y_train_pred = model_rf.predict(X_train_ros[SELECTED_FEATURE_NAMES])\n",
    "y_test_pred = model_rf.predict(X_test[SELECTED_FEATURE_NAMES])\n",
    "\n",
    "cv_f1_score(model_rf)\n",
    "get_classification_report(y_train_ros, y_train_pred, y_test, y_test_pred)\n",
    "\n",
    "# 0.5297351458725752"
   ]
  },
  {
   "cell_type": "markdown",
   "metadata": {},
   "source": [
    "#### 4. AdaBoostClassifier"
   ]
  },
  {
   "cell_type": "code",
   "execution_count": 98,
   "metadata": {},
   "outputs": [
    {
     "name": "stdout",
     "output_type": "stream",
     "text": [
      "cross_validation_f1_score_test = 0.5442883790608273\n",
      "\n",
      "TRAIN\n",
      "\n",
      "              precision    recall  f1-score   support\n",
      "\n",
      "           0       0.69      0.68      0.69      4310\n",
      "           1       0.69      0.69      0.69      4310\n",
      "\n",
      "    accuracy                           0.69      8620\n",
      "   macro avg       0.69      0.69      0.69      8620\n",
      "weighted avg       0.69      0.69      0.69      8620\n",
      "\n",
      "roc_auc_score = 0.6889791183294665 \n",
      "\n",
      "TEST\n",
      "\n",
      "              precision    recall  f1-score   support\n",
      "\n",
      "           0       0.84      0.69      0.76      1077\n",
      "           1       0.46      0.65      0.54       423\n",
      "\n",
      "    accuracy                           0.68      1500\n",
      "   macro avg       0.65      0.67      0.65      1500\n",
      "weighted avg       0.73      0.68      0.70      1500\n",
      "\n",
      "roc_auc_score = 0.6742198252303153 \n",
      "\n",
      "CONFUSION MATRIX\n",
      "\n",
      "col_0             0    1\n",
      "Credit Default          \n",
      "0               747  330\n",
      "1               146  277\n"
     ]
    }
   ],
   "source": [
    "model_ab = AdaBoostClassifier(n_estimators=80, \n",
    "                              learning_rate = 0.65,\n",
    "                           random_state=42)\n",
    "model_ab.fit(X_train_ros[SELECTED_FEATURE_NAMES], y_train_ros)\n",
    "\n",
    "y_train_pred = model_ab.predict(X_train_ros[SELECTED_FEATURE_NAMES])\n",
    "y_test_pred = model_ab.predict(X_test[SELECTED_FEATURE_NAMES])\n",
    "\n",
    "cv_f1_score(model_ab)\n",
    "get_classification_report(y_train_ros, y_train_pred, y_test, y_test_pred)\n",
    "\n",
    "# 0.5442883790608273"
   ]
  },
  {
   "cell_type": "markdown",
   "metadata": {},
   "source": [
    "#### 5. VotingClassifier"
   ]
  },
  {
   "cell_type": "code",
   "execution_count": 99,
   "metadata": {},
   "outputs": [
    {
     "name": "stdout",
     "output_type": "stream",
     "text": [
      "cross_validation_f1_score_test = 0.5401967464191546\n",
      "\n",
      "TRAIN\n",
      "\n",
      "              precision    recall  f1-score   support\n",
      "\n",
      "           0       0.70      0.74      0.72      4310\n",
      "           1       0.72      0.68      0.70      4310\n",
      "\n",
      "    accuracy                           0.71      8620\n",
      "   macro avg       0.71      0.71      0.71      8620\n",
      "weighted avg       0.71      0.71      0.71      8620\n",
      "\n",
      "roc_auc_score = 0.7089327146171694 \n",
      "\n",
      "TEST\n",
      "\n",
      "              precision    recall  f1-score   support\n",
      "\n",
      "           0       0.83      0.74      0.78      1077\n",
      "           1       0.48      0.62      0.54       423\n",
      "\n",
      "    accuracy                           0.70      1500\n",
      "   macro avg       0.66      0.68      0.66      1500\n",
      "weighted avg       0.73      0.70      0.71      1500\n",
      "\n",
      "roc_auc_score = 0.679744759872775 \n",
      "\n",
      "CONFUSION MATRIX\n",
      "\n",
      "col_0             0    1\n",
      "Credit Default          \n",
      "0               792  285\n",
      "1               159  264\n"
     ]
    }
   ],
   "source": [
    "model = VotingClassifier(estimators=[('lr', model_lr), ('cb', model_cb), ('rf', model_rf), ('ab', model_ab)],\n",
    "                          voting='soft', weights=[1, 1, 1, 2])\n",
    "model = model.fit(X_train_ros[SELECTED_FEATURE_NAMES], y_train_ros)\n",
    "\n",
    "y_train_pred = model.predict(X_train_ros[SELECTED_FEATURE_NAMES])\n",
    "y_test_pred = model.predict(X_test[SELECTED_FEATURE_NAMES])\n",
    "\n",
    "cv_f1_score(model)\n",
    "get_classification_report(y_train_ros, y_train_pred, y_test, y_test_pred)\n",
    "\n",
    "# 0.5401967464191546"
   ]
  },
  {
   "cell_type": "markdown",
   "metadata": {},
   "source": [
    "### 11. Интерпретация результатов"
   ]
  },
  {
   "cell_type": "markdown",
   "metadata": {},
   "source": [
    "* Наиболее значимыми признаками являются 'Credit Score_' и 'Current Loan Amount_'.\n",
    "* Значимость остальных признаков модели оценивают по-разному.\n",
    "* VotingClassifier объединяет четыре модели (LogisticRegression, CatBoostClassifier, RandomForestClassifier, AdaBoostClassifier) и, как правило работает лучше каждой модели в отдельности, поэтому для финанльной модели выбран результат, сгенерированный VotingClassifier."
   ]
  },
  {
   "cell_type": "markdown",
   "metadata": {},
   "source": [
    "#### ExtraTreesClassifier"
   ]
  },
  {
   "cell_type": "code",
   "execution_count": 100,
   "metadata": {},
   "outputs": [
    {
     "name": "stdout",
     "output_type": "stream",
     "text": [
      "Feature ranking:\n",
      "1. feature 5 (0.202188)\n",
      "2. feature 7 (0.198225)\n",
      "3. feature 4 (0.120339)\n",
      "4. feature 3 (0.096063)\n",
      "5. feature 2 (0.075229)\n",
      "6. feature 8 (0.069729)\n",
      "7. feature 1 (0.066793)\n",
      "8. feature 0 (0.055714)\n",
      "9. feature 6 (0.044217)\n",
      "10. feature 10 (0.040341)\n",
      "11. feature 9 (0.031162)\n"
     ]
    },
    {
     "data": {
      "image/png": "[encoded data removed]",
      "text/plain": [
       "<Figure size 432x288 with 1 Axes>"
      ]
     },
     "metadata": {},
     "output_type": "display_data"
    }
   ],
   "source": [
    "X = X.fillna(0)\n",
    "forest = ExtraTreesClassifier(n_estimators=250,\n",
    "                              random_state=0)\n",
    "\n",
    "forest.fit(X_train_ros[SELECTED_FEATURE_NAMES], y_train_ros)\n",
    "importances = forest.feature_importances_\n",
    "std = np.std([tree.feature_importances_ for tree in forest.estimators_],\n",
    "             axis=0)\n",
    "indices = np.argsort(importances)[::-1]\n",
    "\n",
    "# Print the feature ranking\n",
    "print(\"Feature ranking:\")\n",
    "\n",
    "f_list = []\n",
    "for f in range(X_train_ros[SELECTED_FEATURE_NAMES].shape[1]):\n",
    "    f_list.append(indices[f])\n",
    "    print(\"%d. feature %d (%f)\" % (f + 1, indices[f], importances[indices[f]]))\n",
    "\n",
    "# Plot the impurity-based feature importances of the forest\n",
    "plt.figure()\n",
    "plt.title(\"Feature importances\")\n",
    "plt.bar(range(X_train_ros[SELECTED_FEATURE_NAMES].shape[1]), importances[indices],\n",
    "        color=\"r\", yerr=std[indices], align=\"center\")\n",
    "plt.xticks(range(X.shape[1]), indices)\n",
    "plt.xlim([-1, X_train_ros[SELECTED_FEATURE_NAMES].shape[1]])\n",
    "plt.show()"
   ]
  },
  {
   "cell_type": "code",
   "execution_count": 101,
   "metadata": {},
   "outputs": [
    {
     "data": {
      "text/plain": [
       "['Current Loan Amount_',\n",
       " 'Credit Score_',\n",
       " 'Months since last delinquent_',\n",
       " 'Maximum Open Credit_',\n",
       " 'Years of Credit History_',\n",
       " 'Home Ownership_',\n",
       " 'Number of Open Accounts_',\n",
       " 'Annual Income_',\n",
       " 'Monthly Debt_',\n",
       " 'Term_',\n",
       " 'Purpose_']"
      ]
     },
     "execution_count": 101,
     "metadata": {},
     "output_type": "execute_result"
    }
   ],
   "source": [
    "list(X_train_ros[SELECTED_FEATURE_NAMES].columns[f_list])"
   ]
  },
  {
   "cell_type": "markdown",
   "metadata": {},
   "source": [
    "#### CatBoostClassifier"
   ]
  },
  {
   "cell_type": "code",
   "execution_count": 102,
   "metadata": {},
   "outputs": [
    {
     "data": {
      "text/html": [
       "<div>\n",
       "<style scoped>\n",
       "    .dataframe tbody tr th:only-of-type {\n",
       "        vertical-align: middle;\n",
       "    }\n",
       "\n",
       "    .dataframe tbody tr th {\n",
       "        vertical-align: top;\n",
       "    }\n",
       "\n",
       "    .dataframe thead th {\n",
       "        text-align: right;\n",
       "    }\n",
       "</style>\n",
       "<table border=\"1\" class=\"dataframe\">\n",
       "  <thead>\n",
       "    <tr style=\"text-align: right;\">\n",
       "      <th></th>\n",
       "      <th>feature_name</th>\n",
       "      <th>importance</th>\n",
       "    </tr>\n",
       "  </thead>\n",
       "  <tbody>\n",
       "    <tr>\n",
       "      <th>7</th>\n",
       "      <td>Credit Score_</td>\n",
       "      <td>0.371845</td>\n",
       "    </tr>\n",
       "    <tr>\n",
       "      <th>5</th>\n",
       "      <td>Current Loan Amount_</td>\n",
       "      <td>0.251012</td>\n",
       "    </tr>\n",
       "    <tr>\n",
       "      <th>10</th>\n",
       "      <td>Term_</td>\n",
       "      <td>0.070776</td>\n",
       "    </tr>\n",
       "    <tr>\n",
       "      <th>3</th>\n",
       "      <td>Maximum Open Credit_</td>\n",
       "      <td>0.052590</td>\n",
       "    </tr>\n",
       "    <tr>\n",
       "      <th>0</th>\n",
       "      <td>Annual Income_</td>\n",
       "      <td>0.045122</td>\n",
       "    </tr>\n",
       "    <tr>\n",
       "      <th>8</th>\n",
       "      <td>Home Ownership_</td>\n",
       "      <td>0.042563</td>\n",
       "    </tr>\n",
       "    <tr>\n",
       "      <th>1</th>\n",
       "      <td>Number of Open Accounts_</td>\n",
       "      <td>0.040854</td>\n",
       "    </tr>\n",
       "    <tr>\n",
       "      <th>9</th>\n",
       "      <td>Purpose_</td>\n",
       "      <td>0.035180</td>\n",
       "    </tr>\n",
       "    <tr>\n",
       "      <th>4</th>\n",
       "      <td>Months since last delinquent_</td>\n",
       "      <td>0.035051</td>\n",
       "    </tr>\n",
       "    <tr>\n",
       "      <th>6</th>\n",
       "      <td>Monthly Debt_</td>\n",
       "      <td>0.029542</td>\n",
       "    </tr>\n",
       "    <tr>\n",
       "      <th>2</th>\n",
       "      <td>Years of Credit History_</td>\n",
       "      <td>0.025465</td>\n",
       "    </tr>\n",
       "  </tbody>\n",
       "</table>\n",
       "</div>"
      ],
      "text/plain": [
       "                     feature_name  importance\n",
       "7                   Credit Score_    0.371845\n",
       "5            Current Loan Amount_    0.251012\n",
       "10                          Term_    0.070776\n",
       "3            Maximum Open Credit_    0.052590\n",
       "0                  Annual Income_    0.045122\n",
       "8                 Home Ownership_    0.042563\n",
       "1        Number of Open Accounts_    0.040854\n",
       "9                        Purpose_    0.035180\n",
       "4   Months since last delinquent_    0.035051\n",
       "6                   Monthly Debt_    0.029542\n",
       "2        Years of Credit History_    0.025465"
      ]
     },
     "execution_count": 102,
     "metadata": {},
     "output_type": "execute_result"
    }
   ],
   "source": [
    "feature_importances = pd.DataFrame(zip(X_train_ros[SELECTED_FEATURE_NAMES].columns,\n",
    "                                       model_cb.feature_importances_ / model_cb.feature_importances_.sum()), \n",
    "                                   columns=['feature_name', 'importance'])\n",
    "\n",
    "feature_importances.sort_values(by='importance', ascending=False, inplace=True)\n",
    "feature_importances"
   ]
  },
  {
   "cell_type": "code",
   "execution_count": 103,
   "metadata": {},
   "outputs": [
    {
     "data": {
      "image/png": "[encoded data removed]",
      "text/plain": [
       "<Figure size 720x432 with 1 Axes>"
      ]
     },
     "metadata": {},
     "output_type": "display_data"
    }
   ],
   "source": [
    "def plot_feature_importances(importances, X):\n",
    "    \n",
    "    indices = np.argsort(importances)[::-1]\n",
    "\n",
    "    plt.figure(figsize = (10, 6))\n",
    "    plt.title(\"Feature importances\", fontsize=16)\n",
    "    plt.bar(range(X.shape[1]), importances[indices] / importances.sum(),\n",
    "           color=\"darkblue\", align=\"center\")\n",
    "    plt.xticks(range(X.shape[1]), X.columns[indices], rotation = 90, fontsize=14)\n",
    "    plt.xlim([-1, X.shape[1]])\n",
    "\n",
    "    plt.tight_layout()    \n",
    "    plt.show()\n",
    "    \n",
    "plot_feature_importances(importances = model_cb.feature_importances_, X=X_train_ros[SELECTED_FEATURE_NAMES])"
   ]
  },
  {
   "cell_type": "markdown",
   "metadata": {},
   "source": [
    "## Прогнозирование на тестовом датасете"
   ]
  },
  {
   "cell_type": "markdown",
   "metadata": {},
   "source": [
    "#### Балансировка классов"
   ]
  },
  {
   "cell_type": "code",
   "execution_count": 104,
   "metadata": {},
   "outputs": [
    {
     "name": "stdout",
     "output_type": "stream",
     "text": [
      "Original dataset shape Counter({0: 5387, 1: 2113})\n",
      "Resample dataset shape Counter({0: 5387, 1: 5387})\n"
     ]
    }
   ],
   "source": [
    "ros = RandomOverSampler()\n",
    "X_ros, y_ros = ros.fit_resample(X, y)\n",
    "\n",
    "print('Original dataset shape', Counter(y))\n",
    "print('Resample dataset shape', Counter(y_ros))"
   ]
  },
  {
   "cell_type": "markdown",
   "metadata": {},
   "source": [
    "#### Обучение модели на полном наборе данных"
   ]
  },
  {
   "cell_type": "code",
   "execution_count": 105,
   "metadata": {},
   "outputs": [],
   "source": [
    "model = model.fit(X_ros[SELECTED_FEATURE_NAMES].fillna(0), y_ros)"
   ]
  },
  {
   "cell_type": "markdown",
   "metadata": {},
   "source": [
    "#### Прогнозирование целевой переменной"
   ]
  },
  {
   "cell_type": "code",
   "execution_count": 106,
   "metadata": {},
   "outputs": [
    {
     "data": {
      "text/html": [
       "<div>\n",
       "<style scoped>\n",
       "    .dataframe tbody tr th:only-of-type {\n",
       "        vertical-align: middle;\n",
       "    }\n",
       "\n",
       "    .dataframe tbody tr th {\n",
       "        vertical-align: top;\n",
       "    }\n",
       "\n",
       "    .dataframe thead th {\n",
       "        text-align: right;\n",
       "    }\n",
       "</style>\n",
       "<table border=\"1\" class=\"dataframe\">\n",
       "  <thead>\n",
       "    <tr style=\"text-align: right;\">\n",
       "      <th></th>\n",
       "      <th>Credit Default</th>\n",
       "    </tr>\n",
       "  </thead>\n",
       "  <tbody>\n",
       "    <tr>\n",
       "      <th>0</th>\n",
       "      <td>1</td>\n",
       "    </tr>\n",
       "    <tr>\n",
       "      <th>1</th>\n",
       "      <td>1</td>\n",
       "    </tr>\n",
       "    <tr>\n",
       "      <th>2</th>\n",
       "      <td>1</td>\n",
       "    </tr>\n",
       "    <tr>\n",
       "      <th>3</th>\n",
       "      <td>0</td>\n",
       "    </tr>\n",
       "    <tr>\n",
       "      <th>4</th>\n",
       "      <td>1</td>\n",
       "    </tr>\n",
       "  </tbody>\n",
       "</table>\n",
       "</div>"
      ],
      "text/plain": [
       "   Credit Default\n",
       "0               1\n",
       "1               1\n",
       "2               1\n",
       "3               0\n",
       "4               1"
      ]
     },
     "execution_count": 106,
     "metadata": {},
     "output_type": "execute_result"
    }
   ],
   "source": [
    "y_pred = model.predict(X_final[SELECTED_FEATURE_NAMES].fillna(0))\n",
    "y_final=pd.DataFrame(y_pred, columns=[TARGET_NAME])\n",
    "y_final.to_csv(PATH + 'YKutovaya_predictions.csv')\n",
    "y_final.head()"
   ]
  },
  {
   "cell_type": "code",
   "execution_count": 107,
   "metadata": {},
   "outputs": [
    {
     "data": {
      "text/plain": [
       "0    1565\n",
       "1     935\n",
       "Name: Credit Default, dtype: int64"
      ]
     },
     "execution_count": 107,
     "metadata": {},
     "output_type": "execute_result"
    }
   ],
   "source": [
    "y_final[TARGET_NAME].value_counts()"
   ]
  }
 ],
 "metadata": {
  "kernelspec": {
   "display_name": "Python 3",
   "language": "python",
   "name": "python3"
  },
  "language_info": {
   "codemirror_mode": {
    "name": "ipython",
    "version": 3
   },
   "file_extension": ".py",
   "mimetype": "text/x-python",
   "name": "python",
   "nbconvert_exporter": "python",
   "pygments_lexer": "ipython3",
   "version": "3.8.2"
  }
 },
 "nbformat": 4,
 "nbformat_minor": 4
}
