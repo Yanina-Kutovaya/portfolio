{
 "cells": [
  {
   "cell_type": "code",
   "execution_count": 1,
   "metadata": {},
   "outputs": [],
   "source": [
    "import numpy as np\n",
    "import pandas as pd\n",
    "\n",
    "import scipy.stats as ss\n",
    "\n",
    "from sklearn.preprocessing import StandardScaler\n",
    "from sklearn.decomposition import PCA\n",
    "\n",
    "\n",
    "from sklearn.model_selection import train_test_split, ShuffleSplit, cross_val_score, learning_curve\n",
    "from sklearn.model_selection import KFold, GridSearchCV, RandomizedSearchCV\n",
    "\n",
    "from sklearn.metrics import classification_report, f1_score, precision_score, recall_score, roc_auc_score\n",
    "\n",
    "import xgboost as xgb, lightgbm as lgbm, catboost as catb\n",
    "from lightgbm import LGBMClassifier\n",
    "import xgboost as xgb\n",
    "\n",
    "from sklearn.ensemble import ExtraTreesClassifier, RandomForestClassifier, AdaBoostClassifier, VotingClassifier\n",
    "from sklearn.tree import DecisionTreeClassifier\n",
    "\n",
    "from imblearn.over_sampling import RandomOverSampler, SMOTE\n",
    "from imblearn.under_sampling import TomekLinks\n",
    "\n",
    "from collections import Counter\n",
    "\n",
    "import matplotlib.pyplot as plt\n",
    "import seaborn as sns\n",
    "%matplotlib inline"
   ]
  },
  {
   "cell_type": "code",
   "execution_count": 2,
   "metadata": {},
   "outputs": [],
   "source": [
    "import warnings\n",
    "warnings.filterwarnings('ignore')"
   ]
  },
  {
   "cell_type": "markdown",
   "metadata": {},
   "source": [
    "## Построение модели классификации"
   ]
  },
  {
   "cell_type": "markdown",
   "metadata": {},
   "source": [
    "### 1. Обзор обучающего датасета\n"
   ]
  },
  {
   "cell_type": "markdown",
   "metadata": {},
   "source": [
    "#### Описание датасета\n",
    "\n",
    "* Home Ownership - домовладение\n",
    "* Annual Income - годовой доход\n",
    "* Years in current job - количество лет на текущем месте работы\n",
    "* Tax Liens - налоговые обременения\n",
    "* Number of Open Accounts - количество открытых счетов\n",
    "* Years of Credit History - количество лет кредитной истории\n",
    "* Maximum Open Credit - наибольший открытый кредит\n",
    "* Number of Credit Problems - количество проблем с кредитом\n",
    "* Months since last delinquent - количество месяцев с последней просрочки платежа\n",
    "* Bankruptcies - банкротства\n",
    "* Purpose - цель кредита\n",
    "* Term - срок кредита\n",
    "* Current Loan Amount - текущая сумма кредита\n",
    "* Current Credit Balance - текущий кредитный баланс\n",
    "* Monthly Debt - ежемесячный долг\n",
    "* Credit Default - факт невыполнения кредитных обязательств (0 - погашен вовремя, 1 - просрочка)"
   ]
  },
  {
   "cell_type": "markdown",
   "metadata": {},
   "source": [
    "#### Пути к директориям и файлам"
   ]
  },
  {
   "cell_type": "code",
   "execution_count": 3,
   "metadata": {},
   "outputs": [],
   "source": [
    "PATH = 'C:/Users/ASER/Desktop/GeekBrains/ML_project/'\n",
    "TRAIN_DATASET_PATH = PATH + 'course_project_train.csv'\n",
    "TEST_DATASET_PATH = PATH + 'course_project_test.csv'\n",
    "PREP_DATASET_PATH = PATH + 'course_project_prep_train.csv'"
   ]
  },
  {
   "cell_type": "markdown",
   "metadata": {},
   "source": [
    "### 2. Загрузка данных"
   ]
  },
  {
   "cell_type": "code",
   "execution_count": 4,
   "metadata": {},
   "outputs": [
    {
     "data": {
      "text/html": [
       "<div>\n",
       "<style scoped>\n",
       "    .dataframe tbody tr th:only-of-type {\n",
       "        vertical-align: middle;\n",
       "    }\n",
       "\n",
       "    .dataframe tbody tr th {\n",
       "        vertical-align: top;\n",
       "    }\n",
       "\n",
       "    .dataframe thead th {\n",
       "        text-align: right;\n",
       "    }\n",
       "</style>\n",
       "<table border=\"1\" class=\"dataframe\">\n",
       "  <thead>\n",
       "    <tr style=\"text-align: right;\">\n",
       "      <th></th>\n",
       "      <th>Home Ownership</th>\n",
       "      <th>Annual Income</th>\n",
       "      <th>Years in current job</th>\n",
       "      <th>Tax Liens</th>\n",
       "      <th>Number of Open Accounts</th>\n",
       "      <th>Years of Credit History</th>\n",
       "      <th>Maximum Open Credit</th>\n",
       "      <th>Number of Credit Problems</th>\n",
       "      <th>Months since last delinquent</th>\n",
       "      <th>Bankruptcies</th>\n",
       "      <th>Purpose</th>\n",
       "      <th>Term</th>\n",
       "      <th>Current Loan Amount</th>\n",
       "      <th>Current Credit Balance</th>\n",
       "      <th>Monthly Debt</th>\n",
       "      <th>Credit Score</th>\n",
       "      <th>Credit Default</th>\n",
       "    </tr>\n",
       "  </thead>\n",
       "  <tbody>\n",
       "    <tr>\n",
       "      <th>0</th>\n",
       "      <td>Own Home</td>\n",
       "      <td>482087.0</td>\n",
       "      <td>NaN</td>\n",
       "      <td>0.0</td>\n",
       "      <td>11.0</td>\n",
       "      <td>26.3</td>\n",
       "      <td>685960.0</td>\n",
       "      <td>1.0</td>\n",
       "      <td>NaN</td>\n",
       "      <td>1.0</td>\n",
       "      <td>debt consolidation</td>\n",
       "      <td>Short Term</td>\n",
       "      <td>99999999.0</td>\n",
       "      <td>47386.0</td>\n",
       "      <td>7914.0</td>\n",
       "      <td>749.0</td>\n",
       "      <td>0</td>\n",
       "    </tr>\n",
       "    <tr>\n",
       "      <th>1</th>\n",
       "      <td>Own Home</td>\n",
       "      <td>1025487.0</td>\n",
       "      <td>10+ years</td>\n",
       "      <td>0.0</td>\n",
       "      <td>15.0</td>\n",
       "      <td>15.3</td>\n",
       "      <td>1181730.0</td>\n",
       "      <td>0.0</td>\n",
       "      <td>NaN</td>\n",
       "      <td>0.0</td>\n",
       "      <td>debt consolidation</td>\n",
       "      <td>Long Term</td>\n",
       "      <td>264968.0</td>\n",
       "      <td>394972.0</td>\n",
       "      <td>18373.0</td>\n",
       "      <td>737.0</td>\n",
       "      <td>1</td>\n",
       "    </tr>\n",
       "  </tbody>\n",
       "</table>\n",
       "</div>"
      ],
      "text/plain": [
       "  Home Ownership  Annual Income Years in current job  Tax Liens  \\\n",
       "0       Own Home       482087.0                  NaN        0.0   \n",
       "1       Own Home      1025487.0            10+ years        0.0   \n",
       "\n",
       "   Number of Open Accounts  Years of Credit History  Maximum Open Credit  \\\n",
       "0                     11.0                     26.3             685960.0   \n",
       "1                     15.0                     15.3            1181730.0   \n",
       "\n",
       "   Number of Credit Problems  Months since last delinquent  Bankruptcies  \\\n",
       "0                        1.0                           NaN           1.0   \n",
       "1                        0.0                           NaN           0.0   \n",
       "\n",
       "              Purpose        Term  Current Loan Amount  \\\n",
       "0  debt consolidation  Short Term           99999999.0   \n",
       "1  debt consolidation   Long Term             264968.0   \n",
       "\n",
       "   Current Credit Balance  Monthly Debt  Credit Score  Credit Default  \n",
       "0                 47386.0        7914.0         749.0               0  \n",
       "1                394972.0       18373.0         737.0               1  "
      ]
     },
     "execution_count": 4,
     "metadata": {},
     "output_type": "execute_result"
    }
   ],
   "source": [
    "df = pd.read_csv(TRAIN_DATASET_PATH)\n",
    "df.head(2)"
   ]
  },
  {
   "cell_type": "code",
   "execution_count": 5,
   "metadata": {},
   "outputs": [
    {
     "name": "stdout",
     "output_type": "stream",
     "text": [
      "X.shape =  (7500, 16)\n",
      "y.shape =  (7500,)\n"
     ]
    }
   ],
   "source": [
    "TARGET_NAME = 'Credit Default'\n",
    "X = df.drop(TARGET_NAME, axis=1)\n",
    "y = df[TARGET_NAME]\n",
    "print('X.shape = ', X.shape)\n",
    "print('y.shape = ', y.shape)"
   ]
  },
  {
   "cell_type": "code",
   "execution_count": 6,
   "metadata": {},
   "outputs": [
    {
     "data": {
      "text/plain": [
       "0    5387\n",
       "1    2113\n",
       "Name: Credit Default, dtype: int64"
      ]
     },
     "execution_count": 6,
     "metadata": {},
     "output_type": "execute_result"
    }
   ],
   "source": [
    "y.value_counts()"
   ]
  },
  {
   "cell_type": "code",
   "execution_count": 7,
   "metadata": {},
   "outputs": [
    {
     "name": "stdout",
     "output_type": "stream",
     "text": [
      "X_final.shape (2500, 16)\n"
     ]
    },
    {
     "data": {
      "text/html": [
       "<div>\n",
       "<style scoped>\n",
       "    .dataframe tbody tr th:only-of-type {\n",
       "        vertical-align: middle;\n",
       "    }\n",
       "\n",
       "    .dataframe tbody tr th {\n",
       "        vertical-align: top;\n",
       "    }\n",
       "\n",
       "    .dataframe thead th {\n",
       "        text-align: right;\n",
       "    }\n",
       "</style>\n",
       "<table border=\"1\" class=\"dataframe\">\n",
       "  <thead>\n",
       "    <tr style=\"text-align: right;\">\n",
       "      <th></th>\n",
       "      <th>Home Ownership</th>\n",
       "      <th>Annual Income</th>\n",
       "      <th>Years in current job</th>\n",
       "      <th>Tax Liens</th>\n",
       "      <th>Number of Open Accounts</th>\n",
       "      <th>Years of Credit History</th>\n",
       "      <th>Maximum Open Credit</th>\n",
       "      <th>Number of Credit Problems</th>\n",
       "      <th>Months since last delinquent</th>\n",
       "      <th>Bankruptcies</th>\n",
       "      <th>Purpose</th>\n",
       "      <th>Term</th>\n",
       "      <th>Current Loan Amount</th>\n",
       "      <th>Current Credit Balance</th>\n",
       "      <th>Monthly Debt</th>\n",
       "      <th>Credit Score</th>\n",
       "    </tr>\n",
       "  </thead>\n",
       "  <tbody>\n",
       "    <tr>\n",
       "      <th>0</th>\n",
       "      <td>Rent</td>\n",
       "      <td>NaN</td>\n",
       "      <td>4 years</td>\n",
       "      <td>0.0</td>\n",
       "      <td>9.0</td>\n",
       "      <td>12.5</td>\n",
       "      <td>220968.0</td>\n",
       "      <td>0.0</td>\n",
       "      <td>70.0</td>\n",
       "      <td>0.0</td>\n",
       "      <td>debt consolidation</td>\n",
       "      <td>Short Term</td>\n",
       "      <td>162470.0</td>\n",
       "      <td>105906.0</td>\n",
       "      <td>6813.0</td>\n",
       "      <td>NaN</td>\n",
       "    </tr>\n",
       "    <tr>\n",
       "      <th>1</th>\n",
       "      <td>Rent</td>\n",
       "      <td>231838.0</td>\n",
       "      <td>1 year</td>\n",
       "      <td>0.0</td>\n",
       "      <td>6.0</td>\n",
       "      <td>32.7</td>\n",
       "      <td>55946.0</td>\n",
       "      <td>0.0</td>\n",
       "      <td>8.0</td>\n",
       "      <td>0.0</td>\n",
       "      <td>educational expenses</td>\n",
       "      <td>Short Term</td>\n",
       "      <td>78298.0</td>\n",
       "      <td>46037.0</td>\n",
       "      <td>2318.0</td>\n",
       "      <td>699.0</td>\n",
       "    </tr>\n",
       "  </tbody>\n",
       "</table>\n",
       "</div>"
      ],
      "text/plain": [
       "  Home Ownership  Annual Income Years in current job  Tax Liens  \\\n",
       "0           Rent            NaN              4 years        0.0   \n",
       "1           Rent       231838.0               1 year        0.0   \n",
       "\n",
       "   Number of Open Accounts  Years of Credit History  Maximum Open Credit  \\\n",
       "0                      9.0                     12.5             220968.0   \n",
       "1                      6.0                     32.7              55946.0   \n",
       "\n",
       "   Number of Credit Problems  Months since last delinquent  Bankruptcies  \\\n",
       "0                        0.0                          70.0           0.0   \n",
       "1                        0.0                           8.0           0.0   \n",
       "\n",
       "                Purpose        Term  Current Loan Amount  \\\n",
       "0    debt consolidation  Short Term             162470.0   \n",
       "1  educational expenses  Short Term              78298.0   \n",
       "\n",
       "   Current Credit Balance  Monthly Debt  Credit Score  \n",
       "0                105906.0        6813.0           NaN  \n",
       "1                 46037.0        2318.0         699.0  "
      ]
     },
     "execution_count": 7,
     "metadata": {},
     "output_type": "execute_result"
    }
   ],
   "source": [
    "X_final = pd.read_csv(TEST_DATASET_PATH)\n",
    "print('X_final.shape', X_final.shape)\n",
    "X_final.head(2)"
   ]
  },
  {
   "cell_type": "markdown",
   "metadata": {},
   "source": [
    "### 3. Обработка пропусков и выбросов"
   ]
  },
  {
   "cell_type": "markdown",
   "metadata": {},
   "source": [
    "* Пропуски в 'Credit Score' заполнены медианой.\n",
    "* 'Years in current job' трансформированы в числовые значения от 0 до 10, пропуски заполнены медианой.\n",
    "* Пропуски в 'Bankruptcies' заполнены 1, где 'Number of Credit Problems' > 0  и 0, где 'Number of Credit Problems' = 0.\n",
    "* Пропуски в 'Annual Income' заполнены медианнами 30 групп, сформированных через ранжирование 'Monthly Debt'.\n",
    "* В 'Current Loan Amount' значения 99999999 заполнены медианнами 30 групп, сформированных через ранжирование 'Monthly Debt'.\n",
    "* В 'Maximum Open Credit' значения > 3 * 1e6 заполнены медианнами 30 групп, сформированных через ранжирование 'Current Credit Balance'.\n",
    "* В 'Current Credit Balance' значения > 1.5 * 1e6 заполнены медианнами 30 групп, сформированных через ранжирование 'Maximum Open Credit'.\n",
    "* Признак 'Months since last delinquent' удален, поскольку в нем больше половины пропусков."
   ]
  },
  {
   "cell_type": "code",
   "execution_count": 8,
   "metadata": {},
   "outputs": [],
   "source": [
    "class FeatureImputer:\n",
    "    \"\"\"Заполнение пропусков и облработка выбросов\"\"\"\n",
    "    \n",
    "    def __init__(self):\n",
    "        self.years = ['< 1 year', '1 year', '2 years', '3 years', '4 years', '5 years',\n",
    "                      '6 years', '7 years',  '8 years', '9 years', '10+ years']\n",
    "        \n",
    "        self.n_groups = 30        \n",
    "        self.med_credit_score = None\n",
    "        self.med_years_in_current_job = None\n",
    "        self.med_annual_income = None\n",
    "        self.med_current_loan_amount = None        \n",
    "        self.med_maximum_open_credit = None\n",
    "        self.med_current_credit_balance = None       \n",
    "        \n",
    "        \n",
    "    def fit(self, X):\n",
    "        \n",
    "        df = X.copy()\n",
    "        \n",
    "        # Credit Score\n",
    "        self.med_credit_score = df['Credit Score'].median()        \n",
    "        \n",
    "        # Years in current job            \n",
    "        for i in range(len(self.years)):\n",
    "            df.loc[df['Years in current job']==self.years[i],'Years in current job'] = i\n",
    "               \n",
    "        self.med_years_in_current_job = df['Years in current job'].median()        \n",
    "        \n",
    "        # Annual Income, Current Loan Amount, Maximum Open Credit, Current Credit Balance \n",
    "        t = df.shape[0] / self.n_groups\n",
    "        df['monthly_debt_group'] = np.floor(ss.rankdata(df['Monthly Debt'].values) / t)\n",
    "        df['current_credit_balance_group'] = np.floor(ss.rankdata(df['Current Credit Balance'].values) / t)\n",
    "        df['maximum_open_credit_group'] = np.floor(ss.rankdata(df['Maximum Open Credit'].values) / t)\n",
    "        \n",
    "        self.med_annual_income = df.groupby(['monthly_debt_group'], \n",
    "                                            as_index=False).agg({'Annual Income':'median'})\n",
    "        self.med_current_loan_amount = df.groupby(['monthly_debt_group'],\n",
    "                                                 as_index=False).agg({'Current Loan Amount':'median'})\n",
    "        self.med_maximum_open_credit = df.groupby(['current_credit_balance_group'],\n",
    "                                                 as_index=False).agg({'Maximum Open Credit':'median'}) \n",
    "        self.med_current_credit_balance = df.groupby(['maximum_open_credit_group'],\n",
    "                                                    as_index=False).agg({'Current Credit Balance':'median'})\n",
    "\n",
    "    \n",
    "    def transform(self, X):\n",
    "        # 1.Credit Score\n",
    "        X.loc[X['Credit Score']>1000, 'Credit Score'] /= 10\n",
    "        X.loc[X['Credit Score'].isna(), 'Credit Score'] = self.med_credit_score\n",
    "        \n",
    "        # 2.Years in current job\n",
    "        for i in range(len(self.years)):\n",
    "            X.loc[X['Years in current job']==self.years[i],'Years in current job'] = i        \n",
    "        \n",
    "        X.loc[X['Years in current job'].isna(), 'Years in current job'] = self.med_years_in_current_job\n",
    "        X['Years in current job'] = X['Years in current job'].astype(int)\n",
    "        \n",
    "        # 3.Bankruptcies\n",
    "        X.loc[X['Bankruptcies'].isna() & (X['Number of Credit Problems'] == 0), 'Bankruptcies'] = 0\n",
    "        X.loc[X['Bankruptcies'].isna() & (X['Number of Credit Problems'] > 0), 'Bankruptcies'] = 1\n",
    "        \n",
    "        \n",
    "        # 4.Annual Income\n",
    "        t0 = 0\n",
    "        for i in range(self.n_groups):\n",
    "            cond1 = X['Annual Income'].isna()\n",
    "            if i != self.n_groups - 1:\n",
    "                t1 = (self.med_annual_income.loc[i, 'Annual Income'] +\\\n",
    "                      self.med_annual_income.loc[i+1, 'Annual Income']) / 2 \n",
    "                cond2 = (X['Monthly Debt'] >= t0) & (X['Monthly Debt'] < t1)\n",
    "            else:\n",
    "                cond2 = (X['Monthly Debt'] >= t0)\n",
    "            X.loc[cond1 & cond2, 'Annual Income'] = self.med_annual_income.loc[i, 'Annual Income']\n",
    "            t0 = t1\n",
    "        \n",
    "        # 5.Current Loan Amount\n",
    "        t0 = 0\n",
    "        for i in range(self.n_groups):\n",
    "            cond1 = (X['Current Loan Amount'] == 99999999)\n",
    "            if i != self.n_groups - 1:\n",
    "                t1 = (self.med_current_loan_amount.loc[i, 'Current Loan Amount'] +\\\n",
    "                      self.med_current_loan_amount.loc[i+1, 'Current Loan Amount']) / 2 \n",
    "                cond2 = (X['Monthly Debt'] >= t0) & (X['Monthly Debt'] < t1)\n",
    "            else:\n",
    "                cond2 = (X['Monthly Debt'] >= t0)\n",
    "            X.loc[cond1 & cond2, 'Current Loan Amount'] = self.med_current_loan_amount.loc[i, 'Current Loan Amount']\n",
    "            t0 = t1        \n",
    "        \n",
    "        # 6.Maximum Open Credit\n",
    "        t0 = 0\n",
    "        for i in range(self.n_groups):\n",
    "            cond1 = (X['Maximum Open Credit'] > 3 * 1e6)\n",
    "            if i != self.n_groups - 1:\n",
    "                t1 = (self.med_maximum_open_credit.loc[i, 'Maximum Open Credit'] +\\\n",
    "                      self.med_maximum_open_credit.loc[i+1, 'Maximum Open Credit']) / 2 \n",
    "                cond2 = (X['Current Credit Balance'] >= t0) & (X['Current Credit Balance'] < t1)\n",
    "            else:\n",
    "                cond2 = (X['Current Credit Balance'] >= t0)\n",
    "            X.loc[cond1 & cond2, 'Maximum Open Credit'] = self.med_maximum_open_credit.loc[i, 'Maximum Open Credit']\n",
    "            t0 = t1        \n",
    "        \n",
    "        # 7.Current Credit Balance\n",
    "        t0 = 0\n",
    "        for i in range(self.n_groups):\n",
    "            cond1 = (X['Current Credit Balance'] > 1.5 * 1e6)\n",
    "            if i != self.n_groups - 1:\n",
    "                t1 = (self.med_current_credit_balance.loc[i, 'Current Credit Balance'] +\\\n",
    "                      self.med_current_credit_balance.loc[i+1, 'Current Credit Balance']) / 2 \n",
    "                cond2 = (X['Maximum Open Credit'] >= t0) & (X['Maximum Open Credit'] < t1)\n",
    "            else:\n",
    "                cond2 = (X['Maximum Open Credit'] >= t0)\n",
    "            X.loc[cond1 & cond2, 'Current Credit Balance'] = self.med_current_credit_balance.loc[i, 'Current Credit Balance']\n",
    "            t0 = t1\n",
    "            \n",
    "        # 8.Months since last delinquen    \n",
    "        X = X.drop('Months since last delinquent', axis=1)\n",
    "        #X['Months since last delinquent'] = X['Months since last delinquent'].fillna(0)\n",
    "               \n",
    "        return X"
   ]
  },
  {
   "cell_type": "code",
   "execution_count": 9,
   "metadata": {},
   "outputs": [],
   "source": [
    "features = FeatureImputer()\n",
    "features.fit(X)\n",
    "X = features.transform(X)\n",
    "X_final = features.transform(X_final)"
   ]
  },
  {
   "cell_type": "code",
   "execution_count": 10,
   "metadata": {},
   "outputs": [
    {
     "data": {
      "text/plain": [
       "Home Ownership               0\n",
       "Annual Income                0\n",
       "Years in current job         0\n",
       "Tax Liens                    0\n",
       "Number of Open Accounts      0\n",
       "Years of Credit History      0\n",
       "Maximum Open Credit          0\n",
       "Number of Credit Problems    0\n",
       "Bankruptcies                 0\n",
       "Purpose                      0\n",
       "Term                         0\n",
       "Current Loan Amount          0\n",
       "Current Credit Balance       0\n",
       "Monthly Debt                 0\n",
       "Credit Score                 0\n",
       "dtype: int64"
      ]
     },
     "execution_count": 10,
     "metadata": {},
     "output_type": "execute_result"
    }
   ],
   "source": [
    "len(X_final) - X_final.count()"
   ]
  },
  {
   "cell_type": "markdown",
   "metadata": {},
   "source": [
    "### 4. Анализ данных\n"
   ]
  },
  {
   "cell_type": "code",
   "execution_count": 11,
   "metadata": {},
   "outputs": [],
   "source": [
    "NUMERIC_FEATURE_NAMES = [ 'Annual Income', 'Years in current job', 'Tax Liens','Number of Open Accounts',\n",
    "                         'Years of Credit History', 'Maximum Open Credit', 'Number of Credit Problems', \n",
    "                         'Bankruptcies', 'Current Loan Amount', 'Current Credit Balance', 'Monthly Debt',\n",
    "                         'Credit Score']\n",
    "\n",
    "CATEGORICAL_FEATURE_NAMES = ['Home Ownership', 'Purpose', 'Term']"
   ]
  },
  {
   "cell_type": "code",
   "execution_count": 12,
   "metadata": {},
   "outputs": [
    {
     "data": {
      "image/png": "[encoded data removed]",
      "text/plain": [
       "<Figure size 1656x1656 with 12 Axes>"
      ]
     },
     "metadata": {
      "needs_background": "light"
     },
     "output_type": "display_data"
    }
   ],
   "source": [
    "X.loc[:, NUMERIC_FEATURE_NAMES].hist(figsize=(23,23), bins=15, grid=False);"
   ]
  },
  {
   "cell_type": "code",
   "execution_count": 13,
   "metadata": {},
   "outputs": [
    {
     "data": {
      "image/png": "[encoded data removed]",
      "text/plain": [
       "<Figure size 1080x720 with 2 Axes>"
      ]
     },
     "metadata": {
      "needs_background": "light"
     },
     "output_type": "display_data"
    }
   ],
   "source": [
    "plt.figure(figsize = (15,10))\n",
    "\n",
    "sns.set(font_scale=1.4)\n",
    "\n",
    "corr_matrix = X[NUMERIC_FEATURE_NAMES].corr()\n",
    "corr_matrix = np.round(corr_matrix, 2)\n",
    "corr_matrix[np.abs(corr_matrix) < 0.30] = 0  # убрать маленькие корреляции\n",
    "\n",
    "sns.heatmap(corr_matrix, annot=True, linewidths=.5, cmap='coolwarm')\n",
    "\n",
    "plt.title('Correlation matrix')\n",
    "plt.show()"
   ]
  },
  {
   "cell_type": "code",
   "execution_count": 14,
   "metadata": {},
   "outputs": [
    {
     "name": "stdout",
     "output_type": "stream",
     "text": [
      "Доля дисперсии, объясненная соответствующими компонентами: [0.26686584 0.16614957 0.09886553 0.08941091 0.07894754]\n",
      "\n"
     ]
    },
    {
     "data": {
      "image/png": "[encoded data removed]",
      "text/plain": [
       "<Figure size 432x360 with 1 Axes>"
      ]
     },
     "metadata": {},
     "output_type": "display_data"
    },
    {
     "name": "stdout",
     "output_type": "stream",
     "text": [
      "\n",
      "\n",
      "Первые 4 компонента объясяют 0.62129 дисперсии\n",
      "\n"
     ]
    }
   ],
   "source": [
    "scaler = StandardScaler()\n",
    "a = X[NUMERIC_FEATURE_NAMES]\n",
    "\n",
    "a = scaler.fit_transform(a)        \n",
    "pca = PCA(n_components=5)\n",
    "pca.fit(a)\n",
    "print(f'Доля дисперсии, объясненная соответствующими компонентами: {pca.explained_variance_ratio_}\\n')\n",
    "\n",
    "fig = plt.figure(figsize=(6,5))\n",
    "plt.plot(['комп1','комп2','комп3','комп4', 'комп5'], pca.explained_variance_ratio_, 'ro-', linewidth=2)\n",
    "plt.title('Scree Plot')\n",
    "plt.xlabel('Главные компоненты')\n",
    "plt.ylabel('Объясненная доля дисперсии')\n",
    "plt.show()\n",
    "\n",
    "print('\\n')\n",
    "print(f'Первые 4 компонента объясяют {round(pca.explained_variance_ratio_[:4].sum(), 5)} дисперсии\\n')"
   ]
  },
  {
   "cell_type": "markdown",
   "metadata": {},
   "source": [
    "### 5. Построение новых признаков"
   ]
  },
  {
   "cell_type": "code",
   "execution_count": 15,
   "metadata": {},
   "outputs": [],
   "source": [
    "class FeatureGenetator():\n",
    "    \"\"\"Генерация новых признаков\"\"\"\n",
    "    \n",
    "    def __init__(self):\n",
    "        self.purpose_list = None\n",
    "                \n",
    "        \n",
    "    def fit(self, X, y=None):\n",
    "        a = X['Purpose'].value_counts()\n",
    "        self.purpose_list = list(a[a >= 70].index)       \n",
    "        \n",
    "               \n",
    "    def transform(self, X):                \n",
    "        # PCA variables\n",
    "        X = self.pca_features(X) \n",
    "        \n",
    "        # Dummy variables\n",
    "        X = self.get_dummies(X) \n",
    "                \n",
    "        return X   \n",
    "        \n",
    "                   \n",
    "    @staticmethod    \n",
    "    def get_dummies(X):\n",
    "        \n",
    "        # Term\n",
    "        X.loc[X['Term'] == 'Short Term', 'Term'] = np.float(0)\n",
    "        X.loc[X['Term'] == 'Long Term', 'Term'] = np.float(1)\n",
    "        \n",
    "        # Home Ownership\n",
    "        X.loc[X['Home Ownership'] == 'Have Mortgage', 'Home Ownership'] = 'Home Mortgage'\n",
    "        X.loc[X['Home Ownership'] == 'Home Mortgage', 'Home Ownership'] = 0\n",
    "        X.loc[X['Home Ownership'] == 'Rent', 'Home Ownership'] = 1\n",
    "        X.loc[X['Home Ownership'] == 'Own Home', 'Home Ownership'] = 2\n",
    "        \n",
    "        a = pd.get_dummies(X['Home Ownership']).rename(columns={0: 'Home Mortgage', 1: 'Rent', 2: 'Own Home'})\n",
    "        X = pd.concat([X, a], axis=1).drop('Home Ownership', axis=1)\n",
    "        \n",
    "        # Purpose \n",
    "        data_list = X['Purpose'].unique()\n",
    "        list1 = ['debt consolidation', 'other', 'home improvements', 'business loan']   \n",
    "        for i in data_list:\n",
    "            if not i in list1:\n",
    "                X.loc[X['Purpose'] == i, 'Purpose'] = 'other'\n",
    "\n",
    "        for i in range(len(list1)):\n",
    "            X.loc[X['Purpose'] == list1[i], 'Purpose'] = i\n",
    "            \n",
    "        a = pd.get_dummies(X['Purpose']).rename(columns={i: list1[i] for i in range(len(list1))})   \n",
    "        X = pd.concat([X, a], axis=1).drop('Purpose', axis=1)\n",
    "        \n",
    "        return X\n",
    "    \n",
    "        \n",
    "    @staticmethod   \n",
    "    def pca_features(X):\n",
    "        scaler = StandardScaler()\n",
    "        a = X[NUMERIC_FEATURE_NAMES].fillna(0)\n",
    "        a = scaler.fit_transform(a)\n",
    "        pca = PCA(n_components=5)\n",
    "        pca.fit(a)    \n",
    "        X.loc[:, 'pca_composit_1'] = np.dot(a, pca.components_.T)[:, 0]\n",
    "        X.loc[:, 'pca_composit_2'] = np.dot(a, pca.components_.T)[:, 1]\n",
    "        X.loc[:, 'pca_composit_3'] = np.dot(a, pca.components_.T)[:, 2]\n",
    "        X.loc[:, 'pca_composit_4'] = np.dot(a, pca.components_.T)[:, 3]\n",
    "        X.loc[:, 'pca_composit_5'] = np.dot(a, pca.components_.T)[:, 4]\n",
    "    \n",
    "        return X"
   ]
  },
  {
   "cell_type": "code",
   "execution_count": 16,
   "metadata": {},
   "outputs": [],
   "source": [
    "features = FeatureGenetator()\n",
    "features.fit(X)\n",
    "X = features.transform(X)\n",
    "X_final = features.transform(X_final)"
   ]
  },
  {
   "cell_type": "markdown",
   "metadata": {},
   "source": [
    "#### Сохранение обучающего датасета"
   ]
  },
  {
   "cell_type": "code",
   "execution_count": 17,
   "metadata": {},
   "outputs": [],
   "source": [
    "X.to_csv(PREP_DATASET_PATH, index=False, encoding='utf-8')"
   ]
  },
  {
   "cell_type": "markdown",
   "metadata": {},
   "source": [
    "### 6. Отбор признаков\n"
   ]
  },
  {
   "cell_type": "code",
   "execution_count": 18,
   "metadata": {},
   "outputs": [],
   "source": [
    "SELECTED_FEATURE_NAMES = ['Annual Income', 'Years in current job', \n",
    "                          'Number of Open Accounts', 'Years of Credit History',\n",
    "                          'Maximum Open Credit', 'Number of Credit Problems', \n",
    "                          'Term', 'Current Loan Amount', 'Current Credit Balance', 'Monthly Debt',\n",
    "                          'Credit Score', 'Bankruptcies', 'Tax Liens',\n",
    "                                                  \n",
    "                          'pca_composit_1', 'pca_composit_2', 'pca_composit_3', 'pca_composit_4', #'pca_composit_5',  \n",
    "                          'Home Mortgage', 'Rent', \n",
    "                          'Own Home',\n",
    "                          'debt consolidation', 'other', 'home improvements', 'business loan',\n",
    "                        ]"
   ]
  },
  {
   "cell_type": "markdown",
   "metadata": {},
   "source": [
    "### 7. Балансировка классов\n"
   ]
  },
  {
   "cell_type": "code",
   "execution_count": 19,
   "metadata": {},
   "outputs": [],
   "source": [
    "scaler = StandardScaler()\n",
    "\n",
    "df_norm = X.copy()\n",
    "df_norm[NUMERIC_FEATURE_NAMES] = scaler.fit_transform(df_norm[NUMERIC_FEATURE_NAMES])\n",
    "\n",
    "X = df_norm.copy()"
   ]
  },
  {
   "cell_type": "code",
   "execution_count": 20,
   "metadata": {},
   "outputs": [],
   "source": [
    "X_train, X_test, y_train, y_test = train_test_split(X[SELECTED_FEATURE_NAMES], y, shuffle=True, test_size=0.2, random_state=42)"
   ]
  },
  {
   "cell_type": "markdown",
   "metadata": {},
   "source": [
    "#### imblearn RandomOverSampler"
   ]
  },
  {
   "cell_type": "code",
   "execution_count": 21,
   "metadata": {},
   "outputs": [
    {
     "name": "stdout",
     "output_type": "stream",
     "text": [
      "Original dataset shape Counter({0: 4328, 1: 1672})\n",
      "Resample dataset shape Counter({0: 4328, 1: 4328})\n"
     ]
    }
   ],
   "source": [
    "ros = RandomOverSampler(random_state=42)\n",
    "X_train_ros, y_train_ros = ros.fit_resample(X_train, y_train)\n",
    "\n",
    "print('Original dataset shape', Counter(y_train))\n",
    "print('Resample dataset shape', Counter(y_train_ros))"
   ]
  },
  {
   "cell_type": "markdown",
   "metadata": {},
   "source": [
    "### 8. Модель"
   ]
  },
  {
   "cell_type": "code",
   "execution_count": 22,
   "metadata": {},
   "outputs": [],
   "source": [
    "def get_classification_report(y_train_true, y_train_pred, y_test_true, y_test_pred):\n",
    "    print('TRAIN\\n\\n' + classification_report(y_train_true, y_train_pred))\n",
    "    print('roc_auc_score =', roc_auc_score(y_train_true, y_train_pred), '\\n')\n",
    "    print('TEST\\n\\n' + classification_report(y_test_true, y_test_pred))\n",
    "    print('roc_auc_score =', roc_auc_score(y_test_true, y_test_pred), '\\n')\n",
    "    print('CONFUSION MATRIX\\n')\n",
    "    print(pd.crosstab(y_test_true, y_test_pred)) "
   ]
  },
  {
   "cell_type": "markdown",
   "metadata": {},
   "source": [
    "#### CatBoostClassifier"
   ]
  },
  {
   "cell_type": "code",
   "execution_count": 23,
   "metadata": {},
   "outputs": [
    {
     "name": "stdout",
     "output_type": "stream",
     "text": [
      "TRAIN\n",
      "\n",
      "              precision    recall  f1-score   support\n",
      "\n",
      "           0       0.80      0.72      0.76      4328\n",
      "           1       0.75      0.83      0.78      4328\n",
      "\n",
      "    accuracy                           0.77      8656\n",
      "   macro avg       0.78      0.77      0.77      8656\n",
      "weighted avg       0.78      0.77      0.77      8656\n",
      "\n",
      "roc_auc_score = 0.7718345656192236 \n",
      "\n",
      "TEST\n",
      "\n",
      "              precision    recall  f1-score   support\n",
      "\n",
      "           0       0.81      0.66      0.73      1059\n",
      "           1       0.44      0.64      0.52       441\n",
      "\n",
      "    accuracy                           0.65      1500\n",
      "   macro avg       0.63      0.65      0.62      1500\n",
      "weighted avg       0.70      0.65      0.67      1500\n",
      "\n",
      "roc_auc_score = 0.6481502893886544 \n",
      "\n",
      "CONFUSION MATRIX\n",
      "\n",
      "col_0             0    1\n",
      "Credit Default          \n",
      "0               698  361\n",
      "1               160  281\n"
     ]
    }
   ],
   "source": [
    "model_cb = catb.CatBoostClassifier(n_estimators=300,  #default n_estimators=1000\n",
    "                                                        #default max_depth=6\n",
    "                                    learning_rate=0.03,                #default learning_rate=0.03\n",
    "                                   silent=True, random_state=21)\n",
    "model_cb.fit(X_train_ros[SELECTED_FEATURE_NAMES], y_train_ros)\n",
    "\n",
    "y_train_pred = model_cb.predict(X_train_ros[SELECTED_FEATURE_NAMES])\n",
    "y_test_pred = model_cb.predict(X_test[SELECTED_FEATURE_NAMES])\n",
    "\n",
    "get_classification_report(y_train_ros, y_train_pred, y_test, y_test_pred)\n",
    "\n",
    "#F1 > 0.5"
   ]
  },
  {
   "cell_type": "markdown",
   "metadata": {},
   "source": [
    "#### RandomForestClassifier"
   ]
  },
  {
   "cell_type": "code",
   "execution_count": 24,
   "metadata": {},
   "outputs": [
    {
     "name": "stdout",
     "output_type": "stream",
     "text": [
      "TRAIN\n",
      "\n",
      "              precision    recall  f1-score   support\n",
      "\n",
      "           0       0.81      0.72      0.76      4328\n",
      "           1       0.75      0.83      0.79      4328\n",
      "\n",
      "    accuracy                           0.78      8656\n",
      "   macro avg       0.78      0.78      0.78      8656\n",
      "weighted avg       0.78      0.78      0.78      8656\n",
      "\n",
      "roc_auc_score = 0.7764556377079481 \n",
      "\n",
      "TEST\n",
      "\n",
      "              precision    recall  f1-score   support\n",
      "\n",
      "           0       0.81      0.66      0.73      1059\n",
      "           1       0.43      0.62      0.51       441\n",
      "\n",
      "    accuracy                           0.65      1500\n",
      "   macro avg       0.62      0.64      0.62      1500\n",
      "weighted avg       0.70      0.65      0.66      1500\n",
      "\n",
      "roc_auc_score = 0.6388904948192686 \n",
      "\n",
      "CONFUSION MATRIX\n",
      "\n",
      "col_0             0    1\n",
      "Credit Default          \n",
      "0               700  359\n",
      "1               169  272\n"
     ]
    }
   ],
   "source": [
    "model_rf = RandomForestClassifier(n_estimators=200,  #200\n",
    "                                  max_depth=8, ### None                                  \n",
    "                                  min_samples_leaf=8,\n",
    "                                  random_state=42)\n",
    "\n",
    "model_rf.fit(X_train_ros[SELECTED_FEATURE_NAMES], y_train_ros)\n",
    "\n",
    "y_train_pred = model_rf.predict(X_train_ros[SELECTED_FEATURE_NAMES])\n",
    "y_test_pred = model_rf.predict(X_test[SELECTED_FEATURE_NAMES])\n",
    "\n",
    "get_classification_report(y_train_ros, y_train_pred, y_test, y_test_pred)"
   ]
  },
  {
   "cell_type": "markdown",
   "metadata": {},
   "source": [
    "#### AdaBoostClassifier"
   ]
  },
  {
   "cell_type": "code",
   "execution_count": 25,
   "metadata": {},
   "outputs": [
    {
     "name": "stdout",
     "output_type": "stream",
     "text": [
      "TRAIN\n",
      "\n",
      "              precision    recall  f1-score   support\n",
      "\n",
      "           0       0.75      0.66      0.70      4328\n",
      "           1       0.70      0.78      0.73      4328\n",
      "\n",
      "    accuracy                           0.72      8656\n",
      "   macro avg       0.72      0.72      0.72      8656\n",
      "weighted avg       0.72      0.72      0.72      8656\n",
      "\n",
      "roc_auc_score = 0.7199630314232902 \n",
      "\n",
      "TEST\n",
      "\n",
      "              precision    recall  f1-score   support\n",
      "\n",
      "           0       0.80      0.62      0.70      1059\n",
      "           1       0.41      0.63      0.49       441\n",
      "\n",
      "    accuracy                           0.62      1500\n",
      "   macro avg       0.60      0.62      0.59      1500\n",
      "weighted avg       0.68      0.62      0.64      1500\n",
      "\n",
      "roc_auc_score = 0.6217070397564125 \n",
      "\n",
      "CONFUSION MATRIX\n",
      "\n",
      "col_0             0    1\n",
      "Credit Default          \n",
      "0               654  405\n",
      "1               165  276\n"
     ]
    }
   ],
   "source": [
    "model_ab = AdaBoostClassifier(n_estimators=300, \n",
    "                           random_state=42)\n",
    "model_ab.fit(X_train_ros[SELECTED_FEATURE_NAMES], y_train_ros)\n",
    "\n",
    "y_train_pred = model_ab.predict(X_train_ros[SELECTED_FEATURE_NAMES])\n",
    "y_test_pred = model_ab.predict(X_test[SELECTED_FEATURE_NAMES])\n",
    "\n",
    "get_classification_report(y_train_ros, y_train_pred, y_test, y_test_pred)"
   ]
  },
  {
   "cell_type": "markdown",
   "metadata": {},
   "source": [
    "#### VotingClassifier"
   ]
  },
  {
   "cell_type": "code",
   "execution_count": null,
   "metadata": {},
   "outputs": [],
   "source": [
    "model = VotingClassifier(estimators=[('cb', model_cb), ('rf', model_rf), ('ab', model_ab)],\n",
    "                          voting='soft') \n",
    "model = model.fit(X_train_ros[NUMERIC_FEATURE_NAMES], y_train_ros)\n",
    "\n",
    "y_train_pred = model.predict(X_train_ros[NUMERIC_FEATURE_NAMES])\n",
    "y_test_pred = model.predict(X_test[NUMERIC_FEATURE_NAMES])\n",
    "\n",
    "get_classification_report(y_train_ros, y_train_pred, y_test, y_test_pred)"
   ]
  },
  {
   "cell_type": "markdown",
   "metadata": {},
   "source": [
    "### 9. Интерпретация результатов"
   ]
  },
  {
   "cell_type": "markdown",
   "metadata": {},
   "source": [
    "* Наиболее значчимыми признаками являются 'Current Loan Amount', 'Credit Score', 'Annual Income'.\n",
    "* 'Tax Liens' - наименее значчимый признак\n",
    "* Испельзуемые модели по-разному оценивают значимость признаков. На иллюстрации ниже видна разница в оценке значимости признаков моделями ExtraTreesClassifier и CatBoostClassifier. ExtraTreesClassifier дает более объективную картину.\n",
    "* VotingClassifier объединяет результаты трех моделей (CatBoostClassifier, RandomForestClassifier, AdaBoostClassifier) и выбирает лучший результат."
   ]
  },
  {
   "cell_type": "markdown",
   "metadata": {},
   "source": [
    "#### ExtraTreesClassifier"
   ]
  },
  {
   "cell_type": "code",
   "execution_count": null,
   "metadata": {},
   "outputs": [],
   "source": [
    "X = X.fillna(0)\n",
    "forest = ExtraTreesClassifier(n_estimators=250,\n",
    "                              random_state=0)\n",
    "\n",
    "forest.fit(X_train_ros[SELECTED_FEATURE_NAMES], y_train_ros)\n",
    "importances = forest.feature_importances_\n",
    "std = np.std([tree.feature_importances_ for tree in forest.estimators_],\n",
    "             axis=0)\n",
    "indices = np.argsort(importances)[::-1]\n",
    "\n",
    "# Print the feature ranking\n",
    "print(\"Feature ranking:\")\n",
    "\n",
    "f_list = []\n",
    "for f in range(X[SELECTED_FEATURE_NAMES].shape[1]):\n",
    "    f_list.append(indices[f])\n",
    "    print(\"%d. feature %d (%f)\" % (f + 1, indices[f], importances[indices[f]]))\n",
    "\n",
    "# Plot the impurity-based feature importances of the forest\n",
    "plt.figure()\n",
    "plt.title(\"Feature importances\")\n",
    "plt.bar(range(X[SELECTED_FEATURE_NAMES].shape[1]), importances[indices],\n",
    "        color=\"r\", yerr=std[indices], align=\"center\")\n",
    "plt.xticks(range(X.shape[1]), indices)\n",
    "plt.xlim([-1, X[SELECTED_FEATURE_NAMES].shape[1]])\n",
    "plt.show()"
   ]
  },
  {
   "cell_type": "code",
   "execution_count": null,
   "metadata": {},
   "outputs": [],
   "source": [
    "list(X[SELECTED_FEATURE_NAMES].columns[f_list])"
   ]
  },
  {
   "cell_type": "markdown",
   "metadata": {},
   "source": [
    "#### CatBoostClassifier"
   ]
  },
  {
   "cell_type": "code",
   "execution_count": null,
   "metadata": {},
   "outputs": [],
   "source": [
    "feature_importances = pd.DataFrame(zip(X[SELECTED_FEATURE_NAMES].columns,\n",
    "                                       model_cb.feature_importances_ / model_cb.feature_importances_.sum()), \n",
    "                                   columns=['feature_name', 'importance'])\n",
    "\n",
    "feature_importances.sort_values(by='importance', ascending=False, inplace=True)\n",
    "feature_importances"
   ]
  },
  {
   "cell_type": "code",
   "execution_count": null,
   "metadata": {},
   "outputs": [],
   "source": [
    "def plot_feature_importances(importances, X):\n",
    "    \n",
    "    indices = np.argsort(importances)[::-1]\n",
    "\n",
    "    plt.figure(figsize = (20, 6))\n",
    "    plt.title(\"Feature importances\", fontsize=16)\n",
    "    plt.bar(range(X.shape[1]), importances[indices] / importances.sum(),\n",
    "           color=\"darkblue\", align=\"center\")\n",
    "    plt.xticks(range(X.shape[1]), X.columns[indices], rotation = 90, fontsize=14)\n",
    "    plt.xlim([-1, X.shape[1]])\n",
    "\n",
    "    plt.tight_layout()\n",
    "    # plt.savefig('fe.jpg')\n",
    "    plt.show()\n",
    "    \n",
    "plot_feature_importances(importances = model_cb.feature_importances_, X=X_train[SELECTED_FEATURE_NAMES])"
   ]
  },
  {
   "cell_type": "markdown",
   "metadata": {},
   "source": [
    "## Прогнозирование на тестовом датасете"
   ]
  },
  {
   "cell_type": "markdown",
   "metadata": {},
   "source": [
    "* Выполнить для тестового датасета те же этапы обработки и постронияния признаков\n",
    "* Спрогнозировать целевую переменную, используя модель, построенную на обучающем датасете\n",
    "* Прогнозы должны быть для всех примеров из тестового датасета (для всех строк)\n",
    "* Соблюдать исходный порядок примеров из тестового датасета"
   ]
  },
  {
   "cell_type": "code",
   "execution_count": null,
   "metadata": {},
   "outputs": [],
   "source": [
    "ros = RandomOverSampler(random_state=42)\n",
    "X_ros, y_ros = ros.fit_resample(X, y)\n",
    "\n",
    "model = model.fit(X_ros[SELECTED_FEATURE_NAMES], y_ros)\n",
    "print('Original dataset shape', Counter(y))\n",
    "print('Resample dataset shape', Counter(y_ros))"
   ]
  },
  {
   "cell_type": "code",
   "execution_count": null,
   "metadata": {},
   "outputs": [],
   "source": [
    "y_pred = model.predict(X_final[SELECTED_FEATURE_NAMES])\n",
    "y_final=pd.DataFrame(y_pred, columns=[TARGET_NAME])\n",
    "y_final.to_csv(PATH + 'YKutovaya_predictions.csv')\n",
    "y_final.head()"
   ]
  }
 ],
 "metadata": {
  "kernelspec": {
   "display_name": "Python 3",
   "language": "python",
   "name": "python3"
  },
  "language_info": {
   "codemirror_mode": {
    "name": "ipython",
    "version": 3
   },
   "file_extension": ".py",
   "mimetype": "text/x-python",
   "name": "python",
   "nbconvert_exporter": "python",
   "pygments_lexer": "ipython3",
   "version": "3.8.2"
  }
 },
 "nbformat": 4,
 "nbformat_minor": 4
}
