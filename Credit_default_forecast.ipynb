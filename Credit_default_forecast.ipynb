{
 "cells": [
  {
   "cell_type": "code",
   "execution_count": 1,
   "metadata": {},
   "outputs": [],
   "source": [
    "import numpy as np\n",
    "import pandas as pd\n",
    "\n",
    "import scipy.stats as ss\n",
    "\n",
    "from sklearn.preprocessing import StandardScaler\n",
    "from sklearn.decomposition import PCA\n",
    "\n",
    "from sklearn.model_selection import train_test_split\n",
    "from sklearn.model_selection import StratifiedKFold\n",
    "\n",
    "from imblearn.over_sampling import RandomOverSampler\n",
    "from sklearn.metrics import classification_report, f1_score, precision_score, recall_score, roc_auc_score\n",
    "\n",
    "import catboost as catb\n",
    "from sklearn.ensemble import ExtraTreesClassifier, RandomForestClassifier, AdaBoostClassifier, VotingClassifier\n",
    "\n",
    "from collections import Counter\n",
    "\n",
    "import matplotlib.pyplot as plt\n",
    "import seaborn as sns\n",
    "%matplotlib inline"
   ]
  },
  {
   "cell_type": "code",
   "execution_count": 2,
   "metadata": {},
   "outputs": [],
   "source": [
    "import warnings\n",
    "warnings.filterwarnings('ignore')"
   ]
  },
  {
   "cell_type": "markdown",
   "metadata": {},
   "source": [
    "## Построение модели классификации"
   ]
  },
  {
   "cell_type": "markdown",
   "metadata": {},
   "source": [
    "### 1. Обзор обучающего датасета\n"
   ]
  },
  {
   "cell_type": "markdown",
   "metadata": {},
   "source": [
    "#### Описание датасета\n",
    "\n",
    "* Home Ownership - домовладение\n",
    "* Annual Income - годовой доход\n",
    "* Years in current job - количество лет на текущем месте работы\n",
    "* Tax Liens - налоговые обременения\n",
    "* Number of Open Accounts - количество открытых счетов\n",
    "* Years of Credit History - количество лет кредитной истории\n",
    "* Maximum Open Credit - наибольший открытый кредит\n",
    "* Number of Credit Problems - количество проблем с кредитом\n",
    "* Months since last delinquent - количество месяцев с последней просрочки платежа\n",
    "* Bankruptcies - банкротства\n",
    "* Purpose - цель кредита\n",
    "* Term - срок кредита\n",
    "* Current Loan Amount - текущая сумма кредита\n",
    "* Current Credit Balance - текущий кредитный баланс\n",
    "* Monthly Debt - ежемесячный долг\n",
    "* Credit Default - факт невыполнения кредитных обязательств (0 - погашен вовремя, 1 - просрочка)"
   ]
  },
  {
   "cell_type": "markdown",
   "metadata": {},
   "source": [
    "#### Пути к директориям и файлам"
   ]
  },
  {
   "cell_type": "code",
   "execution_count": 3,
   "metadata": {},
   "outputs": [],
   "source": [
    "PATH = 'C:/Users/ASER/Desktop/GeekBrains/ML_project/'\n",
    "TRAIN_DATASET_PATH = PATH + 'course_project_train.csv'\n",
    "TEST_DATASET_PATH = PATH + 'course_project_test.csv'\n",
    "PREP_DATASET_PATH = PATH + 'course_project_prep_train.csv'"
   ]
  },
  {
   "cell_type": "markdown",
   "metadata": {},
   "source": [
    "### 2. Загрузка данных"
   ]
  },
  {
   "cell_type": "code",
   "execution_count": 4,
   "metadata": {},
   "outputs": [
    {
     "data": {
      "text/html": [
       "<div>\n",
       "<style scoped>\n",
       "    .dataframe tbody tr th:only-of-type {\n",
       "        vertical-align: middle;\n",
       "    }\n",
       "\n",
       "    .dataframe tbody tr th {\n",
       "        vertical-align: top;\n",
       "    }\n",
       "\n",
       "    .dataframe thead th {\n",
       "        text-align: right;\n",
       "    }\n",
       "</style>\n",
       "<table border=\"1\" class=\"dataframe\">\n",
       "  <thead>\n",
       "    <tr style=\"text-align: right;\">\n",
       "      <th></th>\n",
       "      <th>Home Ownership</th>\n",
       "      <th>Annual Income</th>\n",
       "      <th>Years in current job</th>\n",
       "      <th>Tax Liens</th>\n",
       "      <th>Number of Open Accounts</th>\n",
       "      <th>Years of Credit History</th>\n",
       "      <th>Maximum Open Credit</th>\n",
       "      <th>Number of Credit Problems</th>\n",
       "      <th>Months since last delinquent</th>\n",
       "      <th>Bankruptcies</th>\n",
       "      <th>Purpose</th>\n",
       "      <th>Term</th>\n",
       "      <th>Current Loan Amount</th>\n",
       "      <th>Current Credit Balance</th>\n",
       "      <th>Monthly Debt</th>\n",
       "      <th>Credit Score</th>\n",
       "      <th>Credit Default</th>\n",
       "    </tr>\n",
       "  </thead>\n",
       "  <tbody>\n",
       "    <tr>\n",
       "      <th>0</th>\n",
       "      <td>Own Home</td>\n",
       "      <td>482087.0</td>\n",
       "      <td>NaN</td>\n",
       "      <td>0.0</td>\n",
       "      <td>11.0</td>\n",
       "      <td>26.3</td>\n",
       "      <td>685960.0</td>\n",
       "      <td>1.0</td>\n",
       "      <td>NaN</td>\n",
       "      <td>1.0</td>\n",
       "      <td>debt consolidation</td>\n",
       "      <td>Short Term</td>\n",
       "      <td>99999999.0</td>\n",
       "      <td>47386.0</td>\n",
       "      <td>7914.0</td>\n",
       "      <td>749.0</td>\n",
       "      <td>0</td>\n",
       "    </tr>\n",
       "    <tr>\n",
       "      <th>1</th>\n",
       "      <td>Own Home</td>\n",
       "      <td>1025487.0</td>\n",
       "      <td>10+ years</td>\n",
       "      <td>0.0</td>\n",
       "      <td>15.0</td>\n",
       "      <td>15.3</td>\n",
       "      <td>1181730.0</td>\n",
       "      <td>0.0</td>\n",
       "      <td>NaN</td>\n",
       "      <td>0.0</td>\n",
       "      <td>debt consolidation</td>\n",
       "      <td>Long Term</td>\n",
       "      <td>264968.0</td>\n",
       "      <td>394972.0</td>\n",
       "      <td>18373.0</td>\n",
       "      <td>737.0</td>\n",
       "      <td>1</td>\n",
       "    </tr>\n",
       "  </tbody>\n",
       "</table>\n",
       "</div>"
      ],
      "text/plain": [
       "  Home Ownership  Annual Income Years in current job  Tax Liens  \\\n",
       "0       Own Home       482087.0                  NaN        0.0   \n",
       "1       Own Home      1025487.0            10+ years        0.0   \n",
       "\n",
       "   Number of Open Accounts  Years of Credit History  Maximum Open Credit  \\\n",
       "0                     11.0                     26.3             685960.0   \n",
       "1                     15.0                     15.3            1181730.0   \n",
       "\n",
       "   Number of Credit Problems  Months since last delinquent  Bankruptcies  \\\n",
       "0                        1.0                           NaN           1.0   \n",
       "1                        0.0                           NaN           0.0   \n",
       "\n",
       "              Purpose        Term  Current Loan Amount  \\\n",
       "0  debt consolidation  Short Term           99999999.0   \n",
       "1  debt consolidation   Long Term             264968.0   \n",
       "\n",
       "   Current Credit Balance  Monthly Debt  Credit Score  Credit Default  \n",
       "0                 47386.0        7914.0         749.0               0  \n",
       "1                394972.0       18373.0         737.0               1  "
      ]
     },
     "execution_count": 4,
     "metadata": {},
     "output_type": "execute_result"
    }
   ],
   "source": [
    "df = pd.read_csv(TRAIN_DATASET_PATH)\n",
    "df.head(2)"
   ]
  },
  {
   "cell_type": "code",
   "execution_count": 5,
   "metadata": {},
   "outputs": [
    {
     "name": "stdout",
     "output_type": "stream",
     "text": [
      "X.shape =  (7500, 16)\n",
      "y.shape =  (7500,)\n"
     ]
    }
   ],
   "source": [
    "TARGET_NAME = 'Credit Default'\n",
    "X = df.drop(TARGET_NAME, axis=1)\n",
    "y = df[TARGET_NAME]\n",
    "print('X.shape = ', X.shape)\n",
    "print('y.shape = ', y.shape)"
   ]
  },
  {
   "cell_type": "code",
   "execution_count": 6,
   "metadata": {},
   "outputs": [
    {
     "data": {
      "text/plain": [
       "0    5387\n",
       "1    2113\n",
       "Name: Credit Default, dtype: int64"
      ]
     },
     "execution_count": 6,
     "metadata": {},
     "output_type": "execute_result"
    }
   ],
   "source": [
    "y.value_counts()"
   ]
  },
  {
   "cell_type": "code",
   "execution_count": 7,
   "metadata": {},
   "outputs": [
    {
     "name": "stdout",
     "output_type": "stream",
     "text": [
      "X_final.shape (2500, 16)\n"
     ]
    },
    {
     "data": {
      "text/html": [
       "<div>\n",
       "<style scoped>\n",
       "    .dataframe tbody tr th:only-of-type {\n",
       "        vertical-align: middle;\n",
       "    }\n",
       "\n",
       "    .dataframe tbody tr th {\n",
       "        vertical-align: top;\n",
       "    }\n",
       "\n",
       "    .dataframe thead th {\n",
       "        text-align: right;\n",
       "    }\n",
       "</style>\n",
       "<table border=\"1\" class=\"dataframe\">\n",
       "  <thead>\n",
       "    <tr style=\"text-align: right;\">\n",
       "      <th></th>\n",
       "      <th>Home Ownership</th>\n",
       "      <th>Annual Income</th>\n",
       "      <th>Years in current job</th>\n",
       "      <th>Tax Liens</th>\n",
       "      <th>Number of Open Accounts</th>\n",
       "      <th>Years of Credit History</th>\n",
       "      <th>Maximum Open Credit</th>\n",
       "      <th>Number of Credit Problems</th>\n",
       "      <th>Months since last delinquent</th>\n",
       "      <th>Bankruptcies</th>\n",
       "      <th>Purpose</th>\n",
       "      <th>Term</th>\n",
       "      <th>Current Loan Amount</th>\n",
       "      <th>Current Credit Balance</th>\n",
       "      <th>Monthly Debt</th>\n",
       "      <th>Credit Score</th>\n",
       "    </tr>\n",
       "  </thead>\n",
       "  <tbody>\n",
       "    <tr>\n",
       "      <th>0</th>\n",
       "      <td>Rent</td>\n",
       "      <td>NaN</td>\n",
       "      <td>4 years</td>\n",
       "      <td>0.0</td>\n",
       "      <td>9.0</td>\n",
       "      <td>12.5</td>\n",
       "      <td>220968.0</td>\n",
       "      <td>0.0</td>\n",
       "      <td>70.0</td>\n",
       "      <td>0.0</td>\n",
       "      <td>debt consolidation</td>\n",
       "      <td>Short Term</td>\n",
       "      <td>162470.0</td>\n",
       "      <td>105906.0</td>\n",
       "      <td>6813.0</td>\n",
       "      <td>NaN</td>\n",
       "    </tr>\n",
       "    <tr>\n",
       "      <th>1</th>\n",
       "      <td>Rent</td>\n",
       "      <td>231838.0</td>\n",
       "      <td>1 year</td>\n",
       "      <td>0.0</td>\n",
       "      <td>6.0</td>\n",
       "      <td>32.7</td>\n",
       "      <td>55946.0</td>\n",
       "      <td>0.0</td>\n",
       "      <td>8.0</td>\n",
       "      <td>0.0</td>\n",
       "      <td>educational expenses</td>\n",
       "      <td>Short Term</td>\n",
       "      <td>78298.0</td>\n",
       "      <td>46037.0</td>\n",
       "      <td>2318.0</td>\n",
       "      <td>699.0</td>\n",
       "    </tr>\n",
       "  </tbody>\n",
       "</table>\n",
       "</div>"
      ],
      "text/plain": [
       "  Home Ownership  Annual Income Years in current job  Tax Liens  \\\n",
       "0           Rent            NaN              4 years        0.0   \n",
       "1           Rent       231838.0               1 year        0.0   \n",
       "\n",
       "   Number of Open Accounts  Years of Credit History  Maximum Open Credit  \\\n",
       "0                      9.0                     12.5             220968.0   \n",
       "1                      6.0                     32.7              55946.0   \n",
       "\n",
       "   Number of Credit Problems  Months since last delinquent  Bankruptcies  \\\n",
       "0                        0.0                          70.0           0.0   \n",
       "1                        0.0                           8.0           0.0   \n",
       "\n",
       "                Purpose        Term  Current Loan Amount  \\\n",
       "0    debt consolidation  Short Term             162470.0   \n",
       "1  educational expenses  Short Term              78298.0   \n",
       "\n",
       "   Current Credit Balance  Monthly Debt  Credit Score  \n",
       "0                105906.0        6813.0           NaN  \n",
       "1                 46037.0        2318.0         699.0  "
      ]
     },
     "execution_count": 7,
     "metadata": {},
     "output_type": "execute_result"
    }
   ],
   "source": [
    "X_final = pd.read_csv(TEST_DATASET_PATH)\n",
    "print('X_final.shape', X_final.shape)\n",
    "X_final.head(2)"
   ]
  },
  {
   "cell_type": "markdown",
   "metadata": {},
   "source": [
    "### 3. Обработка пропусков и выбросов"
   ]
  },
  {
   "cell_type": "markdown",
   "metadata": {},
   "source": [
    "* Пропуски в 'Credit Score' заполнены медианой.\n",
    "* 'Years in current job' трансформированы в числовые значения от 0 до 10, пропуски заполнены медианой.\n",
    "* Пропуски в 'Bankruptcies' заполнены 1, где 'Number of Credit Problems' > 0  и 0, где 'Number of Credit Problems' = 0.\n",
    "* Пропуски в 'Annual Income' заполнены медианнами 30 групп, сформированных через ранжирование 'Monthly Debt'.\n",
    "* В 'Current Loan Amount' значения 99999999 заполнены медианнами 30 групп, сформированных через ранжирование 'Monthly Debt'.\n",
    "* В 'Maximum Open Credit' значения > 3 * 1e6 заполнены медианнами 30 групп, сформированных через ранжирование 'Current Credit Balance'.\n",
    "* В 'Current Credit Balance' значения > 1.5 * 1e6 заполнены медианнами 30 групп, сформированных через ранжирование 'Maximum Open Credit'.\n",
    "* Признак 'Months since last delinquent' удален, поскольку в нем больше половины пропусков."
   ]
  },
  {
   "cell_type": "code",
   "execution_count": 8,
   "metadata": {},
   "outputs": [],
   "source": [
    "class FeatureImputer:\n",
    "    \"\"\"Заполнение пропусков и облработка выбросов\"\"\"\n",
    "    \n",
    "    def __init__(self):\n",
    "        self.years = ['< 1 year', '1 year', '2 years', '3 years', '4 years', '5 years',\n",
    "                      '6 years', '7 years',  '8 years', '9 years', '10+ years']\n",
    "        \n",
    "        self.n_groups = 30        \n",
    "        self.med_credit_score = None\n",
    "        self.med_years_in_current_job = None\n",
    "        self.med_annual_income = None\n",
    "        self.med_current_loan_amount = None        \n",
    "        self.med_maximum_open_credit = None\n",
    "        self.med_current_credit_balance = None       \n",
    "        \n",
    "        \n",
    "    def fit(self, X):\n",
    "        \n",
    "        df = X.copy()\n",
    "        \n",
    "        # Credit Score\n",
    "        self.med_credit_score = df['Credit Score'].median()        \n",
    "        \n",
    "        # Years in current job            \n",
    "        for i in range(len(self.years)):\n",
    "            df.loc[df['Years in current job']==self.years[i],'Years in current job'] = i\n",
    "               \n",
    "        self.med_years_in_current_job = df['Years in current job'].median()        \n",
    "        \n",
    "        # Annual Income, Current Loan Amount, Maximum Open Credit, Current Credit Balance \n",
    "        t = df.shape[0] / self.n_groups\n",
    "        df['monthly_debt_group'] = np.floor(ss.rankdata(df['Monthly Debt'].values) / t)\n",
    "        df['current_credit_balance_group'] = np.floor(ss.rankdata(df['Current Credit Balance'].values) / t)\n",
    "        df['maximum_open_credit_group'] = np.floor(ss.rankdata(df['Maximum Open Credit'].values) / t)\n",
    "        \n",
    "        self.med_annual_income = df.groupby(['monthly_debt_group'], \n",
    "                                            as_index=False).agg({'Annual Income':'median'})\n",
    "        self.med_current_loan_amount = df.groupby(['monthly_debt_group'],\n",
    "                                                 as_index=False).agg({'Current Loan Amount':'median'})\n",
    "        self.med_maximum_open_credit = df.groupby(['current_credit_balance_group'],\n",
    "                                                 as_index=False).agg({'Maximum Open Credit':'median'}) \n",
    "        self.med_current_credit_balance = df.groupby(['maximum_open_credit_group'],\n",
    "                                                    as_index=False).agg({'Current Credit Balance':'median'})\n",
    "\n",
    "    \n",
    "    def transform(self, X):\n",
    "        # 1.Credit Score\n",
    "        X.loc[X['Credit Score']>1000, 'Credit Score'] /= 10\n",
    "        X.loc[X['Credit Score'].isna(), 'Credit Score'] = self.med_credit_score\n",
    "        \n",
    "        # 2.Years in current job\n",
    "        for i in range(len(self.years)):\n",
    "            X.loc[X['Years in current job']==self.years[i],'Years in current job'] = i        \n",
    "        \n",
    "        X.loc[X['Years in current job'].isna(), 'Years in current job'] = self.med_years_in_current_job\n",
    "        X['Years in current job'] = X['Years in current job'].astype(int)\n",
    "        \n",
    "        # 3.Bankruptcies\n",
    "        X.loc[X['Bankruptcies'].isna() & (X['Number of Credit Problems'] == 0), 'Bankruptcies'] = 0\n",
    "        X.loc[X['Bankruptcies'].isna() & (X['Number of Credit Problems'] > 0), 'Bankruptcies'] = 1        \n",
    "     \n",
    "        \n",
    "        # 4.Annual Income\n",
    "        t0 = 0\n",
    "        for i in range(self.n_groups):\n",
    "            cond1 = X['Annual Income'].isna()\n",
    "            if i != self.n_groups - 1:\n",
    "                t1 = (self.med_annual_income.loc[i, 'Annual Income'] +\\\n",
    "                      self.med_annual_income.loc[i+1, 'Annual Income']) / 2 \n",
    "                cond2 = (X['Monthly Debt'] >= t0) & (X['Monthly Debt'] < t1)\n",
    "            else:\n",
    "                cond2 = (X['Monthly Debt'] >= t0)\n",
    "            X.loc[cond1 & cond2, 'Annual Income'] = self.med_annual_income.loc[i, 'Annual Income']\n",
    "            t0 = t1\n",
    "        \n",
    "        # 5.Current Loan Amount\n",
    "        t0 = 0\n",
    "        for i in range(self.n_groups):\n",
    "            cond1 = (X['Current Loan Amount'] == 99999999)\n",
    "            if i != self.n_groups - 1:\n",
    "                t1 = (self.med_current_loan_amount.loc[i, 'Current Loan Amount'] +\\\n",
    "                      self.med_current_loan_amount.loc[i+1, 'Current Loan Amount']) / 2 \n",
    "                cond2 = (X['Monthly Debt'] >= t0) & (X['Monthly Debt'] < t1)\n",
    "            else:\n",
    "                cond2 = (X['Monthly Debt'] >= t0)\n",
    "            X.loc[cond1 & cond2, 'Current Loan Amount'] = self.med_current_loan_amount.loc[i, 'Current Loan Amount']\n",
    "            t0 = t1        \n",
    "        \n",
    "        # 6.Maximum Open Credit\n",
    "        t0 = 0\n",
    "        for i in range(self.n_groups):\n",
    "            cond1 = (X['Maximum Open Credit'] > 3 * 1e6)\n",
    "            if i != self.n_groups - 1:\n",
    "                t1 = (self.med_maximum_open_credit.loc[i, 'Maximum Open Credit'] +\\\n",
    "                      self.med_maximum_open_credit.loc[i+1, 'Maximum Open Credit']) / 2 \n",
    "                cond2 = (X['Current Credit Balance'] >= t0) & (X['Current Credit Balance'] < t1)\n",
    "            else:\n",
    "                cond2 = (X['Current Credit Balance'] >= t0)\n",
    "            X.loc[cond1 & cond2, 'Maximum Open Credit'] = self.med_maximum_open_credit.loc[i, 'Maximum Open Credit']\n",
    "            t0 = t1        \n",
    "        \n",
    "        # 7.Current Credit Balance\n",
    "        t0 = 0\n",
    "        for i in range(self.n_groups):\n",
    "            cond1 = (X['Current Credit Balance'] > 1.5 * 1e6)\n",
    "            if i != self.n_groups - 1:\n",
    "                t1 = (self.med_current_credit_balance.loc[i, 'Current Credit Balance'] +\\\n",
    "                      self.med_current_credit_balance.loc[i+1, 'Current Credit Balance']) / 2 \n",
    "                cond2 = (X['Maximum Open Credit'] >= t0) & (X['Maximum Open Credit'] < t1)\n",
    "            else:\n",
    "                cond2 = (X['Maximum Open Credit'] >= t0)\n",
    "            X.loc[cond1 & cond2, 'Current Credit Balance'] = self.med_current_credit_balance.loc[i, 'Current Credit Balance']\n",
    "            t0 = t1\n",
    "            \n",
    "        # 9.Months since last delinquen    \n",
    "        X = X.drop('Months since last delinquent', axis=1)\n",
    "        #X['Months since last delinquent'] = X['Months since last delinquent'].fillna(0)\n",
    "               \n",
    "        return X"
   ]
  },
  {
   "cell_type": "code",
   "execution_count": 9,
   "metadata": {},
   "outputs": [],
   "source": [
    "features = FeatureImputer()\n",
    "features.fit(X)\n",
    "X = features.transform(X)\n",
    "X_final = features.transform(X_final)"
   ]
  },
  {
   "cell_type": "code",
   "execution_count": 10,
   "metadata": {},
   "outputs": [
    {
     "data": {
      "text/plain": [
       "Home Ownership               0\n",
       "Annual Income                0\n",
       "Years in current job         0\n",
       "Tax Liens                    0\n",
       "Number of Open Accounts      0\n",
       "Years of Credit History      0\n",
       "Maximum Open Credit          0\n",
       "Number of Credit Problems    0\n",
       "Bankruptcies                 0\n",
       "Purpose                      0\n",
       "Term                         0\n",
       "Current Loan Amount          0\n",
       "Current Credit Balance       0\n",
       "Monthly Debt                 0\n",
       "Credit Score                 0\n",
       "dtype: int64"
      ]
     },
     "execution_count": 10,
     "metadata": {},
     "output_type": "execute_result"
    }
   ],
   "source": [
    "len(X_final) - X_final.count()"
   ]
  },
  {
   "cell_type": "markdown",
   "metadata": {},
   "source": [
    "### 4. Анализ данных\n"
   ]
  },
  {
   "cell_type": "code",
   "execution_count": 11,
   "metadata": {},
   "outputs": [],
   "source": [
    "NUMERIC_FEATURE_NAMES = [ 'Annual Income', 'Years in current job', 'Tax Liens','Number of Open Accounts',\n",
    "                         'Years of Credit History', 'Maximum Open Credit', 'Number of Credit Problems', \n",
    "                         'Bankruptcies', 'Current Loan Amount', 'Current Credit Balance', 'Monthly Debt',\n",
    "                         'Credit Score']\n",
    "\n",
    "CATEGORICAL_FEATURE_NAMES = ['Home Ownership', 'Purpose', 'Term']"
   ]
  },
  {
   "cell_type": "code",
   "execution_count": 12,
   "metadata": {},
   "outputs": [
    {
     "data": {
      "image/png": "[encoded data removed]",
      "text/plain": [
       "<Figure size 1656x1656 with 12 Axes>"
      ]
     },
     "metadata": {
      "needs_background": "light"
     },
     "output_type": "display_data"
    }
   ],
   "source": [
    "X.loc[:, NUMERIC_FEATURE_NAMES].hist(figsize=(23,23), bins=15, grid=False);"
   ]
  },
  {
   "cell_type": "code",
   "execution_count": 13,
   "metadata": {},
   "outputs": [
    {
     "data": {
      "image/png": "[encoded data removed]",
      "text/plain": [
       "<Figure size 1080x720 with 2 Axes>"
      ]
     },
     "metadata": {
      "needs_background": "light"
     },
     "output_type": "display_data"
    }
   ],
   "source": [
    "plt.figure(figsize = (15,10))\n",
    "\n",
    "sns.set(font_scale=1.4)\n",
    "\n",
    "corr_matrix = X[NUMERIC_FEATURE_NAMES].corr()\n",
    "corr_matrix = np.round(corr_matrix, 2)\n",
    "corr_matrix[np.abs(corr_matrix) < 0.20] = 0  # убрать маленькие корреляции\n",
    "\n",
    "sns.heatmap(corr_matrix, annot=True, linewidths=.5, cmap='coolwarm')\n",
    "\n",
    "plt.title('Correlation matrix')\n",
    "plt.show()"
   ]
  },
  {
   "cell_type": "code",
   "execution_count": 14,
   "metadata": {},
   "outputs": [
    {
     "name": "stdout",
     "output_type": "stream",
     "text": [
      "Доля дисперсии, объясненная соответствующими компонентами: [0.26686584 0.16614957 0.09886553 0.08941091 0.07894754]\n",
      "\n"
     ]
    },
    {
     "data": {
      "image/png": "[encoded data removed]",
      "text/plain": [
       "<Figure size 432x360 with 1 Axes>"
      ]
     },
     "metadata": {},
     "output_type": "display_data"
    },
    {
     "name": "stdout",
     "output_type": "stream",
     "text": [
      "\n",
      "\n",
      "Первые 4 компонента объясяют 0.62129 дисперсии\n",
      "\n"
     ]
    }
   ],
   "source": [
    "scaler = StandardScaler()\n",
    "\n",
    "a = X[NUMERIC_FEATURE_NAMES]\n",
    "\n",
    "a = scaler.fit_transform(a)        \n",
    "pca = PCA(n_components=5)\n",
    "pca.fit(a)\n",
    "print(f'Доля дисперсии, объясненная соответствующими компонентами: {pca.explained_variance_ratio_}\\n')\n",
    "\n",
    "fig = plt.figure(figsize=(6,5))\n",
    "plt.plot(['комп1','комп2','комп3','комп4', 'комп5'], pca.explained_variance_ratio_, 'ro-', linewidth=2)\n",
    "plt.title('Scree Plot')\n",
    "plt.xlabel('Главные компоненты')\n",
    "plt.ylabel('Объясненная доля дисперсии')\n",
    "plt.show()\n",
    "\n",
    "print('\\n')\n",
    "print(f'Первые 4 компонента объясяют {round(pca.explained_variance_ratio_[:4].sum(), 5)} дисперсии\\n')"
   ]
  },
  {
   "cell_type": "markdown",
   "metadata": {},
   "source": [
    "### 5. Построение новых признаков"
   ]
  },
  {
   "cell_type": "markdown",
   "metadata": {},
   "source": [
    "* Из признаков Bankruptcies, Tax Liens и Number of Credit Problems методом target encoding генерируется Composit_1. \n",
    "* Из признаков Home Ownership и Purpose методом target encoding генерируется Composit_2, причем в каждом из признаков используются только значения  с частотой выше 25.\n",
    "* Из признаков Current Loan Amount и Credit Score методом target encoding генерируется Composit_3.  Current Loan Amount разбивается на группы с шагом 30 тыс.руб., Credit Score - на группы с шагом 25 баллов.\n",
    "* Из признаков Annual Income и Credit Score методом target encoding генерируется Composit_4. Annual Income разбивается на группы с шагом 100 тыс.руб. Испельзуются только группы, в которые попали более 30 клиентов.\n",
    "* Из признаков Current Loan Amount и Maximum Open Credit  методом target encoding генерируется Composit_5. Current Loan Amount разбивается на группы с шагом 100 тыс.руб., Maximum Open Credit - с шагом 200 тыс.руб. В Maximum Open Credit используются только группы, в которые попали более 30 клиентов.\n",
    "* Из признаков Monthly Debt и Maximum Open Credit  методом target encoding генерируется Composit_6. Monthly Debt разбивается на группы с шагом 10 тыс.руб, используются только группы, в которые попали более 30 клиентов. Maximum Open Credit используется также, как в Composit_5.\n",
    "* Из признаков Number of Open Accounts и Years of Credit History  методом target encoding генерируется Composit_7. Группы формируются с шагом 3 счета и 3 года соответственно. Используютсяя тольько группы с числом клиентов больше 30.\n",
    "* Категориальный признак Term трансформируется в бинарный признак (0 - 'Short Term', 1 - 'Long Term')\n",
    "* Из числовых признаков методом главных компонент (PCA) формируются 4 новых признака: pca_composit_1, pca_composit_2, pca_composit_3 и pca_composit_4  "
   ]
  },
  {
   "cell_type": "code",
   "execution_count": 15,
   "metadata": {},
   "outputs": [],
   "source": [
    "class FeatureGenetator():\n",
    "    \"\"\"Генерация новых признаков\"\"\"\n",
    "    \n",
    "    def __init__(self):        \n",
    "        self.mean_default_by_composit_1 = None\n",
    "        self.mean_default_by_composit_2 = None\n",
    "        self.mean_default_by_composit_3 = None\n",
    "        self.mean_default_by_composit_4 = None\n",
    "        self.mean_default_by_composit_5 = None\n",
    "        self.mean_default_by_composit_6 = None\n",
    "        self.mean_default_by_composit_7 = None        \n",
    "        \n",
    "    \n",
    "    def fit(self, X, y=None):\n",
    "        X = X.copy()\n",
    "        \n",
    "        # Purpose\n",
    "        purpose = X['Purpose'].value_counts()\n",
    "        purpose = purpose[purpose > 25] \n",
    "        \n",
    "        # Home Ownership\n",
    "        home_ownership = X['Home Ownership'].value_counts()\n",
    "        home_ownership = home_ownership[home_ownership > 25]\n",
    "        \n",
    "        # Annual Income group\n",
    "        annual_income_group = (X['Annual Income'] / 1e5).round(0).value_counts()\n",
    "        annual_income_group = annual_income_group[annual_income_group > 30]\n",
    "        \n",
    "        # Maximum Open Credit group\n",
    "        maximum_open_credit_group = (X['Maximum Open Credit'] / 2e5).round(0).value_counts()\n",
    "        maximum_open_credit_group = maximum_open_credit_group[maximum_open_credit_group > 30]\n",
    "        \n",
    "        # Monthly Debt group\n",
    "        monthly_debt_group = (X['Monthly Debt'] / 1e4).round(0).value_counts()\n",
    "        monthly_debt_group = monthly_debt_group[monthly_debt_group > 30]\n",
    "        \n",
    "        # Number of Open Accounts group\n",
    "        number_of_open_accounts_group = (X['Number of Open Accounts'] / 3).round(0).value_counts()\n",
    "        number_of_open_accounts_group = number_of_open_accounts_group[number_of_open_accounts_group > 30]\n",
    "        \n",
    "        # Years of Credit History group\n",
    "        years_of_credit_history_group = (X['Years of Credit History']/3).round(0).value_counts()\n",
    "        years_of_credit_history_group = years_of_credit_history_group[years_of_credit_history_group > 30]\n",
    "        \n",
    "        \n",
    "        df = X.copy()\n",
    "        \n",
    "        # Target encoding        \n",
    "        if y is not None:\n",
    "            \n",
    "        ## Composit_1: Bankruptcies, Tax Liens, Number of Credit Problems \n",
    "            df['Mean_Default'] = y.values                        \n",
    "            self.mean_default_by_composit_1 = df.groupby(['Bankruptcies',\n",
    "                                                          'Tax Liens',\n",
    "                                                          'Number of Credit Problems'],\n",
    "                                                         as_index=False).agg({'Mean_Default':'mean'}).\\\n",
    "                                                         rename(columns={'Mean_Default':'Composit_1'})\n",
    "            \n",
    "         ## Composit_2: Home Ownership, Purpose        \n",
    "            df['Home_Ownership_frequent'] = df['Home Ownership'].copy()\n",
    "            df.loc[~df['Home_Ownership_frequent'].isin(home_ownership.keys().tolist())] = np.nan        \n",
    "        \n",
    "            df['Purpose_frequent'] = df['Purpose'].copy()\n",
    "            df.loc[~df['Purpose_frequent'].isin(purpose.keys().tolist())] = np.nan\n",
    "    \n",
    "            self.mean_default_by_composit_2 = df.groupby(['Home_Ownership_frequent',\n",
    "                                                          'Purpose_frequent'],\n",
    "                                                         as_index=False).agg({'Mean_Default':'mean'}).\\\n",
    "                                                         rename(columns={'Mean_Default':'Composit_2',\n",
    "                                                                         'Purpose_frequent': 'Purpose',\n",
    "                                                                         'Home_Ownership_frequent': 'Home Ownership'})\n",
    "        \n",
    "         ## Composit_3: Current Loan Amount, Credit Score\n",
    "            df['Current Loan Amount group'] = (df['Current Loan Amount']/3e4).round(0)\n",
    "            df['Credit Score group'] =(df['Credit Score'] / 25).round(0)\n",
    "            \n",
    "            self.mean_default_by_composit_3 = df.groupby(['Current Loan Amount group', 'Credit Score group'],\n",
    "                                                         as_index=False).agg({'Mean_Default':'mean'}).\\\n",
    "                                                         rename(columns={'Mean_Default':'Composit_3'})\n",
    "            \n",
    "         ## Composit_4: Annual Income, Credit Score\n",
    "            df['Annual Income group'] = (df['Annual Income'] / 1e5).round(0)\n",
    "            df['Annual_Income_frequent'] = df['Annual Income group'].copy()\n",
    "            df.loc[~df['Annual_Income_frequent'].isin(annual_income_group.keys().tolist())] = np.nan\n",
    "            \n",
    "            self.mean_default_by_composit_4 = df.groupby(['Annual_Income_frequent', 'Credit Score group'],\n",
    "                                                         as_index=False).agg({'Mean_Default':'mean'}).\\\n",
    "                                                         rename(columns={'Mean_Default':'Composit_4',\n",
    "                                                                         'Annual_Income_frequent': 'Annual Income group'})\n",
    "            \n",
    "        ## Composit_5: Current Loan Amount, Maximum Open Credit\n",
    "            df['Current Loan Amount group'] = (df['Current Loan Amount'] / 1e5).round(0)\n",
    "            df['Maximum Open Credit group'] = (df['Maximum Open Credit'] / 2e5).round(0)\n",
    "            df['Maximum_Open_Credit_frequent'] = df['Maximum Open Credit group'].copy()\n",
    "            df.loc[~df['Maximum_Open_Credit_frequent'].isin(maximum_open_credit_group.keys().tolist())] = np.nan\n",
    "            \n",
    "            self.mean_default_by_composit_5 = df.groupby(['Current Loan Amount group', 'Maximum_Open_Credit_frequent'],\n",
    "                                                         as_index=False).agg({'Mean_Default':'mean'}).\\\n",
    "                                                         rename(columns={\n",
    "                                                            'Mean_Default':'Composit_5',\n",
    "                                                            'Maximum_Open_Credit_frequent': 'Maximum Open Credit group'})\n",
    "            \n",
    "         ## Composit_6: Monthly Debt, Maximum Open Credit\n",
    "            df['Monthly Debt group'] = (df['Monthly Debt'] / 1e4).round(0)\n",
    "            df['Monthly_Debt_frequent'] = df['Monthly Debt group'].copy()\n",
    "            df.loc[~df['Monthly_Debt_frequent'].isin(monthly_debt_group.keys().tolist())] = np.nan\n",
    "            \n",
    "            self.mean_default_by_composit_6 = df.groupby(['Monthly_Debt_frequent', 'Maximum_Open_Credit_frequent'],\n",
    "                                                         as_index=False).agg({'Mean_Default':'mean'}).\\\n",
    "                                                         rename(columns={'Mean_Default':'Composit_6',\n",
    "                                                            'Monthly_Debt_frequent': 'Monthly Debt group',           \n",
    "                                                            'Maximum_Open_Credit_frequent': 'Maximum Open Credit group'})\n",
    "            \n",
    "          ## Composit_7: Number of Open Accounts, Years of Credit History\n",
    "            df['Number of Open Accounts group'] = (df['Number of Open Accounts'] / 3).round(0)\n",
    "            df['Number_of_Open_Accounts_frequent'] = df['Number of Open Accounts group'].copy()\n",
    "            df.loc[~df['Number_of_Open_Accounts_frequent'].isin(number_of_open_accounts_group.keys().tolist())] = np.nan            \n",
    "            \n",
    "            df['Years of Credit History group'] = (df['Years of Credit History'] / 3).round(0)\n",
    "            df['Years_of_Credit_History_frequent'] = df['Years of Credit History group'].copy()\n",
    "            df.loc[~df['Years_of_Credit_History_frequent'].isin(years_of_credit_history_group.keys().tolist())] = np.nan\n",
    "            \n",
    "            self.mean_default_by_composit_7 = df.groupby(['Number of Open Accounts group', 'Years of Credit History group'],\n",
    "                                                         as_index=False).agg({'Mean_Default':'mean'}).\\\n",
    "                                                         rename(columns={'Mean_Default':'Composit_7',\n",
    "                                                        'Number_of_Open_Accounts_frequent': 'Number of Open Accounts group',\n",
    "                                                        'Years_of_Credit_History_frequent': 'Years of Credit History group'})            \n",
    "                \n",
    "    def transform(self, X):        \n",
    "        # Term\n",
    "        X.loc[X['Term'] == 'Short Term', 'Term'] = 0\n",
    "        X.loc[X['Term'] == 'Long Term', 'Term'] = 1 \n",
    "        \n",
    "        \n",
    "        # Target encoding\n",
    "        if self.mean_default_by_composit_1 is not None:\n",
    "            X = X.merge(self.mean_default_by_composit_1, on=['Bankruptcies',\n",
    "                                                             'Tax Liens',\n",
    "                                                             'Number of Credit Problems'], how='left')\n",
    "        if self.mean_default_by_composit_2 is not None:\n",
    "            X = X.merge(self.mean_default_by_composit_2, on=['Home Ownership',\n",
    "                                                             'Purpose'], how='left')\n",
    "        if self.mean_default_by_composit_3 is not None:\n",
    "            X['Current Loan Amount group'] = (X['Current Loan Amount']/3e4).round(0)\n",
    "            X['Credit Score group'] =(X['Credit Score']/25).round(0)            \n",
    "            \n",
    "            X = X.merge(self.mean_default_by_composit_3, on=['Current Loan Amount group',\n",
    "                                                             'Credit Score group'], how='left')\n",
    "            X = X.drop(['Current Loan Amount group'], axis=1)\n",
    "            \n",
    "        if self.mean_default_by_composit_4 is not None:\n",
    "            X['Annual Income group'] = (X['Annual Income']/1e5).round(0)         \n",
    "            \n",
    "            X = X.merge(self.mean_default_by_composit_4, on=['Annual Income group',\n",
    "                                                             'Credit Score group'], how='left')\n",
    "            X = X.drop(['Annual Income group', 'Credit Score group'], axis=1)\n",
    "            \n",
    "        if self.mean_default_by_composit_5 is not None:\n",
    "            X['Current Loan Amount group'] = (X['Current Loan Amount']/1e5).round(0)\n",
    "            X['Maximum Open Credit group'] = (X['Maximum Open Credit']/2e5).round(0)\n",
    "            \n",
    "            X = X.merge(self.mean_default_by_composit_5, on=['Current Loan Amount group',\n",
    "                                                             'Maximum Open Credit group'], how='left')\n",
    "            X = X.drop(['Current Loan Amount group'], axis=1) #, 'Maximum Open Credit group'\n",
    "        \n",
    "        if self.mean_default_by_composit_6 is not None:\n",
    "            X['Monthly Debt group'] = (X['Monthly Debt']/1e4).round(0)            \n",
    "            X = X.merge(self.mean_default_by_composit_6, on=['Monthly Debt group',\n",
    "                                                             'Maximum Open Credit group'], how='left')\n",
    "            X = X.drop(['Monthly Debt group', 'Maximum Open Credit group'], axis=1)\n",
    "            \n",
    "        if self.mean_default_by_composit_7 is not None:\n",
    "            X['Number of Open Accounts group'] = (X['Number of Open Accounts']/3).round(0)\n",
    "            X['Years of Credit History group'] = (X['Years of Credit History']/3).round(0)\n",
    "            \n",
    "            X = X.merge(self.mean_default_by_composit_7, on=['Number of Open Accounts group',\n",
    "                                                             'Years of Credit History group'], how='left')\n",
    "            X = X.drop(['Number of Open Accounts group', 'Years of Credit History group'], axis=1)\n",
    "            \n",
    "                   \n",
    "        # PCA variables\n",
    "        X = self.pca_features(X)\n",
    "               \n",
    "        return X.fillna(0)   \n",
    "        \n",
    "    \n",
    "        \n",
    "    @staticmethod   \n",
    "    def pca_features(X):\n",
    "        scaler = StandardScaler()\n",
    "        a = X[NUMERIC_FEATURE_NAMES].fillna(0)\n",
    "        a = scaler.fit_transform(a)\n",
    "        pca = PCA(n_components=4)\n",
    "        pca.fit(a)    \n",
    "        X.loc[:, 'pca_composit_1'] = np.dot(a, pca.components_.T)[:, 0]\n",
    "        X.loc[:, 'pca_composit_2'] = np.dot(a, pca.components_.T)[:, 1]\n",
    "        X.loc[:, 'pca_composit_3'] = np.dot(a, pca.components_.T)[:, 2]\n",
    "        X.loc[:, 'pca_composit_4'] = np.dot(a, pca.components_.T)[:, 3]        \n",
    "    \n",
    "        return X"
   ]
  },
  {
   "cell_type": "code",
   "execution_count": 16,
   "metadata": {},
   "outputs": [],
   "source": [
    "features = FeatureGenetator()\n",
    "features.fit(X, y)\n",
    "X = features.transform(X)\n",
    "X_final = features.transform(X_final)"
   ]
  },
  {
   "cell_type": "markdown",
   "metadata": {},
   "source": [
    "#### Сохранение обучающего датасета"
   ]
  },
  {
   "cell_type": "code",
   "execution_count": 17,
   "metadata": {},
   "outputs": [],
   "source": [
    "X.to_csv(PREP_DATASET_PATH, index=False, encoding='utf-8')"
   ]
  },
  {
   "cell_type": "markdown",
   "metadata": {},
   "source": [
    "### 6. Отбор признаков\n"
   ]
  },
  {
   "cell_type": "code",
   "execution_count": 18,
   "metadata": {},
   "outputs": [],
   "source": [
    "SELECTED_FEATURE_NAMES = ['Annual Income', 'Years in current job', \n",
    "                          'Number of Open Accounts', 'Years of Credit History',\n",
    "                          'Maximum Open Credit',  \n",
    "                          'Term', 'Current Loan Amount', 'Current Credit Balance', 'Monthly Debt',\n",
    "                          'Credit Score', \n",
    "                          #'Bankruptcies', 'Tax Liens', 'Number of Credit Problems',\n",
    "                          \n",
    "                          'Composit_1', 'Composit_2', 'Composit_3', 'Composit_4', \n",
    "                          'Composit_5', 'Composit_6', 'Composit_7', \n",
    "                          \n",
    "                          'pca_composit_1', 'pca_composit_2', 'pca_composit_3', 'pca_composit_4'                          \n",
    "                        ]"
   ]
  },
  {
   "cell_type": "markdown",
   "metadata": {},
   "source": [
    "### 7. Балансировка классов\n"
   ]
  },
  {
   "cell_type": "code",
   "execution_count": 19,
   "metadata": {},
   "outputs": [],
   "source": [
    "scaler = StandardScaler()\n",
    "\n",
    "df_norm = X.copy()\n",
    "df_norm[SELECTED_FEATURE_NAMES] = scaler.fit_transform(df_norm[SELECTED_FEATURE_NAMES])\n",
    "\n",
    "X = df_norm.copy()"
   ]
  },
  {
   "cell_type": "code",
   "execution_count": 20,
   "metadata": {},
   "outputs": [],
   "source": [
    "X_train, X_test, y_train, y_test = train_test_split(X[SELECTED_FEATURE_NAMES], y, \n",
    "                                                    shuffle=True,\n",
    "                                                    stratify = y,\n",
    "                                                    test_size=0.2, random_state=42)"
   ]
  },
  {
   "cell_type": "markdown",
   "metadata": {},
   "source": [
    "#### imblearn RandomOverSampler"
   ]
  },
  {
   "cell_type": "code",
   "execution_count": 21,
   "metadata": {},
   "outputs": [
    {
     "name": "stdout",
     "output_type": "stream",
     "text": [
      "Original dataset shape Counter({0: 4310, 1: 1690})\n",
      "Resample dataset shape Counter({0: 4310, 1: 4310})\n"
     ]
    }
   ],
   "source": [
    "ros = RandomOverSampler(random_state=42)\n",
    "X_train_ros, y_train_ros = ros.fit_resample(X_train, y_train)\n",
    "\n",
    "print('Original dataset shape', Counter(y_train))\n",
    "print('Resample dataset shape', Counter(y_train_ros))"
   ]
  },
  {
   "cell_type": "markdown",
   "metadata": {},
   "source": [
    "### 8. Модель"
   ]
  },
  {
   "cell_type": "code",
   "execution_count": 22,
   "metadata": {},
   "outputs": [],
   "source": [
    "kfold =  StratifiedKFold(n_splits=5, shuffle=True, random_state=1)\n",
    "def cv_f1_score(model):\n",
    "    f1_score_list = []\n",
    "    for train_index, test_index in kfold.split(X, y):\n",
    "        X_train, X_test = X.loc[train_index, :], X.loc[test_index, :]\n",
    "        y_train, y_test = y[train_index], y[test_index]\n",
    "        X_train_ros, y_train_ros = ros.fit_resample(X_train, y_train)\n",
    "\n",
    "        model.fit(X_train_ros[SELECTED_FEATURE_NAMES], y_train_ros)\n",
    "\n",
    "        y_train_pred = model.predict(X_train_ros[SELECTED_FEATURE_NAMES])\n",
    "        y_test_pred = model.predict(X_test[SELECTED_FEATURE_NAMES])\n",
    "\n",
    "        f1_score_list.append(f1_score(y_test, y_test_pred, average=None)[1])\n",
    "    print(f'cross_validation_f1_score_test = {np.array(f1_score_list).mean()}\\n')"
   ]
  },
  {
   "cell_type": "code",
   "execution_count": 23,
   "metadata": {},
   "outputs": [],
   "source": [
    "def get_classification_report(y_train_true, y_train_pred, y_test_true, y_test_pred):\n",
    "    print('TRAIN\\n\\n' + classification_report(y_train_true, y_train_pred))\n",
    "    print('roc_auc_score =', roc_auc_score(y_train_true, y_train_pred), '\\n')\n",
    "    print('TEST\\n\\n' + classification_report(y_test_true, y_test_pred))\n",
    "    print('roc_auc_score =', roc_auc_score(y_test_true, y_test_pred), '\\n')\n",
    "    print('CONFUSION MATRIX\\n')\n",
    "    print(pd.crosstab(y_test_true, y_test_pred)) "
   ]
  },
  {
   "cell_type": "markdown",
   "metadata": {},
   "source": [
    "#### CatBoostClassifier"
   ]
  },
  {
   "cell_type": "code",
   "execution_count": 24,
   "metadata": {},
   "outputs": [
    {
     "name": "stdout",
     "output_type": "stream",
     "text": [
      "cross_validation_f1_score_test = 0.5293561824199207\n",
      "\n",
      "TRAIN\n",
      "\n",
      "              precision    recall  f1-score   support\n",
      "\n",
      "           0       0.77      0.68      0.72      4310\n",
      "           1       0.71      0.80      0.75      4310\n",
      "\n",
      "    accuracy                           0.74      8620\n",
      "   macro avg       0.74      0.74      0.73      8620\n",
      "weighted avg       0.74      0.74      0.73      8620\n",
      "\n",
      "roc_auc_score = 0.7359628770301625 \n",
      "\n",
      "TEST\n",
      "\n",
      "              precision    recall  f1-score   support\n",
      "\n",
      "           0       0.84      0.63      0.72      1077\n",
      "           1       0.42      0.69      0.52       423\n",
      "\n",
      "    accuracy                           0.65      1500\n",
      "   macro avg       0.63      0.66      0.62      1500\n",
      "weighted avg       0.72      0.65      0.66      1500\n",
      "\n",
      "roc_auc_score = 0.6587348624034455 \n",
      "\n",
      "CONFUSION MATRIX\n",
      "\n",
      "col_0             0    1\n",
      "Credit Default          \n",
      "0               678  399\n",
      "1               132  291\n"
     ]
    }
   ],
   "source": [
    "model_cb = catb.CatBoostClassifier(n_estimators=200,                  \n",
    "                                   learning_rate=0.023,\n",
    "                                   silent=True, random_state=21)\n",
    "model_cb.fit(X_train_ros[SELECTED_FEATURE_NAMES], y_train_ros)\n",
    "\n",
    "y_train_pred = model_cb.predict(X_train_ros[SELECTED_FEATURE_NAMES])\n",
    "y_test_pred = model_cb.predict(X_test[SELECTED_FEATURE_NAMES])\n",
    "\n",
    "cv_f1_score(model_cb)\n",
    "get_classification_report(y_train_ros, y_train_pred, y_test, y_test_pred)\n",
    "\n",
    "#F1 > 0.5\n",
    "# 0.5293561824199207"
   ]
  },
  {
   "cell_type": "markdown",
   "metadata": {},
   "source": [
    "#### RandomForestClassifier"
   ]
  },
  {
   "cell_type": "code",
   "execution_count": 25,
   "metadata": {},
   "outputs": [
    {
     "name": "stdout",
     "output_type": "stream",
     "text": [
      "cross_validation_f1_score_test = 0.5134882101708413\n",
      "\n",
      "TRAIN\n",
      "\n",
      "              precision    recall  f1-score   support\n",
      "\n",
      "           0       0.79      0.62      0.70      4310\n",
      "           1       0.69      0.84      0.76      4310\n",
      "\n",
      "    accuracy                           0.73      8620\n",
      "   macro avg       0.74      0.73      0.73      8620\n",
      "weighted avg       0.74      0.73      0.73      8620\n",
      "\n",
      "roc_auc_score = 0.7298143851508121 \n",
      "\n",
      "TEST\n",
      "\n",
      "              precision    recall  f1-score   support\n",
      "\n",
      "           0       0.85      0.57      0.68      1077\n",
      "           1       0.40      0.74      0.52       423\n",
      "\n",
      "    accuracy                           0.62      1500\n",
      "   macro avg       0.63      0.66      0.60      1500\n",
      "weighted avg       0.72      0.62      0.64      1500\n",
      "\n",
      "roc_auc_score = 0.6557024042355637 \n",
      "\n",
      "CONFUSION MATRIX\n",
      "\n",
      "col_0             0    1\n",
      "Credit Default          \n",
      "0               618  459\n",
      "1               111  312\n"
     ]
    }
   ],
   "source": [
    "model_rf = RandomForestClassifier(n_estimators=200,  \n",
    "                                  max_depth=6,                                  \n",
    "                                  min_samples_leaf=8,\n",
    "                                  random_state=42)\n",
    "\n",
    "model_rf.fit(X_train_ros[SELECTED_FEATURE_NAMES], y_train_ros)\n",
    "\n",
    "y_train_pred = model_rf.predict(X_train_ros[SELECTED_FEATURE_NAMES])\n",
    "y_test_pred = model_rf.predict(X_test[SELECTED_FEATURE_NAMES])\n",
    "\n",
    "cv_f1_score(model_rf)\n",
    "get_classification_report(y_train_ros, y_train_pred, y_test, y_test_pred)\n",
    "\n",
    "# 0.5134882101708413"
   ]
  },
  {
   "cell_type": "markdown",
   "metadata": {},
   "source": [
    "#### AdaBoostClassifier"
   ]
  },
  {
   "cell_type": "code",
   "execution_count": 26,
   "metadata": {},
   "outputs": [
    {
     "name": "stdout",
     "output_type": "stream",
     "text": [
      "cross_validation_f1_score_test = 0.5231371971578824\n",
      "\n",
      "TRAIN\n",
      "\n",
      "              precision    recall  f1-score   support\n",
      "\n",
      "           0       0.72      0.63      0.68      4310\n",
      "           1       0.67      0.76      0.71      4310\n",
      "\n",
      "    accuracy                           0.70      8620\n",
      "   macro avg       0.70      0.70      0.69      8620\n",
      "weighted avg       0.70      0.70      0.69      8620\n",
      "\n",
      "roc_auc_score = 0.6952436194895592 \n",
      "\n",
      "TEST\n",
      "\n",
      "              precision    recall  f1-score   support\n",
      "\n",
      "           0       0.84      0.60      0.70      1077\n",
      "           1       0.41      0.70      0.51       423\n",
      "\n",
      "    accuracy                           0.63      1500\n",
      "   macro avg       0.62      0.65      0.60      1500\n",
      "weighted avg       0.71      0.63      0.64      1500\n",
      "\n",
      "roc_auc_score = 0.648649716509611 \n",
      "\n",
      "CONFUSION MATRIX\n",
      "\n",
      "col_0             0    1\n",
      "Credit Default          \n",
      "0               641  436\n",
      "1               126  297\n"
     ]
    }
   ],
   "source": [
    "model_ab = AdaBoostClassifier(n_estimators=80, \n",
    "                              learning_rate = 0.65,\n",
    "                           random_state=42)\n",
    "model_ab.fit(X_train_ros[SELECTED_FEATURE_NAMES], y_train_ros)\n",
    "\n",
    "y_train_pred = model_ab.predict(X_train_ros[SELECTED_FEATURE_NAMES])\n",
    "y_test_pred = model_ab.predict(X_test[SELECTED_FEATURE_NAMES])\n",
    "\n",
    "cv_f1_score(model_ab)\n",
    "get_classification_report(y_train_ros, y_train_pred, y_test, y_test_pred)\n",
    "# 0.5231371971578824"
   ]
  },
  {
   "cell_type": "markdown",
   "metadata": {},
   "source": [
    "#### VotingClassifier"
   ]
  },
  {
   "cell_type": "code",
   "execution_count": 27,
   "metadata": {},
   "outputs": [
    {
     "name": "stdout",
     "output_type": "stream",
     "text": [
      "cross_validation_f1_score_test = 0.5229718446825801\n",
      "\n",
      "TRAIN\n",
      "\n",
      "              precision    recall  f1-score   support\n",
      "\n",
      "           0       0.78      0.65      0.71      4310\n",
      "           1       0.70      0.81      0.75      4310\n",
      "\n",
      "    accuracy                           0.73      8620\n",
      "   macro avg       0.74      0.73      0.73      8620\n",
      "weighted avg       0.74      0.73      0.73      8620\n",
      "\n",
      "roc_auc_score = 0.7331786542923434 \n",
      "\n",
      "TEST\n",
      "\n",
      "              precision    recall  f1-score   support\n",
      "\n",
      "           0       0.84      0.60      0.70      1077\n",
      "           1       0.41      0.71      0.52       423\n",
      "\n",
      "    accuracy                           0.63      1500\n",
      "   macro avg       0.63      0.65      0.61      1500\n",
      "weighted avg       0.72      0.63      0.65      1500\n",
      "\n",
      "roc_auc_score = 0.6542635505771878 \n",
      "\n",
      "CONFUSION MATRIX\n",
      "\n",
      "col_0             0    1\n",
      "Credit Default          \n",
      "0               648  429\n",
      "1               124  299\n"
     ]
    }
   ],
   "source": [
    "model = VotingClassifier(estimators=[('cb', model_cb), ('rf', model_rf), ('ab', model_ab)],\n",
    "                          voting='soft') \n",
    "model = model.fit(X_train_ros[SELECTED_FEATURE_NAMES], y_train_ros)\n",
    "\n",
    "y_train_pred = model.predict(X_train_ros[SELECTED_FEATURE_NAMES])\n",
    "y_test_pred = model.predict(X_test[SELECTED_FEATURE_NAMES])\n",
    "\n",
    "cv_f1_score(model)\n",
    "get_classification_report(y_train_ros, y_train_pred, y_test, y_test_pred)\n",
    "\n",
    "# 0.5229718446825801"
   ]
  },
  {
   "cell_type": "markdown",
   "metadata": {},
   "source": [
    "### 9. Интерпретация результатов"
   ]
  },
  {
   "cell_type": "markdown",
   "metadata": {},
   "source": [
    "* Наиболее значимыми признаками являются 'Current Loan Amount', 'Annual Income', 'Credit Score', \n",
    "* Менее значимые признаки модели оценивают по-разному: разница в оценке видна на иллюстрации ниже. Например, ExtraTreesClassifier ставит значимость признака 'Term' ниже, чем  CatBoostClassifier.\n",
    "* VotingClassifier объединяет результаты трех моделей (CatBoostClassifier, RandomForestClassifier, AdaBoostClassifier) и, как правило, генерирует лучший результат."
   ]
  },
  {
   "cell_type": "markdown",
   "metadata": {},
   "source": [
    "#### ExtraTreesClassifier"
   ]
  },
  {
   "cell_type": "code",
   "execution_count": 28,
   "metadata": {},
   "outputs": [
    {
     "name": "stdout",
     "output_type": "stream",
     "text": [
      "Feature ranking:\n",
      "1. feature 12 (0.087979)\n",
      "2. feature 13 (0.066667)\n",
      "3. feature 14 (0.057166)\n",
      "4. feature 6 (0.056999)\n",
      "5. feature 0 (0.052328)\n",
      "6. feature 16 (0.049183)\n",
      "7. feature 4 (0.047486)\n",
      "8. feature 8 (0.047100)\n",
      "9. feature 15 (0.046307)\n",
      "10. feature 7 (0.046149)\n",
      "11. feature 19 (0.046069)\n",
      "12. feature 2 (0.045851)\n",
      "13. feature 3 (0.045629)\n",
      "14. feature 9 (0.045474)\n",
      "15. feature 17 (0.044590)\n",
      "16. feature 11 (0.044310)\n",
      "17. feature 20 (0.043576)\n",
      "18. feature 1 (0.042248)\n",
      "19. feature 18 (0.041660)\n",
      "20. feature 5 (0.025723)\n",
      "21. feature 10 (0.017506)\n"
     ]
    },
    {
     "data": {
      "image/png": "[encoded data removed]",
      "text/plain": [
       "<Figure size 432x288 with 1 Axes>"
      ]
     },
     "metadata": {},
     "output_type": "display_data"
    }
   ],
   "source": [
    "X = X.fillna(0)\n",
    "forest = ExtraTreesClassifier(n_estimators=250,\n",
    "                              random_state=0)\n",
    "\n",
    "forest.fit(X_train_ros[SELECTED_FEATURE_NAMES], y_train_ros)\n",
    "importances = forest.feature_importances_\n",
    "std = np.std([tree.feature_importances_ for tree in forest.estimators_],\n",
    "             axis=0)\n",
    "indices = np.argsort(importances)[::-1]\n",
    "\n",
    "# Print the feature ranking\n",
    "print(\"Feature ranking:\")\n",
    "\n",
    "f_list = []\n",
    "for f in range(X[SELECTED_FEATURE_NAMES].shape[1]):\n",
    "    f_list.append(indices[f])\n",
    "    print(\"%d. feature %d (%f)\" % (f + 1, indices[f], importances[indices[f]]))\n",
    "\n",
    "# Plot the impurity-based feature importances of the forest\n",
    "plt.figure()\n",
    "plt.title(\"Feature importances\")\n",
    "plt.bar(range(X[SELECTED_FEATURE_NAMES].shape[1]), importances[indices],\n",
    "        color=\"r\", yerr=std[indices], align=\"center\")\n",
    "plt.xticks(range(X.shape[1]), indices)\n",
    "plt.xlim([-1, X[SELECTED_FEATURE_NAMES].shape[1]])\n",
    "plt.show()"
   ]
  },
  {
   "cell_type": "code",
   "execution_count": 29,
   "metadata": {},
   "outputs": [
    {
     "data": {
      "text/plain": [
       "['Composit_3',\n",
       " 'Composit_4',\n",
       " 'Composit_5',\n",
       " 'Current Loan Amount',\n",
       " 'Annual Income',\n",
       " 'Composit_7',\n",
       " 'Maximum Open Credit',\n",
       " 'Monthly Debt',\n",
       " 'Composit_6',\n",
       " 'Current Credit Balance',\n",
       " 'pca_composit_3',\n",
       " 'Number of Open Accounts',\n",
       " 'Years of Credit History',\n",
       " 'Credit Score',\n",
       " 'pca_composit_1',\n",
       " 'Composit_2',\n",
       " 'pca_composit_4',\n",
       " 'Years in current job',\n",
       " 'pca_composit_2',\n",
       " 'Term',\n",
       " 'Composit_1']"
      ]
     },
     "execution_count": 29,
     "metadata": {},
     "output_type": "execute_result"
    }
   ],
   "source": [
    "list(X[SELECTED_FEATURE_NAMES].columns[f_list])"
   ]
  },
  {
   "cell_type": "markdown",
   "metadata": {},
   "source": [
    "#### CatBoostClassifier"
   ]
  },
  {
   "cell_type": "code",
   "execution_count": 30,
   "metadata": {},
   "outputs": [
    {
     "data": {
      "text/html": [
       "<div>\n",
       "<style scoped>\n",
       "    .dataframe tbody tr th:only-of-type {\n",
       "        vertical-align: middle;\n",
       "    }\n",
       "\n",
       "    .dataframe tbody tr th {\n",
       "        vertical-align: top;\n",
       "    }\n",
       "\n",
       "    .dataframe thead th {\n",
       "        text-align: right;\n",
       "    }\n",
       "</style>\n",
       "<table border=\"1\" class=\"dataframe\">\n",
       "  <thead>\n",
       "    <tr style=\"text-align: right;\">\n",
       "      <th></th>\n",
       "      <th>feature_name</th>\n",
       "      <th>importance</th>\n",
       "    </tr>\n",
       "  </thead>\n",
       "  <tbody>\n",
       "    <tr>\n",
       "      <th>6</th>\n",
       "      <td>Current Loan Amount</td>\n",
       "      <td>0.209727</td>\n",
       "    </tr>\n",
       "    <tr>\n",
       "      <th>12</th>\n",
       "      <td>Composit_3</td>\n",
       "      <td>0.140758</td>\n",
       "    </tr>\n",
       "    <tr>\n",
       "      <th>14</th>\n",
       "      <td>Composit_5</td>\n",
       "      <td>0.095761</td>\n",
       "    </tr>\n",
       "    <tr>\n",
       "      <th>13</th>\n",
       "      <td>Composit_4</td>\n",
       "      <td>0.074979</td>\n",
       "    </tr>\n",
       "    <tr>\n",
       "      <th>5</th>\n",
       "      <td>Term</td>\n",
       "      <td>0.065567</td>\n",
       "    </tr>\n",
       "    <tr>\n",
       "      <th>0</th>\n",
       "      <td>Annual Income</td>\n",
       "      <td>0.057219</td>\n",
       "    </tr>\n",
       "    <tr>\n",
       "      <th>16</th>\n",
       "      <td>Composit_7</td>\n",
       "      <td>0.051959</td>\n",
       "    </tr>\n",
       "    <tr>\n",
       "      <th>11</th>\n",
       "      <td>Composit_2</td>\n",
       "      <td>0.051517</td>\n",
       "    </tr>\n",
       "    <tr>\n",
       "      <th>15</th>\n",
       "      <td>Composit_6</td>\n",
       "      <td>0.040451</td>\n",
       "    </tr>\n",
       "    <tr>\n",
       "      <th>4</th>\n",
       "      <td>Maximum Open Credit</td>\n",
       "      <td>0.028129</td>\n",
       "    </tr>\n",
       "    <tr>\n",
       "      <th>8</th>\n",
       "      <td>Monthly Debt</td>\n",
       "      <td>0.026514</td>\n",
       "    </tr>\n",
       "    <tr>\n",
       "      <th>9</th>\n",
       "      <td>Credit Score</td>\n",
       "      <td>0.026449</td>\n",
       "    </tr>\n",
       "    <tr>\n",
       "      <th>18</th>\n",
       "      <td>pca_composit_2</td>\n",
       "      <td>0.020792</td>\n",
       "    </tr>\n",
       "    <tr>\n",
       "      <th>20</th>\n",
       "      <td>pca_composit_4</td>\n",
       "      <td>0.020053</td>\n",
       "    </tr>\n",
       "    <tr>\n",
       "      <th>19</th>\n",
       "      <td>pca_composit_3</td>\n",
       "      <td>0.019996</td>\n",
       "    </tr>\n",
       "    <tr>\n",
       "      <th>3</th>\n",
       "      <td>Years of Credit History</td>\n",
       "      <td>0.014508</td>\n",
       "    </tr>\n",
       "    <tr>\n",
       "      <th>2</th>\n",
       "      <td>Number of Open Accounts</td>\n",
       "      <td>0.014134</td>\n",
       "    </tr>\n",
       "    <tr>\n",
       "      <th>7</th>\n",
       "      <td>Current Credit Balance</td>\n",
       "      <td>0.012070</td>\n",
       "    </tr>\n",
       "    <tr>\n",
       "      <th>10</th>\n",
       "      <td>Composit_1</td>\n",
       "      <td>0.011484</td>\n",
       "    </tr>\n",
       "    <tr>\n",
       "      <th>17</th>\n",
       "      <td>pca_composit_1</td>\n",
       "      <td>0.011081</td>\n",
       "    </tr>\n",
       "    <tr>\n",
       "      <th>1</th>\n",
       "      <td>Years in current job</td>\n",
       "      <td>0.006854</td>\n",
       "    </tr>\n",
       "  </tbody>\n",
       "</table>\n",
       "</div>"
      ],
      "text/plain": [
       "               feature_name  importance\n",
       "6       Current Loan Amount    0.209727\n",
       "12               Composit_3    0.140758\n",
       "14               Composit_5    0.095761\n",
       "13               Composit_4    0.074979\n",
       "5                      Term    0.065567\n",
       "0             Annual Income    0.057219\n",
       "16               Composit_7    0.051959\n",
       "11               Composit_2    0.051517\n",
       "15               Composit_6    0.040451\n",
       "4       Maximum Open Credit    0.028129\n",
       "8              Monthly Debt    0.026514\n",
       "9              Credit Score    0.026449\n",
       "18           pca_composit_2    0.020792\n",
       "20           pca_composit_4    0.020053\n",
       "19           pca_composit_3    0.019996\n",
       "3   Years of Credit History    0.014508\n",
       "2   Number of Open Accounts    0.014134\n",
       "7    Current Credit Balance    0.012070\n",
       "10               Composit_1    0.011484\n",
       "17           pca_composit_1    0.011081\n",
       "1      Years in current job    0.006854"
      ]
     },
     "execution_count": 30,
     "metadata": {},
     "output_type": "execute_result"
    }
   ],
   "source": [
    "feature_importances = pd.DataFrame(zip(X[SELECTED_FEATURE_NAMES].columns,\n",
    "                                       model_cb.feature_importances_ / model_cb.feature_importances_.sum()), \n",
    "                                   columns=['feature_name', 'importance'])\n",
    "\n",
    "feature_importances.sort_values(by='importance', ascending=False, inplace=True)\n",
    "feature_importances"
   ]
  },
  {
   "cell_type": "code",
   "execution_count": 31,
   "metadata": {},
   "outputs": [
    {
     "data": {
      "image/png": "[encoded data removed]",
      "text/plain": [
       "<Figure size 1440x432 with 1 Axes>"
      ]
     },
     "metadata": {},
     "output_type": "display_data"
    }
   ],
   "source": [
    "def plot_feature_importances(importances, X):\n",
    "    \n",
    "    indices = np.argsort(importances)[::-1]\n",
    "\n",
    "    plt.figure(figsize = (20, 6))\n",
    "    plt.title(\"Feature importances\", fontsize=16)\n",
    "    plt.bar(range(X.shape[1]), importances[indices] / importances.sum(),\n",
    "           color=\"darkblue\", align=\"center\")\n",
    "    plt.xticks(range(X.shape[1]), X.columns[indices], rotation = 90, fontsize=14)\n",
    "    plt.xlim([-1, X.shape[1]])\n",
    "\n",
    "    plt.tight_layout()\n",
    "    # plt.savefig('fe.jpg')\n",
    "    plt.show()\n",
    "    \n",
    "plot_feature_importances(importances = model_cb.feature_importances_, X=X_train[SELECTED_FEATURE_NAMES])"
   ]
  },
  {
   "cell_type": "markdown",
   "metadata": {},
   "source": [
    "## Прогнозирование на тестовом датасете"
   ]
  },
  {
   "cell_type": "markdown",
   "metadata": {},
   "source": [
    "#### Балансировка классов"
   ]
  },
  {
   "cell_type": "code",
   "execution_count": 32,
   "metadata": {},
   "outputs": [
    {
     "name": "stdout",
     "output_type": "stream",
     "text": [
      "Original dataset shape Counter({0: 5387, 1: 2113})\n",
      "Resample dataset shape Counter({0: 5387, 1: 5387})\n"
     ]
    }
   ],
   "source": [
    "ros = RandomOverSampler(random_state=42)\n",
    "X_ros, y_ros = ros.fit_resample(X, y)\n",
    "\n",
    "print('Original dataset shape', Counter(y))\n",
    "print('Resample dataset shape', Counter(y_ros))"
   ]
  },
  {
   "cell_type": "markdown",
   "metadata": {},
   "source": [
    "#### Обучение модели на полном наборе данных"
   ]
  },
  {
   "cell_type": "code",
   "execution_count": 33,
   "metadata": {},
   "outputs": [],
   "source": [
    "model = model.fit(X_ros[SELECTED_FEATURE_NAMES], y_ros)"
   ]
  },
  {
   "cell_type": "markdown",
   "metadata": {},
   "source": [
    "#### Прогнозирование целевой переменной"
   ]
  },
  {
   "cell_type": "code",
   "execution_count": 34,
   "metadata": {},
   "outputs": [
    {
     "data": {
      "text/html": [
       "<div>\n",
       "<style scoped>\n",
       "    .dataframe tbody tr th:only-of-type {\n",
       "        vertical-align: middle;\n",
       "    }\n",
       "\n",
       "    .dataframe tbody tr th {\n",
       "        vertical-align: top;\n",
       "    }\n",
       "\n",
       "    .dataframe thead th {\n",
       "        text-align: right;\n",
       "    }\n",
       "</style>\n",
       "<table border=\"1\" class=\"dataframe\">\n",
       "  <thead>\n",
       "    <tr style=\"text-align: right;\">\n",
       "      <th></th>\n",
       "      <th>Credit Default</th>\n",
       "    </tr>\n",
       "  </thead>\n",
       "  <tbody>\n",
       "    <tr>\n",
       "      <th>0</th>\n",
       "      <td>1</td>\n",
       "    </tr>\n",
       "    <tr>\n",
       "      <th>1</th>\n",
       "      <td>1</td>\n",
       "    </tr>\n",
       "    <tr>\n",
       "      <th>2</th>\n",
       "      <td>1</td>\n",
       "    </tr>\n",
       "    <tr>\n",
       "      <th>3</th>\n",
       "      <td>1</td>\n",
       "    </tr>\n",
       "    <tr>\n",
       "      <th>4</th>\n",
       "      <td>1</td>\n",
       "    </tr>\n",
       "  </tbody>\n",
       "</table>\n",
       "</div>"
      ],
      "text/plain": [
       "   Credit Default\n",
       "0               1\n",
       "1               1\n",
       "2               1\n",
       "3               1\n",
       "4               1"
      ]
     },
     "execution_count": 34,
     "metadata": {},
     "output_type": "execute_result"
    }
   ],
   "source": [
    "y_pred = model.predict(X_final[SELECTED_FEATURE_NAMES].fillna(0))\n",
    "y_final=pd.DataFrame(y_pred, columns=[TARGET_NAME])\n",
    "y_final.to_csv(PATH + 'YKutovaya_predictions.csv')\n",
    "y_final.head()"
   ]
  }
 ],
 "metadata": {
  "kernelspec": {
   "display_name": "Python 3",
   "language": "python",
   "name": "python3"
  },
  "language_info": {
   "codemirror_mode": {
    "name": "ipython",
    "version": 3
   },
   "file_extension": ".py",
   "mimetype": "text/x-python",
   "name": "python",
   "nbconvert_exporter": "python",
   "pygments_lexer": "ipython3",
   "version": "3.8.2"
  }
 },
 "nbformat": 4,
 "nbformat_minor": 4
}
